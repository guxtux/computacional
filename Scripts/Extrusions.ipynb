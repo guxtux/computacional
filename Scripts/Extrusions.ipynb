{
 "cells": [
  {
   "cell_type": "code",
   "execution_count": null,
   "metadata": {
    "collapsed": false
   },
   "outputs": [
    {
     "data": {
      "application/javascript": [
       "require.undef(\"nbextensions/vpython_libraries/jquery-ui.custom.min\");"
      ],
      "text/plain": [
       "<IPython.core.display.Javascript object>"
      ]
     },
     "metadata": {},
     "output_type": "display_data"
    },
    {
     "data": {
      "application/javascript": [
       "require.undef(\"nbextensions/vpython_libraries/glow.2.1.min\");"
      ],
      "text/plain": [
       "<IPython.core.display.Javascript object>"
      ]
     },
     "metadata": {},
     "output_type": "display_data"
    },
    {
     "data": {
      "application/javascript": [
       "require.undef(\"nbextensions/vpython_libraries/glowcomm\");"
      ],
      "text/plain": [
       "<IPython.core.display.Javascript object>"
      ]
     },
     "metadata": {},
     "output_type": "display_data"
    },
    {
     "data": {
      "application/javascript": [
       "require([\"nbextensions/vpython_libraries/jquery-ui.custom.min\"], function(){console.log(\"JQUERY LOADED\");})"
      ],
      "text/plain": [
       "<IPython.core.display.Javascript object>"
      ]
     },
     "metadata": {},
     "output_type": "display_data"
    },
    {
     "data": {
      "application/javascript": [
       "require([\"nbextensions/vpython_libraries/glow.2.1.min\"], function(){console.log(\"GLOW LOADED\");})"
      ],
      "text/plain": [
       "<IPython.core.display.Javascript object>"
      ]
     },
     "metadata": {},
     "output_type": "display_data"
    },
    {
     "data": {
      "application/javascript": [
       "require([\"nbextensions/vpython_libraries/glowcomm\"], function(){console.log(\"GLOWCOMM LOADED\");})"
      ],
      "text/plain": [
       "<IPython.core.display.Javascript object>"
      ]
     },
     "metadata": {},
     "output_type": "display_data"
    },
    {
     "data": {
      "text/html": [
       "<div id=\"glowscript\" class=\"glowscript\"></div>"
      ],
      "text/plain": [
       "<IPython.core.display.HTML object>"
      ]
     },
     "metadata": {},
     "output_type": "display_data"
    },
    {
     "data": {
      "application/javascript": [
       "window.__context = { glowscript_container: $(\"#glowscript\").removeAttr(\"id\")}"
      ],
      "text/plain": [
       "<IPython.core.display.Javascript object>"
      ]
     },
     "metadata": {},
     "output_type": "display_data"
    }
   ],
   "source": [
    "from vpython import *\n",
    "scene.background = color.gray(0.8)\n",
    "scene.forward = vec(0,-0.2,-1)\n",
    "scene.fov = 0.2\n",
    "scene.range = 3.8\n",
    "scene.caption = \"\"\"Right button drag or Ctrl-drag to rotate \"camera\" to view scene.\n",
    "To zoom, drag with middle button or Alt/Option depressed, or use scroll wheel.\n",
    "     On a two-button mouse, middle is left + right.\n",
    "Touch screen: pinch/extend to zoom, swipe or two-finger rotate.\\n\"\"\"\n",
    "\n",
    "E1 = extrusion(pos=[vec(0,0,0), vec(0,0,-3)], texture=textures.wood_old,\n",
    "    shape=[ shapes.circle(radius=3),\n",
    "            shapes.triangle(length=2),\n",
    "            shapes.trapezoid(pos=[0,2], width=4,\n",
    "              height=1, top=2) ])\n",
    "E1.origin = vec(-4,1.5,0)\n",
    "E1.size = 0.3*vec(1,1,1)\n",
    "\n",
    "copper = vec(0.722,0.451,0.200)\n",
    "E2 = extrusion(pos=paths.arc(radius=2, angle1=0, angle2=pi), texture=textures.metal, \n",
    "    shape=[ [shapes.triangle(length=2), shapes.circle(pos=[0,.5], radius=0.2),\n",
    "    shapes.trapezoid(pos=[0,-0.2],\n",
    "    width=0.6, height=0.4)],\n",
    "    [shapes.rectangle(pos=[0,1.8],\n",
    "    width=1,height=0.3)] ],\n",
    "    start_face_color=copper, end_face_color=copper)\n",
    "E2.origin = vec(3,1.5,0)\n",
    "E2.size = 0.8*vec(1,1,1)\n",
    "\n",
    "halo = ring(pos=vec(0,0,1), radius=0.8, thickness=0.2, color=color.cyan, opacity=0.5 )\n",
    "\n",
    "rect = extrusion(pos=paths.rectangle(width=5, height=2), \n",
    "            shape=shapes.hexagon(length=0.3), color=color.red)\n",
    "\n",
    "bottom = extrusion(pos=paths.cross(width=4, thickness=1),\n",
    "            shape=shapes.circle(radius=0.2), color=color.green)\n",
    "\n",
    "tube = extrusion(pos=[vec(0,0,0), vec(2,0,0)], shape=shapes.circle(radius=0.6, thickness=0.2),\n",
    "                    origin=vec(-1,1.7,-1.5), axis=vec(0,0,1), color=color.yellow, end_face_color=color.blue)\n",
    "#text(pos=tube.origin+vec(0,0,2), text='tube', align='center',\n",
    "#        height=0.25, depth=-0, color=color.blue)\n",
    "                    \n",
    "run = True\n",
    "\n",
    "def runner(r):\n",
    "    global run\n",
    "    run = r.checked\n",
    "    \n",
    "checkbox(bind=runner, text='Run', checked=True)\n",
    "\n",
    "t = 0\n",
    "dt = 0.01\n",
    "dtheta = 0.01\n",
    "while True:\n",
    "    rate(100)\n",
    "    if run:\n",
    "        halo.pos.x = sin(2*t)\n",
    "        bottom.origin.y = -2+0.5*cos(3*t)\n",
    "        E1.rotate(angle=dtheta, axis=vec(0,1,0))\n",
    "        E2.rotate(angle=-dtheta, axis=vec(0,1,0))\n",
    "        t += dt\n"
   ]
  },
  {
   "cell_type": "code",
   "execution_count": null,
   "metadata": {
    "collapsed": true
   },
   "outputs": [],
   "source": []
  }
 ],
 "metadata": {
  "anaconda-cloud": {},
  "kernelspec": {
   "display_name": "VPython",
   "language": "python",
   "name": "vpythonkernel"
  },
  "language_info": {
   "codemirror_mode": {
    "name": "ipython",
    "version": 3
   },
   "file_extension": ".py",
   "mimetype": "text/x-python",
   "name": "python",
   "nbconvert_exporter": "python",
   "pygments_lexer": "ipython3",
   "version": "3.5.1"
  }
 },
 "nbformat": 4,
 "nbformat_minor": 0
}
