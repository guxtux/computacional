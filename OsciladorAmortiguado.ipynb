{
 "cells": [
  {
   "cell_type": "markdown",
   "metadata": {
    "nbpresent": {
     "id": "e2dfb637-a280-4b1d-ada5-a244b839cdd0"
    },
    "slideshow": {
     "slide_type": "slide"
    }
   },
   "source": [
    "# Curso de Física Computacional\n",
    "## Uso de widgets con ipython\n",
    "<img src=\"https://raw.githubusercontent.com/jupyter/nature-demo/master/images/jupyter-logo.png\" width=\"350px\" style=\"margin: 20px auto;\">"
   ]
  },
  {
   "cell_type": "markdown",
   "metadata": {
    "nbpresent": {
     "id": "1b2ae26b-54f5-4db2-adcb-12e22cde7dcd"
    },
    "slideshow": {
     "slide_type": "slide"
    }
   },
   "source": [
    "Para trabajar con la librería de graficación matplotlib, es necesario utilizar <b>comandos mágicos</b>.\n",
    "\n",
    "<br/>\n",
    "<b> %matplotlib </b>\n",
    "\n",
    "Lo que nos configura matplotlib para trabajar interactivamente.\n",
    "<br>\n",
    "Esta función permite activar el soporte interactivo de matplotlib en cualquier momento durante una sesión de IPython.\n",
    "<br/>\n",
    "<br/>\n",
    "Para habilitar el uso en línea con el IPython Notebook escribimos:\n",
    "<br/>\n",
    "<br/>\n",
    "<b>%matplotlib inline</b>"
   ]
  },
  {
   "cell_type": "markdown",
   "metadata": {
    "nbpresent": {
     "id": "747726ac-961f-44c4-9443-57c9a4a8a6f2"
    },
    "slideshow": {
     "slide_type": "slide"
    }
   },
   "source": [
    "Iniciamos el código dentro del notebook de Jupyter, llamando a las librerías numpy, scipy y matplotlib como lo hemos venido realizando anteriormente."
   ]
  },
  {
   "cell_type": "code",
   "execution_count": 1,
   "metadata": {
    "collapsed": true,
    "nbpresent": {
     "id": "f9650d0d-58af-4f7f-ae72-4471d984d888"
    },
    "slideshow": {
     "slide_type": "subslide"
    }
   },
   "outputs": [],
   "source": [
    "%matplotlib inline\n",
    "\n",
    "import matplotlib.pyplot as plt\n",
    "import numpy as np\n",
    "from scipy.integrate import odeint"
   ]
  },
  {
   "cell_type": "markdown",
   "metadata": {
    "nbpresent": {
     "id": "34e2468f-50c6-46f7-a734-b5faf27bfb4d"
    },
    "slideshow": {
     "slide_type": "slide"
    }
   },
   "source": [
    "## Los widgets en Jupyter\n",
    "Los notebooks de Jupyter \"cobran vida\" cuando se utilizan widgets interactivos.\n",
    "\n",
    "El usuario puede visualizar y controlar los cambios en los datos. El aprendizaje se convierte en una experiencia inmersiva, además de divertida.\n",
    "\n",
    "Para ello es necesario importarlos antes de utilizarlos:"
   ]
  },
  {
   "cell_type": "code",
   "execution_count": 2,
   "metadata": {
    "collapsed": true,
    "nbpresent": {
     "id": "489800cb-80f1-4a73-9636-ca2cf2bba788"
    },
    "slideshow": {
     "slide_type": "subslide"
    }
   },
   "outputs": [],
   "source": [
    "from ipywidgets import interact"
   ]
  },
  {
   "cell_type": "markdown",
   "metadata": {
    "nbpresent": {
     "id": "783f86fb-c88d-4353-89c2-2ebc313896f4"
    },
    "slideshow": {
     "slide_type": "slide"
    }
   },
   "source": [
    "# Repaso de lo que hemos visto\n",
    "\n",
    "Un sistema de EDOs es usualmente formulado en forma estándar antes de ser resuelto numéricamente con Python. La forma estándar es:\n",
    "\n",
    "$$ y' = f(y,t) $$\n",
    "donde\n",
    "\n",
    "$$y=[y_{1}(t),y_{2}(t),\\ldots,y_{n}(t)]$$\n",
    "\n",
    "y $f$ es una función que determina las derivadas de la función $y_{i}(t)$.\n",
    "<br/>\n",
    "\n",
    "Para resolver la EDO necesitamos conocer la función $f$ y una condición inicial, $y(0)$. Nótese que EDOs de orden superior siempre pueden ser escritas en esta forma introduciendo nuevas variables para las derivadas intermedias."
   ]
  },
  {
   "cell_type": "markdown",
   "metadata": {
    "nbpresent": {
     "id": "7b658bf8-5f83-4d31-826e-ab99990fdb46"
    },
    "slideshow": {
     "slide_type": "slide"
    }
   },
   "source": [
    "Una vez definida la función $f$ y el arreglo $y_{0}$, podemos usar la función <i>odeint</i>:\n",
    "\n",
    "$$ y_{t} = odeint(f,y_{0},t)$$\n",
    "\n",
    "donde $t$ es un arreglo con las coordenadas temporales para las que se resolverá el sistema de EDOs. El resultado $y_{t}$ es un arreglo con una línea para cada punto de tiempo $t$, y donde cada columna corresponde a una solución $y_{i}(t)$ para ese tiempo."
   ]
  },
  {
   "cell_type": "markdown",
   "metadata": {
    "nbpresent": {
     "id": "32394eda-ff3f-4d47-a675-40db119e4718"
    },
    "slideshow": {
     "slide_type": "slide"
    }
   },
   "source": [
    "# Ejemplo\n",
    "La ecuación de movimiento para el oscilador amortiguado es:\n",
    "\n",
    "$$\\dfrac{d^{2} x}{dt^{2}} + 2 \\zeta \\omega_{0} \\dfrac{dx}{dt} + \\omega_{0}^{2} x = 0$$\n",
    "\n",
    "donde $x$ es la posición del oscilador, $\\omega_{0}$ la frecuencia, y $\\zeta$ es el factor de amortiguamiento."
   ]
  },
  {
   "cell_type": "markdown",
   "metadata": {
    "nbpresent": {
     "id": "b28a1d00-0433-41dd-b56c-5dee5671b07a"
    },
    "slideshow": {
     "slide_type": "slide"
    }
   },
   "source": [
    "Para escribir esta 2-EDO en la forma estándar, introducimos $p= dx/dt$\n",
    "\n",
    "$$\n",
    "\\begin{align*}\n",
    "\\dfrac{dx}{dt} &= p \\\\\n",
    "\\dfrac{dp}{dt} &= - 2 \\zeta \\omega_{0} p - \\omega^{2} x\n",
    "\\end{align*}\n",
    "$$\n",
    "\n",
    "En la implementación de este ejemplo agregaremos algunos argumentos extras a la función del lado derecho de la EDO, en lugar de usar variables globales. Como consecuencia de los argumentos extra, necesitamos pasar un argumento clave <b>args</b> a la función <b>odeint</b>"
   ]
  },
  {
   "cell_type": "markdown",
   "metadata": {
    "nbpresent": {
     "id": "789997ec-9e57-44f7-8f4c-58304bec79eb"
    },
    "slideshow": {
     "slide_type": "slide"
    }
   },
   "source": [
    "## Definimos la función\n",
    "\n",
    "Escribimos la función en su forma estándar de 1-EDO"
   ]
  },
  {
   "cell_type": "code",
   "execution_count": 3,
   "metadata": {
    "collapsed": true,
    "nbpresent": {
     "id": "56b40353-d27d-4453-bc1d-bb07a755ced1"
    },
    "slideshow": {
     "slide_type": "subslide"
    }
   },
   "outputs": [],
   "source": [
    "def F(y, t, zeta, w0):\n",
    "    F = np.zeros((2), dtype='float64')\n",
    "    F[0] = y[1]\n",
    "    F[1] = -2 * zeta * w0 * y[1] - w0**2 * y[0]\n",
    "    return F"
   ]
  },
  {
   "cell_type": "markdown",
   "metadata": {
    "nbpresent": {
     "id": "4ed7321e-d190-41bd-ae3d-7924f0686b07"
    },
    "slideshow": {
     "slide_type": "slide"
    }
   },
   "source": [
    "## La información que falta\n",
    "\n",
    "Establecemos el conjunto  de condiciones iniciales, el intervalo de tiempo, así como el valor de la frecuencia."
   ]
  },
  {
   "cell_type": "code",
   "execution_count": 4,
   "metadata": {
    "collapsed": true,
    "nbpresent": {
     "id": "da362a72-b757-4b22-af3c-87f379a4afd2"
    },
    "slideshow": {
     "slide_type": "subslide"
    }
   },
   "outputs": [],
   "source": [
    "y0 =np.array([ 1.0, 0.0])\n",
    "\n",
    "t = np.linspace(0, 6, 500)\n",
    "\n",
    "w0 = 2 * np.pi * 1.0"
   ]
  },
  {
   "cell_type": "markdown",
   "metadata": {
    "nbpresent": {
     "id": "76df099a-ffe7-4fcb-a3a0-c0c54bda7bc6"
    },
    "slideshow": {
     "slide_type": "slide"
    }
   },
   "source": [
    "## Hacemos la llamada a la función odeint\n",
    "\n",
    "En este ejercicio, estamos usando diferentes valores de $w_{0}$, tal que\n",
    "\n",
    "$$w_{0} = 0.0, 0.1, 0.4, 5.0$$"
   ]
  },
  {
   "cell_type": "code",
   "execution_count": 5,
   "metadata": {
    "collapsed": true,
    "nbpresent": {
     "id": "ec7a4145-48a8-4b25-8181-900acf972387"
    },
    "slideshow": {
     "slide_type": "subslide"
    }
   },
   "outputs": [],
   "source": [
    "y1 = odeint( F, y0, t, args =(0.0, w0))\n",
    "y2 = odeint( F, y0, t, args =(0.1, w0))\n",
    "y3 = odeint( F, y0, t, args =(0.4, w0))\n",
    "y4 = odeint( F, y0, t, args =(5.0, w0))"
   ]
  },
  {
   "cell_type": "markdown",
   "metadata": {
    "nbpresent": {
     "id": "9575d875-66f9-4bf3-bfdb-c44ff48caa55"
    },
    "slideshow": {
     "slide_type": "slide"
    }
   },
   "source": [
    "## Rutina de graficación\n",
    "\n",
    "Implementamos la conocida rutina de graficación, en este caso, tendremos una gráfica por cada valor del coeficiente de amortiguamiento, que se visualiza en la gráfica de salida."
   ]
  },
  {
   "cell_type": "code",
   "execution_count": 6,
   "metadata": {
    "nbpresent": {
     "id": "860843e6-5d1d-42f6-855c-6b3bc954ee58"
    },
    "slideshow": {
     "slide_type": "subslide"
    }
   },
   "outputs": [
    {
     "data": {
      "image/png": "[encoded data removed]",
      "text/plain": [
       "<matplotlib.figure.Figure at 0x7f4b692b8a90>"
      ]
     },
     "metadata": {},
     "output_type": "display_data"
    }
   ],
   "source": [
    "plt.plot( t, y1[:,0], 'b', label ='armónico')\n",
    "plt.plot( t, y2[:,0], 'r', label ='subamortiguado')\n",
    "plt.plot( t, y3[:,0], 'c', label ='amortiguamiento crítico')\n",
    "plt.plot( t, y4[:,0], 'g', label ='sobre amortiguado')\n",
    "plt.title(u'Gráficas del oscilador')\n",
    "plt.axhline(y=0, ls='dashed', lw=0.75, color='k')\n",
    "plt.legend(bbox_to_anchor=(1.05, 1), loc=2, borderaxespad=0.)\n",
    "plt.show()"
   ]
  },
  {
   "cell_type": "markdown",
   "metadata": {
    "nbpresent": {
     "id": "bf0972a0-dca4-42f6-8f5b-356a925d874e"
    },
    "slideshow": {
     "slide_type": "slide"
    }
   },
   "source": [
    "# Pero ¿dónde quédo lo interactivo y divertido?\n",
    "\n",
    "Para la exploración interactiva de los resultados, implementaremos el uso de un widget que nos permitirá modificar el valor del coeficiente de amortiguamiento sin necesidad de anotar una nueva llamada a la función <b>odeint</b>.\n",
    "\n",
    "Siendo necesario crear una función con los elementos que ya tenemos, dejando como parámetro precisamente el coeficiente de amortiguamiento <b>amort</b>"
   ]
  },
  {
   "cell_type": "code",
   "execution_count": 7,
   "metadata": {
    "collapsed": true,
    "nbpresent": {
     "id": "cf1b4807-8f46-49e2-8c80-ba2618041c77"
    },
    "slideshow": {
     "slide_type": "subslide"
    }
   },
   "outputs": [],
   "source": [
    "def creafuncion(amort):\n",
    "    y0 =np.array([ 1.0, 0.0])\n",
    "    t = np.linspace(0, 6, 500)\n",
    "    w0 = 2 * np.pi * 1.0\n",
    "    y = odeint( F, y0, t, args =(amort, w0))\n",
    "    plt.plot( t, y[:,0], 'b')\n",
    "    plt.title(u'Gráfica del oscilador con el widget')\n",
    "    plt.axhline(y=0, ls='dashed', lw=0.75, color='k')\n",
    "    plt.show()"
   ]
  },
  {
   "cell_type": "markdown",
   "metadata": {
    "nbpresent": {
     "id": "c20e9f3d-4bac-41e1-a9d9-62bf92a40718"
    },
    "slideshow": {
     "slide_type": "slide"
    }
   },
   "source": [
    "## Ahora incluimos el widget\n",
    "\n",
    "Usaremos un control deslizable, que dentro del entorno de Jupyter se conoce como <b>slider</b>, y será el que nos modifique el valor del coeficiente de amortiguamiento.\n",
    "\n",
    "Veremos que el resultado del cambio se hace en automático, sin necesidad de aplicar una actualización en el navegador o en la gráfica."
   ]
  },
  {
   "cell_type": "code",
   "execution_count": 8,
   "metadata": {
    "nbpresent": {
     "id": "6e2977c2-8917-4b78-82f6-41c2cd0b5b43"
    },
    "slideshow": {
     "slide_type": "subslide"
    }
   },
   "outputs": [
    {
     "data": {
      "image/png": "[encoded data removed]",
      "text/plain": [
       "<matplotlib.figure.Figure at 0x7f4b692e55c0>"
      ]
     },
     "metadata": {},
     "output_type": "display_data"
    },
    {
     "data": {
      "text/plain": [
       "<function __main__.creafuncion>"
      ]
     },
     "execution_count": 8,
     "metadata": {},
     "output_type": "execute_result"
    }
   ],
   "source": [
    "interact(creafuncion, amort = [0.0, 5.0, 0.05])"
   ]
  },
  {
   "cell_type": "markdown",
   "metadata": {
    "nbpresent": {
     "id": "3cf1c843-fb20-4b2d-b48b-b16de4425816"
    },
    "slideshow": {
     "slide_type": "slide"
    }
   },
   "source": [
    "# Ejercicio de circuito RLC\n",
    "\n",
    "Ahora veamos otro ejercicio en donde tenemos un circuito RLC conectado a una fuente de voltaje de 1 V, los valores de L = 200 H, C = 0.001 F.\n",
    "\n",
    "La corriente eléctrica de un circuito $RLC$ en serie, satisface la ecuación\n",
    "\n",
    "$$\n",
    "\\begin{equation}\n",
    "L \\dfrac{di}{dt}+ Ri+ \\dfrac{1}{C} \\int_{0}^{t} i(t^{\\prime}) dt^{\\prime} +\\dfrac{1}{C}q(0)= E(t), \\hspace{0.75cm} t>0 \n",
    "\\end{equation}\n",
    "$$\n",
    "\n",
    "El circuito está cerrado, pero en un momento se abre el switch y las condiciones en las que queda son las siguientes:\n",
    "\n",
    "En t=0, q(0) = 1, el condensador está cargado.\n",
    "\n",
    "\n",
    "En t=0, i(0) = 0, ya no circula corriente por el circuito."
   ]
  },
  {
   "cell_type": "markdown",
   "metadata": {
    "nbpresent": {
     "id": "b8b6c5d2-7324-4c03-92fa-e75c80376619"
    },
    "slideshow": {
     "slide_type": "slide"
    }
   },
   "source": [
    "Si definimos\n",
    "$$\n",
    "\\begin{equation}\n",
    "\tq(t) = \\int_{0}^{t'} i(t') dt'\n",
    "\\end{equation}\n",
    "$$\n",
    "\n",
    "derivando la expresión anterior\n",
    "\n",
    "$$\\begin{equation}\n",
    "\t\\dfrac{d}{dt}q(t) = i(t), \\hspace{1.5cm} q(0) = 1\n",
    "\\end{equation}\n",
    "$$\n",
    "\n",
    "Sustituimos en la ecuación inicial, para re-escribir\n",
    "\n",
    "$$\\begin{equation}\n",
    "\t\\dfrac{d}{dt}i(t) = -\\dfrac{R}{L}i(t) - \\dfrac{1}{LC} q(t) + \\dfrac{1}{LC}q(0) + \\dfrac{E(t)}{L}, \\hspace{1.5cm} i(0)=0 \n",
    "\\end{equation}\n",
    "$$\n",
    "\n",
    "La ecuación se transformó en un sistema de dos 1-EDO."
   ]
  },
  {
   "cell_type": "markdown",
   "metadata": {
    "nbpresent": {
     "id": "ca353364-9f12-45e2-9e41-b3bca700a52d"
    },
    "slideshow": {
     "slide_type": "slide"
    }
   },
   "source": [
    "# Resolvemos el problema con un widget\n",
    "\n",
    "Como ya sabemos usar un widget dentro de Jupyter, implementamos nuestro sistema de 1-EDO donde tendremos que usar dos parámetros, el valor de resistencia que es el que vamos a cambiar, y el valor de E, la fuente de voltaje."
   ]
  },
  {
   "cell_type": "code",
   "execution_count": 9,
   "metadata": {
    "collapsed": true,
    "nbpresent": {
     "id": "2f241710-24c4-43ed-9827-aa3b247ed59d"
    },
    "slideshow": {
     "slide_type": "subslide"
    }
   },
   "outputs": [],
   "source": [
    "\n",
    "def F2(y, t, R, E) : \n",
    "    L = 200.0\n",
    "    C = 0.001\n",
    "    F = np.zeros((2), dtype='float64')\n",
    "    F[0] = y[1]\n",
    "    F[1] = -(R/L) * y[1] - (1.0/(L * C)) * y[0] + E/L\n",
    "    return F"
   ]
  },
  {
   "cell_type": "code",
   "execution_count": 10,
   "metadata": {
    "collapsed": true,
    "nbpresent": {
     "id": "66218491-06f7-4fc9-874b-63ab5e009540"
    },
    "slideshow": {
     "slide_type": "subslide"
    }
   },
   "outputs": [],
   "source": [
    "def vresistencia(valorR):\n",
    "    E = 1.0\n",
    "    t= np.linspace(0.,5.0)\n",
    "    y0 = np.array([1.0, 0.0])\n",
    "    y1 = odeint(F2, y0, t, args=(valorR, E))\n",
    "    plt.plot( t, y1[:,0], color ='b')\n",
    "    plt.title(u'Gráfica de la corriente en el circuito RLC')\n",
    "    plt.axhline(y=0, ls='dashed', lw=0.75, color='k')\n",
    "    plt.xlim(0,5)\n",
    "    plt.show()"
   ]
  },
  {
   "cell_type": "code",
   "execution_count": 11,
   "metadata": {
    "nbpresent": {
     "id": "c0a15817-60f6-4f0c-810e-e1989797cafe"
    },
    "slideshow": {
     "slide_type": "subslide"
    }
   },
   "outputs": [
    {
     "data": {
      "image/png": "[encoded data removed]",
      "text/plain": [
       "<matplotlib.figure.Figure at 0x7f4b66eb7c18>"
      ]
     },
     "metadata": {},
     "output_type": "display_data"
    }
   ],
   "source": [
    "interact(vresistencia, valorR=[0.0, 300.0, 10])"
   ]
  }
 ],
 "metadata": {
  "anaconda-cloud": {},
  "celltoolbar": "Slideshow",
  "kernelspec": {
   "display_name": "Python [default]",
   "language": "python",
   "name": "python3"
  },
  "language_info": {
   "codemirror_mode": {
    "name": "ipython",
    "version": 3
   },
   "file_extension": ".py",
   "mimetype": "text/x-python",
   "name": "python",
   "nbconvert_exporter": "python",
   "pygments_lexer": "ipython3",
   "version": "3.5.2"
  },
  "nbpresent": {
   "slides": {
    "02281561-da4c-4292-a61d-ce9453a7873a": {
     "id": "02281561-da4c-4292-a61d-ce9453a7873a",
     "prev": "c14ae6ad-844d-409e-b5b1-220a2e4571b2",
     "regions": {
      "1e8b2dc1-801e-45cd-bb09-a5d309e735a8": {
       "attrs": {
        "height": 0.8,
        "width": 0.8,
        "x": 0.1,
        "y": 0.1
       },
       "content": {
        "cell": "b8b6c5d2-7324-4c03-92fa-e75c80376619",
        "part": "whole"
       },
       "id": "1e8b2dc1-801e-45cd-bb09-a5d309e735a8"
      }
     }
    },
    "0402c956-8ac3-4d2c-8ab8-4c6b9462d71d": {
     "id": "0402c956-8ac3-4d2c-8ab8-4c6b9462d71d",
     "prev": "102a1615-8260-4edc-82f7-d79df0086a25",
     "regions": {
      "ccd5146b-1573-47d7-97db-3f5fcdb155d0": {
       "attrs": {
        "height": 0.8,
        "width": 0.8,
        "x": 0.1,
        "y": 0.1
       },
       "content": {
        "cell": "2f241710-24c4-43ed-9827-aa3b247ed59d",
        "part": "whole"
       },
       "id": "ccd5146b-1573-47d7-97db-3f5fcdb155d0"
      }
     }
    },
    "0bc60097-52fb-445f-a643-7b3d91ecdd04": {
     "id": "0bc60097-52fb-445f-a643-7b3d91ecdd04",
     "prev": "95a0ebda-984e-4440-8c1f-32846f2a4f6b",
     "regions": {
      "695c873d-95b0-4b04-ad96-7443608c7869": {
       "attrs": {
        "height": 0.8,
        "width": 0.8,
        "x": 0.1,
        "y": 0.1
       },
       "content": {
        "cell": "76df099a-ffe7-4fcb-a3a0-c0c54bda7bc6",
        "part": "whole"
       },
       "id": "695c873d-95b0-4b04-ad96-7443608c7869"
      }
     }
    },
    "102a1615-8260-4edc-82f7-d79df0086a25": {
     "id": "102a1615-8260-4edc-82f7-d79df0086a25",
     "prev": "02281561-da4c-4292-a61d-ce9453a7873a",
     "regions": {
      "0d915446-ae80-4f4b-b124-49fc6c309230": {
       "attrs": {
        "height": 0.8,
        "width": 0.8,
        "x": 0.1,
        "y": 0.1
       },
       "content": {
        "cell": "ca353364-9f12-45e2-9e41-b3bca700a52d",
        "part": "whole"
       },
       "id": "0d915446-ae80-4f4b-b124-49fc6c309230"
      }
     }
    },
    "12e94742-ee1d-4afb-8eed-c9ef9989bb56": {
     "id": "12e94742-ee1d-4afb-8eed-c9ef9989bb56",
     "prev": "68c58a72-71c4-4ecd-a8a6-a1fd6497cd1f",
     "regions": {
      "1cac2d31-abfc-4a3b-8367-f2a9d30b0527": {
       "attrs": {
        "height": 0.8,
        "width": 0.8,
        "x": 0.1,
        "y": 0.1
       },
       "content": {
        "cell": "489800cb-80f1-4a73-9636-ca2cf2bba788",
        "part": "whole"
       },
       "id": "1cac2d31-abfc-4a3b-8367-f2a9d30b0527"
      }
     }
    },
    "147956c0-d7d8-45b4-916f-001b7f6f3680": {
     "id": "147956c0-d7d8-45b4-916f-001b7f6f3680",
     "prev": "eb066bba-5f2f-4157-aace-a867ff3c1556",
     "regions": {
      "37ca7121-27d5-45be-b42e-5aaa20aa60f1": {
       "attrs": {
        "height": 0.8,
        "width": 0.8,
        "x": 0.1,
        "y": 0.1
       },
       "content": {
        "cell": "9575d875-66f9-4bf3-bfdb-c44ff48caa55",
        "part": "whole"
       },
       "id": "37ca7121-27d5-45be-b42e-5aaa20aa60f1"
      }
     }
    },
    "2aa469b7-941e-4935-9daa-64b7ea3c3bb0": {
     "id": "2aa469b7-941e-4935-9daa-64b7ea3c3bb0",
     "prev": "9033aaed-6d1c-4075-98fa-aa1faca1a301",
     "regions": {
      "7db66017-cd3f-4f91-b98b-85bb541e6f34": {
       "attrs": {
        "height": 0.8,
        "width": 0.8,
        "x": 0.1,
        "y": 0.1
       },
       "content": {
        "cell": "c20e9f3d-4bac-41e1-a9d9-62bf92a40718",
        "part": "whole"
       },
       "id": "7db66017-cd3f-4f91-b98b-85bb541e6f34"
      }
     }
    },
    "424ea16c-a075-4ab6-a2cb-819ad1de0c5f": {
     "id": "424ea16c-a075-4ab6-a2cb-819ad1de0c5f",
     "prev": "58d56753-41b2-4564-bfb0-351575122474",
     "regions": {
      "bc674e43-bfc6-4d0d-aac5-7a0026dee0e3": {
       "attrs": {
        "height": 0.8,
        "width": 0.8,
        "x": 0.1,
        "y": 0.1
       },
       "content": {
        "cell": "bf0972a0-dca4-42f6-8f5b-356a925d874e",
        "part": "whole"
       },
       "id": "bc674e43-bfc6-4d0d-aac5-7a0026dee0e3"
      }
     }
    },
    "4edcb2ab-6bda-4e74-8d41-6d16bea0d27b": {
     "id": "4edcb2ab-6bda-4e74-8d41-6d16bea0d27b",
     "prev": "8f0c5fee-5902-48ce-ad35-792b25c506ae",
     "regions": {
      "112f587b-ddac-4971-90ff-9b9dd9775f63": {
       "attrs": {
        "height": 0.8,
        "width": 0.8,
        "x": 0.1,
        "y": 0.1
       },
       "content": {
        "cell": "4ed7321e-d190-41bd-ae3d-7924f0686b07",
        "part": "whole"
       },
       "id": "112f587b-ddac-4971-90ff-9b9dd9775f63"
      }
     }
    },
    "58d56753-41b2-4564-bfb0-351575122474": {
     "id": "58d56753-41b2-4564-bfb0-351575122474",
     "prev": "147956c0-d7d8-45b4-916f-001b7f6f3680",
     "regions": {
      "b8ffb1c4-08fb-4dcb-8740-c7c06df77946": {
       "attrs": {
        "height": 0.8,
        "width": 0.8,
        "x": 0.1,
        "y": 0.1
       },
       "content": {
        "cell": "860843e6-5d1d-42f6-855c-6b3bc954ee58",
        "part": "whole"
       },
       "id": "b8ffb1c4-08fb-4dcb-8740-c7c06df77946"
      }
     }
    },
    "68c58a72-71c4-4ecd-a8a6-a1fd6497cd1f": {
     "id": "68c58a72-71c4-4ecd-a8a6-a1fd6497cd1f",
     "prev": "fbdbabb2-5c11-4f91-932f-7db66553f984",
     "regions": {
      "d6ed3287-f1ee-4113-bb00-47438485cd53": {
       "attrs": {
        "height": 0.8,
        "width": 0.8,
        "x": 0.1,
        "y": 0.1
       },
       "content": {
        "cell": "34e2468f-50c6-46f7-a734-b5faf27bfb4d",
        "part": "whole"
       },
       "id": "d6ed3287-f1ee-4113-bb00-47438485cd53"
      }
     }
    },
    "69d5b464-9e3e-468e-819a-5a37b685ca26": {
     "id": "69d5b464-9e3e-468e-819a-5a37b685ca26",
     "prev": "2aa469b7-941e-4935-9daa-64b7ea3c3bb0",
     "regions": {
      "39ecf524-8593-46d9-9cb8-b87ecdacbc7a": {
       "attrs": {
        "height": 0.8,
        "width": 0.8,
        "x": 0.1,
        "y": 0.1
       },
       "content": {
        "cell": "6e2977c2-8917-4b78-82f6-41c2cd0b5b43",
        "part": "whole"
       },
       "id": "39ecf524-8593-46d9-9cb8-b87ecdacbc7a"
      }
     }
    },
    "73018728-73a2-4003-9fd2-8cf5a19d6bbf": {
     "id": "73018728-73a2-4003-9fd2-8cf5a19d6bbf",
     "prev": "7f5af262-58e2-457d-a8dd-b75845dc87a2",
     "regions": {
      "dfbef703-e34b-4c57-8bb8-80ea5ce6a575": {
       "attrs": {
        "height": 0.8,
        "width": 0.8,
        "x": 0.1,
        "y": 0.1
       },
       "content": {
        "cell": "789997ec-9e57-44f7-8f4c-58304bec79eb",
        "part": "whole"
       },
       "id": "dfbef703-e34b-4c57-8bb8-80ea5ce6a575"
      }
     }
    },
    "7f5af262-58e2-457d-a8dd-b75845dc87a2": {
     "id": "7f5af262-58e2-457d-a8dd-b75845dc87a2",
     "prev": "c1721714-b30d-4086-ae0f-e2a56b017074",
     "regions": {
      "f48cdf28-02d6-4e29-925e-b3cbc869f15b": {
       "attrs": {
        "height": 0.8,
        "width": 0.8,
        "x": 0.1,
        "y": 0.1
       },
       "content": {
        "cell": "b28a1d00-0433-41dd-b56c-5dee5671b07a",
        "part": "whole"
       },
       "id": "f48cdf28-02d6-4e29-925e-b3cbc869f15b"
      }
     }
    },
    "8f0c5fee-5902-48ce-ad35-792b25c506ae": {
     "id": "8f0c5fee-5902-48ce-ad35-792b25c506ae",
     "prev": "73018728-73a2-4003-9fd2-8cf5a19d6bbf",
     "regions": {
      "fddb7b78-857f-4169-a056-583b45b52132": {
       "attrs": {
        "height": 0.8,
        "width": 0.8,
        "x": 0.1,
        "y": 0.1
       },
       "content": {
        "cell": "56b40353-d27d-4453-bc1d-bb07a755ced1",
        "part": "whole"
       },
       "id": "fddb7b78-857f-4169-a056-583b45b52132"
      }
     }
    },
    "9033aaed-6d1c-4075-98fa-aa1faca1a301": {
     "id": "9033aaed-6d1c-4075-98fa-aa1faca1a301",
     "prev": "424ea16c-a075-4ab6-a2cb-819ad1de0c5f",
     "regions": {
      "f6ffc565-a57c-4eb1-9aca-b14442376635": {
       "attrs": {
        "height": 0.8,
        "width": 0.8,
        "x": 0.1,
        "y": 0.1
       },
       "content": {
        "cell": "cf1b4807-8f46-49e2-8c80-ba2618041c77",
        "part": "whole"
       },
       "id": "f6ffc565-a57c-4eb1-9aca-b14442376635"
      }
     }
    },
    "95a0ebda-984e-4440-8c1f-32846f2a4f6b": {
     "id": "95a0ebda-984e-4440-8c1f-32846f2a4f6b",
     "prev": "4edcb2ab-6bda-4e74-8d41-6d16bea0d27b",
     "regions": {
      "34a11371-e880-4349-a55f-d393afc9d1cc": {
       "attrs": {
        "height": 0.8,
        "width": 0.8,
        "x": 0.1,
        "y": 0.1
       },
       "content": {
        "cell": "da362a72-b757-4b22-af3c-87f379a4afd2",
        "part": "whole"
       },
       "id": "34a11371-e880-4349-a55f-d393afc9d1cc"
      }
     }
    },
    "9dd34e80-964d-43f6-90ae-55d0d57334fc": {
     "id": "9dd34e80-964d-43f6-90ae-55d0d57334fc",
     "prev": "12e94742-ee1d-4afb-8eed-c9ef9989bb56",
     "regions": {
      "21734fca-da52-4bad-a357-c1be126ec6c0": {
       "attrs": {
        "height": 0.8,
        "width": 0.8,
        "x": 0.1,
        "y": 0.1
       },
       "content": {
        "cell": "783f86fb-c88d-4353-89c2-2ebc313896f4",
        "part": "whole"
       },
       "id": "21734fca-da52-4bad-a357-c1be126ec6c0"
      }
     }
    },
    "c14ae6ad-844d-409e-b5b1-220a2e4571b2": {
     "id": "c14ae6ad-844d-409e-b5b1-220a2e4571b2",
     "prev": "69d5b464-9e3e-468e-819a-5a37b685ca26",
     "regions": {
      "1746a400-99cf-4488-9d26-c74fd4e6f787": {
       "attrs": {
        "height": 0.8,
        "width": 0.8,
        "x": 0.1,
        "y": 0.1
       },
       "content": {
        "cell": "3cf1c843-fb20-4b2d-b48b-b16de4425816",
        "part": "whole"
       },
       "id": "1746a400-99cf-4488-9d26-c74fd4e6f787"
      }
     }
    },
    "c1721714-b30d-4086-ae0f-e2a56b017074": {
     "id": "c1721714-b30d-4086-ae0f-e2a56b017074",
     "prev": "dd648ad9-cba2-4612-8900-70066e932163",
     "regions": {
      "c3b57fff-f4a1-4117-ab2d-26a65ff23bc3": {
       "attrs": {
        "height": 0.8,
        "width": 0.8,
        "x": 0.1,
        "y": 0.1
       },
       "content": {
        "cell": "32394eda-ff3f-4d47-a675-40db119e4718",
        "part": "whole"
       },
       "id": "c3b57fff-f4a1-4117-ab2d-26a65ff23bc3"
      }
     }
    },
    "c3dee2fa-39f4-40ff-81ff-273a04aefdeb": {
     "id": "c3dee2fa-39f4-40ff-81ff-273a04aefdeb",
     "prev": "f7bcf962-210f-4f97-a4c5-4389ec682da4",
     "regions": {
      "9d6143f6-293a-4d7a-88cd-7575ea5da0b4": {
       "attrs": {
        "height": 0.8,
        "width": 0.8,
        "x": 0.1,
        "y": 0.1
       },
       "content": {
        "cell": "747726ac-961f-44c4-9443-57c9a4a8a6f2",
        "part": "whole"
       },
       "id": "9d6143f6-293a-4d7a-88cd-7575ea5da0b4"
      }
     }
    },
    "cb1737c8-5a90-452d-8923-70c9699695c0": {
     "id": "cb1737c8-5a90-452d-8923-70c9699695c0",
     "prev": null,
     "regions": {
      "88ad749f-d265-4e82-b9f0-5064beb60477": {
       "attrs": {
        "height": 0.8,
        "width": 0.8,
        "x": 0.1,
        "y": 0.1
       },
       "content": {
        "cell": "e2dfb637-a280-4b1d-ada5-a244b839cdd0",
        "part": "whole"
       },
       "id": "88ad749f-d265-4e82-b9f0-5064beb60477"
      }
     }
    },
    "dd648ad9-cba2-4612-8900-70066e932163": {
     "id": "dd648ad9-cba2-4612-8900-70066e932163",
     "prev": "9dd34e80-964d-43f6-90ae-55d0d57334fc",
     "regions": {
      "eea32785-6b20-4a8a-9721-2ec6fe818549": {
       "attrs": {
        "height": 0.8,
        "width": 0.8,
        "x": 0.1,
        "y": 0.1
       },
       "content": {
        "cell": "7b658bf8-5f83-4d31-826e-ab99990fdb46",
        "part": "whole"
       },
       "id": "eea32785-6b20-4a8a-9721-2ec6fe818549"
      }
     }
    },
    "e55d7626-4cff-4f0d-b6f7-5d51c4f7c1a7": {
     "id": "e55d7626-4cff-4f0d-b6f7-5d51c4f7c1a7",
     "prev": "0402c956-8ac3-4d2c-8ab8-4c6b9462d71d",
     "regions": {
      "5d7a4662-018b-483e-b446-e7731c1ea555": {
       "attrs": {
        "height": 0.8,
        "width": 0.8,
        "x": 0.1,
        "y": 0.1
       },
       "content": {
        "cell": "66218491-06f7-4fc9-874b-63ab5e009540",
        "part": "whole"
       },
       "id": "5d7a4662-018b-483e-b446-e7731c1ea555"
      }
     }
    },
    "eb066bba-5f2f-4157-aace-a867ff3c1556": {
     "id": "eb066bba-5f2f-4157-aace-a867ff3c1556",
     "prev": "0bc60097-52fb-445f-a643-7b3d91ecdd04",
     "regions": {
      "e1d4fcdf-8bf1-43f5-ba30-c67f3b6f04ce": {
       "attrs": {
        "height": 0.8,
        "width": 0.8,
        "x": 0.1,
        "y": 0.1
       },
       "content": {
        "cell": "ec7a4145-48a8-4b25-8181-900acf972387",
        "part": "whole"
       },
       "id": "e1d4fcdf-8bf1-43f5-ba30-c67f3b6f04ce"
      }
     }
    },
    "f7bcf962-210f-4f97-a4c5-4389ec682da4": {
     "id": "f7bcf962-210f-4f97-a4c5-4389ec682da4",
     "prev": "cb1737c8-5a90-452d-8923-70c9699695c0",
     "regions": {
      "a884749c-b3fa-4879-8f27-17bd0f4545c7": {
       "attrs": {
        "height": 0.8,
        "width": 0.8,
        "x": 0.1,
        "y": 0.1
       },
       "content": {
        "cell": "1b2ae26b-54f5-4db2-adcb-12e22cde7dcd",
        "part": "whole"
       },
       "id": "a884749c-b3fa-4879-8f27-17bd0f4545c7"
      }
     }
    },
    "fbdbabb2-5c11-4f91-932f-7db66553f984": {
     "id": "fbdbabb2-5c11-4f91-932f-7db66553f984",
     "prev": "c3dee2fa-39f4-40ff-81ff-273a04aefdeb",
     "regions": {
      "52c0a3ee-cd00-4459-81ba-7ac7a5b14bcb": {
       "attrs": {
        "height": 0.8,
        "width": 0.8,
        "x": 0.1,
        "y": 0.1
       },
       "content": {
        "cell": "f9650d0d-58af-4f7f-ae72-4471d984d888",
        "part": "whole"
       },
       "id": "52c0a3ee-cd00-4459-81ba-7ac7a5b14bcb"
      }
     }
    },
    "ffd3333a-b1ac-4798-b808-69d340b67126": {
     "id": "ffd3333a-b1ac-4798-b808-69d340b67126",
     "prev": "e55d7626-4cff-4f0d-b6f7-5d51c4f7c1a7",
     "regions": {
      "931b8ed4-4621-4b29-8a14-c30af0b35cd4": {
       "attrs": {
        "height": 0.8,
        "width": 0.8,
        "x": 0.1,
        "y": 0.1
       },
       "content": {
        "cell": "c0a15817-60f6-4f0c-810e-e1989797cafe",
        "part": "whole"
       },
       "id": "931b8ed4-4621-4b29-8a14-c30af0b35cd4"
      }
     }
    }
   },
   "themes": {}
  },
  "widgets": {
   "state": {
    "f720f9a81ea7423f9b22c39b3f77f89e": {
     "views": [
      {
       "cell_index": 21
      }
     ]
    },
    "f85be81be16f4af19a130cb4581041e7": {
     "views": [
      {
       "cell_index": 27
      }
     ]
    }
   },
   "version": "1.2.0"
  }
 },
 "nbformat": 4,
 "nbformat_minor": 2
}
