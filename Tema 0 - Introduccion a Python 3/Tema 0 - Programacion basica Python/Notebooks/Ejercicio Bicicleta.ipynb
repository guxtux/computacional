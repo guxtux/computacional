{
 "cells": [
  {
   "cell_type": "markdown",
   "metadata": {
    "slideshow": {
     "slide_type": "slide"
    }
   },
   "source": [
    "# Ejercicio Completo"
   ]
  },
  {
   "cell_type": "markdown",
   "metadata": {
    "slideshow": {
     "slide_type": "slide"
    }
   },
   "source": [
    "## Carrera de bicicletas: el efecto de la resistencia al aire.\n",
    "\n",
    "La bicicleta es una forma muy eficiente de transporte, esto la sabe quien se ha subido a una.\n",
    "\n",
    "El objetivo con este ejercicio es entender los factores que determinan la velocidad máxima de una bicicleta y estimar esta velocidad para un caso realista. \n",
    "\n",
    "Comenzaremos ignorando la fricción; se tiene que considerar posteriormente, pero primero vamos a entender cómo lidiar con el caso más simple sin fricción.\n",
    "\n",
    "Partimos con la ecuación de movimiento: con la segunda ley de Newton, que puede escribirse en la forma\n",
    "\n"
   ]
  },
  {
   "cell_type": "markdown",
   "metadata": {
    "slideshow": {
     "slide_type": "slide"
    }
   },
   "source": [
    "\\begin{equation*}\n",
    "    \\dfrac{d v}{dt} = \\dfrac{F}{m}\n",
    "\\end{equation*}\n",
    "\n",
    "Donde $v$ es la velocidad, $m$ es la masa de la combinación bicicleta-ciclista, $t$ es el tiempo y $F$ es la fuerza sobre la bicicleta que viene del esfuerzo del ciclista (aquí asumiremos que la bicicleta se está moviendo en plano terreno).\n"
   ]
  },
  {
   "cell_type": "markdown",
   "metadata": {
    "slideshow": {
     "slide_type": "slide"
    }
   },
   "source": [
    "Manejar debidamente la $F$ es complicado, por la mecánica misma de una bicicleta: ya que la fuerza ejercida por el ciclista se transmite a las ruedas por medio del plato, engranajes, etc.\n",
    "\n",
    "Esto hace muy difícil obtener una expresión exacta para $F$."
   ]
  },
  {
   "cell_type": "markdown",
   "metadata": {
    "slideshow": {
     "slide_type": "slide"
    }
   },
   "source": [
    "Sin embargo, hay otra manera de atacar este problema que evita la necesidad de conocer la fuerza.\n",
    "\n",
    "Este enfoque alternativo implica formular el problema en términos de la potencia generada por el conductor. \n",
    "\n",
    "Los estudios fisiológicos de ciclistas de élite de carreras han demostrado que estos atletas son capaces de producir una potencia de salida de aproximadamente 400 watts durante largos períodos de tiempo (1 h)"
   ]
  },
  {
   "cell_type": "markdown",
   "metadata": {
    "slideshow": {
     "slide_type": "slide"
    }
   },
   "source": [
    "Usando ideas de trabajo-energía podemos reescribir la ecuación anterior como\n",
    "\n",
    "\\begin{equation*}\n",
    "\\dfrac{d E}{d t} = P\n",
    "\\end{equation*}\n",
    "\n"
   ]
  },
  {
   "cell_type": "markdown",
   "metadata": {
    "slideshow": {
     "slide_type": "slide"
    }
   },
   "source": [
    "Donde $E$ es la energía total de la combinación bicicleta-ciclista, y $P$ es la potencia de salida del ciclista.\n",
    "\n",
    "(Esto supone implícitamente que se pierde muy poca energía para la fricción en la propia bicicleta, incluiremos otras fuentes de fricción en un momento)."
   ]
  },
  {
   "cell_type": "markdown",
   "metadata": {
    "slideshow": {
     "slide_type": "slide"
    }
   },
   "source": [
    "Para un recorrido plano toda la energía es cinética, entonces \n",
    "\n",
    "\\begin{equation*}\n",
    "E = \\frac{1}{2}m v^{2}\n",
    "\\end{equation*}\n",
    "\n",
    "por tanto\n",
    "\n",
    "\\begin{equation*}\n",
    "\\dfrac{d E }{dt} = m v \\dfrac{d v}{d t}\n",
    "\\end{equation*}"
   ]
  },
  {
   "cell_type": "markdown",
   "metadata": {
    "slideshow": {
     "slide_type": "slide"
    }
   },
   "source": [
    "Al sustituir en la ecuación anterior\n",
    "\n",
    "\\begin{equation*}\n",
    "\\dfrac{dv }{d t} = \\dfrac{P}{m v}\n",
    "\\end{equation*}\n",
    "\n",
    "\n",
    "Si $P$ es constante, se puede resolver analíticamente."
   ]
  },
  {
   "cell_type": "markdown",
   "metadata": {
    "slideshow": {
     "slide_type": "slide"
    }
   },
   "source": [
    "Ordenando los términos\n",
    "\n"
   ]
  }
 ],
 "metadata": {
  "anaconda-cloud": {},
  "celltoolbar": "Slideshow",
  "kernelspec": {
   "display_name": "Python [default]",
   "language": "python",
   "name": "python3"
  },
  "language_info": {
   "codemirror_mode": {
    "name": "ipython",
    "version": 3
   },
   "file_extension": ".py",
   "mimetype": "text/x-python",
   "name": "python",
   "nbconvert_exporter": "python",
   "pygments_lexer": "ipython3",
   "version": "3.5.2"
  }
 },
 "nbformat": 4,
 "nbformat_minor": 1
}
