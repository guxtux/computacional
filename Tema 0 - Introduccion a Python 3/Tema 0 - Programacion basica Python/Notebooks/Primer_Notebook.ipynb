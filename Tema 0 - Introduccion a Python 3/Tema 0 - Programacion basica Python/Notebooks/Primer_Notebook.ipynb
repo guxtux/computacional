{
 "cells": [
  {
   "cell_type": "markdown",
   "metadata": {
    "nbpresent": {
     "id": "4e1cee3d-31e9-419f-bf96-d4d57224459b"
    },
    "slideshow": {
     "slide_type": "slide"
    }
   },
   "source": [
    "# Mi primer notebook"
   ]
  },
  {
   "cell_type": "markdown",
   "metadata": {
    "nbpresent": {
     "id": "db92fa3c-d47d-4791-8ba1-2ed99988ba61"
    },
    "slideshow": {
     "slide_type": "slide"
    }
   },
   "source": [
    "Este es un archivo de ejemplo para revisar las características principales del notebook y cómo trabajar de manera interactiva con Python.\n",
    "Toma en cuenta que el proceso de operación es el mismo que con la consola de Python, cada instrucción requiere su correcta sintaxis, manejo de parámetros, etc. en caso de omitir o excederse en una letra, variable, parámetro, falta de declaración, importación de librerías, tendremos un aviso por parte del programa."
   ]
  },
  {
   "cell_type": "markdown",
   "metadata": {
    "nbpresent": {
     "id": "b2654e94-2ea3-4b69-85e1-44cbc65967f7"
    },
    "slideshow": {
     "slide_type": "slide"
    }
   },
   "source": [
    "Veamos unos ejemplos simples de operaciones con la librería math"
   ]
  },
  {
   "cell_type": "code",
   "execution_count": 2,
   "metadata": {
    "nbpresent": {
     "id": "9c62d477-cdd2-428d-b11e-faf2c44aa01a"
    },
    "slideshow": {
     "slide_type": "slide"
    }
   },
   "outputs": [],
   "source": [
    "from math import *\n"
   ]
  },
  {
   "cell_type": "markdown",
   "metadata": {
    "nbpresent": {
     "id": "44744c5b-7ed0-4aa0-807c-470f56964d3b"
    },
    "slideshow": {
     "slide_type": "slide"
    }
   },
   "source": [
    "Es aconsejable anotar dentro de una celda, un conjunto de instrucciones de Python, con la idea de agrupar bloques de trabajo, al principio y con la idea de acostumbrarse al manejo del navegador y del uso de las celdas, se puede anotar en cada celda una instrucción."
   ]
  },
  {
   "cell_type": "code",
   "execution_count": 4,
   "metadata": {
    "nbpresent": {
     "id": "a4cff8d6-db12-4112-96ee-555a88129c21"
    },
    "slideshow": {
     "slide_type": "slide"
    }
   },
   "outputs": [
    {
     "name": "stdout",
     "output_type": "stream",
     "text": [
      "1.4142135623730951\n"
     ]
    }
   ],
   "source": [
    "print (sqrt(2))"
   ]
  },
  {
   "cell_type": "code",
   "execution_count": 5,
   "metadata": {
    "nbpresent": {
     "id": "84bd6893-a53a-46dc-b328-86838050d704"
    },
    "slideshow": {
     "slide_type": "slide"
    }
   },
   "outputs": [
    {
     "name": "stdout",
     "output_type": "stream",
     "text": [
      "123.456\n"
     ]
    }
   ],
   "source": [
    "print (abs(-123.456))"
   ]
  },
  {
   "cell_type": "code",
   "execution_count": 6,
   "metadata": {
    "nbpresent": {
     "id": "f348a166-16fc-4db1-a592-4f4ab1a32ba7"
    },
    "slideshow": {
     "slide_type": "slide"
    }
   },
   "outputs": [
    {
     "name": "stdout",
     "output_type": "stream",
     "text": [
      "4.605170185988092\n"
     ]
    }
   ],
   "source": [
    "print (log(100))"
   ]
  },
  {
   "cell_type": "code",
   "execution_count": 7,
   "metadata": {
    "nbpresent": {
     "id": "c507298a-4f02-46b0-a107-7c5c303d6d9e"
    },
    "slideshow": {
     "slide_type": "slide"
    }
   },
   "outputs": [
    {
     "name": "stdout",
     "output_type": "stream",
     "text": [
      "2.0\n"
     ]
    }
   ],
   "source": [
    "print (log10(100))"
   ]
  },
  {
   "cell_type": "markdown",
   "metadata": {
    "nbpresent": {
     "id": "70f2ded8-d719-414a-951a-425bbc7a1a68"
    },
    "slideshow": {
     "slide_type": "slide"
    }
   },
   "source": [
    "Veamos el caso de cuando hacemos referencia a una librería pero ésta, no se ha invocado inicialmente:"
   ]
  },
  {
   "cell_type": "code",
   "execution_count": 8,
   "metadata": {
    "nbpresent": {
     "id": "c8fc2a8e-2259-4cdc-9a67-62548c01b6f2"
    },
    "slideshow": {
     "slide_type": "slide"
    }
   },
   "outputs": [
    {
     "ename": "NameError",
     "evalue": "name 'linspace' is not defined",
     "output_type": "error",
     "traceback": [
      "\u001b[0;31m---------------------------------------------------------------------------\u001b[0m",
      "\u001b[0;31mNameError\u001b[0m                                 Traceback (most recent call last)",
      "\u001b[0;32m<ipython-input-8-f4ec7e456f14>\u001b[0m in \u001b[0;36m<module>\u001b[0;34m()\u001b[0m\n\u001b[0;32m----> 1\u001b[0;31m \u001b[0mx\u001b[0m \u001b[0;34m=\u001b[0m \u001b[0mlinspace\u001b[0m\u001b[0;34m(\u001b[0m\u001b[0;34m-\u001b[0m\u001b[0;36m3\u001b[0m\u001b[0;34m,\u001b[0m\u001b[0;36m3\u001b[0m\u001b[0;34m,\u001b[0m\u001b[0;36m100\u001b[0m\u001b[0;34m)\u001b[0m\u001b[0;34m\u001b[0m\u001b[0m\n\u001b[0m",
      "\u001b[0;31mNameError\u001b[0m: name 'linspace' is not defined"
     ]
    }
   ],
   "source": [
    "x = linspace(-3,3,100)"
   ]
  },
  {
   "cell_type": "markdown",
   "metadata": {
    "nbpresent": {
     "id": "fd0a7788-cacf-4cbd-ad77-2774635f76b9"
    },
    "slideshow": {
     "slide_type": "slide"
    }
   },
   "source": [
    "Tenemos un error al momento de ejecutar la celda, para resolverlo, mandamos llamar la librería"
   ]
  },
  {
   "cell_type": "code",
   "execution_count": 10,
   "metadata": {
    "nbpresent": {
     "id": "71008764-cfe2-4030-8b41-1a4ee37a3d62"
    },
    "slideshow": {
     "slide_type": "slide"
    }
   },
   "outputs": [],
   "source": [
    "from numpy import *\n",
    "import matplotlib.pyplot as plt"
   ]
  },
  {
   "cell_type": "code",
   "execution_count": 11,
   "metadata": {
    "nbpresent": {
     "id": "a0258b23-e7f1-408e-8ba8-f00dc3ba0c81"
    },
    "slideshow": {
     "slide_type": "slide"
    }
   },
   "outputs": [],
   "source": [
    "x = linspace(-3,3,100)"
   ]
  },
  {
   "cell_type": "code",
   "execution_count": 13,
   "metadata": {
    "nbpresent": {
     "id": "8dd89530-a9bf-4253-a604-446832016c8c"
    },
    "slideshow": {
     "slide_type": "slide"
    }
   },
   "outputs": [
    {
     "data": {
      "image/png": "[encoded data removed]",
      "text/plain": [
       "<matplotlib.figure.Figure at 0x7fa0fe9e43c8>"
      ]
     },
     "metadata": {},
     "output_type": "display_data"
    }
   ],
   "source": [
    "plt.plot(x,sin(x))\n",
    "plt.show()"
   ]
  },
  {
   "cell_type": "markdown",
   "metadata": {
    "nbpresent": {
     "id": "e95b5979-0eb0-4553-87a9-7b106eb7ecf2"
    },
    "slideshow": {
     "slide_type": "slide"
    }
   },
   "source": [
    "Buena parte del material que estaremos trabajando para el curso de Física Computacional, lo enviaremos como un archivo notebook. De la misma manera que hemos visto una parte básica de programación con Python, te pedimos que revises y extiendas el uso y el manejo de los notebooks."
   ]
  }
 ],
 "metadata": {
  "anaconda-cloud": {},
  "celltoolbar": "Slideshow",
  "kernelspec": {
   "display_name": "Python [default]",
   "language": "python",
   "name": "python3"
  },
  "language_info": {
   "codemirror_mode": {
    "name": "ipython",
    "version": 3
   },
   "file_extension": ".py",
   "mimetype": "text/x-python",
   "name": "python",
   "nbconvert_exporter": "python",
   "pygments_lexer": "ipython3",
   "version": "3.5.2"
  },
  "nbpresent": {
   "slides": {
    "08ee8ec4-4ffe-416a-9302-cc82c6fee898": {
     "id": "08ee8ec4-4ffe-416a-9302-cc82c6fee898",
     "prev": "17a2ff6f-a3d0-4916-a789-da98247d9cf0",
     "regions": {
      "4728cba2-3044-4d2b-af09-6f1f1d2181d3": {
       "attrs": {
        "height": 0.8,
        "width": 0.8,
        "x": 0.1,
        "y": 0.1
       },
       "content": {
        "cell": "a4cff8d6-db12-4112-96ee-555a88129c21",
        "part": "whole"
       },
       "id": "4728cba2-3044-4d2b-af09-6f1f1d2181d3"
      }
     }
    },
    "098ba3aa-d82a-4c19-afd4-9ec2b6bb18d1": {
     "id": "098ba3aa-d82a-4c19-afd4-9ec2b6bb18d1",
     "prev": "18325020-c54a-4194-a3d6-f63c3005bcaf",
     "regions": {
      "e698c26a-e7c2-4b47-82c1-06d839e609a6": {
       "attrs": {
        "height": 0.8,
        "width": 0.8,
        "x": 0.1,
        "y": 0.1
       },
       "content": {
        "cell": "9c62d477-cdd2-428d-b11e-faf2c44aa01a",
        "part": "whole"
       },
       "id": "e698c26a-e7c2-4b47-82c1-06d839e609a6"
      }
     }
    },
    "0ff78986-36b8-4c9a-9655-5949d827f965": {
     "id": "0ff78986-36b8-4c9a-9655-5949d827f965",
     "prev": "08ee8ec4-4ffe-416a-9302-cc82c6fee898",
     "regions": {
      "c4da07a5-c884-4e6b-9a1f-4e4509115fb4": {
       "attrs": {
        "height": 0.8,
        "width": 0.8,
        "x": 0.1,
        "y": 0.1
       },
       "content": {
        "cell": "84bd6893-a53a-46dc-b328-86838050d704",
        "part": "whole"
       },
       "id": "c4da07a5-c884-4e6b-9a1f-4e4509115fb4"
      }
     }
    },
    "17a2ff6f-a3d0-4916-a789-da98247d9cf0": {
     "id": "17a2ff6f-a3d0-4916-a789-da98247d9cf0",
     "prev": "098ba3aa-d82a-4c19-afd4-9ec2b6bb18d1",
     "regions": {
      "9aa34434-f08a-41d1-915f-78e2f375a213": {
       "attrs": {
        "height": 0.8,
        "width": 0.8,
        "x": 0.1,
        "y": 0.1
       },
       "content": {
        "cell": "44744c5b-7ed0-4aa0-807c-470f56964d3b",
        "part": "whole"
       },
       "id": "9aa34434-f08a-41d1-915f-78e2f375a213"
      }
     }
    },
    "18325020-c54a-4194-a3d6-f63c3005bcaf": {
     "id": "18325020-c54a-4194-a3d6-f63c3005bcaf",
     "prev": "471e7f52-1d31-4495-abee-6b1869a01ba9",
     "regions": {
      "e958083c-d55d-49fa-a78d-e86e625d6959": {
       "attrs": {
        "height": 0.8,
        "width": 0.8,
        "x": 0.1,
        "y": 0.1
       },
       "content": {
        "cell": "b2654e94-2ea3-4b69-85e1-44cbc65967f7",
        "part": "whole"
       },
       "id": "e958083c-d55d-49fa-a78d-e86e625d6959"
      }
     }
    },
    "2bfc952d-394d-4301-beb5-f66e2bfb2fe5": {
     "id": "2bfc952d-394d-4301-beb5-f66e2bfb2fe5",
     "prev": "c8606a38-2168-478f-9011-53bdc38d1363",
     "regions": {
      "b785e7d4-5412-449f-84f1-b66ef378703a": {
       "attrs": {
        "height": 0.8,
        "width": 0.8,
        "x": 0.1,
        "y": 0.1
       },
       "content": {
        "cell": "e95b5979-0eb0-4553-87a9-7b106eb7ecf2",
        "part": "whole"
       },
       "id": "b785e7d4-5412-449f-84f1-b66ef378703a"
      }
     }
    },
    "400ac685-d71a-4e4d-b4e6-74f9424ed3ec": {
     "id": "400ac685-d71a-4e4d-b4e6-74f9424ed3ec",
     "prev": "68908af5-a980-4bb5-bdca-23183d6e3ff0",
     "regions": {
      "16fea63e-d0bd-43b3-98f3-3e511f90a338": {
       "attrs": {
        "height": 0.8,
        "width": 0.8,
        "x": 0.1,
        "y": 0.1
       },
       "content": {
        "cell": "70f2ded8-d719-414a-951a-425bbc7a1a68",
        "part": "whole"
       },
       "id": "16fea63e-d0bd-43b3-98f3-3e511f90a338"
      }
     }
    },
    "471e7f52-1d31-4495-abee-6b1869a01ba9": {
     "id": "471e7f52-1d31-4495-abee-6b1869a01ba9",
     "prev": "d1d153b9-4c5c-4a0c-bb6f-32efc40c04b1",
     "regions": {
      "da43f0fe-7217-4b34-887c-2e8c60f330f1": {
       "attrs": {
        "height": 0.8,
        "width": 0.8,
        "x": 0.1,
        "y": 0.1
       },
       "content": {
        "cell": "db92fa3c-d47d-4791-8ba1-2ed99988ba61",
        "part": "whole"
       },
       "id": "da43f0fe-7217-4b34-887c-2e8c60f330f1"
      }
     }
    },
    "68908af5-a980-4bb5-bdca-23183d6e3ff0": {
     "id": "68908af5-a980-4bb5-bdca-23183d6e3ff0",
     "prev": "781c1aad-2056-4e45-812b-3fedaf85d46a",
     "regions": {
      "0c24797c-4113-4edf-bb40-4d2dd9296f37": {
       "attrs": {
        "height": 0.8,
        "width": 0.8,
        "x": 0.1,
        "y": 0.1
       },
       "content": {
        "cell": "c507298a-4f02-46b0-a107-7c5c303d6d9e",
        "part": "whole"
       },
       "id": "0c24797c-4113-4edf-bb40-4d2dd9296f37"
      }
     }
    },
    "728e069f-eb73-4bbb-8695-4ab818ce8bc2": {
     "id": "728e069f-eb73-4bbb-8695-4ab818ce8bc2",
     "prev": "b5d70ed8-109d-4cd6-ad8b-85b6857ef4d7",
     "regions": {
      "7ac2f5fa-f3da-4491-8b77-4906adee8cc7": {
       "attrs": {
        "height": 0.8,
        "width": 0.8,
        "x": 0.1,
        "y": 0.1
       },
       "content": {
        "cell": "71008764-cfe2-4030-8b41-1a4ee37a3d62",
        "part": "whole"
       },
       "id": "7ac2f5fa-f3da-4491-8b77-4906adee8cc7"
      }
     }
    },
    "781c1aad-2056-4e45-812b-3fedaf85d46a": {
     "id": "781c1aad-2056-4e45-812b-3fedaf85d46a",
     "prev": "0ff78986-36b8-4c9a-9655-5949d827f965",
     "regions": {
      "8f7dcf3b-7748-4e95-a8ec-904a3c597da7": {
       "attrs": {
        "height": 0.8,
        "width": 0.8,
        "x": 0.1,
        "y": 0.1
       },
       "content": {
        "cell": "f348a166-16fc-4db1-a592-4f4ab1a32ba7",
        "part": "whole"
       },
       "id": "8f7dcf3b-7748-4e95-a8ec-904a3c597da7"
      }
     }
    },
    "b5d70ed8-109d-4cd6-ad8b-85b6857ef4d7": {
     "id": "b5d70ed8-109d-4cd6-ad8b-85b6857ef4d7",
     "prev": "d94281fc-517c-45a2-8fe2-1c2426ecfac0",
     "regions": {
      "d10e0b35-84f5-44eb-a864-e2d7fcfd655e": {
       "attrs": {
        "height": 0.8,
        "width": 0.8,
        "x": 0.1,
        "y": 0.1
       },
       "content": {
        "cell": "fd0a7788-cacf-4cbd-ad77-2774635f76b9",
        "part": "whole"
       },
       "id": "d10e0b35-84f5-44eb-a864-e2d7fcfd655e"
      }
     }
    },
    "c8606a38-2168-478f-9011-53bdc38d1363": {
     "id": "c8606a38-2168-478f-9011-53bdc38d1363",
     "prev": "d7a079d4-3b0a-4f26-803c-93f33aa3391d",
     "regions": {
      "21a6994e-78fe-4e3b-8d09-08a57c270c59": {
       "attrs": {
        "height": 0.8,
        "width": 0.8,
        "x": 0.1,
        "y": 0.1
       },
       "content": {
        "cell": "8dd89530-a9bf-4253-a604-446832016c8c",
        "part": "whole"
       },
       "id": "21a6994e-78fe-4e3b-8d09-08a57c270c59"
      }
     }
    },
    "d1d153b9-4c5c-4a0c-bb6f-32efc40c04b1": {
     "id": "d1d153b9-4c5c-4a0c-bb6f-32efc40c04b1",
     "prev": null,
     "regions": {
      "4dd8fdd1-e20e-4c36-a4fa-c5b49f52fc97": {
       "attrs": {
        "height": 0.8,
        "width": 0.8,
        "x": 0.1,
        "y": 0.1
       },
       "content": {
        "cell": "4e1cee3d-31e9-419f-bf96-d4d57224459b",
        "part": "whole"
       },
       "id": "4dd8fdd1-e20e-4c36-a4fa-c5b49f52fc97"
      }
     }
    },
    "d7a079d4-3b0a-4f26-803c-93f33aa3391d": {
     "id": "d7a079d4-3b0a-4f26-803c-93f33aa3391d",
     "prev": "728e069f-eb73-4bbb-8695-4ab818ce8bc2",
     "regions": {
      "268b72ef-65f4-4cc1-a567-e8573937d476": {
       "attrs": {
        "height": 0.8,
        "width": 0.8,
        "x": 0.1,
        "y": 0.1
       },
       "content": {
        "cell": "a0258b23-e7f1-408e-8ba8-f00dc3ba0c81",
        "part": "whole"
       },
       "id": "268b72ef-65f4-4cc1-a567-e8573937d476"
      }
     }
    },
    "d94281fc-517c-45a2-8fe2-1c2426ecfac0": {
     "id": "d94281fc-517c-45a2-8fe2-1c2426ecfac0",
     "prev": "400ac685-d71a-4e4d-b4e6-74f9424ed3ec",
     "regions": {
      "90b21323-e478-4dc4-9e37-936abf38977c": {
       "attrs": {
        "height": 0.8,
        "width": 0.8,
        "x": 0.1,
        "y": 0.1
       },
       "content": {
        "cell": "c8fc2a8e-2259-4cdc-9a67-62548c01b6f2",
        "part": "whole"
       },
       "id": "90b21323-e478-4dc4-9e37-936abf38977c"
      }
     }
    }
   },
   "themes": {
    "default": "777f542d-670d-4434-bcc5-fadcef452c3f",
    "theme": {
     "777f542d-670d-4434-bcc5-fadcef452c3f": {
      "backgrounds": {
       "backgroundColor": {
        "background-color": "backgroundColor",
        "id": "backgroundColor"
       }
      },
      "id": "777f542d-670d-4434-bcc5-fadcef452c3f",
      "palette": {
       "backgroundColor": {
        "id": "backgroundColor",
        "rgb": [
         34,
         34,
         34
        ]
       },
       "headingColor": {
        "id": "headingColor",
        "rgb": [
         238,
         238,
         238
        ]
       },
       "linkColor": {
        "id": "linkColor",
        "rgb": [
         170,
         34,
         51
        ]
       },
       "mainColor": {
        "id": "mainColor",
        "rgb": [
         238,
         238,
         238
        ]
       }
      },
      "rules": {
       "a": {
        "color": "linkColor"
       },
       "h1": {
        "color": "headingColor",
        "font-family": "Ubuntu",
        "font-size": 7
       },
       "h2": {
        "color": "headingColor",
        "font-family": "Ubuntu",
        "font-size": 5
       },
       "h3": {
        "color": "headingColor",
        "font-family": "Ubuntu",
        "font-size": 3.75
       },
       "h4": {
        "color": "headingColor",
        "font-family": "Ubuntu",
        "font-size": 3
       },
       "h5": {
        "color": "headingColor",
        "font-family": "Ubuntu"
       },
       "h6": {
        "color": "headingColor",
        "font-family": "Ubuntu"
       },
       "h7": {
        "color": "headingColor",
        "font-family": "Ubuntu"
       },
       "li": {
        "color": "mainColor",
        "font-family": "Ubuntu",
        "font-size": 5
       },
       "p": {
        "color": "mainColor",
        "font-family": "Ubuntu",
        "font-size": 5
       }
      },
      "text-base": {
       "color": "mainColor",
       "font-family": "Ubuntu",
       "font-size": 5
      }
     }
    }
   }
  }
 },
 "nbformat": 4,
 "nbformat_minor": 1
}
