{
 "cells": [
  {
   "cell_type": "markdown",
   "metadata": {
    "nbpresent": {
     "id": "16c2d55d-5e13-4bc2-976e-b49f3851c187"
    },
    "slideshow": {
     "slide_type": "slide"
    }
   },
   "source": [
    "# Operadores aritméticos\n",
    "## Python como calculadora"
   ]
  },
  {
   "cell_type": "markdown",
   "metadata": {
    "nbpresent": {
     "id": "d8c4efa1-fd20-434f-b252-9e1d1c77f99a"
    },
    "slideshow": {
     "slide_type": "subslide"
    }
   },
   "source": [
    "Una vez abierta la sesión en $\\texttt{python}$, podemos aprovechar al máximo este lenguaje: contamos con una calculadora a la mano, sólo hay que ir escribiendo las operaciones en la línea de comandos."
   ]
  },
  {
   "cell_type": "code",
   "execution_count": 1,
   "metadata": {
    "nbpresent": {
     "id": "67bac144-52ed-48d9-9544-2ef7bae179e2"
    },
    "slideshow": {
     "slide_type": "slide"
    }
   },
   "outputs": [
    {
     "data": {
      "text/plain": [
       "125"
      ]
     },
     "execution_count": 1,
     "metadata": {},
     "output_type": "execute_result"
    }
   ],
   "source": [
    "35+90"
   ]
  },
  {
   "cell_type": "code",
   "execution_count": 2,
   "metadata": {
    "nbpresent": {
     "id": "d9639149-7a28-47d5-b98e-1da57eb40803"
    },
    "slideshow": {
     "slide_type": "slide"
    }
   },
   "outputs": [
    {
     "data": {
      "text/plain": [
       "0.75"
      ]
     },
     "execution_count": 2,
     "metadata": {},
     "output_type": "execute_result"
    }
   ],
   "source": [
    "3/4"
   ]
  },
  {
   "cell_type": "code",
   "execution_count": 5,
   "metadata": {
    "nbpresent": {
     "id": "3dfcfdc1-e470-46bf-8400-3a94db41cae2"
    },
    "slideshow": {
     "slide_type": "slide"
    }
   },
   "outputs": [
    {
     "data": {
      "text/plain": [
       "0.42857142857142855"
      ]
     },
     "execution_count": 5,
     "metadata": {},
     "output_type": "execute_result"
    }
   ],
   "source": [
    "3.0/7.0"
   ]
  },
  {
   "cell_type": "code",
   "execution_count": 5,
   "metadata": {
    "nbpresent": {
     "id": "1ae3c0a4-fb1d-4830-ab11-33a8552c8058"
    },
    "slideshow": {
     "slide_type": "slide"
    }
   },
   "outputs": [
    {
     "data": {
      "text/plain": [
       "0"
      ]
     },
     "execution_count": 5,
     "metadata": {},
     "output_type": "execute_result"
    }
   ],
   "source": [
    "3//4"
   ]
  },
  {
   "cell_type": "code",
   "execution_count": 6,
   "metadata": {
    "nbpresent": {
     "id": "54fa3e78-7ffa-404e-90fd-889d813239af"
    },
    "slideshow": {
     "slide_type": "slide"
    }
   },
   "outputs": [
    {
     "data": {
      "text/plain": [
       "13"
      ]
     },
     "execution_count": 6,
     "metadata": {},
     "output_type": "execute_result"
    }
   ],
   "source": [
    "40//3"
   ]
  },
  {
   "cell_type": "code",
   "execution_count": 7,
   "metadata": {
    "nbpresent": {
     "id": "fc165593-4946-4ec6-8950-33ba86ef2680"
    },
    "slideshow": {
     "slide_type": "slide"
    }
   },
   "outputs": [
    {
     "data": {
      "text/plain": [
       "1.3333333333333333"
      ]
     },
     "execution_count": 7,
     "metadata": {},
     "output_type": "execute_result"
    }
   ],
   "source": [
    "4/3"
   ]
  },
  {
   "cell_type": "code",
   "execution_count": 8,
   "metadata": {
    "nbpresent": {
     "id": "7fdc430b-cae3-4f3b-b05b-4e3c30ed50b3"
    },
    "slideshow": {
     "slide_type": "slide"
    }
   },
   "outputs": [
    {
     "data": {
      "text/plain": [
       "6.0"
      ]
     },
     "execution_count": 8,
     "metadata": {},
     "output_type": "execute_result"
    }
   ],
   "source": [
    "5.0 / 10 * 2 + 5"
   ]
  },
  {
   "cell_type": "markdown",
   "metadata": {
    "nbpresent": {
     "id": "3b66d7ad-496a-4943-baac-1d4d9f8f578f"
    },
    "slideshow": {
     "slide_type": "slide"
    }
   },
   "source": [
    "¿por qué obtenemos este resultado??"
   ]
  },
  {
   "cell_type": "code",
   "execution_count": 9,
   "metadata": {
    "nbpresent": {
     "id": "d5f71f9b-edb7-4572-b67f-f3c32255f11b"
    },
    "slideshow": {
     "slide_type": "slide"
    }
   },
   "outputs": [
    {
     "data": {
      "text/plain": [
       "0.2"
      ]
     },
     "execution_count": 9,
     "metadata": {},
     "output_type": "execute_result"
    }
   ],
   "source": [
    "5.0 / (10 * 2 + 5)"
   ]
  },
  {
   "cell_type": "markdown",
   "metadata": {
    "nbpresent": {
     "id": "73f94020-c1d8-4814-aea5-addcc9019e7b"
    },
    "slideshow": {
     "slide_type": "subslide"
    }
   },
   "source": [
    "Como podemos ver, el uso de paréntesis en las expresiones tiene una particular importancia sobre la manera en que se evalúan las expresiones"
   ]
  },
  {
   "cell_type": "markdown",
   "metadata": {
    "nbpresent": {
     "id": "9f3322aa-c7d9-46af-ba92-0a45a1c282a1"
    },
    "slideshow": {
     "slide_type": "slide"
    }
   },
   "source": [
    "Podemos elevar un número a una potencia en particular"
   ]
  },
  {
   "cell_type": "code",
   "execution_count": 11,
   "metadata": {
    "nbpresent": {
     "id": "e11bfa1c-815b-4273-8ddd-d2e5f263f74f"
    },
    "slideshow": {
     "slide_type": "subslide"
    }
   },
   "outputs": [
    {
     "data": {
      "text/plain": [
       "512"
      ]
     },
     "execution_count": 11,
     "metadata": {},
     "output_type": "execute_result"
    }
   ],
   "source": [
    "2**3**2"
   ]
  },
  {
   "cell_type": "markdown",
   "metadata": {
    "nbpresent": {
     "id": "7c265451-6189-4786-8c12-fda5d9161910"
    },
    "slideshow": {
     "slide_type": "slide"
    }
   },
   "source": [
    "Vemos que elevar a una potencia, la manera en que se ejecuta la expresión se realiza en un sentido en particular: de derecha a izquierda"
   ]
  },
  {
   "cell_type": "code",
   "execution_count": 17,
   "metadata": {
    "nbpresent": {
     "id": "35651ab7-0f28-4b9b-9a34-48f88889cd15"
    },
    "slideshow": {
     "slide_type": "subslide"
    }
   },
   "outputs": [
    {
     "data": {
      "text/plain": [
       "64"
      ]
     },
     "execution_count": 17,
     "metadata": {},
     "output_type": "execute_result"
    }
   ],
   "source": [
    "(2**3)**2"
   ]
  },
  {
   "cell_type": "markdown",
   "metadata": {
    "nbpresent": {
     "id": "2e813faf-680d-4962-a159-23a813cf1eb0"
    },
    "slideshow": {
     "slide_type": "subslide"
    }
   },
   "source": [
    "El uso de paréntesis nos indica que la expresión contenida dentro de ellos, es la que se evalúa primero, posteriormente se sigue la regla de precedencia de operadores"
   ]
  },
  {
   "cell_type": "markdown",
   "metadata": {
    "nbpresent": {
     "id": "922f3ad9-86c5-43d4-b862-15c1637d96cc"
    },
    "slideshow": {
     "slide_type": "slide"
    }
   },
   "source": [
    "El operador módulo $(\\%)$ nos devuelve el residuo del cociente"
   ]
  },
  {
   "cell_type": "code",
   "execution_count": 7,
   "metadata": {
    "nbpresent": {
     "id": "d8b5640e-b241-4fb4-8c89-541b1767882c"
    },
    "slideshow": {
     "slide_type": "subslide"
    }
   },
   "outputs": [
    {
     "data": {
      "text/plain": [
       "1"
      ]
     },
     "execution_count": 7,
     "metadata": {},
     "output_type": "execute_result"
    }
   ],
   "source": [
    "17%4"
   ]
  },
  {
   "cell_type": "markdown",
   "metadata": {
    "nbpresent": {
     "id": "b49e321f-50e0-4318-8103-11d5183a4d25"
    },
    "slideshow": {
     "slide_type": "slide"
    }
   },
   "source": [
    "# Tabla de operadores"
   ]
  },
  {
   "cell_type": "markdown",
   "metadata": {
    "nbpresent": {
     "id": "a71c9b50-3168-4e7e-b5a6-46c6ca972e10"
    },
    "slideshow": {
     "slide_type": "subslide"
    }
   },
   "source": [
    " <table>\n",
    "     <caption><span style=\"color:red\">Precedencia en los operadores aritméticos</span></caption>\n",
    "  <tr background-color=\"black\">\n",
    "    <th>Operador</th>\n",
    "    <th>Operación</th>\n",
    "    <th>Ejemplo</th>\n",
    "    <th>Resultado</th>\n",
    "  </tr>\n",
    "  <tr>\n",
    "   \n",
    "    <td>$**$</td>\n",
    "    <td>Potencia</td>\n",
    "    <td>$2**3$ </td>\n",
    "    <td>$8$ </td>\n",
    "  </tr>\n",
    "  <tr>\n",
    "    <td>$*$</td>\n",
    "    <td>Multiplicación</td>\n",
    "    <td>$7*3$</td>\n",
    "    <td>$21$</td>\n",
    "  </tr>\n",
    "  <tr>\n",
    "    <td>$/$</td>\n",
    "    <td>División</td>\n",
    "    <td>$10.5/2$</td>\n",
    "    <td>$5.25$</td>\n",
    "  </tr>\n",
    "  <tr>\n",
    "    <td>$//$</td>\n",
    "    <td>División entera</td>\n",
    "    <td>$10.5//2$</td>\n",
    "    <td>$5.0$</td>\n",
    "  </tr>\n",
    "  <tr>\n",
    "    <td>$+$</td>\n",
    "    <td>Suma</td>\n",
    "    <td>$3+4$</td>\n",
    "    <td>$7$</td>\n",
    "  </tr>\n",
    "  <tr>\n",
    "    <td>$-$</td>\n",
    "    <td>Resta</td>\n",
    "    <td>$6-8$</td>\n",
    "    <td>$-2$</td>\n",
    "  </tr>\n",
    "  <tr>\n",
    "    <td>$\\%$</td>\n",
    "    <td>Módulo</td>\n",
    "    <td>$15\\%6$</td>\n",
    "    <td>$3$</td>\n",
    "  </tr>\n",
    "</table>"
   ]
  },
  {
   "cell_type": "markdown",
   "metadata": {
    "nbpresent": {
     "id": "4460a644-4dcb-4530-9243-aac0e545ae02"
    },
    "slideshow": {
     "slide_type": "slide"
    }
   },
   "source": [
    "# Precedencia de los operadores artiméticos"
   ]
  },
  {
   "cell_type": "markdown",
   "metadata": {
    "nbpresent": {
     "id": "b32889f4-5156-403c-856e-e131206e496d"
    },
    "slideshow": {
     "slide_type": "subslide"
    }
   },
   "source": [
    "1. Las expresiones contenidas dentro de pares de paréntesis son evaluadas primero. En el caso de expresiones con paréntesis anidados, los operadores en el par de paréntesis más interno son aplicados primero.\n",
    "2. Las operaciones de exponentes son aplicadas después. Si una expresión contiene muchas operaciones de exponentes, los operadores son aplicados de derecha a izquierda.\n",
    "3. La multiplicación, división y módulo son las siguientes en ser aplicadas. Si una expresión contiene muchas multiplicaciones, divisiones u operaciones de módulo, los operadores se aplican de izquierda a derecha.\n",
    "4. Suma y resta son las operaciones que se aplican por último. Si una expresión contiene muchas operaciones de suma y resta, los operadores son aplicados de izquierda a derecha. La suma y resta tienen el mismo nivel de precedencia.\n"
   ]
  },
  {
   "cell_type": "markdown",
   "metadata": {
    "collapsed": true,
    "nbpresent": {
     "id": "e7067ceb-239a-4802-b405-8935583300c8"
    },
    "slideshow": {
     "slide_type": "slide"
    }
   },
   "source": [
    "# Operadores relacionales"
   ]
  },
  {
   "cell_type": "markdown",
   "metadata": {
    "collapsed": true,
    "nbpresent": {
     "id": "902018d6-9727-4472-96a0-a4f32c03eaf6"
    },
    "slideshow": {
     "slide_type": "subslide"
    }
   },
   "source": [
    "Se comparan dos (o más expresiones) mediante un operador, el tipo de dato que devuelve es lógico: $\\textbf{True}$ o $\\textbf{False}$, que también tienen una representación de tipo numérico:\n",
    "- $\\textbf{True}$ = 1\n",
    "- $\\textbf{False}$ = 0"
   ]
  },
  {
   "cell_type": "code",
   "execution_count": 8,
   "metadata": {
    "nbpresent": {
     "id": "245b8ec5-9362-4ab5-949d-14ce0859ac46"
    },
    "slideshow": {
     "slide_type": "subslide"
    }
   },
   "outputs": [
    {
     "data": {
      "text/plain": [
       "False"
      ]
     },
     "execution_count": 8,
     "metadata": {},
     "output_type": "execute_result"
    }
   ],
   "source": [
    "1 + 2 > 7- 3"
   ]
  },
  {
   "cell_type": "code",
   "execution_count": 11,
   "metadata": {
    "nbpresent": {
     "id": "52c3623d-d404-4e20-b3c8-fc44ea37e8ec"
    },
    "slideshow": {
     "slide_type": "subslide"
    }
   },
   "outputs": [
    {
     "data": {
      "text/plain": [
       "True"
      ]
     },
     "execution_count": 11,
     "metadata": {},
     "output_type": "execute_result"
    }
   ],
   "source": [
    "-1 < 2 < 100"
   ]
  },
  {
   "cell_type": "code",
   "execution_count": 12,
   "metadata": {
    "nbpresent": {
     "id": "8f6373c6-99cd-43f1-b6aa-1f91b7984403"
    },
    "slideshow": {
     "slide_type": "subslide"
    }
   },
   "outputs": [
    {
     "data": {
      "text/plain": [
       "False"
      ]
     },
     "execution_count": 12,
     "metadata": {},
     "output_type": "execute_result"
    }
   ],
   "source": [
    "1 > 2 == 2 < 3"
   ]
  },
  {
   "cell_type": "code",
   "execution_count": 14,
   "metadata": {
    "nbpresent": {
     "id": "6a86c942-e694-428c-ae2a-8cb4f833537e"
    },
    "slideshow": {
     "slide_type": "subslide"
    }
   },
   "outputs": [
    {
     "data": {
      "text/plain": [
       "False"
      ]
     },
     "execution_count": 14,
     "metadata": {},
     "output_type": "execute_result"
    }
   ],
   "source": [
    "1 > (2 ==  2) < 3"
   ]
  },
  {
   "cell_type": "code",
   "execution_count": 3,
   "metadata": {
    "nbpresent": {
     "id": "967d71bb-46b5-4ef7-9e15-85d0ce714783"
    },
    "slideshow": {
     "slide_type": "subslide"
    }
   },
   "outputs": [
    {
     "data": {
      "text/plain": [
       "False"
      ]
     },
     "execution_count": 3,
     "metadata": {},
     "output_type": "execute_result"
    }
   ],
   "source": [
    "3 > 4 < 5"
   ]
  },
  {
   "cell_type": "code",
   "execution_count": 15,
   "metadata": {
    "nbpresent": {
     "id": "d54af02d-fcbc-4464-8eee-9361fb678b56"
    },
    "slideshow": {
     "slide_type": "subslide"
    }
   },
   "outputs": [
    {
     "data": {
      "text/plain": [
       "0.3333333333333333"
      ]
     },
     "execution_count": 15,
     "metadata": {},
     "output_type": "execute_result"
    }
   ],
   "source": [
    "1.0 / 3  < 0.3333"
   ]
  },
  {
   "cell_type": "code",
   "execution_count": 18,
   "metadata": {
    "nbpresent": {
     "id": "936a8e66-97ea-4a56-82be-e71955fea01f"
    },
    "slideshow": {
     "slide_type": "subslide"
    }
   },
   "outputs": [
    {
     "data": {
      "text/plain": [
       "True"
      ]
     },
     "execution_count": 18,
     "metadata": {},
     "output_type": "execute_result"
    }
   ],
   "source": [
    "5.0 / 3 >= 11 /7.0"
   ]
  },
  {
   "cell_type": "code",
   "execution_count": 21,
   "metadata": {
    "nbpresent": {
     "id": "2325b8e3-a3f3-4a02-abf2-6e1802f21e5b"
    },
    "slideshow": {
     "slide_type": "subslide"
    }
   },
   "outputs": [
    {
     "data": {
      "text/plain": [
       "True"
      ]
     },
     "execution_count": 21,
     "metadata": {},
     "output_type": "execute_result"
    }
   ],
   "source": [
    " 2**(2. /3) < 3**(3./4)"
   ]
  },
  {
   "cell_type": "markdown",
   "metadata": {
    "nbpresent": {
     "id": "9b96a045-6bb4-443f-92e2-c5315f6814c9"
    },
    "slideshow": {
     "slide_type": "slide"
    }
   },
   "source": [
    "## Tabla de operadores relacionales"
   ]
  },
  {
   "cell_type": "markdown",
   "metadata": {
    "nbpresent": {
     "id": "69f8c6ae-5ac6-4514-a495-c2e59a197675"
    },
    "slideshow": {
     "slide_type": "subslide"
    }
   },
   "source": [
    "<div class=\"centrado\">\n",
    "<table width=\"50%\">\n",
    "     <caption><span style=\"color:red\">Operadores relacionales</span></caption>\n",
    "  <tr background-color=\"black\">\n",
    "    <th>Operador</th>\n",
    "    <th>Operación</th>\n",
    "    <th>Ejemplo</th>\n",
    "    <th>Resultado</th>\n",
    "  </tr>\n",
    "  <tr>\n",
    "    <td class=\"centrado\">$==$</td>\n",
    "    <td>Igual a</td>\n",
    "    <td>$4==5$</td>\n",
    "    <td>$\\texttt{False}$</td>\n",
    "  </tr>\n",
    "  <tr>\n",
    "    <td>$!=$</td>\n",
    "    <td>Diferente de</td>\n",
    "    <td>$2!=3$</td>\n",
    "    <td>$\\texttt{True}$</td>\n",
    "  </tr>\n",
    "  <tr>\n",
    "    <td>$<$</td>\n",
    "    <td>Menor que</td>\n",
    "    <td>$10<4$</td>\n",
    "    <td>$\\texttt{False}$</td>\n",
    "  </tr>\n",
    "  <tr>\n",
    "    <td>$>$</td>\n",
    "    <td>Mayor que</td>\n",
    "    <td>$5>-4$</td>\n",
    "    <td>$\\texttt{True}$</td>\n",
    "  </tr>\n",
    "  <tr>\n",
    "    <td>$<=$</td>\n",
    "    <td>Menor o igual que</td>\n",
    "    <td>$7<=7$</td>\n",
    "    <td>$\\texttt{True}$</td>\n",
    "  </tr>\n",
    "  <tr>\n",
    "    <td>$>=$</td>\n",
    "    <td>Mayor o igual que</td>\n",
    "    <td>$3.5 >= 10$</td>\n",
    "    <td>$\\texttt{False}$</td>\n",
    "  </tr>\n",
    "</table>\n",
    "</div>\n"
   ]
  },
  {
   "cell_type": "markdown",
   "metadata": {
    "nbpresent": {
     "id": "223264c8-bae3-4bbd-9a11-39c604fcf06e"
    },
    "slideshow": {
     "slide_type": "slide"
    }
   },
   "source": [
    "##  Operadores boleanos"
   ]
  },
  {
   "cell_type": "markdown",
   "metadata": {
    "nbpresent": {
     "id": "c3d8bd57-b4b5-40a5-a787-70b391c993dd"
    },
    "slideshow": {
     "slide_type": "subslide"
    }
   },
   "source": [
    "En el caso del operador boleano $\\texttt{and}$ y el operador $\\texttt{or}$ evalúan una expresión compuesta por dos (o más términos), en ambos operadores se espera que cada término tenga el valor de <font color='blue'>$\\texttt{True}$</font>, en caso de que esto ocurra, el valor que devuelve la evaluación, es <font color='blue'>$\\texttt{True}$</font>, como se verá en la tabla de verdad, se necesita una condición particular para que el valor que devuelva la comparación, sea <font color='red'>$\\texttt{False}$</font>."
   ]
  },
  {
   "cell_type": "markdown",
   "metadata": {
    "nbpresent": {
     "id": "b1bfa298-fca6-4de2-83ee-34ae64f2574d"
    },
    "slideshow": {
     "slide_type": "subslide"
    }
   },
   "source": [
    "<table width=\"50%\">\n",
    "     <caption><span style=\"color:red\">Operadores boleanos</span></caption>\n",
    "  <tr>\n",
    "    <th>Operador</th>\n",
    "    <th>Operación</th>\n",
    "    <th>Ejemplo</th>\n",
    "    <th>Resultado</th>\n",
    "  </tr>\n",
    "  <tr>\n",
    "    <td>$\\texttt{and}$</td>\n",
    "    <td>Conjunción</td>\n",
    "    <td>$\\texttt{False and True}$</td>\n",
    "    <td>$\\texttt{False}$</td>\n",
    "  </tr>\n",
    "  <tr>\n",
    "    <td>$\\texttt{or}$</td>\n",
    "    <td>Disyunción</td>\n",
    "    <td>$\\texttt{False or True}$</td>\n",
    "    <td>$\\texttt{True}$</td>\n",
    "  </tr>\n",
    "    <tr>\n",
    "    <td>$\\texttt{not}$</td>\n",
    "    <td>Negación</td>\n",
    "    <td>$\\texttt{not True}$</td>\n",
    "    <td>$\\texttt{False}$</td>\n",
    "  </tr>\n",
    "  </table>"
   ]
  },
  {
   "cell_type": "markdown",
   "metadata": {
    "nbpresent": {
     "id": "e27aea2d-47af-48b1-bf21-870352303ffe"
    },
    "slideshow": {
     "slide_type": "slide"
    }
   },
   "source": [
    "## Tabla de verdad de los operadores boleanos"
   ]
  },
  {
   "cell_type": "markdown",
   "metadata": {
    "nbpresent": {
     "id": "dfcd052f-2921-439f-a367-17882c41aeaa"
    },
    "slideshow": {
     "slide_type": "subslide"
    }
   },
   "source": [
    "<table width=\"50%\">\n",
    "     <caption><span style=\"color:red\">Tabla de verdad</span></caption>\n",
    "  <tr>\n",
    "    <th>$\\texttt{A}$</th>\n",
    "    <th>$\\texttt{B}$</th>\n",
    "    <th>$\\texttt{A and B}$</th>\n",
    "    <th>$\\texttt{A or B}$</th>\n",
    "    <th>$\\texttt{not A}$</th>\n",
    "  </tr>\n",
    "  <tr>\n",
    "    <td><font color=blue>$\\texttt{True}$</font></td>\n",
    "    <td><font color=blue>$\\texttt{True}$</font></td>\n",
    "    <td><font color=blue>$\\texttt{True}$</font></td>\n",
    "    <td><font color=blue>$\\texttt{True}$</font></td>\n",
    "    <td><font color=red>$\\texttt{False}$</font></td>\n",
    "  </tr>\n",
    "  <tr>\n",
    "    <td><font color=blue>$\\texttt{True}$</font></td>\n",
    "    <td><font color=red>$\\texttt{False}$</font></td>\n",
    "    <td><font color=red>$\\texttt{False}$</font></td>\n",
    "    <td><font color=blue>$\\texttt{True}$</font></td>\n",
    "    <td><font color=red>$\\texttt{False}$</font></td>\n",
    "  </tr>\n",
    "  <tr>\n",
    "    <td><font color=red>$\\texttt{False}$</font></td>\n",
    "    <td><font color=blue>$\\texttt{True}$</font></td>\n",
    "    <td><font color=red>$\\texttt{False}$</font></td>\n",
    "    <td><font color=blue>$\\texttt{True}$</font></td>\n",
    "    <td><font color=blue>$\\texttt{True}$</font></td>\n",
    "  </tr>\n",
    "  <tr>\n",
    "    <td><font color=red>$\\texttt{False}$</font></td>\n",
    "    <td><font color=red>$\\texttt{False}$</font></td>\n",
    "    <td><font color=red>$\\texttt{False}$</font></td>\n",
    "    <td><font color=red>$\\texttt{False}$</font></td>\n",
    "    <td><font color=blue>$\\texttt{True}$</font></td>\n",
    "  </tr>\n",
    "  </table>"
   ]
  },
  {
   "cell_type": "markdown",
   "metadata": {
    "nbpresent": {
     "id": "60483852-a27c-463f-8e77-91db027d1d9d"
    },
    "slideshow": {
     "slide_type": "slide"
    }
   },
   "source": [
    "# Tipos de variables"
   ]
  },
  {
   "cell_type": "markdown",
   "metadata": {
    "nbpresent": {
     "id": "ec412cfa-11a5-437f-ad91-f1b80fb4bf1c"
    },
    "slideshow": {
     "slide_type": "subslide"
    }
   },
   "source": [
    "Las variables en $\\texttt{python}$ sólo son ubicaciones de memoria reservadas para almacenar valores. Esto significa que cuando se crea una variable, se reserva un poco de espacio disponible en la memoria.\n",
    "\n",
    "Basándose en el tipo de datos de una variable, el intérprete asigna memoria y decide qué se puede almacenar en la memoria reservada. Por lo tanto, al asignar diferentes tipos de datos a las variables, se pueden almacenar **enteros**, **decimales** o **caracteres (cadenas)** en estas variables.\n",
    "\n"
   ]
  },
  {
   "cell_type": "markdown",
   "metadata": {
    "nbpresent": {
     "id": "b7375e8f-77ba-4056-bb38-45987c487261"
    },
    "slideshow": {
     "slide_type": "slide"
    }
   },
   "source": [
    "## Asignando valores a variables"
   ]
  },
  {
   "cell_type": "markdown",
   "metadata": {
    "nbpresent": {
     "id": "2fdc4e7d-4c95-4686-a300-b509b2d982e4"
    },
    "slideshow": {
     "slide_type": "subslide"
    }
   },
   "source": [
    "Las variables de $\\texttt{python}$ no necesitan una declaración explícita para reservar espacio de memoria. La declaración ocurre automáticamente cuando se asigna un valor a una variable. **El signo igual (=) se utiliza para asignar valores a las variables*.\n",
    "\n",
    "El término a la izquierda del operador = es el *nombre de la variable* y el término a la derecha del operador = es el *valor almacenado* en la variable."
   ]
  },
  {
   "cell_type": "code",
   "execution_count": 6,
   "metadata": {
    "nbpresent": {
     "id": "1fb4daeb-e8fe-4f04-bdda-554be277be83"
    },
    "slideshow": {
     "slide_type": "subslide"
    }
   },
   "outputs": [
    {
     "name": "stdout",
     "output_type": "stream",
     "text": [
      "100\n",
      "1000.0\n",
      "Chucho\n"
     ]
    }
   ],
   "source": [
    "contador = 100          # Asignacion de tipo entero\n",
    "distancia = 1000.0      # De punto flotante\n",
    "nombre = \"Chucho\"       # Una cadena de caracteres\n",
    "\n",
    "print (contador)\n",
    "print (distancia)\n",
    "print (nombre)"
   ]
  },
  {
   "cell_type": "markdown",
   "metadata": {
    "nbpresent": {
     "id": "8ffc9279-72d8-4f64-b719-c269ec9f702e"
    },
    "slideshow": {
     "slide_type": "slide"
    }
   },
   "source": [
    "## Asignación múltiple de valores"
   ]
  },
  {
   "cell_type": "markdown",
   "metadata": {
    "nbpresent": {
     "id": "87231ff6-6874-40a5-8482-8641e9b87803"
    },
    "slideshow": {
     "slide_type": "subslide"
    }
   },
   "source": [
    "En $\\texttt{python}$  podemos asignar un valor único a varias variables simultáneamente."
   ]
  },
  {
   "cell_type": "code",
   "execution_count": 8,
   "metadata": {
    "nbpresent": {
     "id": "93298352-bf35-40bb-8f1d-31d875666490"
    },
    "slideshow": {
     "slide_type": "subslide"
    }
   },
   "outputs": [
    {
     "name": "stdout",
     "output_type": "stream",
     "text": [
      "1\n",
      "1\n",
      "1\n"
     ]
    }
   ],
   "source": [
    "A = b = c = 1\n",
    "print (A)\n",
    "print (b)\n",
    "print (c)"
   ]
  },
  {
   "cell_type": "markdown",
   "metadata": {
    "nbpresent": {
     "id": "d8ef7bec-df74-49d1-9218-621ee65c497b"
    },
    "slideshow": {
     "slide_type": "subslide"
    }
   },
   "source": [
    "En el ejemplo, se crea un objeto entero con el valor $1$, y las tres variables se asignan a la misma ubicación de memoria. \n",
    "\n",
    "También puede asignar varios objetos a varias variables."
   ]
  },
  {
   "cell_type": "code",
   "execution_count": 9,
   "metadata": {
    "nbpresent": {
     "id": "01b2e40b-9379-4b37-b1bf-452f2a05bb9e"
    },
    "slideshow": {
     "slide_type": "slide"
    }
   },
   "outputs": [
    {
     "name": "stdout",
     "output_type": "stream",
     "text": [
      "1\n",
      "2\n",
      "Ana\n"
     ]
    }
   ],
   "source": [
    "A, b, c = 1, 2, \"Alicia\"\n",
    "print (A)\n",
    "print (b)\n",
    "print (c)"
   ]
  },
  {
   "cell_type": "markdown",
   "metadata": {
    "nbpresent": {
     "id": "b1842b62-0194-4697-bf5f-0c88a90ce7ff"
    },
    "slideshow": {
     "slide_type": "subslide"
    }
   },
   "source": [
    "Aquí, dos objetos enteros con valores $1$ y $2$ se asignan a las variables $A$ y $b$ respectivamente, y un objeto de cadena con el valor **Alicia** se asigna a la variable $c$."
   ]
  },
  {
   "cell_type": "markdown",
   "metadata": {
    "nbpresent": {
     "id": "b588e33c-05f7-46ee-a31d-3777c9df8c90"
    },
    "slideshow": {
     "slide_type": "slide"
    }
   },
   "source": [
    "## Tipos de Datos Estándar"
   ]
  },
  {
   "cell_type": "markdown",
   "metadata": {
    "nbpresent": {
     "id": "07525231-9e17-4630-ba79-3452b9c9ff60"
    },
    "slideshow": {
     "slide_type": "subslide"
    }
   },
   "source": [
    "Los datos almacenados en la memoria pueden ser de varios tipos. Por ejemplo, la edad de una persona se almacena como un valor numérico y su dirección se almacena como caracteres alfanuméricos.\n",
    "\n",
    "En $\\texttt{python}$ se cuenta con varios tipos de datos estándar que se utilizan para definir las operaciones posibles entre ellos y el método de almacenamiento para cada uno de ellos.\n",
    "\n",
    "Los tipos de datos son cinco:\n",
    "- <font color=\"blue\"> Números</font>.\n",
    "- <font color=\"blue\"> Cadena</font>.\n",
    "- <font color=\"blue\"> Lista</font>.\n",
    "- <font color=\"blue\"> Tupla</font>.\n",
    "- <font color=\"blue\"> Diccionario</font>."
   ]
  },
  {
   "cell_type": "markdown",
   "metadata": {
    "nbpresent": {
     "id": "02590e95-9b4c-4ce0-a7b8-018313cf8f0f"
    },
    "slideshow": {
     "slide_type": "slide"
    }
   },
   "source": [
    "### Números "
   ]
  },
  {
   "cell_type": "markdown",
   "metadata": {
    "nbpresent": {
     "id": "b44de87a-1d8f-4dab-a32e-70c6f438ff95"
    },
    "slideshow": {
     "slide_type": "subslide"
    }
   },
   "source": [
    "Los tipos de datos numéricos almacenan valores numéricos. Los objetos numéricos se crean cuando se les asigna un valor."
   ]
  },
  {
   "cell_type": "code",
   "execution_count": 14,
   "metadata": {
    "nbpresent": {
     "id": "652f7cf2-9f86-4084-b2aa-6db9c5b98082"
    },
    "slideshow": {
     "slide_type": "subslide"
    }
   },
   "outputs": [
    {
     "name": "stdout",
     "output_type": "stream",
     "text": [
      "10\n",
      "10\n"
     ]
    }
   ],
   "source": [
    "Var1 = Var2 = 10\n",
    "print (Var1)\n",
    "print (Var2)"
   ]
  },
  {
   "cell_type": "markdown",
   "metadata": {
    "nbpresent": {
     "id": "46e3dff4-a13e-4eb5-a825-e23b34829f55"
    },
    "slideshow": {
     "slide_type": "subslide"
    }
   },
   "source": [
    "También se puede eliminar la referencia a un objeto numérico utilizando la sentencia <font color=\"blue\">$\\texttt{del}$</font>.\n",
    "\n",
    "La sintaxis de la sentencia del es:\n",
    "\n",
    "$del$  $var1 [, var2 [, var3 [...., varN]]]]$\n",
    "\n",
    "Se puede eliminar un solo objeto o varios objetos utilizando la sentencia $\\texttt{del}$\n",
    "\n",
    "Por ejemplo:\n",
    "\n",
    "$del$ $var$\n",
    "\n",
    "$del$ $variable1$, $variable2$"
   ]
  },
  {
   "cell_type": "markdown",
   "metadata": {
    "nbpresent": {
     "id": "7fb4362d-392c-4c79-94a8-2a5d6ed5594b"
    },
    "slideshow": {
     "slide_type": "subslide"
    }
   },
   "source": [
    "En $\\texttt{python}$ se soportan tres tipos numéricos diferentes:\n",
    "\n",
    "1. <font color=\"blue\">Int (enteros con signo)</font>\n",
    "2. <font color=\"blue\">Flotante (valores reales de punto flotante)</font>\n",
    "3. <font color=\"blue\">Complejos (números complejos)</font>\n",
    "\n",
    "Un número complejo consiste en un par ordenado de números reales de coma flotante denotados por\n",
    "$$x + yj$$\n",
    "donde $x$ e $y$ son números reales, $yj$ es la unidad imaginaria. Todos los enteros en $\\texttt{python 3}$ se representan como enteros largos. Por lo tanto, no hay ningún tipo de número por separado."
   ]
  },
  {
   "cell_type": "markdown",
   "metadata": {
    "nbpresent": {
     "id": "f0e14a60-a72c-4977-8604-3e1e158687d8"
    },
    "slideshow": {
     "slide_type": "subslide"
    }
   },
   "source": [
    "<table width=\"50%\" style=\"align:center\";>\n",
    "     <caption><span style=\"color:red\">Ejemplos de tipo de números</span></caption>\n",
    "  <tr>\n",
    "    <th>$\\texttt{int}$</th>\n",
    "    <th>$\\texttt{float}$</th>\n",
    "    <th>$\\texttt{complex}$</th>\n",
    "  </tr>\n",
    "  <tr>\n",
    "    <td>$\\texttt{10}$</td>\n",
    "    <td>$\\texttt{0.0}$</td>\n",
    "    <td>$\\texttt{3.14j}$</td>\n",
    "  </tr>\n",
    "  <tr>\n",
    "    <td>$\\texttt{100}$</td>\n",
    "    <td>$\\texttt{15.20}$</td>\n",
    "    <td>$\\texttt{45.j}$</td>\n",
    "  </tr>\n",
    "  <tr>\n",
    "    <td>$\\texttt{100}$</td>\n",
    "    <td>$\\texttt{15.20}$</td>\n",
    "    <td>$\\texttt{45.j}$</td>\n",
    "  </tr>\n",
    "  <tr>\n",
    "    <td>$\\texttt{080}$</td>\n",
    "    <td>$\\texttt{32.3+e18}$</td>\n",
    "    <td>$\\texttt{0.876j}$</td>\n",
    "  </tr>\n",
    "  <tr>\n",
    "    <td>$\\texttt{-0490}$</td>\n",
    "    <td>$\\texttt{-90.}$</td>\n",
    "    <td>$\\texttt{-.645+0j}$</td>\n",
    "  </tr>\n",
    "  <tr>\n",
    "    <td>$\\texttt{-0x260}$</td>\n",
    "    <td>$\\texttt{-32.54e100}$</td>\n",
    "    <td>$\\texttt{3e+26j}$</td>\n",
    "  </tr>\n",
    "  <tr>\n",
    "    <td>$\\texttt{0x69}$</td>\n",
    "    <td>$\\texttt{70.2-E12}$</td>\n",
    "    <td>$\\texttt{4.53e-7j}$</td>\n",
    "  </tr>\n",
    " </table>"
   ]
  },
  {
   "cell_type": "markdown",
   "metadata": {
    "nbpresent": {
     "id": "f2a9d3e1-553c-4936-a97e-0b4278270933"
    },
    "slideshow": {
     "slide_type": "slide"
    }
   },
   "source": [
    "### Cadenas "
   ]
  },
  {
   "cell_type": "markdown",
   "metadata": {
    "nbpresent": {
     "id": "df8d3b51-c9b6-45cc-a3ee-f6f7dfba14e6"
    },
    "slideshow": {
     "slide_type": "subslide"
    }
   },
   "source": [
    "Las cadenas en $\\texttt{python}$ se identifican como un conjunto contiguo de caracteres representados en las comillas. Con $\\texttt{python}$ se permite cualquier par de comillas simples o dobles.\n",
    "\n",
    "Los subconjuntos de cadenas pueden ser tomados usando el operador de corte ($[\\;]$ y $[:]$) con índices comenzando en $0$ al inicio de la cadena hasta llegar a $-1$ al final de la misma.\n",
    "\n",
    "El signo más ($+$) es el operador de concatenación de cadenas y el asterisco ($*$) es el operador de repetición."
   ]
  },
  {
   "cell_type": "code",
   "execution_count": 15,
   "metadata": {
    "nbpresent": {
     "id": "4b088bd0-9f41-4686-95f2-976dd0c13bf3"
    },
    "slideshow": {
     "slide_type": "subslide"
    }
   },
   "outputs": [
    {
     "name": "stdout",
     "output_type": "stream",
     "text": [
      "Hola Mundo!\n",
      "H\n",
      "la \n",
      "la Mundo!\n",
      "Hola Mundo!Hola Mundo!\n",
      "Hola Mundo!PUMAS\n"
     ]
    }
   ],
   "source": [
    "cadena = 'Hola Mundo!'\n",
    "\n",
    "print (cadena)          # Presenta la cadena completa\n",
    "print (cadena[0])       # Presenta el primer caracter de la cadena\n",
    "print (cadena[2:5])     # Presenta los caracteres de la 3a a la 5a posicion\n",
    "print (cadena[2:])      # Presenta la cadena que inicia a partir del 3er caracter\n",
    "print (cadena * 2)      # Presenta dos veces la cadena\n",
    "print (cadena + \"PUMAS\") # Presenta la cadena y concatena la segunda cadena"
   ]
  },
  {
   "cell_type": "markdown",
   "metadata": {
    "nbpresent": {
     "id": "121e400c-2fc9-47b5-983c-1b2e531d76f9"
    },
    "slideshow": {
     "slide_type": "slide"
    }
   },
   "source": [
    "### Listas"
   ]
  },
  {
   "cell_type": "markdown",
   "metadata": {
    "nbpresent": {
     "id": "7207adff-e0fe-4047-9896-ca1e31973fcf"
    },
    "slideshow": {
     "slide_type": "subslide"
    }
   },
   "source": [
    "Las listas es el tipo de dato más versátil de los tipos de datos compuestos de $\\texttt{python}$.\n",
    "\n",
    "Una lista contiene elementos separados por comas y entre corchetes ($[ \\; ]$). En cierta medida, las listas son similares a los arreglos (arrays) en el lenguaje C. Una de las diferencias entre ellos es que todos los elementos pertenecientes a una lista pueden ser de tipo de datos diferente.\n",
    "\n",
    "Los valores almacenados en una lista se pueden acceder utilizando el operador de división ($[ \\; ]$ y $[:]$) con índices que empiezan en $0$ al principio de la lista y opera hasta el final con $-1$.\n",
    "\n",
    "El signo más ($+$) es el operador de concatenación de lista y el asterisco ($*$) es el operador de repetición."
   ]
  },
  {
   "cell_type": "code",
   "execution_count": 17,
   "metadata": {
    "nbpresent": {
     "id": "1e6086e6-a72f-49b8-95de-24f33415cadc"
    },
    "slideshow": {
     "slide_type": "subslide"
    }
   },
   "outputs": [
    {
     "name": "stdout",
     "output_type": "stream",
     "text": [
      "['abcd', 786, 2.23, 'salmon', 70.2]\n",
      "abcd\n",
      "[786, 2.23]\n",
      "[2.23, 'salmon', 70.2]\n",
      "[123, 'pizza', 123, 'pizza']\n",
      "['abcd', 786, 2.23, 'salmon', 70.2, 123, 'pizza']\n"
     ]
    }
   ],
   "source": [
    "milista = [ 'abcd', 786 , 2.23, 'salmon', 70.2 ]\n",
    "listabreve = [123, 'pizza']\n",
    "\n",
    "print (milista)              # Presenta la lista completa\n",
    "print (milista[0])          # Presenta el primer elemento de la lista\n",
    "print (milista[1:3])        # Presenta los elementos a partir de la 2a posiciona hasta la 3a\n",
    "print (milista[2:])          # Presenta los elementos a partir del 3er elemento\n",
    "print (listabreve * 2)       # Presenta dos veces la lista\n",
    "print (milista + listabreve) # Presenta la lista concatenada con la segunda lista"
   ]
  },
  {
   "cell_type": "markdown",
   "metadata": {
    "nbpresent": {
     "id": "aa2405a5-0e50-417c-8672-a0e302be551d"
    },
    "slideshow": {
     "slide_type": "slide"
    }
   },
   "source": [
    "### Tuplas "
   ]
  },
  {
   "cell_type": "markdown",
   "metadata": {
    "nbpresent": {
     "id": "46065afd-f1f9-4f15-9f2e-89946aa9e40a"
    },
    "slideshow": {
     "slide_type": "subslide"
    }
   },
   "source": [
    "Una tupla es otro tipo de datos de secuencia que es similar a la lista.\n",
    "\n",
    "Una tupla consiste en un número de valores separados por comas. Sin embargo, a diferencia de las listas, las tuplas se incluyen entre paréntesis.\n",
    "\n",
    "La principal diferencia entre las listas y las tuplas son:\n",
    "1. Las listas están entre corchetes $[\\;]$ y sus elementos y tamaño pueden cambiarse.\n",
    "2. Las tuplas están entre paréntesis $(\\;)$ y <u>no se pueden actualizar</u>.\n",
    "\n",
    "Las tuplas pueden ser consideradas como listas de sólo lectura."
   ]
  },
  {
   "cell_type": "code",
   "execution_count": 18,
   "metadata": {
    "nbpresent": {
     "id": "e69011e3-5830-42d8-bb6b-30326b59e3ac"
    },
    "slideshow": {
     "slide_type": "subslide"
    }
   },
   "outputs": [
    {
     "name": "stdout",
     "output_type": "stream",
     "text": [
      "('abcd', 786, 2.23, 'arena', 70.2)\n",
      "abcd\n",
      "(786, 2.23)\n",
      "(2.23, 'arena', 70.2)\n",
      "(123, 'playa', 123, 'playa')\n",
      "('abcd', 786, 2.23, 'arena', 70.2, 123, 'playa')\n"
     ]
    }
   ],
   "source": [
    "mitupla = ( 'abcd', 786 , 2.23, 'arena', 70.2  )\n",
    "tuplabreve = (123, 'playa')\n",
    "\n",
    "print (mitupla)                # Presenta la tupla completa\n",
    "print (mitupla[0])             # Presenta el primer elemento de la tupla\n",
    "print (mitupla[1:3])           # Presenta los elementos a partir del 2o elemento hasta la 3o\n",
    "print (mitupla[2:])            # Presenta los elementos a partir del 3er elemento\n",
    "print (tuplabreve * 2)         # Presenta dos veces la tupla\n",
    "print (mitupla + tuplabreve)   # Preseta la tupla concatenada con la otra tupla"
   ]
  },
  {
   "cell_type": "markdown",
   "metadata": {
    "nbpresent": {
     "id": "f919c697-adcb-4d00-92d3-0fd5359ae239"
    },
    "slideshow": {
     "slide_type": "slide"
    }
   },
   "source": [
    "El siguiente código es inválido con la tupla, porque intentamos actualizar una tupla, que la acción no está permitida. El caso es similar con las listas."
   ]
  },
  {
   "cell_type": "code",
   "execution_count": 19,
   "metadata": {
    "nbpresent": {
     "id": "21b652b5-a2e1-4f41-9165-047d4e27f76e"
    },
    "slideshow": {
     "slide_type": "subslide"
    }
   },
   "outputs": [
    {
     "ename": "TypeError",
     "evalue": "'tuple' object does not support item assignment",
     "output_type": "error",
     "traceback": [
      "\u001b[0;31m---------------------------------------------------------------------------\u001b[0m",
      "\u001b[0;31mTypeError\u001b[0m                                 Traceback (most recent call last)",
      "\u001b[0;32m<ipython-input-19-a99f473d7b8f>\u001b[0m in \u001b[0;36m<module>\u001b[0;34m()\u001b[0m\n\u001b[1;32m      1\u001b[0m \u001b[0mmitupla\u001b[0m \u001b[1;33m=\u001b[0m \u001b[1;33m(\u001b[0m \u001b[1;34m'abcd'\u001b[0m\u001b[1;33m,\u001b[0m \u001b[1;36m786\u001b[0m \u001b[1;33m,\u001b[0m \u001b[1;36m2.23\u001b[0m\u001b[1;33m,\u001b[0m \u001b[1;34m'edificio'\u001b[0m\u001b[1;33m,\u001b[0m \u001b[1;36m70.2\u001b[0m  \u001b[1;33m)\u001b[0m\u001b[1;33m\u001b[0m\u001b[0m\n\u001b[1;32m      2\u001b[0m \u001b[0mmilista\u001b[0m \u001b[1;33m=\u001b[0m \u001b[1;33m[\u001b[0m \u001b[1;34m'abcd'\u001b[0m\u001b[1;33m,\u001b[0m \u001b[1;36m786\u001b[0m \u001b[1;33m,\u001b[0m \u001b[1;36m2.23\u001b[0m\u001b[1;33m,\u001b[0m \u001b[1;34m'energia'\u001b[0m\u001b[1;33m,\u001b[0m \u001b[1;36m70.2\u001b[0m  \u001b[1;33m]\u001b[0m\u001b[1;33m\u001b[0m\u001b[0m\n\u001b[0;32m----> 3\u001b[0;31m \u001b[0mmitupla\u001b[0m\u001b[1;33m[\u001b[0m\u001b[1;36m2\u001b[0m\u001b[1;33m]\u001b[0m \u001b[1;33m=\u001b[0m \u001b[1;36m1000\u001b[0m    \u001b[1;31m# Sintaxis invalida para la tupla\u001b[0m\u001b[1;33m\u001b[0m\u001b[0m\n\u001b[0m\u001b[1;32m      4\u001b[0m \u001b[0mmilista\u001b[0m\u001b[1;33m[\u001b[0m\u001b[1;36m2\u001b[0m\u001b[1;33m]\u001b[0m \u001b[1;33m=\u001b[0m \u001b[1;36m1000\u001b[0m     \u001b[1;31m# Sintaxis invalida para la lista\u001b[0m\u001b[1;33m\u001b[0m\u001b[0m\n",
      "\u001b[0;31mTypeError\u001b[0m: 'tuple' object does not support item assignment"
     ]
    }
   ],
   "source": [
    "mitupla = ( 'abcd', 786 , 2.23, 'edificio', 70.2  )\n",
    "milista = [ 'abcd', 786 , 2.23, 'energia', 70.2  ]\n",
    "mitupla[2] = 1000    # Sintaxis invalida para la tupla\n",
    "milista[2] = 1000     # Sintaxis invalida para la lista"
   ]
  },
  {
   "cell_type": "markdown",
   "metadata": {
    "nbpresent": {
     "id": "035f19d3-b13e-4e95-a23c-01e861d12175"
    },
    "slideshow": {
     "slide_type": "subslide"
    }
   },
   "source": [
    "Pero en la lista podemos agregar nuevos elementos que se colocan al final de la misma:"
   ]
  },
  {
   "cell_type": "code",
   "execution_count": 21,
   "metadata": {
    "nbpresent": {
     "id": "d2fb4f6e-1bd2-435f-9751-f3f3a6d9a83b"
    },
    "slideshow": {
     "slide_type": "subslide"
    }
   },
   "outputs": [
    {
     "name": "stdout",
     "output_type": "stream",
     "text": [
      "['abcd', 786, 2.23, 'energia', 70.2]\n",
      "['abcd', 786, 2.23, 'energia', 70.2, 'hola']\n"
     ]
    }
   ],
   "source": [
    "print(milista)\n",
    "milista.append('hola')\n",
    "print(milista)"
   ]
  },
  {
   "cell_type": "markdown",
   "metadata": {
    "nbpresent": {
     "id": "a9ac804d-25f1-423f-9393-f24cb6be5b7b"
    },
    "slideshow": {
     "slide_type": "slide"
    }
   },
   "source": [
    "### Diccionarios"
   ]
  },
  {
   "cell_type": "markdown",
   "metadata": {
    "nbpresent": {
     "id": "ce53a309-84e4-42d4-b712-d178d7360e33"
    },
    "slideshow": {
     "slide_type": "subslide"
    }
   },
   "source": [
    "Los diccionarios de $\\texttt{python}$ son de tipo tabla-hash.\n",
    "\n",
    "Funcionan como arrays asociativos y consisten en pares *clave-valor*.\n",
    "\n",
    "Una clave de diccionario puede ser casi cualquier tipo de $\\texttt{python}$, pero suelen ser números o cadenas. Los valores, por otra parte, pueden ser cualquier objeto arbitrario de $\\texttt{python}$.\n",
    "\n",
    "Los diccionarios están encerrados por llaves $\\{ \\; \\}$ y los valores se pueden asignar y acceder mediante llaves cuadradas $[ \\; ]$."
   ]
  },
  {
   "cell_type": "code",
   "execution_count": 30,
   "metadata": {
    "nbpresent": {
     "id": "9832c6f1-533d-4ac1-84a0-f3c77927e064"
    },
    "slideshow": {
     "slide_type": "subslide"
    }
   },
   "outputs": [
    {
     "name": "stdout",
     "output_type": "stream",
     "text": [
      "{1: 'Eistein', 2: 'Bohr', 3: 'Pauli', 4: 'Schrodinger', 5: 'Hawking'}\n",
      "dict_keys([1, 2, 3, 4, 5])\n",
      "dict_values(['Eistein', 'Bohr', 'Pauli', 'Schrodinger', 'Hawking'])\n",
      "{1: 'Eistein', 2: 'Bohr', 3: 'Pauli', 4: 'Schrodinger', 5: 'Hawking', '6': 'Planck'}\n"
     ]
    }
   ],
   "source": [
    "fisicos = dict()\n",
    "\n",
    "fisicos ={\n",
    "    1 : \"Eistein\",\n",
    "    2 : \"Bohr\",\n",
    "    3 : \"Pauli\",\n",
    "    4 : \"Schrodinger\",\n",
    "    5 : \"Hawking\"\n",
    "}\n",
    "\n",
    "print(fisicos)\n",
    "print (fisicos.keys())\n",
    "print (fisicos.values())\n",
    "fisicos[\"6\"] = \"Planck\"    #agrega un nuevo elemento al diccionario, tanto su clave como valor\n",
    "print(fisicos)"
   ]
  },
  {
   "cell_type": "markdown",
   "metadata": {
    "nbpresent": {
     "id": "fca290d0-0ddb-4d58-90f3-9f3d00f576e5"
    },
    "slideshow": {
     "slide_type": "slide"
    }
   },
   "source": [
    "## Regla para los identificadores"
   ]
  },
  {
   "cell_type": "markdown",
   "metadata": {
    "nbpresent": {
     "id": "87ae1d44-c146-4e61-92e6-464e068e3afd"
    },
    "slideshow": {
     "slide_type": "subslide"
    }
   },
   "source": [
    "Los identificadores son nombres que hacen referencia a los objetos que componen un programa: **constantes**, **variables**, **funciones**, etc.\n",
    "\n",
    "Reglas para construir identificadores:\n",
    "- El primer carácter debe ser una letra o el carácter de subrayado (guión bajo)\n",
    "- El primer carácter puede ir seguido de un número variable de dígitos numéricos, letras o carácteres de subrayado.\n",
    "- No pueden utilizarse espacios en blanco, ni símbolos de puntuación.\n",
    "- En $\\texttt{python}$ se distingue  de las mayúsculas y minúsculas.\n",
    "- No pueden utilizarse palabras reservadas del lenguaje."
   ]
  },
  {
   "cell_type": "markdown",
   "metadata": {
    "nbpresent": {
     "id": "c5a10e82-43e4-4a1b-866e-d88ba5191f17"
    },
    "slideshow": {
     "slide_type": "subslide"
    }
   },
   "source": [
    "<table>\n",
    "<caption><span style=\"color:red\">Lista de palabras reservadas en $\\texttt{python}$</span></caption>\n",
    "<tr>\n",
    "  <td>$\\texttt{del}$</td>\n",
    "  <td>$\\texttt{for}$</td>\n",
    "  <td>$\\texttt{is}$</td>\n",
    "  <td>$\\texttt{raise}$</td>\n",
    "  <td>$\\texttt{assert}$</td>\n",
    "  <td>$\\texttt{elif}$</td>\n",
    "</tr>\n",
    "<tr>\n",
    "  <td>$\\texttt{from}$</td>\n",
    "  <td>$\\texttt{lamda}$</td>\n",
    "  <td>$\\texttt{return}$</td>\n",
    "  <td>$\\texttt{break}$</td>\n",
    "  <td>$\\texttt{else}$</td>\n",
    "  <td>$\\texttt{global}$</td>\n",
    "</tr>\n",
    "<tr>\n",
    "  <td>$\\texttt{not}$</td>\n",
    "  <td>$\\texttt{try}$</td>\n",
    "  <td>$\\texttt{class}$</td>\n",
    "  <td>$\\texttt{except}$</td>\n",
    "  <td>$\\texttt{if}$</td>\n",
    "  <td>$\\texttt{or}$</td>\n",
    "</tr>\n",
    "<tr>\n",
    "  <td>$\\texttt{while}$</td>\n",
    "  <td>$\\texttt{continue}$</td>\n",
    "  <td>$\\texttt{exec}$</td>\n",
    "  <td>$\\texttt{import}$</td>\n",
    "  <td>$\\texttt{pass}$</td>\n",
    "  <td>$\\texttt{yield}$</td>\n",
    "</tr>\n",
    "<tr>\n",
    "  <td>$\\texttt{def}$</td>\n",
    "  <td>$\\texttt{finally}$</td>\n",
    "  <td>$\\texttt{in}$</td>\n",
    "  <td>$\\texttt{print}$</td>\n",
    "  <td>$\\texttt{del}$</td>\n",
    "  <td>$\\texttt{system}$</td>\n",
    "</tr>\n",
    "</table>"
   ]
  },
  {
   "cell_type": "code",
   "execution_count": null,
   "metadata": {
    "collapsed": true,
    "nbpresent": {
     "id": "a752a4c7-908b-4ccb-acc4-c7acb688f608"
    }
   },
   "outputs": [],
   "source": []
  }
 ],
 "metadata": {
  "anaconda-cloud": {},
  "celltoolbar": "Slideshow",
  "kernelspec": {
   "display_name": "Python [default]",
   "language": "python",
   "name": "python3"
  },
  "language_info": {
   "codemirror_mode": {
    "name": "ipython",
    "version": 3
   },
   "file_extension": ".py",
   "mimetype": "text/x-python",
   "name": "python",
   "nbconvert_exporter": "python",
   "pygments_lexer": "ipython3",
   "version": "3.5.4"
  },
  "nbpresent": {
   "slides": {
    "00857d92-c569-4e13-bda1-1ee0cf1780af": {
     "id": "00857d92-c569-4e13-bda1-1ee0cf1780af",
     "prev": "9aea5789-49ad-45e3-b94c-9929bf4fc3ac",
     "regions": {
      "2c6a91bd-5ca1-42d1-a6b0-5b166c4f91c8": {
       "attrs": {
        "height": 0.8,
        "width": 0.8,
        "x": 0.1,
        "y": 0.1
       },
       "content": {
        "cell": "c5a10e82-43e4-4a1b-866e-d88ba5191f17",
        "part": "whole"
       },
       "id": "2c6a91bd-5ca1-42d1-a6b0-5b166c4f91c8"
      },
      "a443b73f-f2ef-418a-9547-10549ef5cd3d": {
       "attrs": {
        "height": 0.4,
        "width": 0.8,
        "x": 0.1,
        "y": 0.5
       },
       "content": {
        "cell": "a752a4c7-908b-4ccb-acc4-c7acb688f608",
        "part": "whole"
       },
       "id": "a443b73f-f2ef-418a-9547-10549ef5cd3d"
      }
     }
    },
    "01a42742-47f7-4336-a91f-f7f3c6376827": {
     "id": "01a42742-47f7-4336-a91f-f7f3c6376827",
     "prev": "2ea5e27a-0431-4e89-9a8e-712ef39f185d",
     "regions": {
      "510a1396-bc3b-4aa9-ba7c-b51043bb04df": {
       "attrs": {
        "height": 0.8,
        "width": 0.8,
        "x": 0.1,
        "y": 0.1
       },
       "content": {
        "cell": "f0e14a60-a72c-4977-8604-3e1e158687d8",
        "part": "whole"
       },
       "id": "510a1396-bc3b-4aa9-ba7c-b51043bb04df"
      }
     }
    },
    "049f39c1-7938-4a28-b1ba-e1062c210b5d": {
     "id": "049f39c1-7938-4a28-b1ba-e1062c210b5d",
     "prev": "772054b2-7f47-4e5a-b249-9e49f9f425b6",
     "regions": {
      "10564dfe-9101-4af8-af3b-89e373723bf4": {
       "attrs": {
        "height": 0.8,
        "width": 0.8,
        "x": 0.1,
        "y": 0.1
       },
       "content": {
        "cell": "aa2405a5-0e50-417c-8672-a0e302be551d",
        "part": "whole"
       },
       "id": "10564dfe-9101-4af8-af3b-89e373723bf4"
      }
     }
    },
    "07abcb63-81eb-478d-8f03-029ff02dfa39": {
     "id": "07abcb63-81eb-478d-8f03-029ff02dfa39",
     "prev": "2ff7747d-db5b-443d-9274-2ebdc61fe59e",
     "regions": {
      "029bf8f4-4bcd-41fb-b930-4b5f6155e3b7": {
       "attrs": {
        "height": 0.8,
        "width": 0.8,
        "x": 0.1,
        "y": 0.1
       },
       "content": {
        "cell": "54fa3e78-7ffa-404e-90fd-889d813239af",
        "part": "whole"
       },
       "id": "029bf8f4-4bcd-41fb-b930-4b5f6155e3b7"
      }
     }
    },
    "07bfe323-9f51-4de2-acac-a82cce867dc5": {
     "id": "07bfe323-9f51-4de2-acac-a82cce867dc5",
     "prev": "7ab1c406-1064-45fd-a984-5ca267123d63",
     "regions": {
      "1697674b-9b50-4fbf-a0ae-3d4a767a9439": {
       "attrs": {
        "height": 0.8,
        "width": 0.8,
        "x": 0.1,
        "y": 0.1
       },
       "content": {
        "cell": "3b66d7ad-496a-4943-baac-1d4d9f8f578f",
        "part": "whole"
       },
       "id": "1697674b-9b50-4fbf-a0ae-3d4a767a9439"
      }
     }
    },
    "0b678f66-68c1-4f8d-9641-3e945f7b94f2": {
     "id": "0b678f66-68c1-4f8d-9641-3e945f7b94f2",
     "prev": "702697df-f653-4bec-8332-4af4388d9385",
     "regions": {
      "1295ba1e-1448-4558-a080-c97ee42335b1": {
       "attrs": {
        "height": 0.8,
        "width": 0.8,
        "x": 0.1,
        "y": 0.1
       },
       "content": {
        "cell": "d8b5640e-b241-4fb4-8c89-541b1767882c",
        "part": "whole"
       },
       "id": "1295ba1e-1448-4558-a080-c97ee42335b1"
      }
     }
    },
    "0c85dcc1-4d66-4b86-8747-8300159b2858": {
     "id": "0c85dcc1-4d66-4b86-8747-8300159b2858",
     "prev": "3a4ccb9a-a248-4df0-a5d9-a2021aadbc92",
     "regions": {
      "37c1fd33-621b-4ed7-9565-471ae3a53a1a": {
       "attrs": {
        "height": 0.8,
        "width": 0.8,
        "x": 0.1,
        "y": 0.1
       },
       "content": {
        "cell": "7c265451-6189-4786-8c12-fda5d9161910",
        "part": "whole"
       },
       "id": "37c1fd33-621b-4ed7-9565-471ae3a53a1a"
      }
     }
    },
    "0c893371-b763-4357-939c-f639aed94ab0": {
     "id": "0c893371-b763-4357-939c-f639aed94ab0",
     "prev": "c384f36a-701d-4b8b-bec2-845ee5d1552d",
     "regions": {
      "4cf08e7b-6eab-4833-a362-b1a6b5ca784b": {
       "attrs": {
        "height": 0.8,
        "width": 0.8,
        "x": 0.1,
        "y": 0.1
       },
       "content": {
        "cell": "245b8ec5-9362-4ab5-949d-14ce0859ac46",
        "part": "whole"
       },
       "id": "4cf08e7b-6eab-4833-a362-b1a6b5ca784b"
      }
     }
    },
    "108d68ad-23b9-4eb8-bc1a-087142f7a045": {
     "id": "108d68ad-23b9-4eb8-bc1a-087142f7a045",
     "prev": "0b678f66-68c1-4f8d-9641-3e945f7b94f2",
     "regions": {
      "1e77b80b-b90e-42fa-a237-d7cf041732e3": {
       "attrs": {
        "height": 0.8,
        "width": 0.8,
        "x": 0.1,
        "y": 0.1
       },
       "content": {
        "cell": "b49e321f-50e0-4318-8103-11d5183a4d25",
        "part": "whole"
       },
       "id": "1e77b80b-b90e-42fa-a237-d7cf041732e3"
      }
     }
    },
    "112c88ba-1433-44b1-89c9-225933c76f89": {
     "id": "112c88ba-1433-44b1-89c9-225933c76f89",
     "prev": "cb8d4904-6007-4cc5-be55-7805c26b053e",
     "regions": {
      "a54c4cb5-4d31-4007-aa10-2a7c19c9c2cc": {
       "attrs": {
        "height": 0.8,
        "width": 0.8,
        "x": 0.1,
        "y": 0.1
       },
       "content": {
        "cell": "936a8e66-97ea-4a56-82be-e71955fea01f",
        "part": "whole"
       },
       "id": "a54c4cb5-4d31-4007-aa10-2a7c19c9c2cc"
      }
     }
    },
    "118b367a-d0c0-4625-bb00-d5a61b4e9668": {
     "id": "118b367a-d0c0-4625-bb00-d5a61b4e9668",
     "prev": "833b8ae8-699c-4a55-b7c7-e78efbdc7dc0",
     "regions": {
      "f0cdf6f3-ec02-446f-957e-7abc815c47b8": {
       "attrs": {
        "height": 0.8,
        "width": 0.8,
        "x": 0.1,
        "y": 0.1
       },
       "content": {
        "cell": "df8d3b51-c9b6-45cc-a3ee-f6f7dfba14e6",
        "part": "whole"
       },
       "id": "f0cdf6f3-ec02-446f-957e-7abc815c47b8"
      }
     }
    },
    "149f0ff3-ccc4-4c66-af76-56c4446d281a": {
     "id": "149f0ff3-ccc4-4c66-af76-56c4446d281a",
     "prev": "da108a19-ccc4-47c9-bcf4-9a5d8a6bb2e1",
     "regions": {
      "9c686557-5823-4589-bc16-a7939d129c52": {
       "attrs": {
        "height": 0.8,
        "width": 0.8,
        "x": 0.1,
        "y": 0.1
       },
       "content": {
        "cell": "e7067ceb-239a-4802-b405-8935583300c8",
        "part": "whole"
       },
       "id": "9c686557-5823-4589-bc16-a7939d129c52"
      }
     }
    },
    "14bf6f10-f257-4e6c-96d7-bb4ee3a31bbd": {
     "id": "14bf6f10-f257-4e6c-96d7-bb4ee3a31bbd",
     "prev": "f7d97ac5-09d8-4732-bb2a-694d5305788b",
     "regions": {
      "b4db9222-23f3-46b2-8224-13fe35e3c0a0": {
       "attrs": {
        "height": 0.8,
        "width": 0.8,
        "x": 0.1,
        "y": 0.1
       },
       "content": {
        "cell": "73f94020-c1d8-4814-aea5-addcc9019e7b",
        "part": "whole"
       },
       "id": "b4db9222-23f3-46b2-8224-13fe35e3c0a0"
      }
     }
    },
    "1600138b-e441-4b53-b9f8-957e1276ec18": {
     "id": "1600138b-e441-4b53-b9f8-957e1276ec18",
     "prev": "d8b3a98e-eb86-499f-9818-6a062698576d",
     "regions": {
      "903f6a96-6850-42a5-95b1-190993cf3547": {
       "attrs": {
        "height": 0.8,
        "width": 0.8,
        "x": 0.1,
        "y": 0.1
       },
       "content": {
        "cell": "87231ff6-6874-40a5-8482-8641e9b87803",
        "part": "whole"
       },
       "id": "903f6a96-6850-42a5-95b1-190993cf3547"
      }
     }
    },
    "1827e738-ebf0-4644-83ef-6ba97ae1c416": {
     "id": "1827e738-ebf0-4644-83ef-6ba97ae1c416",
     "prev": "1bfb9029-16cf-4621-8e78-1078234c839f",
     "regions": {
      "91b62897-4d05-4e9c-93c4-1bb104ed0edf": {
       "attrs": {
        "height": 0.8,
        "width": 0.8,
        "x": 0.1,
        "y": 0.1
       },
       "content": {
        "cell": "d2fb4f6e-1bd2-435f-9751-f3f3a6d9a83b",
        "part": "whole"
       },
       "id": "91b62897-4d05-4e9c-93c4-1bb104ed0edf"
      }
     }
    },
    "1bfb9029-16cf-4621-8e78-1078234c839f": {
     "id": "1bfb9029-16cf-4621-8e78-1078234c839f",
     "prev": "f783ce78-d7c3-4c29-95f8-24d6de53c5a6",
     "regions": {
      "9743dd40-302d-46ef-b01d-7880ddf9f0c9": {
       "attrs": {
        "height": 0.8,
        "width": 0.8,
        "x": 0.1,
        "y": 0.1
       },
       "content": {
        "cell": "035f19d3-b13e-4e95-a23c-01e861d12175",
        "part": "whole"
       },
       "id": "9743dd40-302d-46ef-b01d-7880ddf9f0c9"
      }
     }
    },
    "26ab21ee-a26a-4db1-914c-9790eb1f062e": {
     "id": "26ab21ee-a26a-4db1-914c-9790eb1f062e",
     "prev": "7f118532-e2a4-4fc9-8b71-7c9637f47dcd",
     "regions": {
      "ea5b5472-470d-401f-b0c5-2adfb6770d45": {
       "attrs": {
        "height": 0.8,
        "width": 0.8,
        "x": 0.1,
        "y": 0.1
       },
       "content": {
        "cell": "1fb4daeb-e8fe-4f04-bdda-554be277be83",
        "part": "whole"
       },
       "id": "ea5b5472-470d-401f-b0c5-2adfb6770d45"
      }
     }
    },
    "26f5ed4f-467e-4ea1-9a07-599057f0485a": {
     "id": "26f5ed4f-467e-4ea1-9a07-599057f0485a",
     "prev": "5f290287-ca66-444e-94cc-2b0621528317",
     "regions": {
      "7fc43937-86f8-490f-a24f-3320825d0404": {
       "attrs": {
        "height": 0.8,
        "width": 0.8,
        "x": 0.1,
        "y": 0.1
       },
       "content": {
        "cell": "c3d8bd57-b4b5-40a5-a787-70b391c993dd",
        "part": "whole"
       },
       "id": "7fc43937-86f8-490f-a24f-3320825d0404"
      }
     }
    },
    "281793e4-b10b-4a61-be6a-24c46e8aac61": {
     "id": "281793e4-b10b-4a61-be6a-24c46e8aac61",
     "prev": "ee342c68-a87e-4061-bae2-c4a69363b7b9",
     "regions": {
      "d246f328-0f38-4ba6-aca4-474be713bf79": {
       "attrs": {
        "height": 0.8,
        "width": 0.8,
        "x": 0.1,
        "y": 0.1
       },
       "content": {
        "cell": "fca290d0-0ddb-4d58-90f3-9f3d00f576e5",
        "part": "whole"
       },
       "id": "d246f328-0f38-4ba6-aca4-474be713bf79"
      }
     }
    },
    "2e7874f3-a1cb-4871-996a-69dc475180fd": {
     "id": "2e7874f3-a1cb-4871-996a-69dc475180fd",
     "prev": "46349dfe-8723-4ed7-bfa0-6654d8c22c7a",
     "regions": {
      "a8872d0b-b9bd-41b4-942b-f57299f19842": {
       "attrs": {
        "height": 0.8,
        "width": 0.8,
        "x": 0.1,
        "y": 0.1
       },
       "content": {
        "cell": "d8ef7bec-df74-49d1-9218-621ee65c497b",
        "part": "whole"
       },
       "id": "a8872d0b-b9bd-41b4-942b-f57299f19842"
      }
     }
    },
    "2ea5e27a-0431-4e89-9a8e-712ef39f185d": {
     "id": "2ea5e27a-0431-4e89-9a8e-712ef39f185d",
     "prev": "2f484523-d8d9-4e88-bc71-b3a8b9695d4d",
     "regions": {
      "92081bed-0b29-4556-9e91-ac8532a90144": {
       "attrs": {
        "height": 0.8,
        "width": 0.8,
        "x": 0.1,
        "y": 0.1
       },
       "content": {
        "cell": "7fb4362d-392c-4c79-94a8-2a5d6ed5594b",
        "part": "whole"
       },
       "id": "92081bed-0b29-4556-9e91-ac8532a90144"
      }
     }
    },
    "2f484523-d8d9-4e88-bc71-b3a8b9695d4d": {
     "id": "2f484523-d8d9-4e88-bc71-b3a8b9695d4d",
     "prev": "360942f1-819b-4f9a-9337-86ca2403d0d4",
     "regions": {
      "20385597-1149-4ade-991d-548cfea1fc0a": {
       "attrs": {
        "height": 0.8,
        "width": 0.8,
        "x": 0.1,
        "y": 0.1
       },
       "content": {
        "cell": "46e3dff4-a13e-4eb5-a825-e23b34829f55",
        "part": "whole"
       },
       "id": "20385597-1149-4ade-991d-548cfea1fc0a"
      }
     }
    },
    "2ff7747d-db5b-443d-9274-2ebdc61fe59e": {
     "id": "2ff7747d-db5b-443d-9274-2ebdc61fe59e",
     "prev": "56261e67-d22c-4db3-9c86-afd909f697da",
     "regions": {
      "fb8fc2a0-7c54-45e4-bae8-9377baa89397": {
       "attrs": {
        "height": 0.8,
        "width": 0.8,
        "x": 0.1,
        "y": 0.1
       },
       "content": {
        "cell": "1ae3c0a4-fb1d-4830-ab11-33a8552c8058",
        "part": "whole"
       },
       "id": "fb8fc2a0-7c54-45e4-bae8-9377baa89397"
      }
     }
    },
    "322a5809-15c5-4b2c-85bf-9e6e1db233ed": {
     "id": "322a5809-15c5-4b2c-85bf-9e6e1db233ed",
     "prev": "6042d935-bb77-4a37-a648-489bf0eca2fa",
     "regions": {
      "ba319772-f2f2-482c-b2a1-fa8e116a6585": {
       "attrs": {
        "height": 0.8,
        "width": 0.8,
        "x": 0.1,
        "y": 0.1
       },
       "content": {
        "cell": "07525231-9e17-4630-ba79-3452b9c9ff60",
        "part": "whole"
       },
       "id": "ba319772-f2f2-482c-b2a1-fa8e116a6585"
      }
     }
    },
    "360942f1-819b-4f9a-9337-86ca2403d0d4": {
     "id": "360942f1-819b-4f9a-9337-86ca2403d0d4",
     "prev": "da31b7d4-45ce-4b79-9c0d-f10f67a8dc5e",
     "regions": {
      "a10192f9-ed60-4d67-b36d-84ee74ac3367": {
       "attrs": {
        "height": 0.8,
        "width": 0.8,
        "x": 0.1,
        "y": 0.1
       },
       "content": {
        "cell": "652f7cf2-9f86-4084-b2aa-6db9c5b98082",
        "part": "whole"
       },
       "id": "a10192f9-ed60-4d67-b36d-84ee74ac3367"
      }
     }
    },
    "3a4ccb9a-a248-4df0-a5d9-a2021aadbc92": {
     "id": "3a4ccb9a-a248-4df0-a5d9-a2021aadbc92",
     "prev": "7389b383-5eeb-47c1-a8d7-78aeaba34ca5",
     "regions": {
      "780dc0cc-f206-4179-83e7-1db503df5ab1": {
       "attrs": {
        "height": 0.8,
        "width": 0.8,
        "x": 0.1,
        "y": 0.1
       },
       "content": {
        "cell": "e11bfa1c-815b-4273-8ddd-d2e5f263f74f",
        "part": "whole"
       },
       "id": "780dc0cc-f206-4179-83e7-1db503df5ab1"
      }
     }
    },
    "3ed3c873-fe0b-42c4-86af-5fac26f28b54": {
     "id": "3ed3c873-fe0b-42c4-86af-5fac26f28b54",
     "prev": "0c85dcc1-4d66-4b86-8747-8300159b2858",
     "regions": {
      "9e5f1823-048b-4713-8905-6724acbdbdfc": {
       "attrs": {
        "height": 0.8,
        "width": 0.8,
        "x": 0.1,
        "y": 0.1
       },
       "content": {
        "cell": "35651ab7-0f28-4b9b-9a34-48f88889cd15",
        "part": "whole"
       },
       "id": "9e5f1823-048b-4713-8905-6724acbdbdfc"
      }
     }
    },
    "42570ea8-6276-4eb4-a3ed-1348bb14eea6": {
     "id": "42570ea8-6276-4eb4-a3ed-1348bb14eea6",
     "prev": "07abcb63-81eb-478d-8f03-029ff02dfa39",
     "regions": {
      "d518ec3b-76c2-4cb9-9d49-48bbacae972d": {
       "attrs": {
        "height": 0.8,
        "width": 0.8,
        "x": 0.1,
        "y": 0.1
       },
       "content": {
        "cell": "fc165593-4946-4ec6-8950-33ba86ef2680",
        "part": "whole"
       },
       "id": "d518ec3b-76c2-4cb9-9d49-48bbacae972d"
      }
     }
    },
    "42b6978b-d9fa-4550-a72f-5e2c0b465c3a": {
     "id": "42b6978b-d9fa-4550-a72f-5e2c0b465c3a",
     "prev": "d95507f7-fec6-4d91-95ef-829a139d1da0",
     "regions": {
      "3a61cc6e-d55b-47f4-a767-86be8d6c3b8e": {
       "attrs": {
        "height": 0.8,
        "width": 0.8,
        "x": 0.1,
        "y": 0.1
       },
       "content": {
        "cell": "6a86c942-e694-428c-ae2a-8cb4f833537e",
        "part": "whole"
       },
       "id": "3a61cc6e-d55b-47f4-a767-86be8d6c3b8e"
      }
     }
    },
    "46349dfe-8723-4ed7-bfa0-6654d8c22c7a": {
     "id": "46349dfe-8723-4ed7-bfa0-6654d8c22c7a",
     "prev": "1600138b-e441-4b53-b9f8-957e1276ec18",
     "regions": {
      "f37d86a3-e62f-43ba-8966-7db65d2364c5": {
       "attrs": {
        "height": 0.8,
        "width": 0.8,
        "x": 0.1,
        "y": 0.1
       },
       "content": {
        "cell": "93298352-bf35-40bb-8f1d-31d875666490",
        "part": "whole"
       },
       "id": "f37d86a3-e62f-43ba-8966-7db65d2364c5"
      }
     }
    },
    "48e355ad-5a5b-40f1-8070-21a319d13c15": {
     "id": "48e355ad-5a5b-40f1-8070-21a319d13c15",
     "prev": "049f39c1-7938-4a28-b1ba-e1062c210b5d",
     "regions": {
      "0148fe26-b3d6-4a0e-89e5-c7de98b9d1bf": {
       "attrs": {
        "height": 0.8,
        "width": 0.8,
        "x": 0.1,
        "y": 0.1
       },
       "content": {
        "cell": "46065afd-f1f9-4f15-9f2e-89946aa9e40a",
        "part": "whole"
       },
       "id": "0148fe26-b3d6-4a0e-89e5-c7de98b9d1bf"
      }
     }
    },
    "4e548138-a45e-4af8-867e-527894241e96": {
     "id": "4e548138-a45e-4af8-867e-527894241e96",
     "prev": "5697a4d5-4432-46e2-8978-9b26d16a15cc",
     "regions": {
      "b5ed324c-6c6a-4d32-8841-3a76932a465f": {
       "attrs": {
        "height": 0.8,
        "width": 0.8,
        "x": 0.1,
        "y": 0.1
       },
       "content": {
        "cell": "4460a644-4dcb-4530-9243-aac0e545ae02",
        "part": "whole"
       },
       "id": "b5ed324c-6c6a-4d32-8841-3a76932a465f"
      }
     }
    },
    "5023d8bc-d84d-45d6-b267-48baac3f8540": {
     "id": "5023d8bc-d84d-45d6-b267-48baac3f8540",
     "prev": "54012865-965a-46fe-9a6b-c318778cc39b",
     "regions": {
      "b7e747bb-9d10-4635-b630-03167a813245": {
       "attrs": {
        "height": 0.8,
        "width": 0.8,
        "x": 0.1,
        "y": 0.1
       },
       "content": {
        "cell": "e27aea2d-47af-48b1-bf21-870352303ffe",
        "part": "whole"
       },
       "id": "b7e747bb-9d10-4635-b630-03167a813245"
      }
     }
    },
    "50a53338-e68f-43a1-9ec8-503cea2f4d30": {
     "id": "50a53338-e68f-43a1-9ec8-503cea2f4d30",
     "prev": "112c88ba-1433-44b1-89c9-225933c76f89",
     "regions": {
      "909fb461-51dd-4c17-80d2-d657d90e6ed9": {
       "attrs": {
        "height": 0.8,
        "width": 0.8,
        "x": 0.1,
        "y": 0.1
       },
       "content": {
        "cell": "2325b8e3-a3f3-4a02-abf2-6e1802f21e5b",
        "part": "whole"
       },
       "id": "909fb461-51dd-4c17-80d2-d657d90e6ed9"
      }
     }
    },
    "54012865-965a-46fe-9a6b-c318778cc39b": {
     "id": "54012865-965a-46fe-9a6b-c318778cc39b",
     "prev": "26f5ed4f-467e-4ea1-9a07-599057f0485a",
     "regions": {
      "709e9717-c55e-4e7d-b8b5-2d9e0a162c67": {
       "attrs": {
        "height": 0.8,
        "width": 0.8,
        "x": 0.1,
        "y": 0.1
       },
       "content": {
        "cell": "b1bfa298-fca6-4de2-83ee-34ae64f2574d",
        "part": "whole"
       },
       "id": "709e9717-c55e-4e7d-b8b5-2d9e0a162c67"
      }
     }
    },
    "551343bf-1ae9-40ed-aa2f-12fc1f0aa74c": {
     "id": "551343bf-1ae9-40ed-aa2f-12fc1f0aa74c",
     "prev": "42b6978b-d9fa-4550-a72f-5e2c0b465c3a",
     "regions": {
      "46f153df-5fd5-4b52-a40f-75221acc53b8": {
       "attrs": {
        "height": 0.8,
        "width": 0.8,
        "x": 0.1,
        "y": 0.1
       },
       "content": {
        "cell": "967d71bb-46b5-4ef7-9e15-85d0ce714783",
        "part": "whole"
       },
       "id": "46f153df-5fd5-4b52-a40f-75221acc53b8"
      }
     }
    },
    "56261e67-d22c-4db3-9c86-afd909f697da": {
     "id": "56261e67-d22c-4db3-9c86-afd909f697da",
     "prev": "f020b97c-7c89-41aa-8cfd-de51aa78eb18",
     "regions": {
      "1615fb14-2484-4b09-b51a-7fdbc272f830": {
       "attrs": {
        "height": 0.8,
        "width": 0.8,
        "x": 0.1,
        "y": 0.1
       },
       "content": {
        "cell": "3dfcfdc1-e470-46bf-8400-3a94db41cae2",
        "part": "whole"
       },
       "id": "1615fb14-2484-4b09-b51a-7fdbc272f830"
      }
     }
    },
    "5697a4d5-4432-46e2-8978-9b26d16a15cc": {
     "id": "5697a4d5-4432-46e2-8978-9b26d16a15cc",
     "prev": "108d68ad-23b9-4eb8-bc1a-087142f7a045",
     "regions": {
      "25d4073b-cb8e-482b-820c-f7b728c74ebf": {
       "attrs": {
        "height": 0.8,
        "width": 0.8,
        "x": 0.1,
        "y": 0.1
       },
       "content": {
        "cell": "a71c9b50-3168-4e7e-b5a6-46c6ca972e10",
        "part": "whole"
       },
       "id": "25d4073b-cb8e-482b-820c-f7b728c74ebf"
      }
     }
    },
    "5f290287-ca66-444e-94cc-2b0621528317": {
     "id": "5f290287-ca66-444e-94cc-2b0621528317",
     "prev": "e5c3f8c6-2888-494c-834d-9679f3e711f1",
     "regions": {
      "5c87a72c-cd81-4e03-96c5-c5b9074c1660": {
       "attrs": {
        "height": 0.8,
        "width": 0.8,
        "x": 0.1,
        "y": 0.1
       },
       "content": {
        "cell": "223264c8-bae3-4bbd-9a11-39c604fcf06e",
        "part": "whole"
       },
       "id": "5c87a72c-cd81-4e03-96c5-c5b9074c1660"
      }
     }
    },
    "6042d935-bb77-4a37-a648-489bf0eca2fa": {
     "id": "6042d935-bb77-4a37-a648-489bf0eca2fa",
     "prev": "b3529717-369c-4772-9d3d-773381a9f77f",
     "regions": {
      "185bdadd-3c82-42d1-9bc8-9556658dcc8c": {
       "attrs": {
        "height": 0.8,
        "width": 0.8,
        "x": 0.1,
        "y": 0.1
       },
       "content": {
        "cell": "b588e33c-05f7-46ee-a31d-3777c9df8c90",
        "part": "whole"
       },
       "id": "185bdadd-3c82-42d1-9bc8-9556658dcc8c"
      }
     }
    },
    "60f76987-d77b-4913-9dcb-fe079b069ca2": {
     "id": "60f76987-d77b-4913-9dcb-fe079b069ca2",
     "prev": "9e9192f4-a02f-45bd-9f20-dbf685d6fbd2",
     "regions": {
      "93fb80d0-263d-404e-bde5-94eeb7424b80": {
       "attrs": {
        "height": 0.8,
        "width": 0.8,
        "x": 0.1,
        "y": 0.1
       },
       "content": {
        "cell": "67bac144-52ed-48d9-9544-2ef7bae179e2",
        "part": "whole"
       },
       "id": "93fb80d0-263d-404e-bde5-94eeb7424b80"
      }
     }
    },
    "61e5949e-ec37-480b-ad8b-95994c17c5ca": {
     "id": "61e5949e-ec37-480b-ad8b-95994c17c5ca",
     "prev": "2e7874f3-a1cb-4871-996a-69dc475180fd",
     "regions": {
      "40d898db-bc20-40e7-b542-6d7bea3d21ac": {
       "attrs": {
        "height": 0.8,
        "width": 0.8,
        "x": 0.1,
        "y": 0.1
       },
       "content": {
        "cell": "01b2e40b-9379-4b37-b1bf-452f2a05bb9e",
        "part": "whole"
       },
       "id": "40d898db-bc20-40e7-b542-6d7bea3d21ac"
      }
     }
    },
    "6532148b-8045-469f-80da-034a34c2b5fe": {
     "id": "6532148b-8045-469f-80da-034a34c2b5fe",
     "prev": "50a53338-e68f-43a1-9ec8-503cea2f4d30",
     "regions": {
      "6126b6d9-e656-45fe-b94c-0f99676f5bc0": {
       "attrs": {
        "height": 0.8,
        "width": 0.8,
        "x": 0.1,
        "y": 0.1
       },
       "content": {
        "cell": "9b96a045-6bb4-443f-92e2-c5315f6814c9",
        "part": "whole"
       },
       "id": "6126b6d9-e656-45fe-b94c-0f99676f5bc0"
      }
     }
    },
    "6d497fa2-7c4d-40bb-b96d-37b0c1b95308": {
     "id": "6d497fa2-7c4d-40bb-b96d-37b0c1b95308",
     "prev": "3ed3c873-fe0b-42c4-86af-5fac26f28b54",
     "regions": {
      "3c55e038-45a9-444c-adec-43bc3ca7bbbb": {
       "attrs": {
        "height": 0.8,
        "width": 0.8,
        "x": 0.1,
        "y": 0.1
       },
       "content": {
        "cell": "2e813faf-680d-4962-a159-23a813cf1eb0",
        "part": "whole"
       },
       "id": "3c55e038-45a9-444c-adec-43bc3ca7bbbb"
      }
     }
    },
    "6f3b4a79-781c-41b6-a495-ed715563bae0": {
     "id": "6f3b4a79-781c-41b6-a495-ed715563bae0",
     "prev": "48e355ad-5a5b-40f1-8070-21a319d13c15",
     "regions": {
      "ba23b122-ea16-4a2d-a248-daa2478ed6bf": {
       "attrs": {
        "height": 0.8,
        "width": 0.8,
        "x": 0.1,
        "y": 0.1
       },
       "content": {
        "cell": "e69011e3-5830-42d8-bb6b-30326b59e3ac",
        "part": "whole"
       },
       "id": "ba23b122-ea16-4a2d-a248-daa2478ed6bf"
      }
     }
    },
    "702697df-f653-4bec-8332-4af4388d9385": {
     "id": "702697df-f653-4bec-8332-4af4388d9385",
     "prev": "6d497fa2-7c4d-40bb-b96d-37b0c1b95308",
     "regions": {
      "6fc3e2ed-0456-4999-b088-17801987a187": {
       "attrs": {
        "height": 0.8,
        "width": 0.8,
        "x": 0.1,
        "y": 0.1
       },
       "content": {
        "cell": "922f3ad9-86c5-43d4-b862-15c1637d96cc",
        "part": "whole"
       },
       "id": "6fc3e2ed-0456-4999-b088-17801987a187"
      }
     }
    },
    "7389b383-5eeb-47c1-a8d7-78aeaba34ca5": {
     "id": "7389b383-5eeb-47c1-a8d7-78aeaba34ca5",
     "prev": "14bf6f10-f257-4e6c-96d7-bb4ee3a31bbd",
     "regions": {
      "af8cf84f-a6f3-453c-928a-d80142927d78": {
       "attrs": {
        "height": 0.8,
        "width": 0.8,
        "x": 0.1,
        "y": 0.1
       },
       "content": {
        "cell": "9f3322aa-c7d9-46af-ba92-0a45a1c282a1",
        "part": "whole"
       },
       "id": "af8cf84f-a6f3-453c-928a-d80142927d78"
      }
     }
    },
    "772054b2-7f47-4e5a-b249-9e49f9f425b6": {
     "id": "772054b2-7f47-4e5a-b249-9e49f9f425b6",
     "prev": "fb189dda-8c33-4314-a19f-31f296678cec",
     "regions": {
      "339ccede-c3ee-427b-8390-5b02fffb41a8": {
       "attrs": {
        "height": 0.8,
        "width": 0.8,
        "x": 0.1,
        "y": 0.1
       },
       "content": {
        "cell": "1e6086e6-a72f-49b8-95de-24f33415cadc",
        "part": "whole"
       },
       "id": "339ccede-c3ee-427b-8390-5b02fffb41a8"
      }
     }
    },
    "787a29d8-6312-4844-8c39-317b8b581d94": {
     "id": "787a29d8-6312-4844-8c39-317b8b581d94",
     "prev": "1827e738-ebf0-4644-83ef-6ba97ae1c416",
     "regions": {
      "865fcafc-3678-4140-857f-05333340103a": {
       "attrs": {
        "height": 0.8,
        "width": 0.8,
        "x": 0.1,
        "y": 0.1
       },
       "content": {
        "cell": "a9ac804d-25f1-423f-9393-f24cb6be5b7b",
        "part": "whole"
       },
       "id": "865fcafc-3678-4140-857f-05333340103a"
      }
     }
    },
    "7ab1c406-1064-45fd-a984-5ca267123d63": {
     "id": "7ab1c406-1064-45fd-a984-5ca267123d63",
     "prev": "42570ea8-6276-4eb4-a3ed-1348bb14eea6",
     "regions": {
      "9c71fda6-27f9-48ff-8638-4e2166dbbfab": {
       "attrs": {
        "height": 0.8,
        "width": 0.8,
        "x": 0.1,
        "y": 0.1
       },
       "content": {
        "cell": "7fdc430b-cae3-4f3b-b05b-4e3c30ed50b3",
        "part": "whole"
       },
       "id": "9c71fda6-27f9-48ff-8638-4e2166dbbfab"
      }
     }
    },
    "7f118532-e2a4-4fc9-8b71-7c9637f47dcd": {
     "id": "7f118532-e2a4-4fc9-8b71-7c9637f47dcd",
     "prev": "ff0b5421-53c1-45a0-9731-657c2d6869fd",
     "regions": {
      "fa281178-aa8c-41f9-8732-aa410e5e94a8": {
       "attrs": {
        "height": 0.8,
        "width": 0.8,
        "x": 0.1,
        "y": 0.1
       },
       "content": {
        "cell": "2fdc4e7d-4c95-4686-a300-b509b2d982e4",
        "part": "whole"
       },
       "id": "fa281178-aa8c-41f9-8732-aa410e5e94a8"
      }
     }
    },
    "833b8ae8-699c-4a55-b7c7-e78efbdc7dc0": {
     "id": "833b8ae8-699c-4a55-b7c7-e78efbdc7dc0",
     "prev": "01a42742-47f7-4336-a91f-f7f3c6376827",
     "regions": {
      "d11e6fa9-cf53-49f2-9048-0cf06e1664d5": {
       "attrs": {
        "height": 0.8,
        "width": 0.8,
        "x": 0.1,
        "y": 0.1
       },
       "content": {
        "cell": "f2a9d3e1-553c-4936-a97e-0b4278270933",
        "part": "whole"
       },
       "id": "d11e6fa9-cf53-49f2-9048-0cf06e1664d5"
      }
     }
    },
    "90c90719-0c01-4b21-a572-84c834e36d19": {
     "id": "90c90719-0c01-4b21-a572-84c834e36d19",
     "prev": "787a29d8-6312-4844-8c39-317b8b581d94",
     "regions": {
      "6bba39c1-b4ca-4aa0-b106-9bbfb9afc8fb": {
       "attrs": {
        "height": 0.8,
        "width": 0.8,
        "x": 0.1,
        "y": 0.1
       },
       "content": {
        "cell": "ce53a309-84e4-42d4-b712-d178d7360e33",
        "part": "whole"
       },
       "id": "6bba39c1-b4ca-4aa0-b106-9bbfb9afc8fb"
      }
     }
    },
    "98f8612f-877e-416e-a821-f4568063848f": {
     "id": "98f8612f-877e-416e-a821-f4568063848f",
     "prev": null,
     "regions": {
      "12cda57b-a9fb-4d9f-9254-b53df99a560e": {
       "attrs": {
        "height": 0.8,
        "width": 0.8,
        "x": 0.1,
        "y": 0.1
       },
       "content": {
        "cell": "16c2d55d-5e13-4bc2-976e-b49f3851c187",
        "part": "whole"
       },
       "id": "12cda57b-a9fb-4d9f-9254-b53df99a560e"
      }
     }
    },
    "9a57be8d-d3de-4e72-a13e-e5b5e26ed37c": {
     "id": "9a57be8d-d3de-4e72-a13e-e5b5e26ed37c",
     "prev": "322a5809-15c5-4b2c-85bf-9e6e1db233ed",
     "regions": {
      "a0c5e23f-a5d6-4bd7-9093-cd4c9da16fe4": {
       "attrs": {
        "height": 0.8,
        "width": 0.8,
        "x": 0.1,
        "y": 0.1
       },
       "content": {
        "cell": "02590e95-9b4c-4ce0-a7b8-018313cf8f0f",
        "part": "whole"
       },
       "id": "a0c5e23f-a5d6-4bd7-9093-cd4c9da16fe4"
      }
     }
    },
    "9aea5789-49ad-45e3-b94c-9929bf4fc3ac": {
     "id": "9aea5789-49ad-45e3-b94c-9929bf4fc3ac",
     "prev": "281793e4-b10b-4a61-be6a-24c46e8aac61",
     "regions": {
      "8be24b34-e48f-4ed7-aa97-dddcd810373b": {
       "attrs": {
        "height": 0.8,
        "width": 0.8,
        "x": 0.1,
        "y": 0.1
       },
       "content": {
        "cell": "87ae1d44-c146-4e61-92e6-464e068e3afd",
        "part": "whole"
       },
       "id": "8be24b34-e48f-4ed7-aa97-dddcd810373b"
      }
     }
    },
    "9e9192f4-a02f-45bd-9f20-dbf685d6fbd2": {
     "id": "9e9192f4-a02f-45bd-9f20-dbf685d6fbd2",
     "prev": "98f8612f-877e-416e-a821-f4568063848f",
     "regions": {
      "1caa9c7d-c041-4269-adc3-405207090c8d": {
       "attrs": {
        "height": 0.8,
        "width": 0.8,
        "x": 0.1,
        "y": 0.1
       },
       "content": {
        "cell": "d8c4efa1-fd20-434f-b252-9e1d1c77f99a",
        "part": "whole"
       },
       "id": "1caa9c7d-c041-4269-adc3-405207090c8d"
      }
     }
    },
    "a0c6bcf7-62eb-4705-b82c-a37730698057": {
     "id": "a0c6bcf7-62eb-4705-b82c-a37730698057",
     "prev": "f0628ace-d1d6-413a-ab9a-641c96567953",
     "regions": {
      "a439f086-9c25-434c-975a-bc294bf03667": {
       "attrs": {
        "height": 0.8,
        "width": 0.8,
        "x": 0.1,
        "y": 0.1
       },
       "content": {
        "cell": "60483852-a27c-463f-8e77-91db027d1d9d",
        "part": "whole"
       },
       "id": "a439f086-9c25-434c-975a-bc294bf03667"
      }
     }
    },
    "b3529717-369c-4772-9d3d-773381a9f77f": {
     "id": "b3529717-369c-4772-9d3d-773381a9f77f",
     "prev": "61e5949e-ec37-480b-ad8b-95994c17c5ca",
     "regions": {
      "51c8289c-f7f2-4475-ab96-ca4eddaf6dc3": {
       "attrs": {
        "height": 0.8,
        "width": 0.8,
        "x": 0.1,
        "y": 0.1
       },
       "content": {
        "cell": "b1842b62-0194-4697-bf5f-0c88a90ce7ff",
        "part": "whole"
       },
       "id": "51c8289c-f7f2-4475-ab96-ca4eddaf6dc3"
      }
     }
    },
    "b613a657-3b4e-4954-9461-624f258ef3b3": {
     "id": "b613a657-3b4e-4954-9461-624f258ef3b3",
     "prev": "6f3b4a79-781c-41b6-a495-ed715563bae0",
     "regions": {
      "6fa209b6-16d3-4e0a-a776-56ca21fd32c0": {
       "attrs": {
        "height": 0.8,
        "width": 0.8,
        "x": 0.1,
        "y": 0.1
       },
       "content": {
        "cell": "f919c697-adcb-4d00-92d3-0fd5359ae239",
        "part": "whole"
       },
       "id": "6fa209b6-16d3-4e0a-a776-56ca21fd32c0"
      }
     }
    },
    "b8190f06-495b-4f6d-b2d8-278faacf1fbd": {
     "id": "b8190f06-495b-4f6d-b2d8-278faacf1fbd",
     "prev": "118b367a-d0c0-4625-bb00-d5a61b4e9668",
     "regions": {
      "3f728741-4748-49a5-97c3-ea192a56e05b": {
       "attrs": {
        "height": 0.8,
        "width": 0.8,
        "x": 0.1,
        "y": 0.1
       },
       "content": {
        "cell": "4b088bd0-9f41-4686-95f2-976dd0c13bf3",
        "part": "whole"
       },
       "id": "3f728741-4748-49a5-97c3-ea192a56e05b"
      }
     }
    },
    "c384f36a-701d-4b8b-bec2-845ee5d1552d": {
     "id": "c384f36a-701d-4b8b-bec2-845ee5d1552d",
     "prev": "149f0ff3-ccc4-4c66-af76-56c4446d281a",
     "regions": {
      "01475aab-d4ca-43bf-897d-45c9a1f27ee6": {
       "attrs": {
        "height": 0.8,
        "width": 0.8,
        "x": 0.1,
        "y": 0.1
       },
       "content": {
        "cell": "902018d6-9727-4472-96a0-a4f32c03eaf6",
        "part": "whole"
       },
       "id": "01475aab-d4ca-43bf-897d-45c9a1f27ee6"
      }
     }
    },
    "c38d6d07-e515-4ed2-b0ed-bb282403acc7": {
     "id": "c38d6d07-e515-4ed2-b0ed-bb282403acc7",
     "prev": "a0c6bcf7-62eb-4705-b82c-a37730698057",
     "regions": {
      "c4092189-a544-41b8-85ec-4bc0046a333a": {
       "attrs": {
        "height": 0.8,
        "width": 0.8,
        "x": 0.1,
        "y": 0.1
       },
       "content": {
        "cell": "ec412cfa-11a5-437f-ad91-f1b80fb4bf1c",
        "part": "whole"
       },
       "id": "c4092189-a544-41b8-85ec-4bc0046a333a"
      }
     }
    },
    "cb8d4904-6007-4cc5-be55-7805c26b053e": {
     "id": "cb8d4904-6007-4cc5-be55-7805c26b053e",
     "prev": "551343bf-1ae9-40ed-aa2f-12fc1f0aa74c",
     "regions": {
      "194a0f30-831d-46f8-b6e7-2fbecdaa2d09": {
       "attrs": {
        "height": 0.8,
        "width": 0.8,
        "x": 0.1,
        "y": 0.1
       },
       "content": {
        "cell": "d54af02d-fcbc-4464-8eee-9361fb678b56",
        "part": "whole"
       },
       "id": "194a0f30-831d-46f8-b6e7-2fbecdaa2d09"
      }
     }
    },
    "d8b3a98e-eb86-499f-9818-6a062698576d": {
     "id": "d8b3a98e-eb86-499f-9818-6a062698576d",
     "prev": "26ab21ee-a26a-4db1-914c-9790eb1f062e",
     "regions": {
      "201440b2-a821-4bf7-a25f-4e621fb8492c": {
       "attrs": {
        "height": 0.8,
        "width": 0.8,
        "x": 0.1,
        "y": 0.1
       },
       "content": {
        "cell": "8ffc9279-72d8-4f64-b719-c269ec9f702e",
        "part": "whole"
       },
       "id": "201440b2-a821-4bf7-a25f-4e621fb8492c"
      }
     }
    },
    "d95507f7-fec6-4d91-95ef-829a139d1da0": {
     "id": "d95507f7-fec6-4d91-95ef-829a139d1da0",
     "prev": "f163ae13-ca5e-4e48-92ef-29b00080376d",
     "regions": {
      "fc842f1a-58d8-4134-8e2c-2d71df9fc3b1": {
       "attrs": {
        "height": 0.8,
        "width": 0.8,
        "x": 0.1,
        "y": 0.1
       },
       "content": {
        "cell": "8f6373c6-99cd-43f1-b6aa-1f91b7984403",
        "part": "whole"
       },
       "id": "fc842f1a-58d8-4134-8e2c-2d71df9fc3b1"
      }
     }
    },
    "da108a19-ccc4-47c9-bcf4-9a5d8a6bb2e1": {
     "id": "da108a19-ccc4-47c9-bcf4-9a5d8a6bb2e1",
     "prev": "4e548138-a45e-4af8-867e-527894241e96",
     "regions": {
      "2fb8187f-24d9-4b5f-ac69-7c93c1d378a0": {
       "attrs": {
        "height": 0.8,
        "width": 0.8,
        "x": 0.1,
        "y": 0.1
       },
       "content": {
        "cell": "b32889f4-5156-403c-856e-e131206e496d",
        "part": "whole"
       },
       "id": "2fb8187f-24d9-4b5f-ac69-7c93c1d378a0"
      }
     }
    },
    "da31b7d4-45ce-4b79-9c0d-f10f67a8dc5e": {
     "id": "da31b7d4-45ce-4b79-9c0d-f10f67a8dc5e",
     "prev": "9a57be8d-d3de-4e72-a13e-e5b5e26ed37c",
     "regions": {
      "c6c54199-f785-4bb2-b0a1-52a9e41d5919": {
       "attrs": {
        "height": 0.8,
        "width": 0.8,
        "x": 0.1,
        "y": 0.1
       },
       "content": {
        "cell": "b44de87a-1d8f-4dab-a32e-70c6f438ff95",
        "part": "whole"
       },
       "id": "c6c54199-f785-4bb2-b0a1-52a9e41d5919"
      }
     }
    },
    "e5c3f8c6-2888-494c-834d-9679f3e711f1": {
     "id": "e5c3f8c6-2888-494c-834d-9679f3e711f1",
     "prev": "6532148b-8045-469f-80da-034a34c2b5fe",
     "regions": {
      "a1bf02d8-432a-41dd-be53-33f76bca51b3": {
       "attrs": {
        "height": 0.8,
        "width": 0.8,
        "x": 0.1,
        "y": 0.1
       },
       "content": {
        "cell": "69f8c6ae-5ac6-4514-a495-c2e59a197675",
        "part": "whole"
       },
       "id": "a1bf02d8-432a-41dd-be53-33f76bca51b3"
      }
     }
    },
    "ec0aa0f4-f3d1-4d49-aa45-5a4f45f198b0": {
     "id": "ec0aa0f4-f3d1-4d49-aa45-5a4f45f198b0",
     "prev": "b8190f06-495b-4f6d-b2d8-278faacf1fbd",
     "regions": {
      "dd69a03b-04ca-401b-982f-631b34bc46cb": {
       "attrs": {
        "height": 0.8,
        "width": 0.8,
        "x": 0.1,
        "y": 0.1
       },
       "content": {
        "cell": "121e400c-2fc9-47b5-983c-1b2e531d76f9",
        "part": "whole"
       },
       "id": "dd69a03b-04ca-401b-982f-631b34bc46cb"
      }
     }
    },
    "ee342c68-a87e-4061-bae2-c4a69363b7b9": {
     "id": "ee342c68-a87e-4061-bae2-c4a69363b7b9",
     "prev": "90c90719-0c01-4b21-a572-84c834e36d19",
     "regions": {
      "0c90e25b-ce00-4588-b087-823dbd880f30": {
       "attrs": {
        "height": 0.8,
        "width": 0.8,
        "x": 0.1,
        "y": 0.1
       },
       "content": {
        "cell": "9832c6f1-533d-4ac1-84a0-f3c77927e064",
        "part": "whole"
       },
       "id": "0c90e25b-ce00-4588-b087-823dbd880f30"
      }
     }
    },
    "f020b97c-7c89-41aa-8cfd-de51aa78eb18": {
     "id": "f020b97c-7c89-41aa-8cfd-de51aa78eb18",
     "prev": "60f76987-d77b-4913-9dcb-fe079b069ca2",
     "regions": {
      "41af1f88-0ad1-4fbc-82e9-b02ffdde9420": {
       "attrs": {
        "height": 0.8,
        "width": 0.8,
        "x": 0.1,
        "y": 0.1
       },
       "content": {
        "cell": "d9639149-7a28-47d5-b98e-1da57eb40803",
        "part": "whole"
       },
       "id": "41af1f88-0ad1-4fbc-82e9-b02ffdde9420"
      }
     }
    },
    "f0628ace-d1d6-413a-ab9a-641c96567953": {
     "id": "f0628ace-d1d6-413a-ab9a-641c96567953",
     "prev": "5023d8bc-d84d-45d6-b267-48baac3f8540",
     "regions": {
      "2a1fb990-28d0-493d-8ed5-d2c5a7380281": {
       "attrs": {
        "height": 0.8,
        "width": 0.8,
        "x": 0.1,
        "y": 0.1
       },
       "content": {
        "cell": "dfcd052f-2921-439f-a367-17882c41aeaa",
        "part": "whole"
       },
       "id": "2a1fb990-28d0-493d-8ed5-d2c5a7380281"
      }
     }
    },
    "f163ae13-ca5e-4e48-92ef-29b00080376d": {
     "id": "f163ae13-ca5e-4e48-92ef-29b00080376d",
     "prev": "0c893371-b763-4357-939c-f639aed94ab0",
     "regions": {
      "da10c126-d277-4e71-8e02-b1add8994204": {
       "attrs": {
        "height": 0.8,
        "width": 0.8,
        "x": 0.1,
        "y": 0.1
       },
       "content": {
        "cell": "52c3623d-d404-4e20-b3c8-fc44ea37e8ec",
        "part": "whole"
       },
       "id": "da10c126-d277-4e71-8e02-b1add8994204"
      }
     }
    },
    "f783ce78-d7c3-4c29-95f8-24d6de53c5a6": {
     "id": "f783ce78-d7c3-4c29-95f8-24d6de53c5a6",
     "prev": "b613a657-3b4e-4954-9461-624f258ef3b3",
     "regions": {
      "f147285c-54fb-466b-afff-fd0fe9d087f4": {
       "attrs": {
        "height": 0.8,
        "width": 0.8,
        "x": 0.1,
        "y": 0.1
       },
       "content": {
        "cell": "21b652b5-a2e1-4f41-9165-047d4e27f76e",
        "part": "whole"
       },
       "id": "f147285c-54fb-466b-afff-fd0fe9d087f4"
      }
     }
    },
    "f7d97ac5-09d8-4732-bb2a-694d5305788b": {
     "id": "f7d97ac5-09d8-4732-bb2a-694d5305788b",
     "prev": "07bfe323-9f51-4de2-acac-a82cce867dc5",
     "regions": {
      "2f7fc4ad-c85a-4d86-97c9-ab2092093564": {
       "attrs": {
        "height": 0.8,
        "width": 0.8,
        "x": 0.1,
        "y": 0.1
       },
       "content": {
        "cell": "d5f71f9b-edb7-4572-b67f-f3c32255f11b",
        "part": "whole"
       },
       "id": "2f7fc4ad-c85a-4d86-97c9-ab2092093564"
      }
     }
    },
    "fb189dda-8c33-4314-a19f-31f296678cec": {
     "id": "fb189dda-8c33-4314-a19f-31f296678cec",
     "prev": "ec0aa0f4-f3d1-4d49-aa45-5a4f45f198b0",
     "regions": {
      "9a3a9705-7656-4a8d-a156-c2f83f35ab0b": {
       "attrs": {
        "height": 0.8,
        "width": 0.8,
        "x": 0.1,
        "y": 0.1
       },
       "content": {
        "cell": "7207adff-e0fe-4047-9896-ca1e31973fcf",
        "part": "whole"
       },
       "id": "9a3a9705-7656-4a8d-a156-c2f83f35ab0b"
      }
     }
    },
    "ff0b5421-53c1-45a0-9731-657c2d6869fd": {
     "id": "ff0b5421-53c1-45a0-9731-657c2d6869fd",
     "prev": "c38d6d07-e515-4ed2-b0ed-bb282403acc7",
     "regions": {
      "31404908-0cd6-4be1-8449-fcb53ed0b9c1": {
       "attrs": {
        "height": 0.8,
        "width": 0.8,
        "x": 0.1,
        "y": 0.1
       },
       "content": {
        "cell": "b7375e8f-77ba-4056-bb38-45987c487261",
        "part": "whole"
       },
       "id": "31404908-0cd6-4be1-8449-fcb53ed0b9c1"
      }
     }
    }
   },
   "themes": {
    "default": "ae6a8532-0d82-4b0c-9385-a8335e7ff3f7",
    "theme": {
     "ae6a8532-0d82-4b0c-9385-a8335e7ff3f7": {
      "backgrounds": {
       "backgroundColor": {
        "background-color": "backgroundColor",
        "id": "backgroundColor"
       }
      },
      "id": "ae6a8532-0d82-4b0c-9385-a8335e7ff3f7",
      "palette": {
       "backgroundColor": {
        "id": "backgroundColor",
        "rgb": [
         256,
         256,
         256
        ]
       },
       "headingColor": {
        "id": "headingColor",
        "rgb": [
         0,
         0,
         0
        ]
       },
       "linkColor": {
        "id": "linkColor",
        "rgb": [
         0,
         0,
         139
        ]
       },
       "mainColor": {
        "id": "mainColor",
        "rgb": [
         0,
         0,
         0
        ]
       }
      },
      "rules": {
       "a": {
        "color": "linkColor"
       },
       "h1": {
        "color": "headingColor",
        "font-family": "News Cycle",
        "font-size": 7
       },
       "h2": {
        "color": "headingColor",
        "font-family": "News Cycle",
        "font-size": 5
       },
       "h3": {
        "color": "headingColor",
        "font-family": "News Cycle",
        "font-size": 3.75
       },
       "h4": {
        "color": "headingColor",
        "font-family": "News Cycle",
        "font-size": 3
       },
       "h5": {
        "color": "headingColor",
        "font-family": "News Cycle"
       },
       "h6": {
        "color": "headingColor",
        "font-family": "News Cycle"
       },
       "h7": {
        "color": "headingColor",
        "font-family": "News Cycle"
       },
       "li": {
        "color": "mainColor",
        "font-family": "Lato",
        "font-size": 5
       },
       "p": {
        "color": "mainColor",
        "font-family": "Lato",
        "font-size": 5
       }
      },
      "text-base": {
       "color": "mainColor",
       "font-family": "Lato",
       "font-size": 5
      }
     }
    }
   }
  }
 },
 "nbformat": 4,
 "nbformat_minor": 2
}
