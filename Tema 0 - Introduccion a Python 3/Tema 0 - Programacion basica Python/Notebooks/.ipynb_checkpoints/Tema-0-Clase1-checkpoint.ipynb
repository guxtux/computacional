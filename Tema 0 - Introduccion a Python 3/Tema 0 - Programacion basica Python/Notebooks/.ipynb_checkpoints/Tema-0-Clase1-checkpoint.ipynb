{
 "cells": [
  {
   "cell_type": "markdown",
   "metadata": {
    "nbpresent": {
     "id": "8165d2c9-2850-42e4-8377-799ddf514545"
    },
    "slideshow": {
     "slide_type": "slide"
    }
   },
   "source": [
    "# Operadores aritméticos\n",
    "## Python como calculadora"
   ]
  },
  {
   "cell_type": "markdown",
   "metadata": {
    "nbpresent": {
     "id": "2d1516e4-dbb9-4767-91df-4053c0a9a1d7"
    },
    "slideshow": {
     "slide_type": "slide"
    }
   },
   "source": [
    "Una vez abierta la sesión en $\\texttt{python}$, podemos aprovechar al máximo este lenguaje: contamos con una calculadora a la mano, sólo hay que ir escribiendo las operaciones en la línea de comandos."
   ]
  },
  {
   "cell_type": "code",
   "execution_count": 1,
   "metadata": {
    "nbpresent": {
     "id": "db034579-4b1c-44ca-a49e-ed09acca8ab3"
    },
    "slideshow": {
     "slide_type": "slide"
    }
   },
   "outputs": [
    {
     "data": {
      "text/plain": [
       "203"
      ]
     },
     "execution_count": 1,
     "metadata": {},
     "output_type": "execute_result"
    }
   ],
   "source": [
    "3+200"
   ]
  },
  {
   "cell_type": "code",
   "execution_count": 4,
   "metadata": {
    "nbpresent": {
     "id": "4e42cd3f-d555-42f2-a08e-ffc6ac30d349"
    },
    "slideshow": {
     "slide_type": "slide"
    }
   },
   "outputs": [
    {
     "data": {
      "text/plain": [
       "0.024311183144246355"
      ]
     },
     "execution_count": 4,
     "metadata": {},
     "output_type": "execute_result"
    }
   ],
   "source": [
    "30/1234"
   ]
  },
  {
   "cell_type": "code",
   "execution_count": 4,
   "metadata": {
    "nbpresent": {
     "id": "6b7d8b7d-6a57-479e-be98-8dda637ec403"
    },
    "slideshow": {
     "slide_type": "slide"
    }
   },
   "outputs": [
    {
     "data": {
      "text/plain": [
       "0.75"
      ]
     },
     "execution_count": 4,
     "metadata": {},
     "output_type": "execute_result"
    }
   ],
   "source": [
    "3.0/4.0"
   ]
  },
  {
   "cell_type": "code",
   "execution_count": 5,
   "metadata": {
    "nbpresent": {
     "id": "b5b6a333-1ddd-4652-aedd-f62db524a140"
    },
    "slideshow": {
     "slide_type": "slide"
    }
   },
   "outputs": [
    {
     "data": {
      "text/plain": [
       "7"
      ]
     },
     "execution_count": 5,
     "metadata": {},
     "output_type": "execute_result"
    }
   ],
   "source": [
    "30//4"
   ]
  },
  {
   "cell_type": "code",
   "execution_count": 6,
   "metadata": {
    "nbpresent": {
     "id": "d24c84e3-7b4d-42c4-a74e-4d5f8e4d01f2"
    },
    "slideshow": {
     "slide_type": "slide"
    }
   },
   "outputs": [
    {
     "data": {
      "text/plain": [
       "1"
      ]
     },
     "execution_count": 6,
     "metadata": {},
     "output_type": "execute_result"
    }
   ],
   "source": [
    "4//3"
   ]
  },
  {
   "cell_type": "code",
   "execution_count": 7,
   "metadata": {
    "nbpresent": {
     "id": "318307e8-2373-4bbe-8311-86b238512433"
    },
    "slideshow": {
     "slide_type": "slide"
    }
   },
   "outputs": [
    {
     "data": {
      "text/plain": [
       "1.3333333333333333"
      ]
     },
     "execution_count": 7,
     "metadata": {},
     "output_type": "execute_result"
    }
   ],
   "source": [
    "4/3"
   ]
  },
  {
   "cell_type": "code",
   "execution_count": 8,
   "metadata": {
    "nbpresent": {
     "id": "4c890716-0d0c-4cf8-b255-c014662f4547"
    },
    "slideshow": {
     "slide_type": "slide"
    }
   },
   "outputs": [
    {
     "data": {
      "text/plain": [
       "6.0"
      ]
     },
     "execution_count": 8,
     "metadata": {},
     "output_type": "execute_result"
    }
   ],
   "source": [
    "5.0 / 10 * 2 + 5"
   ]
  },
  {
   "cell_type": "markdown",
   "metadata": {
    "nbpresent": {
     "id": "1779c955-a744-4e20-aaa0-d38ffe93fa0c"
    },
    "slideshow": {
     "slide_type": "slide"
    }
   },
   "source": [
    "¿por qué obtenemos este resultado??"
   ]
  },
  {
   "cell_type": "code",
   "execution_count": 9,
   "metadata": {
    "nbpresent": {
     "id": "bb0b6d5b-14c3-4d22-afce-78d73e5b1414"
    },
    "slideshow": {
     "slide_type": "slide"
    }
   },
   "outputs": [
    {
     "data": {
      "text/plain": [
       "0.2"
      ]
     },
     "execution_count": 9,
     "metadata": {},
     "output_type": "execute_result"
    }
   ],
   "source": [
    "5.0 / (10 * 2 + 5)"
   ]
  },
  {
   "cell_type": "markdown",
   "metadata": {
    "nbpresent": {
     "id": "18466d68-aa8c-4181-ba65-10afc4a890e6"
    },
    "slideshow": {
     "slide_type": "slide"
    }
   },
   "source": [
    "Como podemos ver, el uso de paréntesis en las expresiones tiene una particular importancia sobre la manera en que se evalúan las expresiones"
   ]
  },
  {
   "cell_type": "markdown",
   "metadata": {
    "nbpresent": {
     "id": "83cd1586-11e6-4693-b122-e325c12f0766"
    },
    "slideshow": {
     "slide_type": "slide"
    }
   },
   "source": [
    "Podemos elevar un número a una potencia en particular"
   ]
  },
  {
   "cell_type": "code",
   "execution_count": 11,
   "metadata": {
    "nbpresent": {
     "id": "a7c7d343-d938-43b8-84aa-26b7d0e1d2c6"
    },
    "slideshow": {
     "slide_type": "slide"
    }
   },
   "outputs": [
    {
     "data": {
      "text/plain": [
       "512"
      ]
     },
     "execution_count": 11,
     "metadata": {},
     "output_type": "execute_result"
    }
   ],
   "source": [
    "2**3**2"
   ]
  },
  {
   "cell_type": "markdown",
   "metadata": {
    "nbpresent": {
     "id": "888bda16-39f0-4d9c-a4bd-fddea67e658a"
    },
    "slideshow": {
     "slide_type": "slide"
    }
   },
   "source": [
    "Vemos que elevar a una potencia, la manera en que se ejecuta la expresión se realiza en un sentido en particular: de derecha a izquierda"
   ]
  },
  {
   "cell_type": "code",
   "execution_count": 17,
   "metadata": {
    "nbpresent": {
     "id": "10f71e98-1ce8-46f3-bf35-ab926f68a4e7"
    },
    "slideshow": {
     "slide_type": "slide"
    }
   },
   "outputs": [
    {
     "data": {
      "text/plain": [
       "64"
      ]
     },
     "execution_count": 17,
     "metadata": {},
     "output_type": "execute_result"
    }
   ],
   "source": [
    "(2**3)**2"
   ]
  },
  {
   "cell_type": "markdown",
   "metadata": {
    "nbpresent": {
     "id": "b271fa3b-4c0a-468d-a0eb-a4df8eb1f10f"
    },
    "slideshow": {
     "slide_type": "slide"
    }
   },
   "source": [
    "El uso de paréntesis nos indica que la expresión contenida dentro de ellos, es la que se evalúa primero, posteriormente se sigue la regla de precedencia de operadores"
   ]
  },
  {
   "cell_type": "markdown",
   "metadata": {
    "nbpresent": {
     "id": "94c8e67e-e959-476f-afcc-4e4a72556b99"
    },
    "slideshow": {
     "slide_type": "slide"
    }
   },
   "source": [
    "El operador módulo $(\\%)$ nos devuelve el residuo del cociente"
   ]
  },
  {
   "cell_type": "code",
   "execution_count": 16,
   "metadata": {
    "nbpresent": {
     "id": "46afb57b-becf-4fd8-9922-cd68e83df667"
    },
    "slideshow": {
     "slide_type": "slide"
    }
   },
   "outputs": [
    {
     "data": {
      "text/plain": [
       "2"
      ]
     },
     "execution_count": 16,
     "metadata": {},
     "output_type": "execute_result"
    }
   ],
   "source": [
    "17%3"
   ]
  },
  {
   "cell_type": "markdown",
   "metadata": {
    "nbpresent": {
     "id": "81671352-721b-4183-881e-9e5826c580e0"
    },
    "slideshow": {
     "slide_type": "slide"
    }
   },
   "source": [
    "# Tabla de operadores"
   ]
  },
  {
   "cell_type": "markdown",
   "metadata": {
    "nbpresent": {
     "id": "cf79d059-d84c-42c2-a080-297ed1bae276"
    },
    "slideshow": {
     "slide_type": "slide"
    }
   },
   "source": [
    " <table>\n",
    "     <caption><span style=\"color:red\">Precedencia en los operadores aritméticos</span></caption>\n",
    "  <tr background-color=\"black\">\n",
    "    <th>Operador</th>\n",
    "    <th>Operación</th>\n",
    "    <th>Ejemplo</th>\n",
    "    <th>Resultado</th>\n",
    "  </tr>\n",
    "  <tr>\n",
    "   \n",
    "    <td>$**$</td>\n",
    "    <td>Potencia</td>\n",
    "    <td>$2**3$ </td>\n",
    "    <td>$8$ </td>\n",
    "  </tr>\n",
    "  <tr>\n",
    "    <td>$*$</td>\n",
    "    <td>Multiplicación</td>\n",
    "    <td>$7*3$</td>\n",
    "    <td>$21$</td>\n",
    "  </tr>\n",
    "  <tr>\n",
    "    <td>$/$</td>\n",
    "    <td>División</td>\n",
    "    <td>$10.5/2$</td>\n",
    "    <td>$5.25$</td>\n",
    "  </tr>\n",
    "  <tr>\n",
    "    <td>$//$</td>\n",
    "    <td>División entera</td>\n",
    "    <td>$10.5//2$</td>\n",
    "    <td>$5.0$</td>\n",
    "  </tr>\n",
    "  <tr>\n",
    "    <td>$+$</td>\n",
    "    <td>Suma</td>\n",
    "    <td>$3+4$</td>\n",
    "    <td>$7$</td>\n",
    "  </tr>\n",
    "  <tr>\n",
    "    <td>$-$</td>\n",
    "    <td>Resta</td>\n",
    "    <td>$6-8$</td>\n",
    "    <td>$-2$</td>\n",
    "  </tr>\n",
    "  <tr>\n",
    "    <td>$\\%$</td>\n",
    "    <td>Módulo</td>\n",
    "    <td>$15\\%6$</td>\n",
    "    <td>$3$</td>\n",
    "  </tr>\n",
    "</table>"
   ]
  },
  {
   "cell_type": "markdown",
   "metadata": {
    "nbpresent": {
     "id": "fe024c78-56d6-44c0-84c8-704defab9d1a"
    },
    "slideshow": {
     "slide_type": "slide"
    }
   },
   "source": [
    "# Precedencia de los operadores artiméticos"
   ]
  },
  {
   "cell_type": "markdown",
   "metadata": {
    "nbpresent": {
     "id": "b91181f6-0af7-4d39-8413-83ea5f6cc7bd"
    },
    "slideshow": {
     "slide_type": "slide"
    }
   },
   "source": [
    "1. Las expresiones contenidas dentro de pares de paréntesis son evaluadas primero. En el caso de expresiones con paréntesis anidados, los operadores en el par de paréntesis más interno son aplicados primero.\n",
    "2. Las operaciones de exponentes son aplicadas después. Si una expresión contiene muchas operaciones de exponentes, los operadores son aplicados de derecha a izquierda.\n",
    "3. La multiplicación, división y módulo son las siguientes en ser aplicadas. Si una expresión contiene muchas multiplicaciones, divisiones u operaciones de módulo, los operadores se aplican de izquierda a derecha.\n",
    "4. Suma y resta son las operaciones que se aplican por último. Si una expresión contiene muchas operaciones de suma y resta, los operadores son aplicados de izquierda a derecha. La suma y resta tienen el mismo nivel de precedencia.\n"
   ]
  },
  {
   "cell_type": "markdown",
   "metadata": {
    "collapsed": true,
    "nbpresent": {
     "id": "ea1f9ae2-65bf-43ca-af1a-c8367951440d"
    },
    "slideshow": {
     "slide_type": "slide"
    }
   },
   "source": [
    "# Operadores relacionales"
   ]
  },
  {
   "cell_type": "markdown",
   "metadata": {
    "collapsed": true,
    "nbpresent": {
     "id": "dd35783d-0089-4c42-959f-14aa7f7177ec"
    },
    "slideshow": {
     "slide_type": "slide"
    }
   },
   "source": [
    "Se comparan dos (o más expresiones) mediante un operador, el tipo de dato que devuelve es lógico: $\\textbf{True}$ o $\\textbf{False}$, que también tienen una representación de tipo numérico:\n",
    "- $\\textbf{True}$ = 1\n",
    "- $\\textbf{False}$ = 0"
   ]
  },
  {
   "cell_type": "code",
   "execution_count": 1,
   "metadata": {
    "nbpresent": {
     "id": "053e28d1-9ebb-43c5-9bc7-93ce5a559988"
    },
    "slideshow": {
     "slide_type": "slide"
    }
   },
   "outputs": [
    {
     "data": {
      "text/plain": [
       "False"
      ]
     },
     "execution_count": 1,
     "metadata": {},
     "output_type": "execute_result"
    }
   ],
   "source": [
    "1 + 2 > 7- 3"
   ]
  },
  {
   "cell_type": "code",
   "execution_count": 33,
   "metadata": {
    "nbpresent": {
     "id": "eb235225-00bc-4bce-a7ff-a554d1555d71"
    },
    "slideshow": {
     "slide_type": "slide"
    }
   },
   "outputs": [
    {
     "data": {
      "text/plain": [
       "True"
      ]
     },
     "execution_count": 33,
     "metadata": {},
     "output_type": "execute_result"
    }
   ],
   "source": [
    "1 < 2 < 3"
   ]
  },
  {
   "cell_type": "code",
   "execution_count": null,
   "metadata": {
    "collapsed": true,
    "nbpresent": {
     "id": "75e3e1c8-247c-4e7d-b9d7-fc98fd98b467"
    },
    "slideshow": {
     "slide_type": "slide"
    }
   },
   "outputs": [],
   "source": [
    "1 > 2 == 2 < 3"
   ]
  },
  {
   "cell_type": "code",
   "execution_count": 34,
   "metadata": {
    "nbpresent": {
     "id": "c0f2d7d2-8f7a-471c-8794-b4d0e84b8d35"
    },
    "slideshow": {
     "slide_type": "slide"
    }
   },
   "outputs": [
    {
     "data": {
      "text/plain": [
       "False"
      ]
     },
     "execution_count": 34,
     "metadata": {},
     "output_type": "execute_result"
    }
   ],
   "source": [
    "1 > (2 ==  2) <3"
   ]
  },
  {
   "cell_type": "code",
   "execution_count": 3,
   "metadata": {
    "nbpresent": {
     "id": "36b1adb1-cacd-44e3-b2be-7c51e64ff1b4"
    },
    "slideshow": {
     "slide_type": "slide"
    }
   },
   "outputs": [
    {
     "data": {
      "text/plain": [
       "False"
      ]
     },
     "execution_count": 3,
     "metadata": {},
     "output_type": "execute_result"
    }
   ],
   "source": [
    "3 > 4 < 5"
   ]
  },
  {
   "cell_type": "code",
   "execution_count": 5,
   "metadata": {
    "nbpresent": {
     "id": "f01665cc-b92e-4f54-9dba-df67670b6f6d"
    },
    "slideshow": {
     "slide_type": "slide"
    }
   },
   "outputs": [
    {
     "data": {
      "text/plain": [
       "False"
      ]
     },
     "execution_count": 5,
     "metadata": {},
     "output_type": "execute_result"
    }
   ],
   "source": [
    "1.0 / 3 < 0.3333"
   ]
  },
  {
   "cell_type": "code",
   "execution_count": 6,
   "metadata": {
    "nbpresent": {
     "id": "3aea7597-0509-40c1-8e2e-62a8862672e5"
    },
    "slideshow": {
     "slide_type": "slide"
    }
   },
   "outputs": [
    {
     "data": {
      "text/plain": [
       "True"
      ]
     },
     "execution_count": 6,
     "metadata": {},
     "output_type": "execute_result"
    }
   ],
   "source": [
    "5.0 / 3 >= 11 /7.0"
   ]
  },
  {
   "cell_type": "code",
   "execution_count": 8,
   "metadata": {
    "nbpresent": {
     "id": "248e011d-cdc0-44e0-9c1c-ed3a95386475"
    },
    "slideshow": {
     "slide_type": "slide"
    }
   },
   "outputs": [
    {
     "data": {
      "text/plain": [
       "True"
      ]
     },
     "execution_count": 8,
     "metadata": {},
     "output_type": "execute_result"
    }
   ],
   "source": [
    "2**(2. /3) < 3**(3./4)"
   ]
  },
  {
   "cell_type": "markdown",
   "metadata": {
    "nbpresent": {
     "id": "98fc8faf-47bd-430d-9261-19279c809ad9"
    },
    "slideshow": {
     "slide_type": "slide"
    }
   },
   "source": [
    "## Tabla de operadores relacionales"
   ]
  },
  {
   "cell_type": "markdown",
   "metadata": {
    "nbpresent": {
     "id": "f9b7e9a3-487a-42b2-bf85-4a0dc9a069e9"
    },
    "slideshow": {
     "slide_type": "slide"
    }
   },
   "source": [
    "<div class=\"centrado\">\n",
    "<table width=\"50%\">\n",
    "     <caption><span style=\"color:red\">Operadores relacionales</span></caption>\n",
    "  <tr background-color=\"black\">\n",
    "    <th>Operador</th>\n",
    "    <th>Operación</th>\n",
    "    <th>Ejemplo</th>\n",
    "    <th>Resultado</th>\n",
    "  </tr>\n",
    "  <tr>\n",
    "    <td class=\"centrado\">$==$</td>\n",
    "    <td>Igual a</td>\n",
    "    <td>$4==5$</td>\n",
    "    <td>$\\texttt{False}$</td>\n",
    "  </tr>\n",
    "  <tr>\n",
    "    <td>$!=$</td>\n",
    "    <td>Diferente de</td>\n",
    "    <td>$2!=3$</td>\n",
    "    <td>$\\texttt{True}$</td>\n",
    "  </tr>\n",
    "  <tr>\n",
    "    <td>$<$</td>\n",
    "    <td>Menor que</td>\n",
    "    <td>$10<4$</td>\n",
    "    <td>$\\texttt{False}$</td>\n",
    "  </tr>\n",
    "  <tr>\n",
    "    <td>$>$</td>\n",
    "    <td>Mayor que</td>\n",
    "    <td>$5>-4$</td>\n",
    "    <td>$\\texttt{True}$</td>\n",
    "  </tr>\n",
    "  <tr>\n",
    "    <td>$<=$</td>\n",
    "    <td>Menor o igual que</td>\n",
    "    <td>$7<=7$</td>\n",
    "    <td>$\\texttt{True}$</td>\n",
    "  </tr>\n",
    "  <tr>\n",
    "    <td>$>=$</td>\n",
    "    <td>Mayor o igual que</td>\n",
    "    <td>$3.5 >= 10$</td>\n",
    "    <td>$\\texttt{False}$</td>\n",
    "  </tr>\n",
    "</table>\n",
    "</div>\n"
   ]
  },
  {
   "cell_type": "markdown",
   "metadata": {
    "nbpresent": {
     "id": "9a1a7323-cd9f-49e3-b842-e4edd542fef1"
    },
    "slideshow": {
     "slide_type": "slide"
    }
   },
   "source": [
    "##  Operadores boleanos"
   ]
  },
  {
   "cell_type": "markdown",
   "metadata": {
    "nbpresent": {
     "id": "7d3964a6-f57d-4c32-92c8-cb41a944d807"
    },
    "slideshow": {
     "slide_type": "slide"
    }
   },
   "source": [
    "En el caso del operador boleano $\\texttt{and}$ y el operador $\\texttt{or}$ evalúan una expresión compuesta por dos (o más términos), en ambos operadores se espera que cada término tenga el valor de <font color='blue'>$\\texttt{True}$</font>, en caso de que esto ocurra, el valor que devuelve la evaluación, es <font color='blue'>$\\texttt{True}$</font>, como se verá en la tabla de verdad, se necesita una condición particular para que el valor que devuelva la comparación, sea <font color='red'>$\\texttt{False}$</font>."
   ]
  },
  {
   "cell_type": "markdown",
   "metadata": {
    "nbpresent": {
     "id": "f44aaae3-ff5f-43ed-90cc-5344ba1a5f3f"
    },
    "slideshow": {
     "slide_type": "slide"
    }
   },
   "source": [
    "<table width=\"50%\">\n",
    "     <caption><span style=\"color:red\">Operadores boleanos</span></caption>\n",
    "  <tr>\n",
    "    <th>Operador</th>\n",
    "    <th>Operación</th>\n",
    "    <th>Ejemplo</th>\n",
    "    <th>Resultado</th>\n",
    "  </tr>\n",
    "  <tr>\n",
    "    <td>$\\texttt{and}$</td>\n",
    "    <td>Conjunción</td>\n",
    "    <td>$\\texttt{False and True}$</td>\n",
    "    <td>$\\texttt{False}$</td>\n",
    "  </tr>\n",
    "  <tr>\n",
    "    <td>$\\texttt{or}$</td>\n",
    "    <td>Disyunción</td>\n",
    "    <td>$\\texttt{False or True}$</td>\n",
    "    <td>$\\texttt{True}$</td>\n",
    "  </tr>\n",
    "    <tr>\n",
    "    <td>$\\texttt{not}$</td>\n",
    "    <td>Negación</td>\n",
    "    <td>$\\texttt{not True}$</td>\n",
    "    <td>$\\texttt{False}$</td>\n",
    "  </tr>\n",
    "  </table>"
   ]
  },
  {
   "cell_type": "markdown",
   "metadata": {
    "nbpresent": {
     "id": "72c30118-72a8-446d-85b6-ae8d7b87a674"
    },
    "slideshow": {
     "slide_type": "slide"
    }
   },
   "source": [
    "## Tabla de verdad de los operadores boleanos"
   ]
  },
  {
   "cell_type": "markdown",
   "metadata": {
    "nbpresent": {
     "id": "12a64f88-ad8d-416d-8ab5-735022e78674"
    },
    "slideshow": {
     "slide_type": "slide"
    }
   },
   "source": [
    "<table width=\"50%\">\n",
    "     <caption><span style=\"color:red\">Tabla de verdad</span></caption>\n",
    "  <tr>\n",
    "    <th>$\\texttt{A}$</th>\n",
    "    <th>$\\texttt{B}$</th>\n",
    "    <th>$\\texttt{A and B}$</th>\n",
    "    <th>$\\texttt{A or B}$</th>\n",
    "    <th>$\\texttt{not A}$</th>\n",
    "  </tr>\n",
    "  <tr>\n",
    "    <td><font color=blue>$\\texttt{True}$</font></td>\n",
    "    <td><font color=blue>$\\texttt{True}$</font></td>\n",
    "    <td><font color=blue>$\\texttt{True}$</font></td>\n",
    "    <td><font color=blue>$\\texttt{True}$</font></td>\n",
    "    <td><font color=red>$\\texttt{False}$</font></td>\n",
    "  </tr>\n",
    "  <tr>\n",
    "    <td><font color=blue>$\\texttt{True}$</font></td>\n",
    "    <td><font color=red>$\\texttt{False}$</font></td>\n",
    "    <td><font color=red>$\\texttt{False}$</font></td>\n",
    "    <td><font color=blue>$\\texttt{True}$</font></td>\n",
    "    <td><font color=red>$\\texttt{False}$</font></td>\n",
    "  </tr>\n",
    "  <tr>\n",
    "    <td><font color=red>$\\texttt{False}$</font></td>\n",
    "    <td><font color=blue>$\\texttt{True}$</font></td>\n",
    "    <td><font color=red>$\\texttt{False}$</font></td>\n",
    "    <td><font color=blue>$\\texttt{True}$</font></td>\n",
    "    <td><font color=blue>$\\texttt{True}$</font></td>\n",
    "  </tr>\n",
    "  <tr>\n",
    "    <td><font color=red>$\\texttt{False}$</font></td>\n",
    "    <td><font color=red>$\\texttt{False}$</font></td>\n",
    "    <td><font color=red>$\\texttt{False}$</font></td>\n",
    "    <td><font color=red>$\\texttt{False}$</font></td>\n",
    "    <td><font color=blue>$\\texttt{True}$</font></td>\n",
    "  </tr>\n",
    "  </table>"
   ]
  },
  {
   "cell_type": "markdown",
   "metadata": {
    "nbpresent": {
     "id": "452a1407-e5c2-4519-a490-4347c967d29a"
    },
    "slideshow": {
     "slide_type": "subslide"
    }
   },
   "source": [
    "# Tipos de variables"
   ]
  },
  {
   "cell_type": "markdown",
   "metadata": {
    "nbpresent": {
     "id": "1702f91d-d4fd-497f-927d-83f349c39dfa"
    },
    "slideshow": {
     "slide_type": "slide"
    }
   },
   "source": [
    "Las variables en $\\texttt{python}$ sólo son ubicaciones de memoria reservadas para almacenar valores. Esto significa que cuando se crea una variable, se reserva un poco de espacio disponible en la memoria.\n",
    "\n",
    "Basándose en el tipo de datos de una variable, el intérprete asigna memoria y decide qué se puede almacenar en la memoria reservada. Por lo tanto, al asignar diferentes tipos de datos a las variables, se pueden almacenar **enteros**, **decimales** o **caracteres (cadenas)** en estas variables.\n",
    "\n"
   ]
  },
  {
   "cell_type": "markdown",
   "metadata": {
    "nbpresent": {
     "id": "dc1292c4-685d-4627-bb86-7a872f8a5685"
    },
    "slideshow": {
     "slide_type": "slide"
    }
   },
   "source": [
    "## Asignando valores a variables"
   ]
  },
  {
   "cell_type": "markdown",
   "metadata": {
    "nbpresent": {
     "id": "32ae04c5-7ce7-455c-977a-1b5621fa8d28"
    },
    "slideshow": {
     "slide_type": "slide"
    }
   },
   "source": [
    "Las variables de $\\texttt{python}$ no necesitan una declaración explícita para reservar espacio de memoria. La declaración ocurre automáticamente cuando se asigna un valor a una variable. **El signo igual (=) se utiliza para asignar valores a las variables*.\n",
    "\n",
    "El término a la izquierda del operador = es el *nombre de la variable* y el término a la derecha del operador = es el *valor almacenado* en la variable."
   ]
  },
  {
   "cell_type": "code",
   "execution_count": 6,
   "metadata": {
    "nbpresent": {
     "id": "7d76c357-0b7d-49aa-8ab9-eb6ae3bee0c6"
    },
    "slideshow": {
     "slide_type": "slide"
    }
   },
   "outputs": [
    {
     "name": "stdout",
     "output_type": "stream",
     "text": [
      "100\n",
      "1000.0\n",
      "Chucho\n"
     ]
    }
   ],
   "source": [
    "contador = 100          # Asignacion de tipo entero\n",
    "distancia = 1000.0      # De punto flotante\n",
    "nombre = \"Chucho\"       # Una cadena de caracteres\n",
    "\n",
    "print (contador)\n",
    "print (distancia)\n",
    "print (nombre)"
   ]
  },
  {
   "cell_type": "markdown",
   "metadata": {
    "nbpresent": {
     "id": "e0b48525-fac3-4621-b391-375b8ce87786"
    },
    "slideshow": {
     "slide_type": "slide"
    }
   },
   "source": [
    "## Asignación múltiple de valores"
   ]
  },
  {
   "cell_type": "markdown",
   "metadata": {
    "nbpresent": {
     "id": "d857c80b-4ae9-4347-9e19-0288e524df42"
    },
    "slideshow": {
     "slide_type": "slide"
    }
   },
   "source": [
    "En $\\texttt{python}$  podemos asignar un valor único a varias variables simultáneamente."
   ]
  },
  {
   "cell_type": "code",
   "execution_count": 8,
   "metadata": {
    "nbpresent": {
     "id": "7b17ddb2-9ea5-49d0-8a1d-7ced38d22d72"
    },
    "slideshow": {
     "slide_type": "slide"
    }
   },
   "outputs": [
    {
     "name": "stdout",
     "output_type": "stream",
     "text": [
      "1\n",
      "1\n",
      "1\n"
     ]
    }
   ],
   "source": [
    "A = b = c = 1\n",
    "print (A)\n",
    "print (b)\n",
    "print (c)"
   ]
  },
  {
   "cell_type": "markdown",
   "metadata": {
    "nbpresent": {
     "id": "cff7e255-4b68-4d0b-a965-8ad9671009e1"
    },
    "slideshow": {
     "slide_type": "slide"
    }
   },
   "source": [
    "En el ejemplo, se crea un objeto entero con el valor $1$, y las tres variables se asignan a la misma ubicación de memoria. \n",
    "\n",
    "También puede asignar varios objetos a varias variables."
   ]
  },
  {
   "cell_type": "code",
   "execution_count": 9,
   "metadata": {
    "nbpresent": {
     "id": "b9ee7f33-a351-4c7b-9314-db4b967f948d"
    },
    "slideshow": {
     "slide_type": "slide"
    }
   },
   "outputs": [
    {
     "name": "stdout",
     "output_type": "stream",
     "text": [
      "1\n",
      "2\n",
      "Ana\n"
     ]
    }
   ],
   "source": [
    "A, b, c = 1, 2, \"Alicia\"\n",
    "print (A)\n",
    "print (b)\n",
    "print (c)"
   ]
  },
  {
   "cell_type": "markdown",
   "metadata": {
    "nbpresent": {
     "id": "062a7d24-7771-4594-9a31-2599a075a737"
    },
    "slideshow": {
     "slide_type": "slide"
    }
   },
   "source": [
    "Aquí, dos objetos enteros con valores $1$ y $2$ se asignan a las variables $A$ y $b$ respectivamente, y un objeto de cadena con el valor **Alicia** se asigna a la variable $c$."
   ]
  },
  {
   "cell_type": "markdown",
   "metadata": {
    "nbpresent": {
     "id": "78a1ecf6-2f35-41d5-8bc2-bf02f062146a"
    },
    "slideshow": {
     "slide_type": "slide"
    }
   },
   "source": [
    "## Tipos de Datos Estándar"
   ]
  },
  {
   "cell_type": "markdown",
   "metadata": {
    "nbpresent": {
     "id": "a8f89162-7f47-485d-9a70-d0b69ccf67fb"
    },
    "slideshow": {
     "slide_type": "slide"
    }
   },
   "source": [
    "Los datos almacenados en la memoria pueden ser de varios tipos. Por ejemplo, la edad de una persona se almacena como un valor numérico y su dirección se almacena como caracteres alfanuméricos.\n",
    "\n",
    "En $\\texttt{python}$ se cuenta con varios tipos de datos estándar que se utilizan para definir las operaciones posibles entre ellos y el método de almacenamiento para cada uno de ellos.\n",
    "\n",
    "Los tipos de datos son cinco:\n",
    "- <font color=\"blue\"> Números</font>.\n",
    "- <font color=\"blue\"> Cadena</font>.\n",
    "- <font color=\"blue\"> Lista</font>.\n",
    "- <font color=\"blue\"> Tupla</font>.\n",
    "- <font color=\"blue\"> Diccionario</font>."
   ]
  },
  {
   "cell_type": "markdown",
   "metadata": {
    "nbpresent": {
     "id": "ea9ac3e8-f4d9-45b0-bb8f-336570eaad8a"
    },
    "slideshow": {
     "slide_type": "slide"
    }
   },
   "source": [
    "### Números "
   ]
  },
  {
   "cell_type": "markdown",
   "metadata": {
    "nbpresent": {
     "id": "bd0b42a3-51e8-4306-90aa-ef3c1d99a75b"
    },
    "slideshow": {
     "slide_type": "slide"
    }
   },
   "source": [
    "Los tipos de datos numéricos almacenan valores numéricos. Los objetos numéricos se crean cuando se les asigna un valor."
   ]
  },
  {
   "cell_type": "code",
   "execution_count": 14,
   "metadata": {
    "nbpresent": {
     "id": "b5e6f4a0-2018-4400-9fd4-dc9226c4ddd4"
    },
    "slideshow": {
     "slide_type": "slide"
    }
   },
   "outputs": [
    {
     "name": "stdout",
     "output_type": "stream",
     "text": [
      "10\n",
      "10\n"
     ]
    }
   ],
   "source": [
    "Var1 = Var2 = 10\n",
    "print (Var1)\n",
    "print (Var2)"
   ]
  },
  {
   "cell_type": "markdown",
   "metadata": {
    "nbpresent": {
     "id": "0d246c98-8a6a-4465-8ec7-86dd0dc9d5cb"
    },
    "slideshow": {
     "slide_type": "slide"
    }
   },
   "source": [
    "También se puede eliminar la referencia a un objeto numérico utilizando la sentencia <font color=\"blue\">$\\texttt{del}$</font>.\n",
    "\n",
    "La sintaxis de la sentencia del es:\n",
    "\n",
    "$del$  $var1 [, var2 [, var3 [...., varN]]]]$\n",
    "\n",
    "Se puede eliminar un solo objeto o varios objetos utilizando la sentencia $\\texttt{del}$\n",
    "\n",
    "Por ejemplo:\n",
    "\n",
    "$del$ $var$\n",
    "\n",
    "$del$ $variable1$, $variable2$"
   ]
  },
  {
   "cell_type": "markdown",
   "metadata": {
    "nbpresent": {
     "id": "e45b3a8f-d3cc-4b5b-a699-6208cfbe04cb"
    },
    "slideshow": {
     "slide_type": "slide"
    }
   },
   "source": [
    "En $\\texttt{python}$ se soportan tres tipos numéricos diferentes:\n",
    "\n",
    "1. <font color=\"blue\">Int (enteros con signo)</font>\n",
    "2. <font color=\"blue\">Flotante (valores reales de punto flotante)</font>\n",
    "3. <font color=\"blue\">Complejos (números complejos)</font>\n",
    "\n",
    "Un número complejo consiste en un par ordenado de números reales de coma flotante denotados por\n",
    "$$x + yj$$\n",
    "donde $x$ e $y$ son números reales, $yj$ es la unidad imaginaria. Todos los enteros en $\\texttt{python 3}$ se representan como enteros largos. Por lo tanto, no hay ningún tipo de número por separado."
   ]
  },
  {
   "cell_type": "markdown",
   "metadata": {
    "nbpresent": {
     "id": "4ca9e89c-fd56-4929-9a74-2614e0c4fa30"
    },
    "slideshow": {
     "slide_type": "slide"
    }
   },
   "source": [
    "<table width=\"50%\" style=\"align:center\";>\n",
    "     <caption><span style=\"color:red\">Ejemplos de tipo de números</span></caption>\n",
    "  <tr>\n",
    "    <th>$\\texttt{int}$</th>\n",
    "    <th>$\\texttt{float}$</th>\n",
    "    <th>$\\texttt{complex}$</th>\n",
    "  </tr>\n",
    "  <tr>\n",
    "    <td>$\\texttt{10}$</td>\n",
    "    <td>$\\texttt{0.0}$</td>\n",
    "    <td>$\\texttt{3.14j}$</td>\n",
    "  </tr>\n",
    "  <tr>\n",
    "    <td>$\\texttt{100}$</td>\n",
    "    <td>$\\texttt{15.20}$</td>\n",
    "    <td>$\\texttt{45.j}$</td>\n",
    "  </tr>\n",
    "  <tr>\n",
    "    <td>$\\texttt{100}$</td>\n",
    "    <td>$\\texttt{15.20}$</td>\n",
    "    <td>$\\texttt{45.j}$</td>\n",
    "  </tr>\n",
    "  <tr>\n",
    "    <td>$\\texttt{080}$</td>\n",
    "    <td>$\\texttt{32.3+e18}$</td>\n",
    "    <td>$\\texttt{0.876j}$</td>\n",
    "  </tr>\n",
    "  <tr>\n",
    "    <td>$\\texttt{-0490}$</td>\n",
    "    <td>$\\texttt{-90.}$</td>\n",
    "    <td>$\\texttt{-.645+0j}$</td>\n",
    "  </tr>\n",
    "  <tr>\n",
    "    <td>$\\texttt{-0x260}$</td>\n",
    "    <td>$\\texttt{-32.54e100}$</td>\n",
    "    <td>$\\texttt{3e+26j}$</td>\n",
    "  </tr>\n",
    "  <tr>\n",
    "    <td>$\\texttt{0x69}$</td>\n",
    "    <td>$\\texttt{70.2-E12}$</td>\n",
    "    <td>$\\texttt{4.53e-7j}$</td>\n",
    "  </tr>\n",
    " </table>"
   ]
  },
  {
   "cell_type": "markdown",
   "metadata": {
    "nbpresent": {
     "id": "1fd8092e-9e64-486c-a208-7f8af0b12603"
    },
    "slideshow": {
     "slide_type": "slide"
    }
   },
   "source": [
    "### Cadenas "
   ]
  },
  {
   "cell_type": "markdown",
   "metadata": {
    "nbpresent": {
     "id": "8041e2aa-8940-4d10-8b68-655bc91ee434"
    },
    "slideshow": {
     "slide_type": "slide"
    }
   },
   "source": [
    "Las cadenas en $\\texttt{python}$ se identifican como un conjunto contiguo de caracteres representados en las comillas. Con $\\texttt{python}$ se permite cualquier par de comillas simples o dobles.\n",
    "\n",
    "Los subconjuntos de cadenas pueden ser tomados usando el operador de corte ($[\\;]$ y $[:]$) con índices comenzando en $0$ al inicio de la cadena hasta llegar a $-1$ al final de la misma.\n",
    "\n",
    "El signo más ($+$) es el operador de concatenación de cadenas y el asterisco ($*$) es el operador de repetición."
   ]
  },
  {
   "cell_type": "code",
   "execution_count": 15,
   "metadata": {
    "nbpresent": {
     "id": "882634c3-1776-4db9-9f1c-c5ee55b9aba9"
    },
    "slideshow": {
     "slide_type": "slide"
    }
   },
   "outputs": [
    {
     "name": "stdout",
     "output_type": "stream",
     "text": [
      "Hola Mundo!\n",
      "H\n",
      "la \n",
      "la Mundo!\n",
      "Hola Mundo!Hola Mundo!\n",
      "Hola Mundo!PUMAS\n"
     ]
    }
   ],
   "source": [
    "cadena = 'Hola Mundo!'\n",
    "\n",
    "print (cadena)          # Presenta la cadena completa\n",
    "print (cadena[0])       # Presenta el primer caracter de la cadena\n",
    "print (cadena[2:5])     # Presenta los caracteres de la 3a a la 5a posicion\n",
    "print (cadena[2:])      # Presenta la cadena que inicia a partir del 3er caracter\n",
    "print (cadena * 2)      # Presenta dos veces la cadena\n",
    "print (cadena + \"PUMAS\") # Presenta la cadena y concatena la segunda cadena"
   ]
  },
  {
   "cell_type": "markdown",
   "metadata": {
    "nbpresent": {
     "id": "bba17e42-a220-4193-9d6d-39b2fdab18a3"
    },
    "slideshow": {
     "slide_type": "slide"
    }
   },
   "source": [
    "### Listas"
   ]
  },
  {
   "cell_type": "markdown",
   "metadata": {
    "nbpresent": {
     "id": "cd9c6d22-63a4-4689-bb73-ea3c7c917592"
    },
    "slideshow": {
     "slide_type": "slide"
    }
   },
   "source": [
    "Las listas es el tipo de dato más versátil de los tipos de datos compuestos de $\\texttt{python}$.\n",
    "\n",
    "Una lista contiene elementos separados por comas y entre corchetes ($[ \\; ]$). En cierta medida, las listas son similares a los arreglos (arrays) en el lenguaje C. Una de las diferencias entre ellos es que todos los elementos pertenecientes a una lista pueden ser de tipo de datos diferente.\n",
    "\n",
    "Los valores almacenados en una lista se pueden acceder utilizando el operador de división ($[ \\; ]$ y $[:]$) con índices que empiezan en $0$ al principio de la lista y opera hasta el final con $-1$.\n",
    "\n",
    "El signo más ($+$) es el operador de concatenación de lista y el asterisco ($*$) es el operador de repetición."
   ]
  },
  {
   "cell_type": "code",
   "execution_count": 17,
   "metadata": {
    "nbpresent": {
     "id": "5f46f1ee-6c2e-4d00-a690-180b383ab766"
    },
    "slideshow": {
     "slide_type": "slide"
    }
   },
   "outputs": [
    {
     "name": "stdout",
     "output_type": "stream",
     "text": [
      "['abcd', 786, 2.23, 'salmon', 70.2]\n",
      "abcd\n",
      "[786, 2.23]\n",
      "[2.23, 'salmon', 70.2]\n",
      "[123, 'pizza', 123, 'pizza']\n",
      "['abcd', 786, 2.23, 'salmon', 70.2, 123, 'pizza']\n"
     ]
    }
   ],
   "source": [
    "milista = [ 'abcd', 786 , 2.23, 'salmon', 70.2 ]\n",
    "listabreve = [123, 'pizza']\n",
    "\n",
    "print (milista)              # Presenta la lista completa\n",
    "print (milista[0])          # Presenta el primer elemento de la lista\n",
    "print (milista[1:3])        # Presenta los elementos a partir de la 2a posiciona hasta la 3a\n",
    "print (milista[2:])          # Presenta los elementos a partir del 3er elemento\n",
    "print (listabreve * 2)       # Presenta dos veces la lista\n",
    "print (milista + listabreve) # Presenta la lista concatenada con la segunda lista"
   ]
  },
  {
   "cell_type": "markdown",
   "metadata": {
    "nbpresent": {
     "id": "53803bc3-8abf-4b41-86c8-ec785f600ec1"
    },
    "slideshow": {
     "slide_type": "slide"
    }
   },
   "source": [
    "### Tuplas "
   ]
  },
  {
   "cell_type": "markdown",
   "metadata": {
    "nbpresent": {
     "id": "598a7bc2-ded1-4bf8-bf35-f0e1f7c9d858"
    },
    "slideshow": {
     "slide_type": "slide"
    }
   },
   "source": [
    "Una tupla es otro tipo de datos de secuencia que es similar a la lista.\n",
    "\n",
    "Una tupla consiste en un número de valores separados por comas. Sin embargo, a diferencia de las listas, las tuplas se incluyen entre paréntesis.\n",
    "\n",
    "La principal diferencia entre las listas y las tuplas son:\n",
    "1. Las listas están entre corchetes $[\\;]$ y sus elementos y tamaño pueden cambiarse.\n",
    "2. Las tuplas están entre paréntesis $(\\;)$ y <u>no se pueden actualizar</u>.\n",
    "\n",
    "Las tuplas pueden ser consideradas como listas de sólo lectura."
   ]
  },
  {
   "cell_type": "code",
   "execution_count": 18,
   "metadata": {
    "nbpresent": {
     "id": "dcc734a4-5251-4af1-b667-942270bd1189"
    },
    "slideshow": {
     "slide_type": "slide"
    }
   },
   "outputs": [
    {
     "name": "stdout",
     "output_type": "stream",
     "text": [
      "('abcd', 786, 2.23, 'arena', 70.2)\n",
      "abcd\n",
      "(786, 2.23)\n",
      "(2.23, 'arena', 70.2)\n",
      "(123, 'playa', 123, 'playa')\n",
      "('abcd', 786, 2.23, 'arena', 70.2, 123, 'playa')\n"
     ]
    }
   ],
   "source": [
    "mitupla = ( 'abcd', 786 , 2.23, 'arena', 70.2  )\n",
    "tuplabreve = (123, 'playa')\n",
    "\n",
    "print (mitupla)                # Presenta la tupla completa\n",
    "print (mitupla[0])             # Presenta el primer elemento de la tupla\n",
    "print (mitupla[1:3])           # Presenta los elementos a partir del 2o elemento hasta la 3o\n",
    "print (mitupla[2:])            # Presenta los elementos a partir del 3er elemento\n",
    "print (tuplabreve * 2)         # Presenta dos veces la tupla\n",
    "print (mitupla + tuplabreve)   # Preseta la tupla concatenada con la otra tupla"
   ]
  },
  {
   "cell_type": "markdown",
   "metadata": {
    "nbpresent": {
     "id": "a8ba0c00-009f-4f0f-89a3-f770a3d82e19"
    },
    "slideshow": {
     "slide_type": "slide"
    }
   },
   "source": [
    "El siguiente código es inválido con la tupla, porque intentamos actualizar una tupla, que la acción no está permitida. El caso es similar con las listas."
   ]
  },
  {
   "cell_type": "code",
   "execution_count": 19,
   "metadata": {
    "nbpresent": {
     "id": "1ba08329-47fe-4de5-8f1d-7742d5e32ac0"
    },
    "slideshow": {
     "slide_type": "slide"
    }
   },
   "outputs": [
    {
     "ename": "TypeError",
     "evalue": "'tuple' object does not support item assignment",
     "output_type": "error",
     "traceback": [
      "\u001b[0;31m---------------------------------------------------------------------------\u001b[0m",
      "\u001b[0;31mTypeError\u001b[0m                                 Traceback (most recent call last)",
      "\u001b[0;32m<ipython-input-19-a99f473d7b8f>\u001b[0m in \u001b[0;36m<module>\u001b[0;34m()\u001b[0m\n\u001b[1;32m      1\u001b[0m \u001b[0mmitupla\u001b[0m \u001b[1;33m=\u001b[0m \u001b[1;33m(\u001b[0m \u001b[1;34m'abcd'\u001b[0m\u001b[1;33m,\u001b[0m \u001b[1;36m786\u001b[0m \u001b[1;33m,\u001b[0m \u001b[1;36m2.23\u001b[0m\u001b[1;33m,\u001b[0m \u001b[1;34m'edificio'\u001b[0m\u001b[1;33m,\u001b[0m \u001b[1;36m70.2\u001b[0m  \u001b[1;33m)\u001b[0m\u001b[1;33m\u001b[0m\u001b[0m\n\u001b[1;32m      2\u001b[0m \u001b[0mmilista\u001b[0m \u001b[1;33m=\u001b[0m \u001b[1;33m[\u001b[0m \u001b[1;34m'abcd'\u001b[0m\u001b[1;33m,\u001b[0m \u001b[1;36m786\u001b[0m \u001b[1;33m,\u001b[0m \u001b[1;36m2.23\u001b[0m\u001b[1;33m,\u001b[0m \u001b[1;34m'energia'\u001b[0m\u001b[1;33m,\u001b[0m \u001b[1;36m70.2\u001b[0m  \u001b[1;33m]\u001b[0m\u001b[1;33m\u001b[0m\u001b[0m\n\u001b[0;32m----> 3\u001b[0;31m \u001b[0mmitupla\u001b[0m\u001b[1;33m[\u001b[0m\u001b[1;36m2\u001b[0m\u001b[1;33m]\u001b[0m \u001b[1;33m=\u001b[0m \u001b[1;36m1000\u001b[0m    \u001b[1;31m# Sintaxis invalida para la tupla\u001b[0m\u001b[1;33m\u001b[0m\u001b[0m\n\u001b[0m\u001b[1;32m      4\u001b[0m \u001b[0mmilista\u001b[0m\u001b[1;33m[\u001b[0m\u001b[1;36m2\u001b[0m\u001b[1;33m]\u001b[0m \u001b[1;33m=\u001b[0m \u001b[1;36m1000\u001b[0m     \u001b[1;31m# Sintaxis invalida para la lista\u001b[0m\u001b[1;33m\u001b[0m\u001b[0m\n",
      "\u001b[0;31mTypeError\u001b[0m: 'tuple' object does not support item assignment"
     ]
    }
   ],
   "source": [
    "mitupla = ( 'abcd', 786 , 2.23, 'edificio', 70.2  )\n",
    "milista = [ 'abcd', 786 , 2.23, 'energia', 70.2  ]\n",
    "mitupla[2] = 1000    # Sintaxis invalida para la tupla\n",
    "milista[2] = 1000     # Sintaxis invalida para la lista"
   ]
  },
  {
   "cell_type": "markdown",
   "metadata": {
    "nbpresent": {
     "id": "ed441d2a-b62d-4240-a10f-bb81c8340783"
    },
    "slideshow": {
     "slide_type": "slide"
    }
   },
   "source": [
    "Pero en la lista podemos agregar nuevos elementos que se colocan al final de la misma:"
   ]
  },
  {
   "cell_type": "code",
   "execution_count": 21,
   "metadata": {
    "nbpresent": {
     "id": "948d7d43-4529-49c4-85f3-2e39c5f6b242"
    },
    "slideshow": {
     "slide_type": "slide"
    }
   },
   "outputs": [
    {
     "name": "stdout",
     "output_type": "stream",
     "text": [
      "['abcd', 786, 2.23, 'energia', 70.2]\n",
      "['abcd', 786, 2.23, 'energia', 70.2, 'hola']\n"
     ]
    }
   ],
   "source": [
    "print(milista)\n",
    "milista.append('hola')\n",
    "print(milista)"
   ]
  },
  {
   "cell_type": "markdown",
   "metadata": {
    "nbpresent": {
     "id": "66a4fa74-872e-49dc-8670-a3c0f00f6e89"
    },
    "slideshow": {
     "slide_type": "slide"
    }
   },
   "source": [
    "### Diccionarios"
   ]
  },
  {
   "cell_type": "markdown",
   "metadata": {
    "nbpresent": {
     "id": "72d0f9ef-201f-4243-9793-b5c48b6921cb"
    },
    "slideshow": {
     "slide_type": "slide"
    }
   },
   "source": [
    "Los diccionarios de $\\texttt{python}$ son de tipo tabla-hash.\n",
    "\n",
    "Funcionan como arrays asociativos y consisten en pares *clave-valor*.\n",
    "\n",
    "Una clave de diccionario puede ser casi cualquier tipo de $\\texttt{python}$, pero suelen ser números o cadenas. Los valores, por otra parte, pueden ser cualquier objeto arbitrario de $\\texttt{python}$.\n",
    "\n",
    "Los diccionarios están encerrados por llaves $\\{ \\; \\}$ y los valores se pueden asignar y acceder mediante llaves cuadradas $[ \\; ]$."
   ]
  },
  {
   "cell_type": "code",
   "execution_count": 30,
   "metadata": {
    "nbpresent": {
     "id": "b41ba585-20ce-4aae-b351-1f3bdb9c01d3"
    },
    "slideshow": {
     "slide_type": "slide"
    }
   },
   "outputs": [
    {
     "name": "stdout",
     "output_type": "stream",
     "text": [
      "{1: 'Eistein', 2: 'Bohr', 3: 'Pauli', 4: 'Schrodinger', 5: 'Hawking'}\n",
      "dict_keys([1, 2, 3, 4, 5])\n",
      "dict_values(['Eistein', 'Bohr', 'Pauli', 'Schrodinger', 'Hawking'])\n",
      "{1: 'Eistein', 2: 'Bohr', 3: 'Pauli', 4: 'Schrodinger', 5: 'Hawking', '6': 'Planck'}\n"
     ]
    }
   ],
   "source": [
    "fisicos = dict()\n",
    "\n",
    "fisicos ={\n",
    "    1 : \"Eistein\",\n",
    "    2 : \"Bohr\",\n",
    "    3 : \"Pauli\",\n",
    "    4 : \"Schrodinger\",\n",
    "    5 : \"Hawking\"\n",
    "}\n",
    "\n",
    "print(fisicos)\n",
    "print (fisicos.keys())\n",
    "print (fisicos.values())\n",
    "fisicos[\"6\"] = \"Planck\"    #agrega un nuevo elemento al diccionario, tanto su clave como valor\n",
    "print(fisicos)"
   ]
  },
  {
   "cell_type": "markdown",
   "metadata": {
    "nbpresent": {
     "id": "968fd380-e0a7-434d-aac2-e84684362b94"
    },
    "slideshow": {
     "slide_type": "slide"
    }
   },
   "source": [
    "## Regla para los identificadores"
   ]
  },
  {
   "cell_type": "markdown",
   "metadata": {
    "nbpresent": {
     "id": "7d29b02e-bceb-40a4-a3e4-2a8a05fb23f8"
    },
    "slideshow": {
     "slide_type": "slide"
    }
   },
   "source": [
    "Los identificadores son nombres que hacen referencia a los objetos que componen un programa: **constantes**, **variables**, **funciones**, etc.\n",
    "\n",
    "Reglas para construir identificadores:\n",
    "- El primer carácter debe ser una letra o el carácter de subrayado (guión bajo)\n",
    "- El primer carácter puede ir seguido de un número variable de dígitos numéricos, letras o carácteres de subrayado.\n",
    "- No pueden utilizarse espacios en blanco, ni símbolos de puntuación.\n",
    "- En $\\texttt{python}$ se distingue  de las mayúsculas y minúsculas.\n",
    "- No pueden utilizarse palabras reservadas del lenguaje."
   ]
  },
  {
   "cell_type": "markdown",
   "metadata": {
    "nbpresent": {
     "id": "9621da02-d25f-4a88-9c88-d57357389f12"
    },
    "slideshow": {
     "slide_type": "slide"
    }
   },
   "source": [
    "<table>\n",
    "<caption><span style=\"color:red\">Lista de palabras reservadas en $\\texttt{python}$</span></caption>\n",
    "<tr>\n",
    "  <td>$\\texttt{del}$</td>\n",
    "  <td>$\\texttt{for}$</td>\n",
    "  <td>$\\texttt{is}$</td>\n",
    "  <td>$\\texttt{raise}$</td>\n",
    "  <td>$\\texttt{assert}$</td>\n",
    "  <td>$\\texttt{elif}$</td>\n",
    "</tr>\n",
    "<tr>\n",
    "  <td>$\\texttt{from}$</td>\n",
    "  <td>$\\texttt{lamda}$</td>\n",
    "  <td>$\\texttt{return}$</td>\n",
    "  <td>$\\texttt{break}$</td>\n",
    "  <td>$\\texttt{else}$</td>\n",
    "  <td>$\\texttt{global}$</td>\n",
    "</tr>\n",
    "<tr>\n",
    "  <td>$\\texttt{not}$</td>\n",
    "  <td>$\\texttt{try}$</td>\n",
    "  <td>$\\texttt{class}$</td>\n",
    "  <td>$\\texttt{except}$</td>\n",
    "  <td>$\\texttt{if}$</td>\n",
    "  <td>$\\texttt{or}$</td>\n",
    "</tr>\n",
    "<tr>\n",
    "  <td>$\\texttt{while}$</td>\n",
    "  <td>$\\texttt{continue}$</td>\n",
    "  <td>$\\texttt{exec}$</td>\n",
    "  <td>$\\texttt{import}$</td>\n",
    "  <td>$\\texttt{pass}$</td>\n",
    "  <td>$\\texttt{yield}$</td>\n",
    "</tr>\n",
    "<tr>\n",
    "  <td>$\\texttt{def}$</td>\n",
    "  <td>$\\texttt{finally}$</td>\n",
    "  <td>$\\texttt{in}$</td>\n",
    "  <td>$\\texttt{print}$</td>\n",
    "  <td>$\\texttt{del}$</td>\n",
    "  <td>$\\texttt{system}$</td>\n",
    "</tr>\n",
    "</table>"
   ]
  },
  {
   "cell_type": "code",
   "execution_count": null,
   "metadata": {
    "collapsed": true,
    "nbpresent": {
     "id": "416fb878-9bc4-4b55-99ca-34e37f54efa7"
    },
    "slideshow": {
     "slide_type": "slide"
    }
   },
   "outputs": [],
   "source": []
  }
 ],
 "metadata": {
  "anaconda-cloud": {},
  "celltoolbar": "Slideshow",
  "kernelspec": {
   "display_name": "Python [default]",
   "language": "python",
   "name": "python3"
  },
  "language_info": {
   "codemirror_mode": {
    "name": "ipython",
    "version": 3
   },
   "file_extension": ".py",
   "mimetype": "text/x-python",
   "name": "python",
   "nbconvert_exporter": "python",
   "pygments_lexer": "ipython3",
   "version": "3.5.2"
  },
  "nbpresent": {
   "slides": {
    "00fa9486-f0a1-4849-a472-14e847637568": {
     "id": "00fa9486-f0a1-4849-a472-14e847637568",
     "prev": "7966b3e8-7c5d-4771-952a-5bb1e8878547",
     "regions": {
      "30e5bb8a-43ee-44d4-a8d2-a3ae218550cc": {
       "attrs": {
        "height": 0.8,
        "width": 0.8,
        "x": 0.1,
        "y": 0.1
       },
       "content": {
        "cell": "12a64f88-ad8d-416d-8ab5-735022e78674",
        "part": "whole"
       },
       "id": "30e5bb8a-43ee-44d4-a8d2-a3ae218550cc"
      }
     },
     "theme": "70c416bf-1404-4537-9202-d26bd4982096"
    },
    "0818be69-e2ba-48c4-b912-97ace46a5a78": {
     "id": "0818be69-e2ba-48c4-b912-97ace46a5a78",
     "prev": "25b871c0-866b-489b-8547-26b7ee5713ce",
     "regions": {
      "54d239fb-6fa6-4188-895a-ab5406df7c69": {
       "attrs": {
        "height": 0.8,
        "width": 0.8,
        "x": 0.1,
        "y": 0.1
       },
       "content": {
        "cell": "fe024c78-56d6-44c0-84c8-704defab9d1a",
        "part": "whole"
       },
       "id": "54d239fb-6fa6-4188-895a-ab5406df7c69"
      }
     }
    },
    "090a98e9-c46c-427e-b34d-5b9d044ecdec": {
     "id": "090a98e9-c46c-427e-b34d-5b9d044ecdec",
     "prev": "c410e4f7-1972-4712-b8a7-4f72ed3d56dd",
     "regions": {
      "0826d650-5523-47ef-a055-9a0ebac1b7d1": {
       "attrs": {
        "height": 0.8,
        "width": 0.8,
        "x": 0.1,
        "y": 0.1
       },
       "content": {
        "cell": "32ae04c5-7ce7-455c-977a-1b5621fa8d28",
        "part": "whole"
       },
       "id": "0826d650-5523-47ef-a055-9a0ebac1b7d1"
      }
     }
    },
    "0a5577d7-9ed4-4387-9267-ef48f3e2898d": {
     "id": "0a5577d7-9ed4-4387-9267-ef48f3e2898d",
     "prev": "87d71d27-194f-4538-86db-a1b4fb282cae",
     "regions": {
      "9ef72a0b-05c4-4705-8b87-e3a901202148": {
       "attrs": {
        "height": 0.8,
        "width": 0.8,
        "x": 0.1,
        "y": 0.1
       },
       "content": {
        "cell": "416fb878-9bc4-4b55-99ca-34e37f54efa7",
        "part": "whole"
       },
       "id": "9ef72a0b-05c4-4705-8b87-e3a901202148"
      }
     }
    },
    "0c024265-4eae-498b-a90d-4973df3eb98a": {
     "id": "0c024265-4eae-498b-a90d-4973df3eb98a",
     "prev": "93a165a6-599b-4ed1-87aa-dadf386c853f",
     "regions": {
      "a65176fc-e5d1-4721-9363-4f279130053e": {
       "attrs": {
        "height": 0.8,
        "width": 0.8,
        "x": 0.1,
        "y": 0.1
       },
       "content": {
        "cell": "d24c84e3-7b4d-42c4-a74e-4d5f8e4d01f2",
        "part": "whole"
       },
       "id": "a65176fc-e5d1-4721-9363-4f279130053e"
      }
     }
    },
    "14d3122a-9297-4528-9f94-0431bdda4681": {
     "id": "14d3122a-9297-4528-9f94-0431bdda4681",
     "prev": "a5c8a1f7-ecaf-460b-a3f4-f751ee12801a",
     "regions": {
      "a2cc56e8-1618-44ff-8094-1bc2c1f91f11": {
       "attrs": {
        "height": 0.8,
        "width": 0.8,
        "x": 0.1,
        "y": 0.1
       },
       "content": {
        "cell": "e45b3a8f-d3cc-4b5b-a699-6208cfbe04cb",
        "part": "whole"
       },
       "id": "a2cc56e8-1618-44ff-8094-1bc2c1f91f11"
      }
     }
    },
    "17a265dd-a7bc-4e4c-aedd-33549b428b87": {
     "id": "17a265dd-a7bc-4e4c-aedd-33549b428b87",
     "prev": "33cda823-112c-4c70-8e44-592a0b9b3fe6",
     "regions": {
      "0aaf4f98-c05e-4e7d-80e6-7d6eabe5082a": {
       "attrs": {
        "height": 0.8,
        "width": 0.8,
        "x": 0.1,
        "y": 0.1
       },
       "content": {
        "cell": "f9b7e9a3-487a-42b2-bf85-4a0dc9a069e9",
        "part": "whole"
       },
       "id": "0aaf4f98-c05e-4e7d-80e6-7d6eabe5082a"
      }
     }
    },
    "1ef5d67e-cfea-4b04-9a6e-13a10d5cd38e": {
     "id": "1ef5d67e-cfea-4b04-9a6e-13a10d5cd38e",
     "prev": "9300d127-41c0-4d4e-bafd-5ab5544006b1",
     "regions": {
      "0eac6568-8d72-499a-949a-ef39f17140c6": {
       "attrs": {
        "height": 0.8,
        "width": 0.8,
        "x": 0.1,
        "y": 0.1
       },
       "content": {
        "cell": "888bda16-39f0-4d9c-a4bd-fddea67e658a",
        "part": "whole"
       },
       "id": "0eac6568-8d72-499a-949a-ef39f17140c6"
      }
     }
    },
    "1ff883b2-6ddd-4864-b766-8ef242cef6a5": {
     "id": "1ff883b2-6ddd-4864-b766-8ef242cef6a5",
     "prev": "71d2ee5a-75dd-411c-b64a-483a2dc8ed7f",
     "regions": {
      "54b94c5a-8e03-4c5c-acd6-69ab016128d8": {
       "attrs": {
        "height": 0.8,
        "width": 0.8,
        "x": 0.1,
        "y": 0.1
       },
       "content": {
        "cell": "d857c80b-4ae9-4347-9e19-0288e524df42",
        "part": "whole"
       },
       "id": "54b94c5a-8e03-4c5c-acd6-69ab016128d8"
      }
     }
    },
    "206aede5-abb8-4bcf-9fc9-fa45b5b024a2": {
     "id": "206aede5-abb8-4bcf-9fc9-fa45b5b024a2",
     "prev": "e5439c9a-7e63-45b0-a54a-4e77040265a2",
     "regions": {
      "c1df02d0-1b7f-46ac-8fba-e858716059e9": {
       "attrs": {
        "height": 0.8,
        "width": 0.8,
        "x": 0.1,
        "y": 0.1
       },
       "content": {
        "cell": "75e3e1c8-247c-4e7d-b9d7-fc98fd98b467",
        "part": "whole"
       },
       "id": "c1df02d0-1b7f-46ac-8fba-e858716059e9"
      }
     }
    },
    "23f4b549-0b3d-4514-b8ec-99b4114a2176": {
     "id": "23f4b549-0b3d-4514-b8ec-99b4114a2176",
     "prev": "477a073c-24d9-40c1-a432-adacada8dddc",
     "regions": {
      "5709e8ec-8485-4790-8a2a-7284b5024ed7": {
       "attrs": {
        "height": 0.8,
        "width": 0.8,
        "x": 0.1,
        "y": 0.1
       },
       "content": {
        "cell": "1ba08329-47fe-4de5-8f1d-7742d5e32ac0",
        "part": "whole"
       },
       "id": "5709e8ec-8485-4790-8a2a-7284b5024ed7"
      }
     }
    },
    "24d3224f-9f71-4bf4-a696-2a0c6a081cef": {
     "id": "24d3224f-9f71-4bf4-a696-2a0c6a081cef",
     "prev": "2b957171-a535-41c1-995f-cbf305c3c1e4",
     "regions": {
      "1588b89e-18e9-4ed7-9f80-2f2344063516": {
       "attrs": {
        "height": 0.8,
        "width": 0.8,
        "x": 0.1,
        "y": 0.1
       },
       "content": {
        "cell": "a8f89162-7f47-485d-9a70-d0b69ccf67fb",
        "part": "whole"
       },
       "id": "1588b89e-18e9-4ed7-9f80-2f2344063516"
      }
     }
    },
    "25b871c0-866b-489b-8547-26b7ee5713ce": {
     "id": "25b871c0-866b-489b-8547-26b7ee5713ce",
     "prev": "9efee521-a799-4eee-881c-417c37f98295",
     "regions": {
      "190f7a84-d0aa-4994-ad62-8b751cb13975": {
       "attrs": {
        "height": 0.8,
        "width": 0.8,
        "x": 0.1,
        "y": 0.1
       },
       "content": {
        "cell": "cf79d059-d84c-42c2-a080-297ed1bae276",
        "part": "whole"
       },
       "id": "190f7a84-d0aa-4994-ad62-8b751cb13975"
      }
     }
    },
    "2b957171-a535-41c1-995f-cbf305c3c1e4": {
     "id": "2b957171-a535-41c1-995f-cbf305c3c1e4",
     "prev": "6204613b-d47e-402d-a225-fff7cbcb212e",
     "regions": {
      "16e956c5-3d0f-4ccf-9db3-25b254be6277": {
       "attrs": {
        "height": 0.8,
        "width": 0.8,
        "x": 0.1,
        "y": 0.1
       },
       "content": {
        "cell": "78a1ecf6-2f35-41d5-8bc2-bf02f062146a",
        "part": "whole"
       },
       "id": "16e956c5-3d0f-4ccf-9db3-25b254be6277"
      }
     }
    },
    "3021e873-fb9c-4116-a621-ace74a77ed5e": {
     "id": "3021e873-fb9c-4116-a621-ace74a77ed5e",
     "prev": "b30f4926-baef-4841-a608-d56c3db08d53",
     "regions": {
      "f5a5f194-4cb1-47a5-a306-cfde6eca4009": {
       "attrs": {
        "height": 0.8,
        "width": 0.8,
        "x": 0.1,
        "y": 0.1
       },
       "content": {
        "cell": "66a4fa74-872e-49dc-8670-a3c0f00f6e89",
        "part": "whole"
       },
       "id": "f5a5f194-4cb1-47a5-a306-cfde6eca4009"
      }
     }
    },
    "3114e531-8861-41d4-9f04-9faacbff1b29": {
     "id": "3114e531-8861-41d4-9f04-9faacbff1b29",
     "prev": "87b6bef8-88e3-4e6f-b11e-f0fb6c576f69",
     "regions": {
      "ea68f488-ba68-45de-a020-e9fbcd665c7b": {
       "attrs": {
        "height": 0.8,
        "width": 0.8,
        "x": 0.1,
        "y": 0.1
       },
       "content": {
        "cell": "7d29b02e-bceb-40a4-a3e4-2a8a05fb23f8",
        "part": "whole"
       },
       "id": "ea68f488-ba68-45de-a020-e9fbcd665c7b"
      }
     }
    },
    "33cda823-112c-4c70-8e44-592a0b9b3fe6": {
     "id": "33cda823-112c-4c70-8e44-592a0b9b3fe6",
     "prev": "c89fcd41-e700-4d5c-aec8-6a8a347a9955",
     "regions": {
      "c2fa659b-2538-46df-abf1-22b6036cfcc2": {
       "attrs": {
        "height": 0.8,
        "width": 0.8,
        "x": 0.1,
        "y": 0.1
       },
       "content": {
        "cell": "98fc8faf-47bd-430d-9261-19279c809ad9",
        "part": "whole"
       },
       "id": "c2fa659b-2538-46df-abf1-22b6036cfcc2"
      }
     }
    },
    "3905ae69-44e4-447b-bf93-983b1c088680": {
     "id": "3905ae69-44e4-447b-bf93-983b1c088680",
     "prev": "796a9335-ea9b-4a75-abc4-f1d06a43218c",
     "regions": {
      "564ac905-ade9-4709-8dc3-e81af85e27f0": {
       "attrs": {
        "height": 0.8,
        "width": 0.8,
        "x": 0.1,
        "y": 0.1
       },
       "content": {
        "cell": "f01665cc-b92e-4f54-9dba-df67670b6f6d",
        "part": "whole"
       },
       "id": "564ac905-ade9-4709-8dc3-e81af85e27f0"
      }
     }
    },
    "3ac26ee0-a8a0-4edf-8044-a448f1819c0b": {
     "id": "3ac26ee0-a8a0-4edf-8044-a448f1819c0b",
     "prev": "f590195d-7e5c-4203-90f9-db963033beac",
     "regions": {
      "5f445949-e5ad-474f-b73f-6cbca08adccb": {
       "attrs": {
        "height": 0.8,
        "width": 0.8,
        "x": 0.1,
        "y": 0.1
       },
       "content": {
        "cell": "cd9c6d22-63a4-4689-bb73-ea3c7c917592",
        "part": "whole"
       },
       "id": "5f445949-e5ad-474f-b73f-6cbca08adccb"
      }
     }
    },
    "3b04accd-ac68-4c21-9e78-9f6d7a87ab7b": {
     "id": "3b04accd-ac68-4c21-9e78-9f6d7a87ab7b",
     "prev": "e4254a56-0f71-4d86-ae4a-8e033ae97347",
     "regions": {
      "afc5e62d-bb15-4dd2-8b18-a6c48d43ff90": {
       "attrs": {
        "height": 0.8,
        "width": 0.8,
        "x": 0.1,
        "y": 0.1
       },
       "content": {
        "cell": "db034579-4b1c-44ca-a49e-ed09acca8ab3",
        "part": "whole"
       },
       "id": "afc5e62d-bb15-4dd2-8b18-a6c48d43ff90"
      }
     },
     "theme": "2041dea7-6344-41ab-ac0b-28e18520d062"
    },
    "3c7a8291-c049-4655-8622-6eee703e8500": {
     "id": "3c7a8291-c049-4655-8622-6eee703e8500",
     "prev": "dbd57d85-8762-4e8e-a613-7b1cab756d3e",
     "regions": {
      "e4bc8eb2-7691-42fc-a088-70cc56be8907": {
       "attrs": {
        "height": 0.8,
        "width": 0.8,
        "x": 0.1,
        "y": 0.1
       },
       "content": {
        "cell": "83cd1586-11e6-4693-b122-e325c12f0766",
        "part": "whole"
       },
       "id": "e4bc8eb2-7691-42fc-a088-70cc56be8907"
      }
     }
    },
    "477a073c-24d9-40c1-a432-adacada8dddc": {
     "id": "477a073c-24d9-40c1-a432-adacada8dddc",
     "prev": "6194aeb2-a16d-48ef-a65c-baeddff4d402",
     "regions": {
      "922f1c5b-b27a-4303-ba0a-a3b2bd5290a0": {
       "attrs": {
        "height": 0.8,
        "width": 0.8,
        "x": 0.1,
        "y": 0.1
       },
       "content": {
        "cell": "a8ba0c00-009f-4f0f-89a3-f770a3d82e19",
        "part": "whole"
       },
       "id": "922f1c5b-b27a-4303-ba0a-a3b2bd5290a0"
      }
     }
    },
    "4cc73679-3a68-4927-bdda-8d225bb6f25b": {
     "id": "4cc73679-3a68-4927-bdda-8d225bb6f25b",
     "prev": "59d79b13-1df7-4e61-8c91-b3652dbcbcbb",
     "regions": {
      "1d799395-7089-4a8d-985f-7c18a27576c7": {
       "attrs": {
        "height": 0.8,
        "width": 0.8,
        "x": 0.1,
        "y": 0.1
       },
       "content": {
        "cell": "53803bc3-8abf-4b41-86c8-ec785f600ec1",
        "part": "whole"
       },
       "id": "1d799395-7089-4a8d-985f-7c18a27576c7"
      }
     }
    },
    "4d396ed7-7cc4-4528-84af-49e28f5e21c7": {
     "id": "4d396ed7-7cc4-4528-84af-49e28f5e21c7",
     "prev": "206aede5-abb8-4bcf-9fc9-fa45b5b024a2",
     "regions": {
      "a7cb4b98-559c-481f-a298-842ff3868a0f": {
       "attrs": {
        "height": 0.8,
        "width": 0.8,
        "x": 0.1,
        "y": 0.1
       },
       "content": {
        "cell": "c0f2d7d2-8f7a-471c-8794-b4d0e84b8d35",
        "part": "whole"
       },
       "id": "a7cb4b98-559c-481f-a298-842ff3868a0f"
      }
     }
    },
    "517165c0-bd57-4365-ab07-ec0f56f96635": {
     "id": "517165c0-bd57-4365-ab07-ec0f56f96635",
     "prev": "a995cac9-248a-47dc-923b-3935c22938fa",
     "regions": {
      "7a8c3bbc-7849-4576-a5bb-efec7abca81f": {
       "attrs": {
        "height": 0.8,
        "width": 0.8,
        "x": 0.1,
        "y": 0.1
       },
       "content": {
        "cell": "ea1f9ae2-65bf-43ca-af1a-c8367951440d",
        "part": "whole"
       },
       "id": "7a8c3bbc-7849-4576-a5bb-efec7abca81f"
      }
     }
    },
    "55cd7da7-559d-473b-818a-cfab8467eacf": {
     "id": "55cd7da7-559d-473b-818a-cfab8467eacf",
     "prev": "abc1b910-bcae-4b13-b7bd-0525c868b93c",
     "regions": {
      "03880290-1ef7-4b4a-9378-2067c6ab779e": {
       "attrs": {
        "height": 0.8,
        "width": 0.8,
        "x": 0.1,
        "y": 0.1
       },
       "content": {
        "cell": "b5e6f4a0-2018-4400-9fd4-dc9226c4ddd4",
        "part": "whole"
       },
       "id": "03880290-1ef7-4b4a-9378-2067c6ab779e"
      }
     }
    },
    "59d79b13-1df7-4e61-8c91-b3652dbcbcbb": {
     "id": "59d79b13-1df7-4e61-8c91-b3652dbcbcbb",
     "prev": "3ac26ee0-a8a0-4edf-8044-a448f1819c0b",
     "regions": {
      "3bed1e09-6411-4f42-b955-ac5ba831a265": {
       "attrs": {
        "height": 0.8,
        "width": 0.8,
        "x": 0.1,
        "y": 0.1
       },
       "content": {
        "cell": "5f46f1ee-6c2e-4d00-a690-180b383ab766",
        "part": "whole"
       },
       "id": "3bed1e09-6411-4f42-b955-ac5ba831a265"
      }
     }
    },
    "5b40c969-89fa-4c6c-b7ac-e73589f6be1c": {
     "id": "5b40c969-89fa-4c6c-b7ac-e73589f6be1c",
     "prev": "1ef5d67e-cfea-4b04-9a6e-13a10d5cd38e",
     "regions": {
      "e5294381-ab88-4cee-8479-15ba15934733": {
       "attrs": {
        "height": 0.8,
        "width": 0.8,
        "x": 0.1,
        "y": 0.1
       },
       "content": {
        "cell": "10f71e98-1ce8-46f3-bf35-ab926f68a4e7",
        "part": "whole"
       },
       "id": "e5294381-ab88-4cee-8479-15ba15934733"
      }
     }
    },
    "5c9066fe-756b-43ca-87f4-b1433e3d45c6": {
     "id": "5c9066fe-756b-43ca-87f4-b1433e3d45c6",
     "prev": "5b40c969-89fa-4c6c-b7ac-e73589f6be1c",
     "regions": {
      "77b44c80-3a87-48e3-a915-55085b5bbc58": {
       "attrs": {
        "height": 0.8,
        "width": 0.8,
        "x": 0.1,
        "y": 0.1
       },
       "content": {
        "cell": "b271fa3b-4c0a-468d-a0eb-a4df8eb1f10f",
        "part": "whole"
       },
       "id": "77b44c80-3a87-48e3-a915-55085b5bbc58"
      }
     }
    },
    "5e165cc7-aaaf-43fb-93fa-8d88d64fd794": {
     "id": "5e165cc7-aaaf-43fb-93fa-8d88d64fd794",
     "prev": "a0a8b4c1-bb3b-4e92-8446-0cf4ba089855",
     "regions": {
      "348effe6-63df-4cae-90d6-2f6df07531ff": {
       "attrs": {
        "height": 0.8,
        "width": 0.8,
        "x": 0.1,
        "y": 0.1
       },
       "content": {
        "cell": "1779c955-a744-4e20-aaa0-d38ffe93fa0c",
        "part": "whole"
       },
       "id": "348effe6-63df-4cae-90d6-2f6df07531ff"
      }
     }
    },
    "5e96066d-e614-4679-90e1-6ffbf90e246c": {
     "id": "5e96066d-e614-4679-90e1-6ffbf90e246c",
     "prev": "9e16c510-73ca-467f-b249-e419684d5e72",
     "regions": {
      "75209bff-63e1-4888-acad-6247bd6f6c54": {
       "attrs": {
        "height": 0.8,
        "width": 0.8,
        "x": 0.1,
        "y": 0.1
       },
       "content": {
        "cell": "b9ee7f33-a351-4c7b-9314-db4b967f948d",
        "part": "whole"
       },
       "id": "75209bff-63e1-4888-acad-6247bd6f6c54"
      }
     }
    },
    "6194aeb2-a16d-48ef-a65c-baeddff4d402": {
     "id": "6194aeb2-a16d-48ef-a65c-baeddff4d402",
     "prev": "bfddecf4-6e51-4969-b127-c5229964e40f",
     "regions": {
      "42a88219-7650-4be2-9b3e-e0b65a9bce2e": {
       "attrs": {
        "height": 0.8,
        "width": 0.8,
        "x": 0.1,
        "y": 0.1
       },
       "content": {
        "cell": "dcc734a4-5251-4af1-b667-942270bd1189",
        "part": "whole"
       },
       "id": "42a88219-7650-4be2-9b3e-e0b65a9bce2e"
      }
     }
    },
    "6204613b-d47e-402d-a225-fff7cbcb212e": {
     "id": "6204613b-d47e-402d-a225-fff7cbcb212e",
     "prev": "5e96066d-e614-4679-90e1-6ffbf90e246c",
     "regions": {
      "b7740066-caa0-4744-8d7a-12f67a746af0": {
       "attrs": {
        "height": 0.8,
        "width": 0.8,
        "x": 0.1,
        "y": 0.1
       },
       "content": {
        "cell": "062a7d24-7771-4594-9a31-2599a075a737",
        "part": "whole"
       },
       "id": "b7740066-caa0-4744-8d7a-12f67a746af0"
      }
     }
    },
    "65199a2b-6bd1-414e-b728-2977dbd5ef4e": {
     "id": "65199a2b-6bd1-414e-b728-2977dbd5ef4e",
     "prev": "3b04accd-ac68-4c21-9e78-9f6d7a87ab7b",
     "regions": {
      "c255419b-c663-4439-9a37-582475fcad07": {
       "attrs": {
        "height": 0.8,
        "width": 0.8,
        "x": 0.1,
        "y": 0.1
       },
       "content": {
        "cell": "4e42cd3f-d555-42f2-a08e-ffc6ac30d349",
        "part": "whole"
       },
       "id": "c255419b-c663-4439-9a37-582475fcad07"
      }
     }
    },
    "6562f7a8-aa28-4000-b0a5-c8fd59c2007d": {
     "id": "6562f7a8-aa28-4000-b0a5-c8fd59c2007d",
     "prev": "5c9066fe-756b-43ca-87f4-b1433e3d45c6",
     "regions": {
      "1bdbc8fa-09c9-44c0-abe2-22a94844ec79": {
       "attrs": {
        "height": 0.8,
        "width": 0.8,
        "x": 0.1,
        "y": 0.1
       },
       "content": {
        "cell": "94c8e67e-e959-476f-afcc-4e4a72556b99",
        "part": "whole"
       },
       "id": "1bdbc8fa-09c9-44c0-abe2-22a94844ec79"
      }
     }
    },
    "70b69ddd-ad56-402e-9bfe-72d118743a08": {
     "id": "70b69ddd-ad56-402e-9bfe-72d118743a08",
     "prev": "c15e9ba6-4360-4f65-9e24-ff383dbe8243",
     "regions": {
      "132de908-276b-4c3d-b875-94d2a5575311": {
       "attrs": {
        "height": 0.8,
        "width": 0.8,
        "x": 0.1,
        "y": 0.1
       },
       "content": {
        "cell": "882634c3-1776-4db9-9f1c-c5ee55b9aba9",
        "part": "whole"
       },
       "id": "132de908-276b-4c3d-b875-94d2a5575311"
      }
     }
    },
    "71d2ee5a-75dd-411c-b64a-483a2dc8ed7f": {
     "id": "71d2ee5a-75dd-411c-b64a-483a2dc8ed7f",
     "prev": "e799591d-cc0d-40bb-af4d-4f0e4669a67a",
     "regions": {
      "620d8646-950b-482c-90ea-43fecc03d8c6": {
       "attrs": {
        "height": 0.8,
        "width": 0.8,
        "x": 0.1,
        "y": 0.1
       },
       "content": {
        "cell": "e0b48525-fac3-4621-b391-375b8ce87786",
        "part": "whole"
       },
       "id": "620d8646-950b-482c-90ea-43fecc03d8c6"
      }
     }
    },
    "7966b3e8-7c5d-4771-952a-5bb1e8878547": {
     "id": "7966b3e8-7c5d-4771-952a-5bb1e8878547",
     "prev": "fe8adba8-a615-4ddb-af38-cbae1f007d21",
     "regions": {
      "ead303ef-f0c7-4ee2-a83b-edebecf0aa82": {
       "attrs": {
        "height": 0.8,
        "width": 0.8,
        "x": 0.1,
        "y": 0.1
       },
       "content": {
        "cell": "72c30118-72a8-446d-85b6-ae8d7b87a674",
        "part": "whole"
       },
       "id": "ead303ef-f0c7-4ee2-a83b-edebecf0aa82"
      }
     }
    },
    "796a9335-ea9b-4a75-abc4-f1d06a43218c": {
     "id": "796a9335-ea9b-4a75-abc4-f1d06a43218c",
     "prev": "4d396ed7-7cc4-4528-84af-49e28f5e21c7",
     "regions": {
      "6eaacfef-bf72-445a-b247-456246c5afbf": {
       "attrs": {
        "height": 0.8,
        "width": 0.8,
        "x": 0.1,
        "y": 0.1
       },
       "content": {
        "cell": "36b1adb1-cacd-44e3-b2be-7c51e64ff1b4",
        "part": "whole"
       },
       "id": "6eaacfef-bf72-445a-b247-456246c5afbf"
      }
     }
    },
    "7fc74cd4-16c3-46fb-abb5-1b850e921c03": {
     "id": "7fc74cd4-16c3-46fb-abb5-1b850e921c03",
     "prev": "e8ca5097-421b-45e4-b4f2-cd55201520a2",
     "regions": {
      "e48dbd68-95dd-4810-be81-aa45f7ad1fa8": {
       "attrs": {
        "height": 0.8,
        "width": 0.8,
        "x": 0.1,
        "y": 0.1
       },
       "content": {
        "cell": "1fd8092e-9e64-486c-a208-7f8af0b12603",
        "part": "whole"
       },
       "id": "e48dbd68-95dd-4810-be81-aa45f7ad1fa8"
      }
     }
    },
    "87b6bef8-88e3-4e6f-b11e-f0fb6c576f69": {
     "id": "87b6bef8-88e3-4e6f-b11e-f0fb6c576f69",
     "prev": "d394b526-937b-4168-953f-237e0be73273",
     "regions": {
      "80b83ca8-2594-473e-8cae-1cd7555e1edf": {
       "attrs": {
        "height": 0.8,
        "width": 0.8,
        "x": 0.1,
        "y": 0.1
       },
       "content": {
        "cell": "968fd380-e0a7-434d-aac2-e84684362b94",
        "part": "whole"
       },
       "id": "80b83ca8-2594-473e-8cae-1cd7555e1edf"
      }
     }
    },
    "87d71d27-194f-4538-86db-a1b4fb282cae": {
     "id": "87d71d27-194f-4538-86db-a1b4fb282cae",
     "prev": "3114e531-8861-41d4-9f04-9faacbff1b29",
     "regions": {
      "f17c4cac-899a-485e-90c1-9f052a1d6550": {
       "attrs": {
        "height": 0.8,
        "width": 0.8,
        "x": 0.1,
        "y": 0.1
       },
       "content": {
        "cell": "9621da02-d25f-4a88-9c88-d57357389f12",
        "part": "whole"
       },
       "id": "f17c4cac-899a-485e-90c1-9f052a1d6550"
      }
     }
    },
    "89c0c21b-be78-47b4-937b-2bc56714c638": {
     "id": "89c0c21b-be78-47b4-937b-2bc56714c638",
     "prev": "17a265dd-a7bc-4e4c-aedd-33549b428b87",
     "regions": {
      "5cb34e9f-1978-439d-858f-2fbd83d056a9": {
       "attrs": {
        "height": 0.8,
        "width": 0.8,
        "x": 0.1,
        "y": 0.1
       },
       "content": {
        "cell": "9a1a7323-cd9f-49e3-b842-e4edd542fef1",
        "part": "whole"
       },
       "id": "5cb34e9f-1978-439d-858f-2fbd83d056a9"
      }
     }
    },
    "9300d127-41c0-4d4e-bafd-5ab5544006b1": {
     "id": "9300d127-41c0-4d4e-bafd-5ab5544006b1",
     "prev": "3c7a8291-c049-4655-8622-6eee703e8500",
     "regions": {
      "a65c6233-be67-40cd-ba49-032a7b222103": {
       "attrs": {
        "height": 0.8,
        "width": 0.8,
        "x": 0.1,
        "y": 0.1
       },
       "content": {
        "cell": "a7c7d343-d938-43b8-84aa-26b7d0e1d2c6",
        "part": "whole"
       },
       "id": "a65c6233-be67-40cd-ba49-032a7b222103"
      }
     }
    },
    "93a165a6-599b-4ed1-87aa-dadf386c853f": {
     "id": "93a165a6-599b-4ed1-87aa-dadf386c853f",
     "prev": "b6210cc0-bcf5-4839-a5c0-6ae2c066288b",
     "regions": {
      "32cf73ee-4bb5-4a62-aa92-1d3fb2149e86": {
       "attrs": {
        "height": 0.8,
        "width": 0.8,
        "x": 0.1,
        "y": 0.1
       },
       "content": {
        "cell": "b5b6a333-1ddd-4652-aedd-f62db524a140",
        "part": "whole"
       },
       "id": "32cf73ee-4bb5-4a62-aa92-1d3fb2149e86"
      }
     }
    },
    "949dbef1-edd9-4339-8e2c-0b50b69e3bf6": {
     "id": "949dbef1-edd9-4339-8e2c-0b50b69e3bf6",
     "prev": "3021e873-fb9c-4116-a621-ace74a77ed5e",
     "regions": {
      "4aef1dc3-ad74-4c17-8c35-232d0f3fd7d0": {
       "attrs": {
        "height": 0.8,
        "width": 0.8,
        "x": 0.1,
        "y": 0.1
       },
       "content": {
        "cell": "72d0f9ef-201f-4243-9793-b5c48b6921cb",
        "part": "whole"
       },
       "id": "4aef1dc3-ad74-4c17-8c35-232d0f3fd7d0"
      }
     }
    },
    "95859b75-a616-4a72-a472-9eeab9abe246": {
     "id": "95859b75-a616-4a72-a472-9eeab9abe246",
     "prev": "b1fce3c1-cf8d-4265-b50b-30355c603365",
     "regions": {
      "e0a60112-2e04-4d99-b649-f249c74edfcb": {
       "attrs": {
        "height": 0.8,
        "width": 0.8,
        "x": 0.1,
        "y": 0.1
       },
       "content": {
        "cell": "053e28d1-9ebb-43c5-9bc7-93ce5a559988",
        "part": "whole"
       },
       "id": "e0a60112-2e04-4d99-b649-f249c74edfcb"
      }
     }
    },
    "9828098f-40b6-44b3-94f7-55d76a86ffc1": {
     "id": "9828098f-40b6-44b3-94f7-55d76a86ffc1",
     "prev": "0c024265-4eae-498b-a90d-4973df3eb98a",
     "regions": {
      "97018d21-b47b-4271-ad2f-ff4fb4dd0604": {
       "attrs": {
        "height": 0.8,
        "width": 0.8,
        "x": 0.1,
        "y": 0.1
       },
       "content": {
        "cell": "318307e8-2373-4bbe-8311-86b238512433",
        "part": "whole"
       },
       "id": "97018d21-b47b-4271-ad2f-ff4fb4dd0604"
      }
     },
     "theme": "2041dea7-6344-41ab-ac0b-28e18520d062"
    },
    "9e16c510-73ca-467f-b249-e419684d5e72": {
     "id": "9e16c510-73ca-467f-b249-e419684d5e72",
     "prev": "c910fe20-8105-45e4-ba75-73365745ccae",
     "regions": {
      "48cc9274-1e70-4e15-8da0-0111620a4883": {
       "attrs": {
        "height": 0.8,
        "width": 0.8,
        "x": 0.1,
        "y": 0.1
       },
       "content": {
        "cell": "cff7e255-4b68-4d0b-a965-8ad9671009e1",
        "part": "whole"
       },
       "id": "48cc9274-1e70-4e15-8da0-0111620a4883"
      }
     }
    },
    "9efee521-a799-4eee-881c-417c37f98295": {
     "id": "9efee521-a799-4eee-881c-417c37f98295",
     "prev": "b9b442ea-1f49-4e48-944f-742c4a438216",
     "regions": {
      "419a36c3-5bc0-40fb-8d61-10dccbd841e5": {
       "attrs": {
        "height": 0.8,
        "width": 0.8,
        "x": 0.1,
        "y": 0.1
       },
       "content": {
        "cell": "81671352-721b-4183-881e-9e5826c580e0",
        "part": "whole"
       },
       "id": "419a36c3-5bc0-40fb-8d61-10dccbd841e5"
      }
     }
    },
    "a0a8b4c1-bb3b-4e92-8446-0cf4ba089855": {
     "id": "a0a8b4c1-bb3b-4e92-8446-0cf4ba089855",
     "prev": "9828098f-40b6-44b3-94f7-55d76a86ffc1",
     "regions": {
      "e4e0df3e-a17e-49ae-a861-dddcf291f3fc": {
       "attrs": {
        "height": 0.8,
        "width": 0.8,
        "x": 0.1,
        "y": 0.1
       },
       "content": {
        "cell": "4c890716-0d0c-4cf8-b255-c014662f4547",
        "part": "whole"
       },
       "id": "e4e0df3e-a17e-49ae-a861-dddcf291f3fc"
      }
     }
    },
    "a5c8a1f7-ecaf-460b-a3f4-f751ee12801a": {
     "id": "a5c8a1f7-ecaf-460b-a3f4-f751ee12801a",
     "prev": "55cd7da7-559d-473b-818a-cfab8467eacf",
     "regions": {
      "ff275ddd-6822-40c6-89d2-3753c1cfbf19": {
       "attrs": {
        "height": 0.8,
        "width": 0.8,
        "x": 0.1,
        "y": 0.1
       },
       "content": {
        "cell": "0d246c98-8a6a-4465-8ec7-86dd0dc9d5cb",
        "part": "whole"
       },
       "id": "ff275ddd-6822-40c6-89d2-3753c1cfbf19"
      }
     }
    },
    "a995cac9-248a-47dc-923b-3935c22938fa": {
     "id": "a995cac9-248a-47dc-923b-3935c22938fa",
     "prev": "0818be69-e2ba-48c4-b912-97ace46a5a78",
     "regions": {
      "3536e5d5-a71b-47f7-b48d-501a30ee1708": {
       "attrs": {
        "height": 0.8,
        "width": 0.8,
        "x": 0.1,
        "y": 0.1
       },
       "content": {
        "cell": "b91181f6-0af7-4d39-8413-83ea5f6cc7bd",
        "part": "whole"
       },
       "id": "3536e5d5-a71b-47f7-b48d-501a30ee1708"
      }
     }
    },
    "abc1b910-bcae-4b13-b7bd-0525c868b93c": {
     "id": "abc1b910-bcae-4b13-b7bd-0525c868b93c",
     "prev": "d28a7ff5-4358-480f-bbcc-1ef8815f5b4b",
     "regions": {
      "335efffe-4bb1-4345-bc4d-b3624cf6fb7b": {
       "attrs": {
        "height": 0.8,
        "width": 0.8,
        "x": 0.1,
        "y": 0.1
       },
       "content": {
        "cell": "bd0b42a3-51e8-4306-90aa-ef3c1d99a75b",
        "part": "whole"
       },
       "id": "335efffe-4bb1-4345-bc4d-b3624cf6fb7b"
      }
     }
    },
    "b1fce3c1-cf8d-4265-b50b-30355c603365": {
     "id": "b1fce3c1-cf8d-4265-b50b-30355c603365",
     "prev": "517165c0-bd57-4365-ab07-ec0f56f96635",
     "regions": {
      "12fa15fd-4564-4980-bfe8-7d5ffdbe4795": {
       "attrs": {
        "height": 0.8,
        "width": 0.8,
        "x": 0.1,
        "y": 0.1
       },
       "content": {
        "cell": "dd35783d-0089-4c42-959f-14aa7f7177ec",
        "part": "whole"
       },
       "id": "12fa15fd-4564-4980-bfe8-7d5ffdbe4795"
      }
     }
    },
    "b30f4926-baef-4841-a608-d56c3db08d53": {
     "id": "b30f4926-baef-4841-a608-d56c3db08d53",
     "prev": "f89c5c06-9960-4914-a209-dff79afffcb6",
     "regions": {
      "33c081cd-5ec9-4cf6-8fcb-b8a8ced0d660": {
       "attrs": {
        "height": 0.8,
        "width": 0.8,
        "x": 0.1,
        "y": 0.1
       },
       "content": {
        "cell": "948d7d43-4529-49c4-85f3-2e39c5f6b242",
        "part": "whole"
       },
       "id": "33c081cd-5ec9-4cf6-8fcb-b8a8ced0d660"
      }
     }
    },
    "b6210cc0-bcf5-4839-a5c0-6ae2c066288b": {
     "id": "b6210cc0-bcf5-4839-a5c0-6ae2c066288b",
     "prev": "65199a2b-6bd1-414e-b728-2977dbd5ef4e",
     "regions": {
      "f3b27ebb-a168-4857-ad4f-7a0ef84307ee": {
       "attrs": {
        "height": 0.8,
        "width": 0.8,
        "x": 0.1,
        "y": 0.1
       },
       "content": {
        "cell": "6b7d8b7d-6a57-479e-be98-8dda637ec403",
        "part": "whole"
       },
       "id": "f3b27ebb-a168-4857-ad4f-7a0ef84307ee"
      }
     }
    },
    "b9b442ea-1f49-4e48-944f-742c4a438216": {
     "id": "b9b442ea-1f49-4e48-944f-742c4a438216",
     "prev": "6562f7a8-aa28-4000-b0a5-c8fd59c2007d",
     "regions": {
      "c70592d0-7e66-49f9-99fa-34613fdd7ae0": {
       "attrs": {
        "height": 0.8,
        "width": 0.8,
        "x": 0.1,
        "y": 0.1
       },
       "content": {
        "cell": "46afb57b-becf-4fd8-9922-cd68e83df667",
        "part": "whole"
       },
       "id": "c70592d0-7e66-49f9-99fa-34613fdd7ae0"
      }
     }
    },
    "bfddecf4-6e51-4969-b127-c5229964e40f": {
     "id": "bfddecf4-6e51-4969-b127-c5229964e40f",
     "prev": "4cc73679-3a68-4927-bdda-8d225bb6f25b",
     "regions": {
      "0f638a0e-6fd8-4160-a095-a9320be6f810": {
       "attrs": {
        "height": 0.8,
        "width": 0.8,
        "x": 0.1,
        "y": 0.1
       },
       "content": {
        "cell": "598a7bc2-ded1-4bf8-bf35-f0e1f7c9d858",
        "part": "whole"
       },
       "id": "0f638a0e-6fd8-4160-a095-a9320be6f810"
      }
     }
    },
    "c15e9ba6-4360-4f65-9e24-ff383dbe8243": {
     "id": "c15e9ba6-4360-4f65-9e24-ff383dbe8243",
     "prev": "7fc74cd4-16c3-46fb-abb5-1b850e921c03",
     "regions": {
      "207f6ecd-d25d-43e2-8080-7926a45195e6": {
       "attrs": {
        "height": 0.8,
        "width": 0.8,
        "x": 0.1,
        "y": 0.1
       },
       "content": {
        "cell": "8041e2aa-8940-4d10-8b68-655bc91ee434",
        "part": "whole"
       },
       "id": "207f6ecd-d25d-43e2-8080-7926a45195e6"
      }
     }
    },
    "c410e4f7-1972-4712-b8a7-4f72ed3d56dd": {
     "id": "c410e4f7-1972-4712-b8a7-4f72ed3d56dd",
     "prev": "e34d686b-1c17-443a-a67e-5a2f48cd3367",
     "regions": {
      "12086314-0344-4eba-a7a0-8cbabbdbbe63": {
       "attrs": {
        "height": 0.8,
        "width": 0.8,
        "x": 0.1,
        "y": 0.1
       },
       "content": {
        "cell": "dc1292c4-685d-4627-bb86-7a872f8a5685",
        "part": "whole"
       },
       "id": "12086314-0344-4eba-a7a0-8cbabbdbbe63"
      }
     }
    },
    "c7fedaf3-f327-4b78-a76e-9d58416c40dc": {
     "id": "c7fedaf3-f327-4b78-a76e-9d58416c40dc",
     "prev": "00fa9486-f0a1-4849-a472-14e847637568",
     "regions": {
      "5ce592f3-0a1a-4607-b9c5-f6762f171dff": {
       "attrs": {
        "height": 0.8,
        "width": 0.8,
        "x": 0.1,
        "y": 0.1
       },
       "content": {
        "cell": "452a1407-e5c2-4519-a490-4347c967d29a",
        "part": "whole"
       },
       "id": "5ce592f3-0a1a-4607-b9c5-f6762f171dff"
      }
     }
    },
    "c89fcd41-e700-4d5c-aec8-6a8a347a9955": {
     "id": "c89fcd41-e700-4d5c-aec8-6a8a347a9955",
     "prev": "c98bd1bc-02e2-4ccf-a8ff-43b242f7e5ec",
     "regions": {
      "35f55f3d-2700-4ce6-800c-5dac128fa279": {
       "attrs": {
        "height": 0.8,
        "width": 0.8,
        "x": 0.1,
        "y": 0.1
       },
       "content": {
        "cell": "248e011d-cdc0-44e0-9c1c-ed3a95386475",
        "part": "whole"
       },
       "id": "35f55f3d-2700-4ce6-800c-5dac128fa279"
      }
     }
    },
    "c910fe20-8105-45e4-ba75-73365745ccae": {
     "id": "c910fe20-8105-45e4-ba75-73365745ccae",
     "prev": "1ff883b2-6ddd-4864-b766-8ef242cef6a5",
     "regions": {
      "9dac03de-25f1-4084-8189-ed771483e845": {
       "attrs": {
        "height": 0.8,
        "width": 0.8,
        "x": 0.1,
        "y": 0.1
       },
       "content": {
        "cell": "7b17ddb2-9ea5-49d0-8a1d-7ced38d22d72",
        "part": "whole"
       },
       "id": "9dac03de-25f1-4084-8189-ed771483e845"
      }
     }
    },
    "c98bd1bc-02e2-4ccf-a8ff-43b242f7e5ec": {
     "id": "c98bd1bc-02e2-4ccf-a8ff-43b242f7e5ec",
     "prev": "3905ae69-44e4-447b-bf93-983b1c088680",
     "regions": {
      "2f82c053-4f23-4640-bb31-883bbc2dce13": {
       "attrs": {
        "height": 0.8,
        "width": 0.8,
        "x": 0.1,
        "y": 0.1
       },
       "content": {
        "cell": "3aea7597-0509-40c1-8e2e-62a8862672e5",
        "part": "whole"
       },
       "id": "2f82c053-4f23-4640-bb31-883bbc2dce13"
      }
     }
    },
    "d28a7ff5-4358-480f-bbcc-1ef8815f5b4b": {
     "id": "d28a7ff5-4358-480f-bbcc-1ef8815f5b4b",
     "prev": "24d3224f-9f71-4bf4-a696-2a0c6a081cef",
     "regions": {
      "312cda53-5a93-4314-88d1-c127c19d5a59": {
       "attrs": {
        "height": 0.8,
        "width": 0.8,
        "x": 0.1,
        "y": 0.1
       },
       "content": {
        "cell": "ea9ac3e8-f4d9-45b0-bb8f-336570eaad8a",
        "part": "whole"
       },
       "id": "312cda53-5a93-4314-88d1-c127c19d5a59"
      }
     }
    },
    "d394b526-937b-4168-953f-237e0be73273": {
     "id": "d394b526-937b-4168-953f-237e0be73273",
     "prev": "949dbef1-edd9-4339-8e2c-0b50b69e3bf6",
     "regions": {
      "447a174e-3cd2-49eb-88a9-8369c089e129": {
       "attrs": {
        "height": 0.8,
        "width": 0.8,
        "x": 0.1,
        "y": 0.1
       },
       "content": {
        "cell": "b41ba585-20ce-4aae-b351-1f3bdb9c01d3",
        "part": "whole"
       },
       "id": "447a174e-3cd2-49eb-88a9-8369c089e129"
      }
     }
    },
    "dbd57d85-8762-4e8e-a613-7b1cab756d3e": {
     "id": "dbd57d85-8762-4e8e-a613-7b1cab756d3e",
     "prev": "ea2a003e-d7a2-495f-9168-a7546c2507ef",
     "regions": {
      "363fd78c-7111-49e2-bd85-86faffc8ec98": {
       "attrs": {
        "height": 0.8,
        "width": 0.8,
        "x": 0.1,
        "y": 0.1
       },
       "content": {
        "cell": "18466d68-aa8c-4181-ba65-10afc4a890e6",
        "part": "whole"
       },
       "id": "363fd78c-7111-49e2-bd85-86faffc8ec98"
      }
     }
    },
    "dcea79a3-bfe6-4465-be5c-b966e9ddd01b": {
     "id": "dcea79a3-bfe6-4465-be5c-b966e9ddd01b",
     "prev": null,
     "regions": {
      "c66248e5-cc17-41b7-94f1-89ccc3c6a96b": {
       "attrs": {
        "height": 0.8,
        "width": 0.8,
        "x": 0.1,
        "y": 0.1
       },
       "content": {
        "cell": "8165d2c9-2850-42e4-8377-799ddf514545",
        "part": "whole"
       },
       "id": "c66248e5-cc17-41b7-94f1-89ccc3c6a96b"
      }
     },
     "theme": "70c416bf-1404-4537-9202-d26bd4982096"
    },
    "e34d686b-1c17-443a-a67e-5a2f48cd3367": {
     "id": "e34d686b-1c17-443a-a67e-5a2f48cd3367",
     "prev": "c7fedaf3-f327-4b78-a76e-9d58416c40dc",
     "regions": {
      "597a4486-e683-4e5a-a3c3-e87452051063": {
       "attrs": {
        "height": 0.8,
        "width": 0.8,
        "x": 0.1,
        "y": 0.1
       },
       "content": {
        "cell": "1702f91d-d4fd-497f-927d-83f349c39dfa",
        "part": "whole"
       },
       "id": "597a4486-e683-4e5a-a3c3-e87452051063"
      }
     }
    },
    "e4254a56-0f71-4d86-ae4a-8e033ae97347": {
     "id": "e4254a56-0f71-4d86-ae4a-8e033ae97347",
     "prev": "dcea79a3-bfe6-4465-be5c-b966e9ddd01b",
     "regions": {
      "3a83abb1-6549-4422-ab47-77c1be289223": {
       "attrs": {
        "height": 0.8,
        "width": 0.8,
        "x": 0.1,
        "y": 0.1
       },
       "content": {
        "cell": "2d1516e4-dbb9-4767-91df-4053c0a9a1d7",
        "part": "whole"
       },
       "id": "3a83abb1-6549-4422-ab47-77c1be289223"
      }
     }
    },
    "e5439c9a-7e63-45b0-a54a-4e77040265a2": {
     "id": "e5439c9a-7e63-45b0-a54a-4e77040265a2",
     "prev": "95859b75-a616-4a72-a472-9eeab9abe246",
     "regions": {
      "ab01fffe-c94e-400e-a49f-eaba24073875": {
       "attrs": {
        "height": 0.8,
        "width": 0.8,
        "x": 0.1,
        "y": 0.1
       },
       "content": {
        "cell": "eb235225-00bc-4bce-a7ff-a554d1555d71",
        "part": "whole"
       },
       "id": "ab01fffe-c94e-400e-a49f-eaba24073875"
      }
     }
    },
    "e799591d-cc0d-40bb-af4d-4f0e4669a67a": {
     "id": "e799591d-cc0d-40bb-af4d-4f0e4669a67a",
     "prev": "090a98e9-c46c-427e-b34d-5b9d044ecdec",
     "regions": {
      "2e650741-42ce-417c-94f3-ee8a390145af": {
       "attrs": {
        "height": 0.8,
        "width": 0.8,
        "x": 0.1,
        "y": 0.1
       },
       "content": {
        "cell": "7d76c357-0b7d-49aa-8ab9-eb6ae3bee0c6",
        "part": "whole"
       },
       "id": "2e650741-42ce-417c-94f3-ee8a390145af"
      }
     }
    },
    "e8ca5097-421b-45e4-b4f2-cd55201520a2": {
     "id": "e8ca5097-421b-45e4-b4f2-cd55201520a2",
     "prev": "14d3122a-9297-4528-9f94-0431bdda4681",
     "regions": {
      "21176e58-31ff-4d51-902d-3b23fabf772e": {
       "attrs": {
        "height": 0.8,
        "width": 0.8,
        "x": 0.1,
        "y": 0.1
       },
       "content": {
        "cell": "4ca9e89c-fd56-4929-9a74-2614e0c4fa30",
        "part": "whole"
       },
       "id": "21176e58-31ff-4d51-902d-3b23fabf772e"
      }
     }
    },
    "ea2a003e-d7a2-495f-9168-a7546c2507ef": {
     "id": "ea2a003e-d7a2-495f-9168-a7546c2507ef",
     "prev": "5e165cc7-aaaf-43fb-93fa-8d88d64fd794",
     "regions": {
      "4cf991f6-765d-452f-947e-ea6f816840d2": {
       "attrs": {
        "height": 0.8,
        "width": 0.8,
        "x": 0.1,
        "y": 0.1
       },
       "content": {
        "cell": "bb0b6d5b-14c3-4d22-afce-78d73e5b1414",
        "part": "whole"
       },
       "id": "4cf991f6-765d-452f-947e-ea6f816840d2"
      }
     },
     "theme": "2041dea7-6344-41ab-ac0b-28e18520d062"
    },
    "f365a08c-4e7b-4474-8fee-f7d432253c86": {
     "id": "f365a08c-4e7b-4474-8fee-f7d432253c86",
     "prev": "89c0c21b-be78-47b4-937b-2bc56714c638",
     "regions": {
      "f7c648f8-8e80-4079-a803-3a26edaf7040": {
       "attrs": {
        "height": 0.8,
        "width": 0.8,
        "x": 0.1,
        "y": 0.1
       },
       "content": {
        "cell": "7d3964a6-f57d-4c32-92c8-cb41a944d807",
        "part": "whole"
       },
       "id": "f7c648f8-8e80-4079-a803-3a26edaf7040"
      }
     }
    },
    "f590195d-7e5c-4203-90f9-db963033beac": {
     "id": "f590195d-7e5c-4203-90f9-db963033beac",
     "prev": "70b69ddd-ad56-402e-9bfe-72d118743a08",
     "regions": {
      "739e4d18-5bde-4728-8fd5-7d3bf366112a": {
       "attrs": {
        "height": 0.8,
        "width": 0.8,
        "x": 0.1,
        "y": 0.1
       },
       "content": {
        "cell": "bba17e42-a220-4193-9d6d-39b2fdab18a3",
        "part": "whole"
       },
       "id": "739e4d18-5bde-4728-8fd5-7d3bf366112a"
      }
     }
    },
    "f89c5c06-9960-4914-a209-dff79afffcb6": {
     "id": "f89c5c06-9960-4914-a209-dff79afffcb6",
     "prev": "23f4b549-0b3d-4514-b8ec-99b4114a2176",
     "regions": {
      "05e1d5e6-add5-4f78-953c-ba9c4f7ed0b4": {
       "attrs": {
        "height": 0.8,
        "width": 0.8,
        "x": 0.1,
        "y": 0.1
       },
       "content": {
        "cell": "ed441d2a-b62d-4240-a10f-bb81c8340783",
        "part": "whole"
       },
       "id": "05e1d5e6-add5-4f78-953c-ba9c4f7ed0b4"
      }
     }
    },
    "fe8adba8-a615-4ddb-af38-cbae1f007d21": {
     "id": "fe8adba8-a615-4ddb-af38-cbae1f007d21",
     "prev": "f365a08c-4e7b-4474-8fee-f7d432253c86",
     "regions": {
      "a810af89-4b62-4fd8-a024-58751d80e9d4": {
       "attrs": {
        "height": 0.8,
        "width": 0.8,
        "x": 0.1,
        "y": 0.1
       },
       "content": {
        "cell": "f44aaae3-ff5f-43ed-90cc-5344ba1a5f3f",
        "part": "whole"
       },
       "id": "a810af89-4b62-4fd8-a024-58751d80e9d4"
      }
     }
    }
   },
   "themes": {
    "default": "7efe76a5-27a1-442c-89a9-014a7ffe6fba",
    "theme": {
     "2041dea7-6344-41ab-ac0b-28e18520d062": {
      "backgrounds": {
       "backgroundColor": {
        "background-color": "backgroundColor",
        "id": "backgroundColor"
       }
      },
      "id": "2041dea7-6344-41ab-ac0b-28e18520d062",
      "palette": {
       "backgroundColor": {
        "id": "backgroundColor",
        "rgb": [
         0,
         43,
         54
        ]
       },
       "headingColor": {
        "id": "headingColor",
        "rgb": [
         238,
         232,
         213
        ]
       },
       "linkColor": {
        "id": "linkColor",
        "rgb": [
         38,
         139,
         210
        ]
       },
       "mainColor": {
        "id": "mainColor",
        "rgb": [
         147,
         161,
         161
        ]
       }
      },
      "rules": {
       "a": {
        "color": "linkColor"
       },
       "h1": {
        "color": "headingColor",
        "font-family": "Oswald",
        "font-size": 7
       },
       "h2": {
        "color": "headingColor",
        "font-family": "Oswald",
        "font-size": 5
       },
       "h3": {
        "color": "headingColor",
        "font-family": "Oswald",
        "font-size": 3.75
       },
       "h4": {
        "color": "headingColor",
        "font-family": "Oswald",
        "font-size": 3
       },
       "h5": {
        "color": "headingColor",
        "font-family": "Oswald"
       },
       "h6": {
        "color": "headingColor",
        "font-family": "Oswald"
       },
       "h7": {
        "color": "headingColor",
        "font-family": "Oswald"
       },
       "li": {
        "color": "mainColor",
        "font-family": "Lato",
        "font-size": 5
       },
       "p": {
        "color": "mainColor",
        "font-family": "Lato",
        "font-size": 5
       }
      },
      "text-base": {
       "color": "mainColor",
       "font-family": "Lato",
       "font-size": 5
      }
     },
     "70c416bf-1404-4537-9202-d26bd4982096": {
      "backgrounds": {
       "backgroundColor": {
        "background-color": "backgroundColor",
        "id": "backgroundColor"
       }
      },
      "id": "70c416bf-1404-4537-9202-d26bd4982096",
      "palette": {
       "backgroundColor": {
        "id": "backgroundColor",
        "rgb": [
         256,
         256,
         256
        ]
       },
       "headingColor": {
        "id": "headingColor",
        "rgb": [
         34,
         34,
         34
        ]
       },
       "linkColor": {
        "id": "linkColor",
        "rgb": [
         42,
         118,
         221
        ]
       },
       "mainColor": {
        "id": "mainColor",
        "rgb": [
         34,
         34,
         34
        ]
       }
      },
      "rules": {
       "a": {
        "color": "linkColor"
       },
       "h1": {
        "color": "headingColor",
        "font-family": "Source Sans Pro",
        "font-size": 5.25
       },
       "h2": {
        "color": "headingColor",
        "font-family": "Source Sans Pro",
        "font-size": 4
       },
       "h3": {
        "color": "headingColor",
        "font-family": "Source Sans Pro",
        "font-size": 3.5
       },
       "h4": {
        "color": "headingColor",
        "font-family": "Source Sans Pro",
        "font-size": 3
       },
       "h5": {
        "color": "headingColor",
        "font-family": "Source Sans Pro"
       },
       "h6": {
        "color": "headingColor",
        "font-family": "Source Sans Pro"
       },
       "h7": {
        "color": "headingColor",
        "font-family": "Source Sans Pro"
       },
       "li": {
        "color": "mainColor",
        "font-family": "Source Sans Pro",
        "font-size": 6
       },
       "p": {
        "color": "mainColor",
        "font-family": "Source Sans Pro",
        "font-size": 6
       }
      },
      "text-base": {
       "color": "mainColor",
       "font-family": "Source Sans Pro",
       "font-size": 6
      }
     },
     "7b17cd73-c0a3-4cbf-b606-4fe47036751c": {
      "backgrounds": {
       "backgroundColor": {
        "background-color": "backgroundColor",
        "id": "backgroundColor"
       }
      },
      "id": "7b17cd73-c0a3-4cbf-b606-4fe47036751c",
      "palette": {
       "backgroundColor": {
        "id": "backgroundColor",
        "rgb": [
         34,
         34,
         34
        ]
       },
       "headingColor": {
        "id": "headingColor",
        "rgb": [
         238,
         238,
         238
        ]
       },
       "linkColor": {
        "id": "linkColor",
        "rgb": [
         170,
         34,
         51
        ]
       },
       "mainColor": {
        "id": "mainColor",
        "rgb": [
         238,
         238,
         238
        ]
       }
      },
      "rules": {
       "a": {
        "color": "linkColor"
       },
       "h1": {
        "color": "headingColor",
        "font-family": "Ubuntu",
        "font-size": 7
       },
       "h2": {
        "color": "headingColor",
        "font-family": "Ubuntu",
        "font-size": 5
       },
       "h3": {
        "color": "headingColor",
        "font-family": "Ubuntu",
        "font-size": 3.75
       },
       "h4": {
        "color": "headingColor",
        "font-family": "Ubuntu",
        "font-size": 3
       },
       "h5": {
        "color": "headingColor",
        "font-family": "Ubuntu"
       },
       "h6": {
        "color": "headingColor",
        "font-family": "Ubuntu"
       },
       "h7": {
        "color": "headingColor",
        "font-family": "Ubuntu"
       },
       "li": {
        "color": "mainColor",
        "font-family": "Ubuntu",
        "font-size": 5
       },
       "p": {
        "color": "mainColor",
        "font-family": "Ubuntu",
        "font-size": 5
       }
      },
      "text-base": {
       "color": "mainColor",
       "font-family": "Ubuntu",
       "font-size": 5
      }
     },
     "7efe76a5-27a1-442c-89a9-014a7ffe6fba": {
      "id": "7efe76a5-27a1-442c-89a9-014a7ffe6fba",
      "palette": {
       "19cc588f-0593-49c9-9f4b-e4d7cc113b1c": {
        "id": "19cc588f-0593-49c9-9f4b-e4d7cc113b1c",
        "rgb": [
         252,
         252,
         252
        ]
       },
       "31af15d2-7e15-44c5-ab5e-e04b16a89eff": {
        "id": "31af15d2-7e15-44c5-ab5e-e04b16a89eff",
        "rgb": [
         68,
         68,
         68
        ]
       },
       "50f92c45-a630-455b-aec3-788680ec7410": {
        "id": "50f92c45-a630-455b-aec3-788680ec7410",
        "rgb": [
         155,
         177,
         192
        ]
       },
       "c5cc3653-2ee1-402a-aba2-7caae1da4f6c": {
        "id": "c5cc3653-2ee1-402a-aba2-7caae1da4f6c",
        "rgb": [
         43,
         126,
         184
        ]
       },
       "efa7f048-9acb-414c-8b04-a26811511a21": {
        "id": "efa7f048-9acb-414c-8b04-a26811511a21",
        "rgb": [
         25.118061674008803,
         73.60176211453744,
         107.4819383259912
        ]
       }
      },
      "rules": {
       "blockquote": {
        "color": "50f92c45-a630-455b-aec3-788680ec7410"
       },
       "code": {
        "font-family": "Anonymous Pro"
       },
       "h1": {
        "color": "c5cc3653-2ee1-402a-aba2-7caae1da4f6c",
        "font-family": "Lato",
        "font-size": 8
       },
       "h2": {
        "color": "c5cc3653-2ee1-402a-aba2-7caae1da4f6c",
        "font-family": "Lato",
        "font-size": 6
       },
       "h3": {
        "color": "50f92c45-a630-455b-aec3-788680ec7410",
        "font-family": "Lato",
        "font-size": 5.5
       },
       "h4": {
        "color": "c5cc3653-2ee1-402a-aba2-7caae1da4f6c",
        "font-family": "Lato",
        "font-size": 5
       },
       "h5": {
        "font-family": "Lato"
       },
       "h6": {
        "font-family": "Lato"
       },
       "h7": {
        "font-family": "Lato"
       },
       "pre": {
        "font-family": "Anonymous Pro",
        "font-size": 4
       }
      },
      "text-base": {
       "font-family": "Merriweather",
       "font-size": 4
      }
     },
     "8bfc6e49-e9f4-4b43-a43c-846f0a80ab56": {
      "backgrounds": {
       "backgroundColor": {
        "background-color": "backgroundColor",
        "id": "backgroundColor"
       }
      },
      "id": "8bfc6e49-e9f4-4b43-a43c-846f0a80ab56",
      "palette": {
       "backgroundColor": {
        "id": "backgroundColor",
        "rgb": [
         43,
         43,
         43
        ]
       },
       "headingColor": {
        "id": "headingColor",
        "rgb": [
         238,
         238,
         238
        ]
       },
       "linkColor": {
        "id": "linkColor",
        "rgb": [
         19,
         218,
         236
        ]
       },
       "mainColor": {
        "id": "mainColor",
        "rgb": [
         238,
         238,
         238
        ]
       }
      },
      "rules": {
       "a": {
        "color": "linkColor"
       },
       "h1": {
        "color": "headingColor",
        "font-family": "Oswald",
        "font-size": 7
       },
       "h2": {
        "color": "headingColor",
        "font-family": "Oswald",
        "font-size": 5
       },
       "h3": {
        "color": "headingColor",
        "font-family": "Oswald",
        "font-size": 3.75
       },
       "h4": {
        "color": "headingColor",
        "font-family": "Oswald",
        "font-size": 3
       },
       "h5": {
        "color": "headingColor",
        "font-family": "Oswald"
       },
       "h6": {
        "color": "headingColor",
        "font-family": "Oswald"
       },
       "h7": {
        "color": "headingColor",
        "font-family": "Oswald"
       },
       "li": {
        "color": "mainColor",
        "font-family": "Lato",
        "font-size": 5
       },
       "p": {
        "color": "mainColor",
        "font-family": "Lato",
        "font-size": 5
       }
      },
      "text-base": {
       "color": "mainColor",
       "font-family": "Lato",
       "font-size": 5
      }
     },
     "aaca0b39-a889-4b08-9456-a970a3587a78": {
      "backgrounds": {
       "dc7afa04-bf90-40b1-82a5-726e3cff5267": {
        "background-color": "31af15d2-7e15-44c5-ab5e-e04b16a89eff",
        "id": "dc7afa04-bf90-40b1-82a5-726e3cff5267"
       }
      },
      "id": "aaca0b39-a889-4b08-9456-a970a3587a78",
      "palette": {
       "19cc588f-0593-49c9-9f4b-e4d7cc113b1c": {
        "id": "19cc588f-0593-49c9-9f4b-e4d7cc113b1c",
        "rgb": [
         252,
         252,
         252
        ]
       },
       "31af15d2-7e15-44c5-ab5e-e04b16a89eff": {
        "id": "31af15d2-7e15-44c5-ab5e-e04b16a89eff",
        "rgb": [
         68,
         68,
         68
        ]
       },
       "50f92c45-a630-455b-aec3-788680ec7410": {
        "id": "50f92c45-a630-455b-aec3-788680ec7410",
        "rgb": [
         197,
         226,
         245
        ]
       },
       "c5cc3653-2ee1-402a-aba2-7caae1da4f6c": {
        "id": "c5cc3653-2ee1-402a-aba2-7caae1da4f6c",
        "rgb": [
         43,
         126,
         184
        ]
       },
       "efa7f048-9acb-414c-8b04-a26811511a21": {
        "id": "efa7f048-9acb-414c-8b04-a26811511a21",
        "rgb": [
         25.118061674008803,
         73.60176211453744,
         107.4819383259912
        ]
       }
      },
      "rules": {
       "a": {
        "color": "19cc588f-0593-49c9-9f4b-e4d7cc113b1c"
       },
       "blockquote": {
        "color": "50f92c45-a630-455b-aec3-788680ec7410",
        "font-size": 3
       },
       "code": {
        "font-family": "Anonymous Pro"
       },
       "h1": {
        "color": "19cc588f-0593-49c9-9f4b-e4d7cc113b1c",
        "font-family": "Merriweather",
        "font-size": 8
       },
       "h2": {
        "color": "19cc588f-0593-49c9-9f4b-e4d7cc113b1c",
        "font-family": "Merriweather",
        "font-size": 6
       },
       "h3": {
        "color": "50f92c45-a630-455b-aec3-788680ec7410",
        "font-family": "Lato",
        "font-size": 5.5
       },
       "h4": {
        "color": "c5cc3653-2ee1-402a-aba2-7caae1da4f6c",
        "font-family": "Lato",
        "font-size": 5
       },
       "h5": {
        "font-family": "Lato"
       },
       "h6": {
        "font-family": "Lato"
       },
       "h7": {
        "font-family": "Lato"
       },
       "li": {
        "color": "50f92c45-a630-455b-aec3-788680ec7410",
        "font-size": 3.25
       },
       "pre": {
        "font-family": "Anonymous Pro",
        "font-size": 4
       }
      },
      "text-base": {
       "color": "19cc588f-0593-49c9-9f4b-e4d7cc113b1c",
       "font-family": "Lato",
       "font-size": 4
      }
     },
     "f8d5614e-7002-4eae-be8e-c4aab6474bfd": {
      "backgrounds": {
       "backgroundColor": {
        "background-color": "backgroundColor",
        "id": "backgroundColor"
       }
      },
      "id": "f8d5614e-7002-4eae-be8e-c4aab6474bfd",
      "palette": {
       "backgroundColor": {
        "id": "backgroundColor",
        "rgb": [
         247,
         243,
         222
        ]
       },
       "headingColor": {
        "id": "headingColor",
        "rgb": [
         51,
         51,
         51
        ]
       },
       "linkColor": {
        "id": "linkColor",
        "rgb": [
         139,
         116,
         61
        ]
       },
       "mainColor": {
        "id": "mainColor",
        "rgb": [
         51,
         51,
         51
        ]
       }
      },
      "rules": {
       "a": {
        "color": "linkColor"
       },
       "h1": {
        "color": "headingColor",
        "font-family": "Oswald",
        "font-size": 7
       },
       "h2": {
        "color": "headingColor",
        "font-family": "Oswald",
        "font-size": 5
       },
       "h3": {
        "color": "headingColor",
        "font-family": "Oswald",
        "font-size": 3.75
       },
       "h4": {
        "color": "headingColor",
        "font-family": "Oswald",
        "font-size": 3
       },
       "h5": {
        "color": "headingColor",
        "font-family": "Oswald"
       },
       "h6": {
        "color": "headingColor",
        "font-family": "Oswald"
       },
       "h7": {
        "color": "headingColor",
        "font-family": "Oswald"
       },
       "li": {
        "color": "mainColor",
        "font-family": "Lato",
        "font-size": 5
       },
       "p": {
        "color": "mainColor",
        "font-family": "Lato",
        "font-size": 5
       }
      },
      "text-base": {
       "color": "mainColor",
       "font-family": "Lato",
       "font-size": 5
      }
     }
    }
   }
  }
 },
 "nbformat": 4,
 "nbformat_minor": 2
}
