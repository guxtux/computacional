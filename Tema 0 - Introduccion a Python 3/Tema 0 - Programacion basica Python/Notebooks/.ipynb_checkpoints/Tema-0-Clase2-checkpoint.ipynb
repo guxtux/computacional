{
 "cells": [
  {
   "cell_type": "markdown",
   "metadata": {
    "nbpresent": {
     "id": "7f9e274b-9e28-4905-8a69-e0b070014cc4"
    },
    "slideshow": {
     "slide_type": "slide"
    }
   },
   "source": [
    "# Estructuras de control."
   ]
  },
  {
   "cell_type": "markdown",
   "metadata": {
    "nbpresent": {
     "id": "8eaad486-c52c-46f8-b1f7-d61dae9eeabe"
    },
    "slideshow": {
     "slide_type": "slide"
    }
   },
   "source": [
    "En cualquier lenguaje de programación se incluye una serie de estructuras de control para ampliar las posibilidades de ejecución de un programa.\n",
    "\n",
    "En $\\texttt{python}$ manejaremos las estructuras más comunes que son relativamente sencillas de usar, cuidado siempre de manejar la sintaxis respectiva."
   ]
  },
  {
   "cell_type": "markdown",
   "metadata": {
    "nbpresent": {
     "id": "09d0c29a-322d-4925-9bba-1976ea533ada"
    },
    "slideshow": {
     "slide_type": "slide"
    }
   },
   "source": [
    "## 1. Condicionales\n"
   ]
  },
  {
   "cell_type": "markdown",
   "metadata": {
    "nbpresent": {
     "id": "5e860425-5448-426c-a071-18c81c571aa5"
    },
    "slideshow": {
     "slide_type": "subslide"
    }
   },
   "source": [
    "Una sentencia condicional permite evaluar si se cumple cierta condición, es decir, si su valor es $\\texttt{True}$, se ejecuta el bloque que puede contener una o más instrucciones, en caso de que el valor de la condición no se cumpla, es decir, el valor sea $\\texttt{False}$, no se ejecuta la(s) instrucción(es) contenida(s) y se sigue a la siguiente línea de código.\n",
    "\n",
    "El bloque condicional más simple utiliza la instrucción **$\\texttt{if}$**, a continuación lleva una expresión que debe de evaluarse, como se mencionó antes, el valor de la expresión debe de ser $\\texttt{True}$ para que se ejecute(n) la(s) instrucción(es) contenidas en el bloque, hay dos puntos (:) que identifican el bloque y las instrucciones contenidas deben de estar identadas, en caso contrario, $\\texttt{python}$ nos devolverá un mensaje de error provocado por la identación equivocada."
   ]
  },
  {
   "cell_type": "markdown",
   "metadata": {
    "nbpresent": {
     "id": "f15e3611-3da6-4cac-b87f-65b8f49cc6cc"
    },
    "slideshow": {
     "slide_type": "slide"
    }
   },
   "source": [
    "### La evaluación de la expresión es verdadera. "
   ]
  },
  {
   "cell_type": "code",
   "execution_count": 10,
   "metadata": {
    "nbpresent": {
     "id": "dd5c2385-9f49-4c4e-b8e8-96a332174f4d"
    },
    "slideshow": {
     "slide_type": "subslide"
    }
   },
   "outputs": [
    {
     "name": "stdout",
     "output_type": "stream",
     "text": [
      "la variable a es positiva\n",
      "11\n"
     ]
    }
   ],
   "source": [
    "a = 10\n",
    "if a > 0:\n",
    "    print ('la variable a es positiva')\n",
    "    a = a + 1\n",
    "\n",
    "print (a)"
   ]
  },
  {
   "cell_type": "markdown",
   "metadata": {
    "nbpresent": {
     "id": "64b5080b-d40d-4607-9922-30432359d2ef"
    },
    "slideshow": {
     "slide_type": "subslide"
    }
   },
   "source": [
    "En el ejemplo asignamos a la variable $\\texttt{a}$ el valor de $10$, en el bloque condicional se evalúa la expresión $\\texttt{a > 10}$, y en este caso, el valor que se obtiene es $\\texttt{True}$, por tanto, se ejecutan las instrucciones que están contenidas dentro del bloque, que son:\n",
    "1. Mostrar en pantalla la línea $\\texttt{la variable a es positiva}$\n",
    "2. Se incrementa una unidad el valor de $\\texttt{a}$\n",
    "\n",
    "Aquí ya concluyen las instrucciones dentro del condicional, la siguiente función $\\texttt{print}$ está fuera del bloque, y nos muestra el valor de la variable $\\texttt{a}$, que en el ejemplo ahora es $11$."
   ]
  },
  {
   "cell_type": "markdown",
   "metadata": {
    "nbpresent": {
     "id": "099b6b3f-a055-472f-ab51-a5e6b23a395d"
    },
    "slideshow": {
     "slide_type": "slide"
    }
   },
   "source": [
    "### La evaluación de la expresión es falsa. "
   ]
  },
  {
   "cell_type": "code",
   "execution_count": 12,
   "metadata": {
    "nbpresent": {
     "id": "d15f7823-7552-40e2-b1de-cc682c62c3cb"
    },
    "slideshow": {
     "slide_type": "subslide"
    }
   },
   "outputs": [
    {
     "name": "stdout",
     "output_type": "stream",
     "text": [
      "0\n"
     ]
    }
   ],
   "source": [
    "a = 0\n",
    "if a > 0:\n",
    "    print ('la variable a es positiva')\n",
    "    a = a + 1\n",
    "\n",
    "print (a)"
   ]
  },
  {
   "cell_type": "markdown",
   "metadata": {
    "nbpresent": {
     "id": "ae743807-eb24-4edb-a820-ac9522a1bbd2"
    },
    "slideshow": {
     "slide_type": "subslide"
    }
   },
   "source": [
    "Ahora vemos que el valor de la variable $\\texttt{a}$ es cero, y al evaluarse la expresión $\\texttt{a > 10}$, el resultado es $\\texttt{False}$, por tanto **NO** se ejecuta instrucción alguna que está dentro del bloque, y continua el código hacia la siguiente línea, en el ejemplo continua con la función $\\texttt{print}$."
   ]
  },
  {
   "cell_type": "markdown",
   "metadata": {
    "nbpresent": {
     "id": "7d3a6170-c547-4a46-9da0-6e96c6face20"
    },
    "slideshow": {
     "slide_type": "slide"
    }
   },
   "source": [
    "### Alternativas para la evaluación de un condicional. "
   ]
  },
  {
   "cell_type": "markdown",
   "metadata": {
    "nbpresent": {
     "id": "df0f715a-7624-419b-b248-79530997f344"
    },
    "slideshow": {
     "slide_type": "subslide"
    }
   },
   "source": [
    "**Alternativa 1 para el bloque condicional.**\n",
    "\n",
    "En ocasiones necesitaremos hacer que el programa realice alguna instrucción cuando la expresión que se evalúa en el $\\texttt{if}$ sea falsa, es decir, que haya una respuesta en particular para el caso en que obtengamos un valor $\\texttt{False}$ en la evaluación de la expresión.\n",
    "\n",
    "Para ello, podemos ocupar la instrucción $\\texttt{else:}$ que se escribe en el mismo nivel de identación que la instrucción $\\texttt{if}$ y lleva también dos puntos $(:)$\n",
    "\n",
    "Las instrucciones que están contenidas dento de $\\texttt{else:}$ se ejecutarán siempre y cuando la expresión que se evalúa, sea falsa, $\\texttt{python}$ no pide otra expresión para evaluar, sino que se ejecutan inmediatamente cuando se evalúa que el resultado de la expresión es $\\texttt{False}$."
   ]
  },
  {
   "cell_type": "code",
   "execution_count": 17,
   "metadata": {
    "nbpresent": {
     "id": "dfd6cdd0-3694-4997-9121-cae5a2ed09e3"
    },
    "slideshow": {
     "slide_type": "subslide"
    }
   },
   "outputs": [
    {
     "name": "stdout",
     "output_type": "stream",
     "text": [
      "la variable a es negativa\n"
     ]
    }
   ],
   "source": [
    "a = -2\n",
    "if a > 0:\n",
    "    print ('la variable a es positiva')\n",
    "    a = a + 1\n",
    "else:\n",
    "    print ('la variable a es negativa')"
   ]
  },
  {
   "cell_type": "markdown",
   "metadata": {
    "nbpresent": {
     "id": "a13497df-30a2-429c-8c6d-833075e70d64"
    },
    "slideshow": {
     "slide_type": "subslide"
    }
   },
   "source": [
    "En el ejemplo vemos que el valor de $\\texttt{a}$ es $-2$, la expresión que se evalúa en el $\\texttt{if}$ es $\\texttt{False}$, por tanto, no se ejecutan las instrucciones contenidas dentro del $\\texttt{if}$, sino que se va a ejecutar la(s) instrucción(es) contenida(s) en el $\\texttt{else:}$\n",
    "\n",
    "Si la expresión inicial que se evalúa es $\\texttt{True}$, se ejecutan las instrucciones contenidas en el bloque $\\texttt{if}$, y ya no se ejecuta instrucción alguna del bloque $\\texttt{else:}$, para posteriormente continuar con el programa."
   ]
  },
  {
   "cell_type": "markdown",
   "metadata": {
    "nbpresent": {
     "id": "ac905ee9-0db0-401e-b00b-eb68223440c2"
    },
    "slideshow": {
     "slide_type": "subslide"
    }
   },
   "source": [
    "**Alternativa 2 para el bloque condicional**.\n",
    "\n",
    "El uso de un bloque $\\texttt{if .. else}$ nos da oportunidad manejar el código en caso de obtener un valor $\\texttt{False}$ en la evaluación de la expresión, como ya mencionamos, no se requiere evaluar otra expresión, pero podemos usar una variante del condicional y evaluar una nueva expresión (que sería diferente de la primera) y con ello, nuestro algoritmo gana bastante potencial para responder a nuestras necesidades, y eso lo haremos con el bloque $\\texttt{if .. elif .. else}$"
   ]
  },
  {
   "cell_type": "code",
   "execution_count": 18,
   "metadata": {
    "nbpresent": {
     "id": "54182e87-3365-418e-8860-98cb0f28d43e"
    },
    "slideshow": {
     "slide_type": "subslide"
    }
   },
   "outputs": [
    {
     "name": "stdout",
     "output_type": "stream",
     "text": [
      "la variable a es cero\n"
     ]
    }
   ],
   "source": [
    "a = 0\n",
    "if a > 0:\n",
    "    print ('la variable a es positiva')\n",
    "    a = a + 1\n",
    "elif a == 0:\n",
    "    print ('la variable a es cero')\n",
    "else:\n",
    "    print ('la variable a es negativa')"
   ]
  },
  {
   "cell_type": "markdown",
   "metadata": {
    "nbpresent": {
     "id": "faaf5f5c-480f-471b-bfdd-2b11e30da157"
    },
    "slideshow": {
     "slide_type": "subslide"
    }
   },
   "source": [
    "La primera expresión $\\texttt{a>0}$ tiene un valor $\\texttt{False}$, por tanto, continua el código hasta la sentencia $\\texttt{elif:}$, aquí se evalúa la nueva expresión $\\texttt{a == 0}$, que resulta ser $\\texttt{True}$ y por tanto se ejecuta la instrucción contenida en el bloque $\\texttt{elif:}$, saliendo luego del bloque y continua el código, es decir, ya no se revisa el $\\texttt{else:}$"
   ]
  },
  {
   "cell_type": "code",
   "execution_count": 22,
   "metadata": {
    "nbpresent": {
     "id": "522f7d8a-d10f-440e-8d61-a37f87456e2d"
    },
    "slideshow": {
     "slide_type": "subslide"
    }
   },
   "outputs": [
    {
     "name": "stdout",
     "output_type": "stream",
     "text": [
      "Introduce el valor de a0\n",
      "a es 0\n"
     ]
    }
   ],
   "source": [
    "a = eval(input('Introduce el valor de a'))\n",
    "if a > 0:\n",
    "    print (\"a es positivo\")\n",
    "    a = a + 1\n",
    "elif a == 0:\n",
    "    print (\"a es 0\")\n",
    "else:\n",
    "    print (\"a es negativo\")"
   ]
  },
  {
   "cell_type": "markdown",
   "metadata": {
    "nbpresent": {
     "id": "1d669263-4015-4b73-ad63-c2b29cdb1d2c"
    }
   },
   "source": [
    "## Bucles o loops"
   ]
  },
  {
   "cell_type": "markdown",
   "metadata": {
    "nbpresent": {
     "id": "ea0a813b-0e6b-4648-8326-07664638eaac"
    }
   },
   "source": [
    "Un bucle es una sentencia que evalúa inicialmente una condición, en caso de que se cumple (valor $\\texttt{True}$) se ejecuta(n) un conjunto de instrucciones, posteriormente, se revisa el valor de la condición, mientras sea verdadero, las instrucciones se ejecutan nuevamente."
   ]
  },
  {
   "cell_type": "markdown",
   "metadata": {
    "nbpresent": {
     "id": "7d01776c-254b-4099-a157-419312350f33"
    }
   },
   "source": [
    "**Tipos de bucles**\n",
    "Hay que considerar dos posibles casos en el manejo de los bucles:\n",
    "1. Cuando conocemos el número de ciclos que van a realizarse.\n",
    "2. Cuando no sabemos cuántas veces se requiere que el ciclo se repita.\n",
    "\n",
    "En ambos casos se necesita modificar alguna variable y evaluar nuevamente una condición, de tal manera que se cumpla con cierto criterio y concluya el bucle, en caso contrario, tendremos lo que se denomina un *bucle infinito*, es decir, el conjunto de instrucciones se va a repetir indefinidamente, por lo que hay que ''cortar'' el programa en ejecución."
   ]
  },
  {
   "cell_type": "markdown",
   "metadata": {
    "nbpresent": {
     "id": "e0beb6d8-c01c-4494-9c17-60a4e954f431"
    }
   },
   "source": [
    "### El bucle $\\texttt{while}$"
   ]
  },
  {
   "cell_type": "markdown",
   "metadata": {
    "nbpresent": {
     "id": "98b1bca2-d591-433f-b5c7-f0ca313d869b"
    }
   },
   "source": [
    "El ciclo/bucle  $\\texttt{while}$ tiene la siguiente sintaxis:\n",
    "<pre>\n",
    "```python\n",
    "while condicion:\n",
    "    instruccion1\n",
    "    instruccion2\n",
    "    ....\n",
    "```\n",
    "</pre>\n",
    "Las instrucciones contenidas en el bloque se van a ejecutar mientras el valor de la condición sea verdadero, para salir del ciclo, el valor de la condición debe devolver $\\texttt{False}$, por lo que es necesario que dentro de este bloque, se realice alguna modificación a la(s) variable(s) contenida(s) en la condición."
   ]
  },
  {
   "cell_type": "code",
   "execution_count": 24,
   "metadata": {
    "nbpresent": {
     "id": "2cee3354-7626-46b4-b1f6-b30ab0431cde"
    }
   },
   "outputs": [
    {
     "name": "stdout",
     "output_type": "stream",
     "text": [
      "[1.0, 0.5, 0.3333333333333333, 0.25]\n"
     ]
    }
   ],
   "source": [
    "nMax = 5\n",
    "n = 1\n",
    "a = [] \n",
    "while n < nMax:\n",
    "    a.append(1.0/n) \n",
    "    n = n + 1\n",
    "print (a)"
   ]
  },
  {
   "cell_type": "markdown",
   "metadata": {
    "nbpresent": {
     "id": "23b94d90-5100-4e39-975a-abaa2fe0b1e8"
    }
   },
   "source": [
    "En el ejemplo definimos la variable $nMax=5$, se toma un valor inicial para la variable $n$, y se crea una lista vacía $a$.\n",
    "\n",
    "Ccomo la expresión que se evalúa luego del $while$ es $\\texttt{True}$ ya que $n < nMax$, se ejecuta lo que está contenido dentro del ciclo: se agrega un nuevo elemento a la lista, mediante la instrucción $\\texttt{a.append}$, y luego se incrementa el valor de $n$ en una unidad, llega el momento en que se evalúa la expresión $5<5$ que devuelve un valor $\\texttt{False}$ por tanto, termina el ciclo."
   ]
  },
  {
   "cell_type": "code",
   "execution_count": 11,
   "metadata": {
    "nbpresent": {
     "id": "1624f078-cd11-40ed-a358-1b4e31c4f819"
    }
   },
   "outputs": [
    {
     "name": "stdout",
     "output_type": "stream",
     "text": [
      "0.0440045786139075\n",
      "0.7796230779526429\n",
      "0.8946464576298329\n",
      "\n",
      " Acabo el bucle luego de  3  iteraciones\n"
     ]
    }
   ],
   "source": [
    "from random import random\n",
    "x = 0.2\n",
    "a = 0\n",
    "while x < 0.8:\n",
    "    # a = a + 1\n",
    "    a += 1\n",
    "    x = random()\n",
    "    print (x)\n",
    "print (\"\\n Acabo el bucle luego de \", a, \" iteraciones\")"
   ]
  },
  {
   "cell_type": "markdown",
   "metadata": {
    "nbpresent": {
     "id": "1f6dd63a-4f7f-437b-861e-4f9be16bd20f"
    }
   },
   "source": [
    "### El ciclo/bucle $\\texttt{for}$. "
   ]
  },
  {
   "cell_type": "markdown",
   "metadata": {
    "nbpresent": {
     "id": "87536d28-e88a-4fee-bf2a-da23734704e7"
    }
   },
   "source": [
    "La sintaxis del bucle/ciclo $\\texttt{for}$ es la siguiente:\n",
    "<pre>\n",
    "```python\n",
    "for variable in lista:\n",
    "    instruccion1\n",
    "    instruccion2\n",
    "    ...\n",
    "```\n",
    "</pre>\n",
    "El conjunto de instrucciones contenidas dentro del bucle se va a ejecutar mientras no se acabe de recorrer la lista; el valor de la variable, será el elemento de la lista que está siendo tratado en ese momento:"
   ]
  },
  {
   "cell_type": "code",
   "execution_count": 37,
   "metadata": {
    "nbpresent": {
     "id": "1c410597-ab96-485e-928c-120c7fb75c94"
    }
   },
   "outputs": [
    {
     "name": "stdout",
     "output_type": "stream",
     "text": [
      "0 [0]\n",
      "1 [0, 1]\n",
      "2 [0, 1, 8]\n",
      "3 [0, 1, 8, 27]\n",
      "4 [0, 1, 8, 27, 64]\n",
      "5 [0, 1, 8, 27, 64, 125]\n",
      "6 [0, 1, 8, 27, 64, 125, 216]\n"
     ]
    }
   ],
   "source": [
    "cubos =[]\n",
    "for i in range(7):\n",
    "    ic = i**3\n",
    "    cubos.append(ic)\n",
    "    print (i, cubos)"
   ]
  },
  {
   "cell_type": "markdown",
   "metadata": {
    "nbpresent": {
     "id": "4d615ec8-016b-4430-bf8e-116222c68dc0"
    }
   },
   "source": [
    "**Algunas cosas más sobre el ciclo $\\texttt{for}$**\n",
    "\n",
    "La instrucción $\\texttt{for}$ no sólo itera sobre enteros: $\\texttt{for}$ itera sobre todos los elementos de una *secuencia*, asignando el valor del elemento a la variable, en el ejemplo anterior, la función $\\texttt{range}$ es sólo una función conveniente que genera una lista de enteros."
   ]
  },
  {
   "cell_type": "code",
   "execution_count": 39,
   "metadata": {
    "nbpresent": {
     "id": "faf6f9eb-fa68-4c2c-a03c-f6fd9423bfce"
    }
   },
   "outputs": [
    {
     "name": "stdout",
     "output_type": "stream",
     "text": [
      "Un digito de pi es 3\n",
      "Un digito de pi es 1\n",
      "Un digito de pi es 4\n",
      "Un digito de pi es 1\n",
      "Un digito de pi es 5\n",
      "Un digito de pi es 9\n",
      "Un digito de pi es 2\n",
      "Un digito de pi es 6\n",
      "Un digito de pi es 5\n",
      "Un digito de pi es 3\n"
     ]
    }
   ],
   "source": [
    "for i in [ 3, 1, 4, 1, 5, 9, 2, 6, 5, 3 ]:\n",
    "    print (\"Un digito de pi es\", i)"
   ]
  },
  {
   "cell_type": "code",
   "execution_count": 40,
   "metadata": {
    "nbpresent": {
     "id": "c7e91b31-edb5-49f0-aac3-9f3928a10434"
    }
   },
   "outputs": [
    {
     "name": "stdout",
     "output_type": "stream",
     "text": [
      "1\n",
      "2\n",
      "3\n",
      "4\n",
      "3\n",
      "2\n",
      "1\n"
     ]
    }
   ],
   "source": [
    "for i in [ 1, 2, 3, 4 ] + [ 3, 2, 1 ]:\n",
    "    print (i)"
   ]
  },
  {
   "cell_type": "code",
   "execution_count": 41,
   "metadata": {
    "nbpresent": {
     "id": "c8dad6ea-0510-4217-b4e8-3012cd997402"
    }
   },
   "outputs": [
    {
     "name": "stdout",
     "output_type": "stream",
     "text": [
      "estas\n",
      "son\n",
      "palabras\n",
      "al\n",
      "azar\n"
     ]
    }
   ],
   "source": [
    "for i in \" estas son palabras al azar \".split ():\n",
    "    print (i)"
   ]
  },
  {
   "cell_type": "markdown",
   "metadata": {
    "nbpresent": {
     "id": "33788d03-6abf-48dc-8474-649c170ce76e"
    }
   },
   "source": [
    "### Ejemplos del ciclo $\\texttt{for}$."
   ]
  },
  {
   "cell_type": "code",
   "execution_count": 42,
   "metadata": {
    "nbpresent": {
     "id": "68241ae2-e54c-4732-92e3-82a151ebd163"
    }
   },
   "outputs": [
    {
     "name": "stdout",
     "output_type": "stream",
     "text": [
      "0\n",
      "1\n",
      "2\n",
      "3\n",
      "4\n",
      "5\n",
      "6\n",
      "7\n",
      "8\n",
      "9\n"
     ]
    }
   ],
   "source": [
    "for i in range(10):\n",
    "    print (i)"
   ]
  },
  {
   "cell_type": "code",
   "execution_count": 43,
   "metadata": {
    "nbpresent": {
     "id": "d916f32b-86ca-455a-b793-919daadf0ada"
    }
   },
   "outputs": [
    {
     "name": "stdout",
     "output_type": "stream",
     "text": [
      "1\n",
      "2\n",
      "3\n",
      "4\n",
      "5\n",
      "6\n",
      "7\n",
      "8\n",
      "9\n"
     ]
    }
   ],
   "source": [
    "for i in range(1,10):\n",
    "    print (i)"
   ]
  },
  {
   "cell_type": "code",
   "execution_count": 44,
   "metadata": {
    "nbpresent": {
     "id": "39a9218e-e53a-4977-b26d-e93f86232b22"
    }
   },
   "outputs": [
    {
     "name": "stdout",
     "output_type": "stream",
     "text": [
      "10\n",
      "9\n",
      "8\n",
      "7\n",
      "6\n",
      "5\n",
      "4\n",
      "3\n",
      "2\n"
     ]
    }
   ],
   "source": [
    "for j in range(10,1,-1):\n",
    "    print (j)"
   ]
  },
  {
   "cell_type": "code",
   "execution_count": 45,
   "metadata": {
    "nbpresent": {
     "id": "cf4223ab-3917-4707-9dae-e67ddadb0d00"
    }
   },
   "outputs": [
    {
     "name": "stdout",
     "output_type": "stream",
     "text": [
      "adios\n",
      "mundo\n",
      "cruel\n"
     ]
    }
   ],
   "source": [
    "lista = ['adios', 'mundo', 'cruel']\n",
    "for palabra in lista:\n",
    "    print (palabra)"
   ]
  },
  {
   "cell_type": "markdown",
   "metadata": {
    "nbpresent": {
     "id": "391ece10-691f-464d-8e4f-3b2eb4f2ad7f"
    }
   },
   "source": [
    "### Ciclo $\\texttt{for}$ más elaborado. "
   ]
  },
  {
   "cell_type": "markdown",
   "metadata": {
    "nbpresent": {
     "id": "ad6e0fa2-de04-4d6f-a378-d98f2ed8ba25"
    }
   },
   "source": [
    "El siguiente código usa los elementos de lista y busca la coincidencia exacta del nombre que proporciona el usuario en la línea de comandos, en caso de que no lo encuentre, le avisa al usuario que ese nombre no está en la lista inicial."
   ]
  },
  {
   "cell_type": "code",
   "execution_count": 56,
   "metadata": {
    "nbpresent": {
     "id": "18e48434-ae17-4b05-86ee-4115b41f0056"
    }
   },
   "outputs": [
    {
     "name": "stdout",
     "output_type": "stream",
     "text": [
      "Teclea un nombre: Hugo\n",
      "Hugo  es el numero  1  en la lista\n"
     ]
    }
   ],
   "source": [
    "lista = ['Hugo', 'Paco', 'Luis', 'McPato']\n",
    "nombre = input('Teclea un nombre: ')\n",
    "\n",
    "for i in range(len(lista)):\n",
    "    if lista[i] == nombre:\n",
    "        print (nombre, ' es el numero ', i + 1, ' en la lista')\n",
    "        break\n",
    "else:\n",
    "        print (nombre, ' no esta en la lista')"
   ]
  },
  {
   "cell_type": "markdown",
   "metadata": {
    "nbpresent": {
     "id": "60c2c1e6-2a2d-468e-9e0e-aa67ce1d937a"
    }
   },
   "source": [
    "En el ejemplo anterior, vemos que hay una sentencia $\\texttt{else:}$ al mismo nivel de alineación del ciclo $\\texttt{for}$, efectivamente, esta sentencia $\\texttt{else:}$ no pertenece al condicional $\\texttt{if}$, sino al bloque $\\texttt{for}$.\n",
    "\n",
    "La sentencia $\\texttt{else:}$ la podemos utilizar tanto para los bucles $\\texttt{for}$ y $\\texttt{while}$."
   ]
  },
  {
   "cell_type": "markdown",
   "metadata": {
    "nbpresent": {
     "id": "9929e1a3-667f-415a-94d8-eb608a8e5f95"
    }
   },
   "source": [
    "**Instrucciones $\\texttt{break}$ y $\\texttt{continue}$**.\n",
    "\n",
    "Hay dos instrucciones que permiten ''salirse'' de un bucle sin necesidad de esperar a que en un ciclo $\\texttt{while}$ la expresión que se evalúa cambie a un valor ${False}$, y para un ciclo $\\texttt{for}$, esperar a que se recorran todos los elementos de la lista.\n",
    "\n",
    "La instrucción es $\\texttt{break}$, veamos en el siguiente ejemplo, cómo se usa."
   ]
  },
  {
   "cell_type": "code",
   "execution_count": 57,
   "metadata": {
    "nbpresent": {
     "id": "c731c0dd-c067-4947-93fc-173b243a57a1"
    }
   },
   "outputs": [
    {
     "name": "stdout",
     "output_type": "stream",
     "text": [
      "2  es numero primo\n",
      "3  es numero primo\n",
      "4  es igual a  2 * 2.0\n",
      "5  es numero primo\n",
      "6  es igual a  2 * 3.0\n",
      "7  es numero primo\n",
      "8  es igual a  2 * 4.0\n",
      "9  es igual a  3 * 3.0\n"
     ]
    }
   ],
   "source": [
    "for n in range(2, 10):\n",
    "    for x in range(2, n):\n",
    "        if n % x == 0:\n",
    "            print (n, ' es igual a ', x, '*', n/x)\n",
    "            break\n",
    "    else:\n",
    "        print (n, ' es numero primo')"
   ]
  },
  {
   "cell_type": "markdown",
   "metadata": {
    "nbpresent": {
     "id": "c1904ea4-fcdc-48a2-9743-ca5e36c23159"
    }
   },
   "source": [
    "Tenemos dos ciclos $\\texttt{for}$ anidados (hay que tener siempre cuidado con la identación) y en el segundo ciclo, tenemos un condicional $\\texttt{if}$ contenido, se evalúa con la función módulo, para expresar que un número es producto de otro, y tenemos la instrucción $\\texttt{break}$, que no se espera a que se complete el recorrido de los elementos de la lista con índice $\\texttt{x}$, que va desde $2$ hasta $n$, y continua con un incremento en el contador $n$ del primer ciclo $\\texttt{for}$, en caso de que no haya un residuo igual a cero, entonces el número es primo, aquí nos apoyamos en la sentencia $\\texttt{else}$ del ciclo $\\texttt{for}$."
   ]
  },
  {
   "cell_type": "markdown",
   "metadata": {
    "nbpresent": {
     "id": "359c13e1-2812-4957-88ef-3cbd3b0b8cb9"
    }
   },
   "source": [
    "*Uso de la instrucción $\\texttt{continue}$*\n",
    "\n",
    "La instrucción $\\texttt{continue}$, lo que hace, es dar paso a la siguiente iteración del ciclo, veamos el ejemplo:"
   ]
  },
  {
   "cell_type": "code",
   "execution_count": 59,
   "metadata": {
    "nbpresent": {
     "id": "1c0f3348-d040-46f4-bb69-ee87849f233b"
    }
   },
   "outputs": [
    {
     "name": "stdout",
     "output_type": "stream",
     "text": [
      "Encontre un numero par  2\n",
      "Encontre un numero  3\n",
      "Encontre un numero par  4\n",
      "Encontre un numero  5\n",
      "Encontre un numero par  6\n",
      "Encontre un numero  7\n",
      "Encontre un numero par  8\n",
      "Encontre un numero  9\n"
     ]
    }
   ],
   "source": [
    "for num in range(2,10):\n",
    "    if num % 2 == 0:\n",
    "        print ('Encontre un numero par ', num)\n",
    "        continue\n",
    "    print ('Encontre un numero ', num)"
   ]
  },
  {
   "cell_type": "code",
   "execution_count": null,
   "metadata": {
    "collapsed": true,
    "nbpresent": {
     "id": "07516d71-47e9-4c16-9368-aacb238a5bac"
    }
   },
   "outputs": [],
   "source": []
  }
 ],
 "metadata": {
  "anaconda-cloud": {},
  "celltoolbar": "Slideshow",
  "kernelspec": {
   "display_name": "Python [default]",
   "language": "python",
   "name": "python3"
  },
  "language_info": {
   "codemirror_mode": {
    "name": "ipython",
    "version": 3
   },
   "file_extension": ".py",
   "mimetype": "text/x-python",
   "name": "python",
   "nbconvert_exporter": "python",
   "pygments_lexer": "ipython3",
   "version": "3.5.2"
  },
  "nbpresent": {
   "slides": {
    "0fa7c798-34d6-4beb-8eb7-6d4d8005efce": {
     "id": "0fa7c798-34d6-4beb-8eb7-6d4d8005efce",
     "prev": "60abb4f2-2d90-44f8-a279-3641030043d1",
     "regions": {
      "d40a3685-6feb-4098-8126-dff9f7a08873": {
       "attrs": {
        "height": 0.8,
        "width": 0.8,
        "x": 0.1,
        "y": 0.1
       },
       "content": {
        "cell": "64b5080b-d40d-4607-9922-30432359d2ef",
        "part": "whole"
       },
       "id": "d40a3685-6feb-4098-8126-dff9f7a08873"
      }
     }
    },
    "292b6191-7f69-41bb-b696-47570858126a": {
     "id": "292b6191-7f69-41bb-b696-47570858126a",
     "prev": "fa4f51f0-10b8-4578-9927-8c2daf57f3e6",
     "regions": {
      "0a9e2fd6-5880-473e-b318-51cd9cd7f085": {
       "attrs": {
        "height": 0.8,
        "width": 0.8,
        "x": 0.1,
        "y": 0.1
       },
       "content": {
        "cell": "f15e3611-3da6-4cac-b87f-65b8f49cc6cc",
        "part": "whole"
       },
       "id": "0a9e2fd6-5880-473e-b318-51cd9cd7f085"
      }
     }
    },
    "332184f3-a6f3-4ada-8150-2054e319ec58": {
     "id": "332184f3-a6f3-4ada-8150-2054e319ec58",
     "prev": "5aa279c1-a693-42d8-9a34-beec1643749c",
     "regions": {
      "ac2ed1eb-934a-43ca-a116-6d4db22c509b": {
       "attrs": {
        "height": 0.8,
        "width": 0.8,
        "x": 0.1,
        "y": 0.1
       },
       "content": {
        "cell": "d15f7823-7552-40e2-b1de-cc682c62c3cb",
        "part": "whole"
       },
       "id": "ac2ed1eb-934a-43ca-a116-6d4db22c509b"
      }
     }
    },
    "46599085-e318-4d7e-8bde-e8b7c9c627ae": {
     "id": "46599085-e318-4d7e-8bde-e8b7c9c627ae",
     "prev": "e89cce45-ca50-4d21-91cb-802f2fd38000",
     "regions": {
      "0fc9d288-40da-451a-a054-ab0a3418d3f0": {
       "attrs": {
        "height": 0.4,
        "width": 0.8,
        "x": 0.1,
        "y": 0.5
       },
       "content": {
        "cell": "87536d28-e88a-4fee-bf2a-da23734704e7",
        "part": "whole"
       },
       "id": "0fc9d288-40da-451a-a054-ab0a3418d3f0"
      },
      "2119d0ad-cf34-4f93-bef4-702f72a23039": {
       "attrs": {
        "height": 0.4,
        "width": 0.8,
        "x": 0.1,
        "y": 0.5
       },
       "content": {
        "cell": "391ece10-691f-464d-8e4f-3b2eb4f2ad7f",
        "part": "whole"
       },
       "id": "2119d0ad-cf34-4f93-bef4-702f72a23039"
      },
      "24aa4974-cbfa-4d17-8808-65a64eff692c": {
       "attrs": {
        "height": 0.4,
        "width": 0.8,
        "x": 0.1,
        "y": 0.5
       },
       "content": {
        "cell": "98b1bca2-d591-433f-b5c7-f0ca313d869b",
        "part": "whole"
       },
       "id": "24aa4974-cbfa-4d17-8808-65a64eff692c"
      },
      "273aae7b-d93f-42a3-b16c-0e8e19410731": {
       "attrs": {
        "height": 0.4,
        "width": 0.8,
        "x": 0.1,
        "y": 0.5
       },
       "content": {
        "cell": "39a9218e-e53a-4977-b26d-e93f86232b22",
        "part": "whole"
       },
       "id": "273aae7b-d93f-42a3-b16c-0e8e19410731"
      },
      "2b4f7d0b-fe43-4435-a21e-1561c07ac961": {
       "attrs": {
        "height": 0.4,
        "width": 0.8,
        "x": 0.1,
        "y": 0.5
       },
       "content": {
        "cell": "2cee3354-7626-46b4-b1f6-b30ab0431cde",
        "part": "whole"
       },
       "id": "2b4f7d0b-fe43-4435-a21e-1561c07ac961"
      },
      "2d4fec69-efb9-4812-91d9-8938d5af8805": {
       "attrs": {
        "height": 0.4,
        "width": 0.8,
        "x": 0.1,
        "y": 0.5
       },
       "content": {
        "cell": "ea0a813b-0e6b-4648-8326-07664638eaac",
        "part": "whole"
       },
       "id": "2d4fec69-efb9-4812-91d9-8938d5af8805"
      },
      "3740eb84-16ae-471e-a915-258f030f46a9": {
       "attrs": {
        "height": 0.4,
        "width": 0.8,
        "x": 0.1,
        "y": 0.5
       },
       "content": {
        "cell": "faf6f9eb-fa68-4c2c-a03c-f6fd9423bfce",
        "part": "whole"
       },
       "id": "3740eb84-16ae-471e-a915-258f030f46a9"
      },
      "3ece2ce5-0765-4753-99db-37b89ed55608": {
       "attrs": {
        "height": 0.4,
        "width": 0.8,
        "x": 0.1,
        "y": 0.5
       },
       "content": {
        "cell": "e0beb6d8-c01c-4494-9c17-60a4e954f431",
        "part": "whole"
       },
       "id": "3ece2ce5-0765-4753-99db-37b89ed55608"
      },
      "459c98ea-7e97-40a8-b5f6-28fd7d4b8f03": {
       "attrs": {
        "height": 0.4,
        "width": 0.8,
        "x": 0.1,
        "y": 0.5
       },
       "content": {
        "cell": "4d615ec8-016b-4430-bf8e-116222c68dc0",
        "part": "whole"
       },
       "id": "459c98ea-7e97-40a8-b5f6-28fd7d4b8f03"
      },
      "4d64fc8b-ed52-4047-85fe-0da2372a959a": {
       "attrs": {
        "height": 0.4,
        "width": 0.8,
        "x": 0.1,
        "y": 0.5
       },
       "content": {
        "cell": "c7e91b31-edb5-49f0-aac3-9f3928a10434",
        "part": "whole"
       },
       "id": "4d64fc8b-ed52-4047-85fe-0da2372a959a"
      },
      "4f515a64-46fc-4e3d-9753-b2d9776c0557": {
       "attrs": {
        "height": 0.4,
        "width": 0.8,
        "x": 0.1,
        "y": 0.5
       },
       "content": {
        "cell": "ad6e0fa2-de04-4d6f-a378-d98f2ed8ba25",
        "part": "whole"
       },
       "id": "4f515a64-46fc-4e3d-9753-b2d9776c0557"
      },
      "51705cfc-64a3-4a7c-a967-e0f746396979": {
       "attrs": {
        "height": 0.4,
        "width": 0.8,
        "x": 0.1,
        "y": 0.5
       },
       "content": {
        "cell": "9929e1a3-667f-415a-94d8-eb608a8e5f95",
        "part": "whole"
       },
       "id": "51705cfc-64a3-4a7c-a967-e0f746396979"
      },
      "59c1daec-5fb6-4244-827c-06f267e81220": {
       "attrs": {
        "height": 0.4,
        "width": 0.8,
        "x": 0.1,
        "y": 0.5
       },
       "content": {
        "cell": "07516d71-47e9-4c16-9368-aacb238a5bac",
        "part": "whole"
       },
       "id": "59c1daec-5fb6-4244-827c-06f267e81220"
      },
      "5caecf69-da2c-4567-a197-913f814c9c40": {
       "attrs": {
        "height": 0.4,
        "width": 0.8,
        "x": 0.1,
        "y": 0.5
       },
       "content": {
        "cell": "c8dad6ea-0510-4217-b4e8-3012cd997402",
        "part": "whole"
       },
       "id": "5caecf69-da2c-4567-a197-913f814c9c40"
      },
      "64e2c881-8313-4f32-8b8d-3e569859fc6c": {
       "attrs": {
        "height": 0.4,
        "width": 0.8,
        "x": 0.1,
        "y": 0.5
       },
       "content": {
        "cell": "1d669263-4015-4b73-ad63-c2b29cdb1d2c",
        "part": "whole"
       },
       "id": "64e2c881-8313-4f32-8b8d-3e569859fc6c"
      },
      "69878cba-10d3-4bda-904d-21acb89608d5": {
       "attrs": {
        "height": 0.4,
        "width": 0.8,
        "x": 0.1,
        "y": 0.5
       },
       "content": {
        "cell": "c1904ea4-fcdc-48a2-9743-ca5e36c23159",
        "part": "whole"
       },
       "id": "69878cba-10d3-4bda-904d-21acb89608d5"
      },
      "6e98015b-8da2-4f9b-8b16-24bfebe511e2": {
       "attrs": {
        "height": 0.4,
        "width": 0.8,
        "x": 0.1,
        "y": 0.5
       },
       "content": {
        "cell": "23b94d90-5100-4e39-975a-abaa2fe0b1e8",
        "part": "whole"
       },
       "id": "6e98015b-8da2-4f9b-8b16-24bfebe511e2"
      },
      "7b1fcd9c-e0ae-4863-8880-a0f66ffaaa19": {
       "attrs": {
        "height": 0.4,
        "width": 0.8,
        "x": 0.1,
        "y": 0.5
       },
       "content": {
        "cell": "33788d03-6abf-48dc-8474-649c170ce76e",
        "part": "whole"
       },
       "id": "7b1fcd9c-e0ae-4863-8880-a0f66ffaaa19"
      },
      "8032374f-76a1-4f8e-8919-99a9813e61ae": {
       "attrs": {
        "height": 0.4,
        "width": 0.8,
        "x": 0.1,
        "y": 0.5
       },
       "content": {
        "cell": "1c410597-ab96-485e-928c-120c7fb75c94",
        "part": "whole"
       },
       "id": "8032374f-76a1-4f8e-8919-99a9813e61ae"
      },
      "81da92e0-d380-470b-8314-910e64b48ac2": {
       "attrs": {
        "height": 0.4,
        "width": 0.8,
        "x": 0.1,
        "y": 0.5
       },
       "content": {
        "cell": "1624f078-cd11-40ed-a358-1b4e31c4f819",
        "part": "whole"
       },
       "id": "81da92e0-d380-470b-8314-910e64b48ac2"
      },
      "8d482820-e007-41a1-89f9-1c92f4af31b5": {
       "attrs": {
        "height": 0.4,
        "width": 0.8,
        "x": 0.1,
        "y": 0.5
       },
       "content": {
        "cell": "1f6dd63a-4f7f-437b-861e-4f9be16bd20f",
        "part": "whole"
       },
       "id": "8d482820-e007-41a1-89f9-1c92f4af31b5"
      },
      "8fb72963-c491-4691-8ba5-224b97a52a52": {
       "attrs": {
        "height": 0.4,
        "width": 0.8,
        "x": 0.1,
        "y": 0.5
       },
       "content": {
        "cell": "1c0f3348-d040-46f4-bb69-ee87849f233b",
        "part": "whole"
       },
       "id": "8fb72963-c491-4691-8ba5-224b97a52a52"
      },
      "904045db-b635-4e3e-bffe-835e4d40b00f": {
       "attrs": {
        "height": 0.8,
        "width": 0.8,
        "x": 0.1,
        "y": 0.1
       },
       "content": {
        "cell": "522f7d8a-d10f-440e-8d61-a37f87456e2d",
        "part": "whole"
       },
       "id": "904045db-b635-4e3e-bffe-835e4d40b00f"
      },
      "9ad24327-dbe7-4a32-9862-05de0af43a3e": {
       "attrs": {
        "height": 0.4,
        "width": 0.8,
        "x": 0.1,
        "y": 0.5
       },
       "content": {
        "cell": "c731c0dd-c067-4947-93fc-173b243a57a1",
        "part": "whole"
       },
       "id": "9ad24327-dbe7-4a32-9862-05de0af43a3e"
      },
      "a12b391f-2320-463a-bb96-b13c0c9374df": {
       "attrs": {
        "height": 0.4,
        "width": 0.8,
        "x": 0.1,
        "y": 0.5
       },
       "content": {
        "cell": "359c13e1-2812-4957-88ef-3cbd3b0b8cb9",
        "part": "whole"
       },
       "id": "a12b391f-2320-463a-bb96-b13c0c9374df"
      },
      "a4dc2e3f-a82a-4066-ace7-8c955e59cbad": {
       "attrs": {
        "height": 0.4,
        "width": 0.8,
        "x": 0.1,
        "y": 0.5
       },
       "content": {
        "cell": "cf4223ab-3917-4707-9dae-e67ddadb0d00",
        "part": "whole"
       },
       "id": "a4dc2e3f-a82a-4066-ace7-8c955e59cbad"
      },
      "c10824ee-e141-4c8e-803a-193e53a2eb75": {
       "attrs": {
        "height": 0.4,
        "width": 0.8,
        "x": 0.1,
        "y": 0.5
       },
       "content": {
        "cell": "60c2c1e6-2a2d-468e-9e0e-aa67ce1d937a",
        "part": "whole"
       },
       "id": "c10824ee-e141-4c8e-803a-193e53a2eb75"
      },
      "d741fa48-86f2-4cba-a302-5dba96fc86e5": {
       "attrs": {
        "height": 0.4,
        "width": 0.8,
        "x": 0.1,
        "y": 0.5
       },
       "content": {
        "cell": "68241ae2-e54c-4732-92e3-82a151ebd163",
        "part": "whole"
       },
       "id": "d741fa48-86f2-4cba-a302-5dba96fc86e5"
      },
      "dac04166-13a7-4ac9-af2c-9a6524fe83f9": {
       "attrs": {
        "height": 0.4,
        "width": 0.8,
        "x": 0.1,
        "y": 0.5
       },
       "content": {
        "cell": "d916f32b-86ca-455a-b793-919daadf0ada",
        "part": "whole"
       },
       "id": "dac04166-13a7-4ac9-af2c-9a6524fe83f9"
      },
      "e14a78b8-4130-4ea8-bc7e-572e7e03485a": {
       "attrs": {
        "height": 0.4,
        "width": 0.8,
        "x": 0.1,
        "y": 0.5
       },
       "content": {
        "cell": "18e48434-ae17-4b05-86ee-4115b41f0056",
        "part": "whole"
       },
       "id": "e14a78b8-4130-4ea8-bc7e-572e7e03485a"
      },
      "fbaa0248-bb80-4e08-be05-ebb2c273ef3a": {
       "attrs": {
        "height": 0.4,
        "width": 0.8,
        "x": 0.1,
        "y": 0.5
       },
       "content": {
        "cell": "7d01776c-254b-4099-a157-419312350f33",
        "part": "whole"
       },
       "id": "fbaa0248-bb80-4e08-be05-ebb2c273ef3a"
      }
     }
    },
    "5aa279c1-a693-42d8-9a34-beec1643749c": {
     "id": "5aa279c1-a693-42d8-9a34-beec1643749c",
     "prev": "0fa7c798-34d6-4beb-8eb7-6d4d8005efce",
     "regions": {
      "90ff088c-c5ae-4bb4-8a5e-db1cbe2e2496": {
       "attrs": {
        "height": 0.8,
        "width": 0.8,
        "x": 0.1,
        "y": 0.1
       },
       "content": {
        "cell": "099b6b3f-a055-472f-ab51-a5e6b23a395d",
        "part": "whole"
       },
       "id": "90ff088c-c5ae-4bb4-8a5e-db1cbe2e2496"
      }
     }
    },
    "5fd2d88c-dc4b-4907-8b9c-ddb765754175": {
     "id": "5fd2d88c-dc4b-4907-8b9c-ddb765754175",
     "prev": "f7931a36-90df-44b8-8c0f-981d5edba5c4",
     "regions": {
      "e900c544-9828-4b0e-9c82-0250962251cb": {
       "attrs": {
        "height": 0.8,
        "width": 0.8,
        "x": 0.1,
        "y": 0.1
       },
       "content": {
        "cell": "ac905ee9-0db0-401e-b00b-eb68223440c2",
        "part": "whole"
       },
       "id": "e900c544-9828-4b0e-9c82-0250962251cb"
      }
     }
    },
    "60abb4f2-2d90-44f8-a279-3641030043d1": {
     "id": "60abb4f2-2d90-44f8-a279-3641030043d1",
     "prev": "292b6191-7f69-41bb-b696-47570858126a",
     "regions": {
      "65e70d20-b60d-46fc-8c7b-ed2e9969d652": {
       "attrs": {
        "height": 0.8,
        "width": 0.8,
        "x": 0.1,
        "y": 0.1
       },
       "content": {
        "cell": "dd5c2385-9f49-4c4e-b8e8-96a332174f4d",
        "part": "whole"
       },
       "id": "65e70d20-b60d-46fc-8c7b-ed2e9969d652"
      }
     }
    },
    "6535f523-67b2-49c5-983e-d47a3a809af6": {
     "id": "6535f523-67b2-49c5-983e-d47a3a809af6",
     "prev": "8618d15c-a938-4e78-8bac-6785722455e2",
     "regions": {
      "29095b8d-b23f-4cd7-b100-4976449f7ac0": {
       "attrs": {
        "height": 0.8,
        "width": 0.8,
        "x": 0.1,
        "y": 0.1
       },
       "content": {
        "cell": "09d0c29a-322d-4925-9bba-1976ea533ada",
        "part": "whole"
       },
       "id": "29095b8d-b23f-4cd7-b100-4976449f7ac0"
      }
     }
    },
    "8618d15c-a938-4e78-8bac-6785722455e2": {
     "id": "8618d15c-a938-4e78-8bac-6785722455e2",
     "prev": "ae26dfe7-7b36-4efa-a3f5-a7e9177dfc67",
     "regions": {
      "d97a3367-8ea7-4482-b2bf-53c4cf9953af": {
       "attrs": {
        "height": 0.8,
        "width": 0.8,
        "x": 0.1,
        "y": 0.1
       },
       "content": {
        "cell": "8eaad486-c52c-46f8-b1f7-d61dae9eeabe",
        "part": "whole"
       },
       "id": "d97a3367-8ea7-4482-b2bf-53c4cf9953af"
      }
     }
    },
    "87a27f0e-ae0a-4ba5-8053-804b1082a9e4": {
     "id": "87a27f0e-ae0a-4ba5-8053-804b1082a9e4",
     "prev": "e47db86c-c0c0-4b8c-b1ac-14edb071f252",
     "regions": {
      "9db40523-74f7-4e1d-8760-7ce7d086fb80": {
       "attrs": {
        "height": 0.8,
        "width": 0.8,
        "x": 0.1,
        "y": 0.1
       },
       "content": {
        "cell": "dfd6cdd0-3694-4997-9121-cae5a2ed09e3",
        "part": "whole"
       },
       "id": "9db40523-74f7-4e1d-8760-7ce7d086fb80"
      }
     }
    },
    "8ce45535-a8a5-4134-8e1a-be16769a2488": {
     "id": "8ce45535-a8a5-4134-8e1a-be16769a2488",
     "prev": "332184f3-a6f3-4ada-8150-2054e319ec58",
     "regions": {
      "fcc1d27a-f1ea-4731-9b27-9aec6dad9bca": {
       "attrs": {
        "height": 0.8,
        "width": 0.8,
        "x": 0.1,
        "y": 0.1
       },
       "content": {
        "cell": "ae743807-eb24-4edb-a820-ac9522a1bbd2",
        "part": "whole"
       },
       "id": "fcc1d27a-f1ea-4731-9b27-9aec6dad9bca"
      }
     }
    },
    "ae26dfe7-7b36-4efa-a3f5-a7e9177dfc67": {
     "id": "ae26dfe7-7b36-4efa-a3f5-a7e9177dfc67",
     "prev": null,
     "regions": {
      "fdd40618-a1b8-42f8-8af6-31af72ab2bc8": {
       "attrs": {
        "height": 0.8,
        "width": 0.8,
        "x": 0.1,
        "y": 0.1
       },
       "content": {
        "cell": "7f9e274b-9e28-4905-8a69-e0b070014cc4",
        "part": "whole"
       },
       "id": "fdd40618-a1b8-42f8-8af6-31af72ab2bc8"
      }
     }
    },
    "caa6d940-0649-4ef2-8b53-6be463937bbf": {
     "id": "caa6d940-0649-4ef2-8b53-6be463937bbf",
     "prev": "8ce45535-a8a5-4134-8e1a-be16769a2488",
     "regions": {
      "403e3acf-580f-44fc-9694-c188d5c0c380": {
       "attrs": {
        "height": 0.8,
        "width": 0.8,
        "x": 0.1,
        "y": 0.1
       },
       "content": {
        "cell": "7d3a6170-c547-4a46-9da0-6e96c6face20",
        "part": "whole"
       },
       "id": "403e3acf-580f-44fc-9694-c188d5c0c380"
      }
     }
    },
    "e32baf0d-e3fd-4e35-971d-8ed632bb3e2c": {
     "id": "e32baf0d-e3fd-4e35-971d-8ed632bb3e2c",
     "prev": "5fd2d88c-dc4b-4907-8b9c-ddb765754175",
     "regions": {
      "d0d4f1f0-e1de-4219-a281-1f8d79943568": {
       "attrs": {
        "height": 0.8,
        "width": 0.8,
        "x": 0.1,
        "y": 0.1
       },
       "content": {
        "cell": "54182e87-3365-418e-8860-98cb0f28d43e",
        "part": "whole"
       },
       "id": "d0d4f1f0-e1de-4219-a281-1f8d79943568"
      }
     }
    },
    "e47db86c-c0c0-4b8c-b1ac-14edb071f252": {
     "id": "e47db86c-c0c0-4b8c-b1ac-14edb071f252",
     "prev": "caa6d940-0649-4ef2-8b53-6be463937bbf",
     "regions": {
      "6c530141-19b1-412b-b873-f9ee6cf3e578": {
       "attrs": {
        "height": 0.8,
        "width": 0.8,
        "x": 0.1,
        "y": 0.1
       },
       "content": {
        "cell": "df0f715a-7624-419b-b248-79530997f344",
        "part": "whole"
       },
       "id": "6c530141-19b1-412b-b873-f9ee6cf3e578"
      }
     }
    },
    "e89cce45-ca50-4d21-91cb-802f2fd38000": {
     "id": "e89cce45-ca50-4d21-91cb-802f2fd38000",
     "prev": "e32baf0d-e3fd-4e35-971d-8ed632bb3e2c",
     "regions": {
      "c53978eb-dc23-42b6-9fcc-5840d652a7e7": {
       "attrs": {
        "height": 0.8,
        "width": 0.8,
        "x": 0.1,
        "y": 0.1
       },
       "content": {
        "cell": "faaf5f5c-480f-471b-bfdd-2b11e30da157",
        "part": "whole"
       },
       "id": "c53978eb-dc23-42b6-9fcc-5840d652a7e7"
      }
     }
    },
    "f7931a36-90df-44b8-8c0f-981d5edba5c4": {
     "id": "f7931a36-90df-44b8-8c0f-981d5edba5c4",
     "prev": "87a27f0e-ae0a-4ba5-8053-804b1082a9e4",
     "regions": {
      "7b8d3102-45d5-44dc-b023-c7b8c7535b6b": {
       "attrs": {
        "height": 0.8,
        "width": 0.8,
        "x": 0.1,
        "y": 0.1
       },
       "content": {
        "cell": "a13497df-30a2-429c-8c6d-833075e70d64",
        "part": "whole"
       },
       "id": "7b8d3102-45d5-44dc-b023-c7b8c7535b6b"
      }
     }
    },
    "fa4f51f0-10b8-4578-9927-8c2daf57f3e6": {
     "id": "fa4f51f0-10b8-4578-9927-8c2daf57f3e6",
     "prev": "6535f523-67b2-49c5-983e-d47a3a809af6",
     "regions": {
      "85552136-2f2e-4987-b532-50bed0f336dc": {
       "attrs": {
        "height": 0.8,
        "width": 0.8,
        "x": 0.1,
        "y": 0.1
       },
       "content": {
        "cell": "5e860425-5448-426c-a071-18c81c571aa5",
        "part": "whole"
       },
       "id": "85552136-2f2e-4987-b532-50bed0f336dc"
      }
     }
    }
   },
   "themes": {}
  }
 },
 "nbformat": 4,
 "nbformat_minor": 2
}
