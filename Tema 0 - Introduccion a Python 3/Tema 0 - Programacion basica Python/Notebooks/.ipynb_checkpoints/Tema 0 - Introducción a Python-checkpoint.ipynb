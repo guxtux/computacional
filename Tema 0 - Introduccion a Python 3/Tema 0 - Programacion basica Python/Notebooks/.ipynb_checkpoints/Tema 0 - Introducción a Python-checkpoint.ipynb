{
 "cells": [
  {
   "cell_type": "markdown",
   "metadata": {
    "slideshow": {
     "slide_type": "slide"
    }
   },
   "source": [
    "# Operadores aritméticos\n",
    "## Python como calculadora"
   ]
  },
  {
   "cell_type": "markdown",
   "metadata": {
    "slideshow": {
     "slide_type": "subslide"
    }
   },
   "source": [
    "Una vez abierta la sesión en $\\texttt{python}$, podemos aprovechar al máximo este lenguaje: contamos con una calculadora a la mano, sólo hay que ir escribiendo las operaciones en la línea de comandos."
   ]
  },
  {
   "cell_type": "code",
   "execution_count": 32,
   "metadata": {
    "slideshow": {
     "slide_type": "slide"
    }
   },
   "outputs": [
    {
     "data": {
      "text/plain": [
       "7"
      ]
     },
     "execution_count": 32,
     "metadata": {},
     "output_type": "execute_result"
    }
   ],
   "source": [
    "3+4"
   ]
  },
  {
   "cell_type": "code",
   "execution_count": 3,
   "metadata": {
    "slideshow": {
     "slide_type": "slide"
    }
   },
   "outputs": [
    {
     "data": {
      "text/plain": [
       "0.75"
      ]
     },
     "execution_count": 3,
     "metadata": {},
     "output_type": "execute_result"
    }
   ],
   "source": [
    "3/4"
   ]
  },
  {
   "cell_type": "code",
   "execution_count": 4,
   "metadata": {
    "slideshow": {
     "slide_type": "slide"
    }
   },
   "outputs": [
    {
     "data": {
      "text/plain": [
       "0.75"
      ]
     },
     "execution_count": 4,
     "metadata": {},
     "output_type": "execute_result"
    }
   ],
   "source": [
    "3.0/4.0"
   ]
  },
  {
   "cell_type": "code",
   "execution_count": 5,
   "metadata": {
    "slideshow": {
     "slide_type": "slide"
    }
   },
   "outputs": [
    {
     "data": {
      "text/plain": [
       "0"
      ]
     },
     "execution_count": 5,
     "metadata": {},
     "output_type": "execute_result"
    }
   ],
   "source": [
    "3//4"
   ]
  },
  {
   "cell_type": "code",
   "execution_count": 6,
   "metadata": {
    "slideshow": {
     "slide_type": "slide"
    }
   },
   "outputs": [
    {
     "data": {
      "text/plain": [
       "1"
      ]
     },
     "execution_count": 6,
     "metadata": {},
     "output_type": "execute_result"
    }
   ],
   "source": [
    "4//3"
   ]
  },
  {
   "cell_type": "code",
   "execution_count": 7,
   "metadata": {
    "slideshow": {
     "slide_type": "slide"
    }
   },
   "outputs": [
    {
     "data": {
      "text/plain": [
       "1.3333333333333333"
      ]
     },
     "execution_count": 7,
     "metadata": {},
     "output_type": "execute_result"
    }
   ],
   "source": [
    "4/3"
   ]
  },
  {
   "cell_type": "code",
   "execution_count": 8,
   "metadata": {
    "slideshow": {
     "slide_type": "slide"
    }
   },
   "outputs": [
    {
     "data": {
      "text/plain": [
       "6.0"
      ]
     },
     "execution_count": 8,
     "metadata": {},
     "output_type": "execute_result"
    }
   ],
   "source": [
    "5.0 / 10 * 2 + 5"
   ]
  },
  {
   "cell_type": "markdown",
   "metadata": {
    "slideshow": {
     "slide_type": "slide"
    }
   },
   "source": [
    "¿por qué obtenemos este resultado??"
   ]
  },
  {
   "cell_type": "code",
   "execution_count": 9,
   "metadata": {
    "slideshow": {
     "slide_type": "slide"
    }
   },
   "outputs": [
    {
     "data": {
      "text/plain": [
       "0.2"
      ]
     },
     "execution_count": 9,
     "metadata": {},
     "output_type": "execute_result"
    }
   ],
   "source": [
    "5.0 / (10 * 2 + 5)"
   ]
  },
  {
   "cell_type": "markdown",
   "metadata": {
    "slideshow": {
     "slide_type": "subslide"
    }
   },
   "source": [
    "Como podemos ver, el uso de paréntesis en las expresiones tiene una particular importancia sobre la manera en que se evalúan las expresiones"
   ]
  },
  {
   "cell_type": "markdown",
   "metadata": {
    "slideshow": {
     "slide_type": "slide"
    }
   },
   "source": [
    "Podemos elevar un número a una potencia en particular"
   ]
  },
  {
   "cell_type": "code",
   "execution_count": 11,
   "metadata": {
    "slideshow": {
     "slide_type": "subslide"
    }
   },
   "outputs": [
    {
     "data": {
      "text/plain": [
       "512"
      ]
     },
     "execution_count": 11,
     "metadata": {},
     "output_type": "execute_result"
    }
   ],
   "source": [
    "2**3**2"
   ]
  },
  {
   "cell_type": "markdown",
   "metadata": {
    "slideshow": {
     "slide_type": "slide"
    }
   },
   "source": [
    "Vemos que elevar a una potencia, la manera en que se ejecuta la expresión se realiza en un sentido en particular: de derecha a izquierda"
   ]
  },
  {
   "cell_type": "code",
   "execution_count": 17,
   "metadata": {
    "slideshow": {
     "slide_type": "subslide"
    }
   },
   "outputs": [
    {
     "data": {
      "text/plain": [
       "64"
      ]
     },
     "execution_count": 17,
     "metadata": {},
     "output_type": "execute_result"
    }
   ],
   "source": [
    "(2**3)**2"
   ]
  },
  {
   "cell_type": "markdown",
   "metadata": {
    "slideshow": {
     "slide_type": "subslide"
    }
   },
   "source": [
    "El uso de paréntesis nos indica que la expresión contenida dentro de ellos, es la que se evalúa primero, posteriormente se sigue la regla de precedencia de operadores"
   ]
  },
  {
   "cell_type": "markdown",
   "metadata": {
    "slideshow": {
     "slide_type": "slide"
    }
   },
   "source": [
    "El operador módulo $(\\%)$ nos devuelve el residuo del cociente"
   ]
  },
  {
   "cell_type": "code",
   "execution_count": 16,
   "metadata": {
    "slideshow": {
     "slide_type": "subslide"
    }
   },
   "outputs": [
    {
     "data": {
      "text/plain": [
       "2"
      ]
     },
     "execution_count": 16,
     "metadata": {},
     "output_type": "execute_result"
    }
   ],
   "source": [
    "17%3"
   ]
  },
  {
   "cell_type": "markdown",
   "metadata": {
    "slideshow": {
     "slide_type": "slide"
    }
   },
   "source": [
    "# Tabla de operadores"
   ]
  },
  {
   "cell_type": "markdown",
   "metadata": {
    "slideshow": {
     "slide_type": "subslide"
    }
   },
   "source": [
    " <table>\n",
    "     <caption><span style=\"color:red\">Precedencia en los operadores aritméticos</span></caption>\n",
    "  <tr background-color=\"black\">\n",
    "    <th>Operador</th>\n",
    "    <th>Operación</th>\n",
    "    <th>Ejemplo</th>\n",
    "    <th>Resultado</th>\n",
    "  </tr>\n",
    "  <tr>\n",
    "   \n",
    "    <td>$**$</td>\n",
    "    <td>Potencia</td>\n",
    "    <td>$2**3$ </td>\n",
    "    <td>$8$ </td>\n",
    "  </tr>\n",
    "  <tr>\n",
    "    <td>$*$</td>\n",
    "    <td>Multiplicación</td>\n",
    "    <td>$7*3$</td>\n",
    "    <td>$21$</td>\n",
    "  </tr>\n",
    "  <tr>\n",
    "    <td>$/$</td>\n",
    "    <td>División</td>\n",
    "    <td>$10.5/2$</td>\n",
    "    <td>$5.25$</td>\n",
    "  </tr>\n",
    "  <tr>\n",
    "    <td>$//$</td>\n",
    "    <td>División entera</td>\n",
    "    <td>$10.5//2$</td>\n",
    "    <td>$5.0$</td>\n",
    "  </tr>\n",
    "  <tr>\n",
    "    <td>$+$</td>\n",
    "    <td>Suma</td>\n",
    "    <td>$3+4$</td>\n",
    "    <td>$7$</td>\n",
    "  </tr>\n",
    "  <tr>\n",
    "    <td>$-$</td>\n",
    "    <td>Resta</td>\n",
    "    <td>$6-8$</td>\n",
    "    <td>$-2$</td>\n",
    "  </tr>\n",
    "  <tr>\n",
    "    <td>$\\%$</td>\n",
    "    <td>Módulo</td>\n",
    "    <td>$15\\%6$</td>\n",
    "    <td>$3$</td>\n",
    "  </tr>\n",
    "</table>"
   ]
  },
  {
   "cell_type": "markdown",
   "metadata": {
    "slideshow": {
     "slide_type": "slide"
    }
   },
   "source": [
    "# Precedencia de los operadores artiméticos"
   ]
  },
  {
   "cell_type": "markdown",
   "metadata": {
    "slideshow": {
     "slide_type": "subslide"
    }
   },
   "source": [
    "1. Las expresiones contenidas dentro de pares de paréntesis son evaluadas primero. En el caso de expresiones con paréntesis anidados, los operadores en el par de paréntesis más interno son aplicados primero.\n",
    "2. Las operaciones de exponentes son aplicadas después. Si una expresión contiene muchas operaciones de exponentes, los operadores son aplicados de derecha a izquierda.\n",
    "3. La multiplicación, división y módulo son las siguientes en ser aplicadas. Si una expresión contiene muchas multiplicaciones, divisiones u operaciones de módulo, los operadores se aplican de izquierda a derecha.\n",
    "4. Suma y resta son las operaciones que se aplican por último. Si una expresión contiene muchas operaciones de suma y resta, los operadores son aplicados de izquierda a derecha. La suma y resta tienen el mismo nivel de precedencia.\n"
   ]
  },
  {
   "cell_type": "markdown",
   "metadata": {
    "collapsed": true,
    "slideshow": {
     "slide_type": "slide"
    }
   },
   "source": [
    "# Operadores relacionales"
   ]
  },
  {
   "cell_type": "markdown",
   "metadata": {
    "collapsed": true,
    "slideshow": {
     "slide_type": "subslide"
    }
   },
   "source": [
    "Se comparan dos (o más expresiones) mediante un operador, el tipo de dato que devuelve es lógico: $\\textbf{True}$ o $\\textbf{False}$, que también tienen una representación de tipo numérico:\n",
    "- $\\textbf{True}$ = 1\n",
    "- $\\textbf{False}$ = 0"
   ]
  },
  {
   "cell_type": "code",
   "execution_count": 1,
   "metadata": {
    "slideshow": {
     "slide_type": "subslide"
    }
   },
   "outputs": [
    {
     "data": {
      "text/plain": [
       "False"
      ]
     },
     "execution_count": 1,
     "metadata": {},
     "output_type": "execute_result"
    }
   ],
   "source": [
    "1 + 2 > 7- 3"
   ]
  },
  {
   "cell_type": "code",
   "execution_count": 33,
   "metadata": {
    "slideshow": {
     "slide_type": "subslide"
    }
   },
   "outputs": [
    {
     "data": {
      "text/plain": [
       "True"
      ]
     },
     "execution_count": 33,
     "metadata": {},
     "output_type": "execute_result"
    }
   ],
   "source": [
    "1 < 2 < 3"
   ]
  },
  {
   "cell_type": "code",
   "execution_count": null,
   "metadata": {
    "collapsed": true,
    "slideshow": {
     "slide_type": "subslide"
    }
   },
   "outputs": [],
   "source": [
    "1 > 2 == 2 < 3"
   ]
  },
  {
   "cell_type": "code",
   "execution_count": 34,
   "metadata": {
    "slideshow": {
     "slide_type": "subslide"
    }
   },
   "outputs": [
    {
     "data": {
      "text/plain": [
       "False"
      ]
     },
     "execution_count": 34,
     "metadata": {},
     "output_type": "execute_result"
    }
   ],
   "source": [
    "1 > (2 ==  2) <3"
   ]
  },
  {
   "cell_type": "code",
   "execution_count": 3,
   "metadata": {
    "slideshow": {
     "slide_type": "subslide"
    }
   },
   "outputs": [
    {
     "data": {
      "text/plain": [
       "False"
      ]
     },
     "execution_count": 3,
     "metadata": {},
     "output_type": "execute_result"
    }
   ],
   "source": [
    "3 > 4 < 5"
   ]
  },
  {
   "cell_type": "code",
   "execution_count": 5,
   "metadata": {
    "slideshow": {
     "slide_type": "subslide"
    }
   },
   "outputs": [
    {
     "data": {
      "text/plain": [
       "False"
      ]
     },
     "execution_count": 5,
     "metadata": {},
     "output_type": "execute_result"
    }
   ],
   "source": [
    "1.0 / 3 < 0.3333"
   ]
  },
  {
   "cell_type": "code",
   "execution_count": 6,
   "metadata": {
    "slideshow": {
     "slide_type": "subslide"
    }
   },
   "outputs": [
    {
     "data": {
      "text/plain": [
       "True"
      ]
     },
     "execution_count": 6,
     "metadata": {},
     "output_type": "execute_result"
    }
   ],
   "source": [
    "5.0 / 3 >= 11 /7.0"
   ]
  },
  {
   "cell_type": "code",
   "execution_count": 8,
   "metadata": {
    "slideshow": {
     "slide_type": "subslide"
    }
   },
   "outputs": [
    {
     "data": {
      "text/plain": [
       "True"
      ]
     },
     "execution_count": 8,
     "metadata": {},
     "output_type": "execute_result"
    }
   ],
   "source": [
    "2**(2. /3) < 3**(3./4)"
   ]
  },
  {
   "cell_type": "markdown",
   "metadata": {
    "slideshow": {
     "slide_type": "slide"
    }
   },
   "source": [
    "## Tabla de operadores relacionales"
   ]
  },
  {
   "cell_type": "markdown",
   "metadata": {
    "slideshow": {
     "slide_type": "subslide"
    }
   },
   "source": [
    "<div class=\"centrado\">\n",
    "<table width=\"50%\">\n",
    "     <caption><span style=\"color:red\">Operadores relacionales</span></caption>\n",
    "  <tr background-color=\"black\">\n",
    "    <th>Operador</th>\n",
    "    <th>Operación</th>\n",
    "    <th>Ejemplo</th>\n",
    "    <th>Resultado</th>\n",
    "  </tr>\n",
    "  <tr>\n",
    "    <td class=\"centrado\">$==$</td>\n",
    "    <td>Igual a</td>\n",
    "    <td>$4==5$</td>\n",
    "    <td>$\\texttt{False}$</td>\n",
    "  </tr>\n",
    "  <tr>\n",
    "    <td>$!=$</td>\n",
    "    <td>Diferente de</td>\n",
    "    <td>$2!=3$</td>\n",
    "    <td>$\\texttt{True}$</td>\n",
    "  </tr>\n",
    "  <tr>\n",
    "    <td>$<$</td>\n",
    "    <td>Menor que</td>\n",
    "    <td>$10<4$</td>\n",
    "    <td>$\\texttt{False}$</td>\n",
    "  </tr>\n",
    "  <tr>\n",
    "    <td>$>$</td>\n",
    "    <td>Mayor que</td>\n",
    "    <td>$5>-4$</td>\n",
    "    <td>$\\texttt{True}$</td>\n",
    "  </tr>\n",
    "  <tr>\n",
    "    <td>$<=$</td>\n",
    "    <td>Menor o igual que</td>\n",
    "    <td>$7<=7$</td>\n",
    "    <td>$\\texttt{True}$</td>\n",
    "  </tr>\n",
    "  <tr>\n",
    "    <td>$>=$</td>\n",
    "    <td>Mayor o igual que</td>\n",
    "    <td>$3.5 >= 10$</td>\n",
    "    <td>$\\texttt{False}$</td>\n",
    "  </tr>\n",
    "</table>\n",
    "</div>\n"
   ]
  },
  {
   "cell_type": "markdown",
   "metadata": {
    "slideshow": {
     "slide_type": "slide"
    }
   },
   "source": [
    "##  Operadores boleanos"
   ]
  },
  {
   "cell_type": "markdown",
   "metadata": {
    "slideshow": {
     "slide_type": "subslide"
    }
   },
   "source": [
    "En el caso del operador boleano $\\texttt{and}$ y el operador $\\texttt{or}$ evalúan una expresión compuesta por dos (o más términos), en ambos operadores se espera que cada término tenga el valor de <font color='blue'>$\\texttt{True}$</font>, en caso de que esto ocurra, el valor que devuelve la evaluación, es <font color='blue'>$\\texttt{True}$</font>, como se verá en la tabla de verdad, se necesita una condición particular para que el valor que devuelva la comparación, sea <font color='red'>$\\texttt{False}$</font>."
   ]
  },
  {
   "cell_type": "markdown",
   "metadata": {
    "slideshow": {
     "slide_type": "subslide"
    }
   },
   "source": [
    "<table width=\"50%\">\n",
    "     <caption><span style=\"color:red\">Operadores boleanos</span></caption>\n",
    "  <tr>\n",
    "    <th>Operador</th>\n",
    "    <th>Operación</th>\n",
    "    <th>Ejemplo</th>\n",
    "    <th>Resultado</th>\n",
    "  </tr>\n",
    "  <tr>\n",
    "    <td>$\\texttt{and}$</td>\n",
    "    <td>Conjunción</td>\n",
    "    <td>$\\texttt{False and True}$</td>\n",
    "    <td>$\\texttt{False}$</td>\n",
    "  </tr>\n",
    "  <tr>\n",
    "    <td>$\\texttt{or}$</td>\n",
    "    <td>Disyunción</td>\n",
    "    <td>$\\texttt{False or True}$</td>\n",
    "    <td>$\\texttt{True}$</td>\n",
    "  </tr>\n",
    "    <tr>\n",
    "    <td>$\\texttt{not}$</td>\n",
    "    <td>Negación</td>\n",
    "    <td>$\\texttt{not True}$</td>\n",
    "    <td>$\\texttt{False}$</td>\n",
    "  </tr>\n",
    "  </table>"
   ]
  },
  {
   "cell_type": "markdown",
   "metadata": {
    "slideshow": {
     "slide_type": "slide"
    }
   },
   "source": [
    "## Tabla de verdad de los operadores boleanos"
   ]
  },
  {
   "cell_type": "markdown",
   "metadata": {
    "slideshow": {
     "slide_type": "subslide"
    }
   },
   "source": [
    "<table width=\"50%\">\n",
    "     <caption><span style=\"color:red\">Tabla de verdad</span></caption>\n",
    "  <tr>\n",
    "    <th>$\\texttt{A}$</th>\n",
    "    <th>$\\texttt{B}$</th>\n",
    "    <th>$\\texttt{A and B}$</th>\n",
    "    <th>$\\texttt{A or B}$</th>\n",
    "    <th>$\\texttt{not A}$</th>\n",
    "  </tr>\n",
    "  <tr>\n",
    "    <td><font color=blue>$\\texttt{True}$</font></td>\n",
    "    <td><font color=blue>$\\texttt{True}$</font></td>\n",
    "    <td><font color=blue>$\\texttt{True}$</font></td>\n",
    "    <td><font color=blue>$\\texttt{True}$</font></td>\n",
    "    <td><font color=red>$\\texttt{False}$</font></td>\n",
    "  </tr>\n",
    "  <tr>\n",
    "    <td><font color=blue>$\\texttt{True}$</font></td>\n",
    "    <td><font color=red>$\\texttt{False}$</font></td>\n",
    "    <td><font color=red>$\\texttt{False}$</font></td>\n",
    "    <td><font color=blue>$\\texttt{True}$</font></td>\n",
    "    <td><font color=red>$\\texttt{False}$</font></td>\n",
    "  </tr>\n",
    "  <tr>\n",
    "    <td><font color=red>$\\texttt{False}$</font></td>\n",
    "    <td><font color=blue>$\\texttt{True}$</font></td>\n",
    "    <td><font color=red>$\\texttt{False}$</font></td>\n",
    "    <td><font color=blue>$\\texttt{True}$</font></td>\n",
    "    <td><font color=blue>$\\texttt{True}$</font></td>\n",
    "  </tr>\n",
    "  <tr>\n",
    "    <td><font color=red>$\\texttt{False}$</font></td>\n",
    "    <td><font color=red>$\\texttt{False}$</font></td>\n",
    "    <td><font color=red>$\\texttt{False}$</font></td>\n",
    "    <td><font color=red>$\\texttt{False}$</font></td>\n",
    "    <td><font color=blue>$\\texttt{True}$</font></td>\n",
    "  </tr>\n",
    "  </table>"
   ]
  },
  {
   "cell_type": "markdown",
   "metadata": {
    "slideshow": {
     "slide_type": "slide"
    }
   },
   "source": [
    "# Tipos de variables"
   ]
  },
  {
   "cell_type": "markdown",
   "metadata": {
    "slideshow": {
     "slide_type": "subslide"
    }
   },
   "source": [
    "Las variables en $\\texttt{python}$ sólo son ubicaciones de memoria reservadas para almacenar valores. Esto significa que cuando se crea una variable, se reserva un poco de espacio disponible en la memoria.\n",
    "\n",
    "Basándose en el tipo de datos de una variable, el intérprete asigna memoria y decide qué se puede almacenar en la memoria reservada. Por lo tanto, al asignar diferentes tipos de datos a las variables, se pueden almacenar **enteros**, **decimales** o **caracteres (cadenas)** en estas variables.\n",
    "\n"
   ]
  },
  {
   "cell_type": "markdown",
   "metadata": {
    "slideshow": {
     "slide_type": "slide"
    }
   },
   "source": [
    "## Asignando valores a variables"
   ]
  },
  {
   "cell_type": "markdown",
   "metadata": {
    "slideshow": {
     "slide_type": "subslide"
    }
   },
   "source": [
    "Las variables de $\\texttt{python}$ no necesitan una declaración explícita para reservar espacio de memoria. La declaración ocurre automáticamente cuando se asigna un valor a una variable. **El signo igual (=) se utiliza para asignar valores a las variables*.\n",
    "\n",
    "El término a la izquierda del operador = es el *nombre de la variable* y el término a la derecha del operador = es el *valor almacenado* en la variable."
   ]
  },
  {
   "cell_type": "code",
   "execution_count": 6,
   "metadata": {
    "slideshow": {
     "slide_type": "subslide"
    }
   },
   "outputs": [
    {
     "name": "stdout",
     "output_type": "stream",
     "text": [
      "100\n",
      "1000.0\n",
      "Chucho\n"
     ]
    }
   ],
   "source": [
    "contador = 100          # Asignacion de tipo entero\n",
    "distancia = 1000.0      # De punto flotante\n",
    "nombre = \"Chucho\"       # Una cadena de caracteres\n",
    "\n",
    "print (contador)\n",
    "print (distancia)\n",
    "print (nombre)"
   ]
  },
  {
   "cell_type": "markdown",
   "metadata": {
    "slideshow": {
     "slide_type": "slide"
    }
   },
   "source": [
    "## Asignación múltiple de valores"
   ]
  },
  {
   "cell_type": "markdown",
   "metadata": {
    "slideshow": {
     "slide_type": "subslide"
    }
   },
   "source": [
    "En $\\texttt{python}$  podemos asignar un valor único a varias variables simultáneamente."
   ]
  },
  {
   "cell_type": "code",
   "execution_count": 8,
   "metadata": {
    "slideshow": {
     "slide_type": "subslide"
    }
   },
   "outputs": [
    {
     "name": "stdout",
     "output_type": "stream",
     "text": [
      "1\n",
      "1\n",
      "1\n"
     ]
    }
   ],
   "source": [
    "A = b = c = 1\n",
    "print (A)\n",
    "print (b)\n",
    "print (c)"
   ]
  },
  {
   "cell_type": "markdown",
   "metadata": {
    "slideshow": {
     "slide_type": "subslide"
    }
   },
   "source": [
    "En el ejemplo, se crea un objeto entero con el valor $1$, y las tres variables se asignan a la misma ubicación de memoria. \n",
    "\n",
    "También puede asignar varios objetos a varias variables."
   ]
  },
  {
   "cell_type": "code",
   "execution_count": 9,
   "metadata": {
    "slideshow": {
     "slide_type": "slide"
    }
   },
   "outputs": [
    {
     "name": "stdout",
     "output_type": "stream",
     "text": [
      "1\n",
      "2\n",
      "Ana\n"
     ]
    }
   ],
   "source": [
    "A, b, c = 1, 2, \"Alicia\"\n",
    "print (A)\n",
    "print (b)\n",
    "print (c)"
   ]
  },
  {
   "cell_type": "markdown",
   "metadata": {
    "slideshow": {
     "slide_type": "subslide"
    }
   },
   "source": [
    "Aquí, dos objetos enteros con valores $1$ y $2$ se asignan a las variables $A$ y $b$ respectivamente, y un objeto de cadena con el valor **Alicia** se asigna a la variable $c$."
   ]
  },
  {
   "cell_type": "markdown",
   "metadata": {
    "slideshow": {
     "slide_type": "slide"
    }
   },
   "source": [
    "## Tipos de Datos Estándar"
   ]
  },
  {
   "cell_type": "markdown",
   "metadata": {
    "slideshow": {
     "slide_type": "subslide"
    }
   },
   "source": [
    "Los datos almacenados en la memoria pueden ser de varios tipos. Por ejemplo, la edad de una persona se almacena como un valor numérico y su dirección se almacena como caracteres alfanuméricos.\n",
    "\n",
    "En $\\texttt{python}$ se cuenta con varios tipos de datos estándar que se utilizan para definir las operaciones posibles entre ellos y el método de almacenamiento para cada uno de ellos.\n",
    "\n",
    "Los tipos de datos son cinco:\n",
    "- <font color=\"blue\"> Números</font>.\n",
    "- <font color=\"blue\"> Cadena</font>.\n",
    "- <font color=\"blue\"> Lista</font>.\n",
    "- <font color=\"blue\"> Tupla</font>.\n",
    "- <font color=\"blue\"> Diccionario</font>."
   ]
  },
  {
   "cell_type": "markdown",
   "metadata": {
    "slideshow": {
     "slide_type": "slide"
    }
   },
   "source": [
    "### Números "
   ]
  },
  {
   "cell_type": "markdown",
   "metadata": {
    "slideshow": {
     "slide_type": "subslide"
    }
   },
   "source": [
    "Los tipos de datos numéricos almacenan valores numéricos. Los objetos numéricos se crean cuando se les asigna un valor."
   ]
  },
  {
   "cell_type": "code",
   "execution_count": 14,
   "metadata": {
    "slideshow": {
     "slide_type": "subslide"
    }
   },
   "outputs": [
    {
     "name": "stdout",
     "output_type": "stream",
     "text": [
      "10\n",
      "10\n"
     ]
    }
   ],
   "source": [
    "Var1 = Var2 = 10\n",
    "print (Var1)\n",
    "print (Var2)"
   ]
  },
  {
   "cell_type": "markdown",
   "metadata": {
    "slideshow": {
     "slide_type": "subslide"
    }
   },
   "source": [
    "También se puede eliminar la referencia a un objeto numérico utilizando la sentencia <font color=\"blue\">$\\texttt{del}$</font>.\n",
    "\n",
    "La sintaxis de la sentencia del es:\n",
    "\n",
    "$del$  $var1 [, var2 [, var3 [...., varN]]]]$\n",
    "\n",
    "Se puede eliminar un solo objeto o varios objetos utilizando la sentencia $\\texttt{del}$\n",
    "\n",
    "Por ejemplo:\n",
    "\n",
    "$del$ $var$\n",
    "\n",
    "$del$ $variable1$, $variable2$"
   ]
  },
  {
   "cell_type": "markdown",
   "metadata": {
    "slideshow": {
     "slide_type": "subslide"
    }
   },
   "source": [
    "En $\\texttt{python}$ se soportan tres tipos numéricos diferentes:\n",
    "\n",
    "1. <font color=\"blue\">Int (enteros con signo)</font>\n",
    "2. <font color=\"blue\">Flotante (valores reales de punto flotante)</font>\n",
    "3. <font color=\"blue\">Complejos (números complejos)</font>\n",
    "\n",
    "Un número complejo consiste en un par ordenado de números reales de coma flotante denotados por\n",
    "$$x + yj$$\n",
    "donde $x$ e $y$ son números reales, $yj$ es la unidad imaginaria. Todos los enteros en $\\texttt{python 3}$ se representan como enteros largos. Por lo tanto, no hay ningún tipo de número por separado."
   ]
  },
  {
   "cell_type": "markdown",
   "metadata": {
    "slideshow": {
     "slide_type": "subslide"
    }
   },
   "source": [
    "<table width=\"50%\" style=\"align:center\";>\n",
    "     <caption><span style=\"color:red\">Ejemplos de tipo de números</span></caption>\n",
    "  <tr>\n",
    "    <th>$\\texttt{int}$</th>\n",
    "    <th>$\\texttt{float}$</th>\n",
    "    <th>$\\texttt{complex}$</th>\n",
    "  </tr>\n",
    "  <tr>\n",
    "    <td>$\\texttt{10}$</td>\n",
    "    <td>$\\texttt{0.0}$</td>\n",
    "    <td>$\\texttt{3.14j}$</td>\n",
    "  </tr>\n",
    "  <tr>\n",
    "    <td>$\\texttt{100}$</td>\n",
    "    <td>$\\texttt{15.20}$</td>\n",
    "    <td>$\\texttt{45.j}$</td>\n",
    "  </tr>\n",
    "  <tr>\n",
    "    <td>$\\texttt{100}$</td>\n",
    "    <td>$\\texttt{15.20}$</td>\n",
    "    <td>$\\texttt{45.j}$</td>\n",
    "  </tr>\n",
    "  <tr>\n",
    "    <td>$\\texttt{080}$</td>\n",
    "    <td>$\\texttt{32.3+e18}$</td>\n",
    "    <td>$\\texttt{0.876j}$</td>\n",
    "  </tr>\n",
    "  <tr>\n",
    "    <td>$\\texttt{-0490}$</td>\n",
    "    <td>$\\texttt{-90.}$</td>\n",
    "    <td>$\\texttt{-.645+0j}$</td>\n",
    "  </tr>\n",
    "  <tr>\n",
    "    <td>$\\texttt{-0x260}$</td>\n",
    "    <td>$\\texttt{-32.54e100}$</td>\n",
    "    <td>$\\texttt{3e+26j}$</td>\n",
    "  </tr>\n",
    "  <tr>\n",
    "    <td>$\\texttt{0x69}$</td>\n",
    "    <td>$\\texttt{70.2-E12}$</td>\n",
    "    <td>$\\texttt{4.53e-7j}$</td>\n",
    "  </tr>\n",
    " </table>"
   ]
  },
  {
   "cell_type": "markdown",
   "metadata": {
    "slideshow": {
     "slide_type": "slide"
    }
   },
   "source": [
    "### Cadenas "
   ]
  },
  {
   "cell_type": "markdown",
   "metadata": {
    "slideshow": {
     "slide_type": "subslide"
    }
   },
   "source": [
    "Las cadenas en $\\texttt{python}$ se identifican como un conjunto contiguo de caracteres representados en las comillas. Con $\\texttt{python}$ se permite cualquier par de comillas simples o dobles.\n",
    "\n",
    "Los subconjuntos de cadenas pueden ser tomados usando el operador de corte ($[\\;]$ y $[:]$) con índices comenzando en $0$ al inicio de la cadena hasta llegar a $-1$ al final de la misma.\n",
    "\n",
    "El signo más ($+$) es el operador de concatenación de cadenas y el asterisco ($*$) es el operador de repetición."
   ]
  },
  {
   "cell_type": "code",
   "execution_count": 15,
   "metadata": {
    "slideshow": {
     "slide_type": "subslide"
    }
   },
   "outputs": [
    {
     "name": "stdout",
     "output_type": "stream",
     "text": [
      "Hola Mundo!\n",
      "H\n",
      "la \n",
      "la Mundo!\n",
      "Hola Mundo!Hola Mundo!\n",
      "Hola Mundo!PUMAS\n"
     ]
    }
   ],
   "source": [
    "cadena = 'Hola Mundo!'\n",
    "\n",
    "print (cadena)          # Presenta la cadena completa\n",
    "print (cadena[0])       # Presenta el primer caracter de la cadena\n",
    "print (cadena[2:5])     # Presenta los caracteres de la 3a a la 5a posicion\n",
    "print (cadena[2:])      # Presenta la cadena que inicia a partir del 3er caracter\n",
    "print (cadena * 2)      # Presenta dos veces la cadena\n",
    "print (cadena + \"PUMAS\") # Presenta la cadena y concatena la segunda cadena"
   ]
  },
  {
   "cell_type": "markdown",
   "metadata": {
    "slideshow": {
     "slide_type": "slide"
    }
   },
   "source": [
    "### Listas"
   ]
  },
  {
   "cell_type": "markdown",
   "metadata": {
    "slideshow": {
     "slide_type": "subslide"
    }
   },
   "source": [
    "Las listas es el tipo de dato más versátil de los tipos de datos compuestos de $\\texttt{python}$.\n",
    "\n",
    "Una lista contiene elementos separados por comas y entre corchetes ($[ \\; ]$). En cierta medida, las listas son similares a los arreglos (arrays) en el lenguaje C. Una de las diferencias entre ellos es que todos los elementos pertenecientes a una lista pueden ser de tipo de datos diferente.\n",
    "\n",
    "Los valores almacenados en una lista se pueden acceder utilizando el operador de división ($[ \\; ]$ y $[:]$) con índices que empiezan en $0$ al principio de la lista y opera hasta el final con $-1$.\n",
    "\n",
    "El signo más ($+$) es el operador de concatenación de lista y el asterisco ($*$) es el operador de repetición."
   ]
  },
  {
   "cell_type": "code",
   "execution_count": 17,
   "metadata": {
    "slideshow": {
     "slide_type": "subslide"
    }
   },
   "outputs": [
    {
     "name": "stdout",
     "output_type": "stream",
     "text": [
      "['abcd', 786, 2.23, 'salmon', 70.2]\n",
      "abcd\n",
      "[786, 2.23]\n",
      "[2.23, 'salmon', 70.2]\n",
      "[123, 'pizza', 123, 'pizza']\n",
      "['abcd', 786, 2.23, 'salmon', 70.2, 123, 'pizza']\n"
     ]
    }
   ],
   "source": [
    "milista = [ 'abcd', 786 , 2.23, 'salmon', 70.2 ]\n",
    "listabreve = [123, 'pizza']\n",
    "\n",
    "print (milista)              # Presenta la lista completa\n",
    "print (milista[0])          # Presenta el primer elemento de la lista\n",
    "print (milista[1:3])        # Presenta los elementos a partir de la 2a posiciona hasta la 3a\n",
    "print (milista[2:])          # Presenta los elementos a partir del 3er elemento\n",
    "print (listabreve * 2)       # Presenta dos veces la lista\n",
    "print (milista + listabreve) # Presenta la lista concatenada con la segunda lista"
   ]
  },
  {
   "cell_type": "markdown",
   "metadata": {
    "slideshow": {
     "slide_type": "slide"
    }
   },
   "source": [
    "### Tuplas "
   ]
  },
  {
   "cell_type": "markdown",
   "metadata": {
    "slideshow": {
     "slide_type": "subslide"
    }
   },
   "source": [
    "Una tupla es otro tipo de datos de secuencia que es similar a la lista.\n",
    "\n",
    "Una tupla consiste en un número de valores separados por comas. Sin embargo, a diferencia de las listas, las tuplas se incluyen entre paréntesis.\n",
    "\n",
    "La principal diferencia entre las listas y las tuplas son:\n",
    "1. Las listas están entre corchetes $[\\;]$ y sus elementos y tamaño pueden cambiarse.\n",
    "2. Las tuplas están entre paréntesis $(\\;)$ y <u>no se pueden actualizar</u>.\n",
    "\n",
    "Las tuplas pueden ser consideradas como listas de sólo lectura."
   ]
  },
  {
   "cell_type": "code",
   "execution_count": 18,
   "metadata": {
    "slideshow": {
     "slide_type": "subslide"
    }
   },
   "outputs": [
    {
     "name": "stdout",
     "output_type": "stream",
     "text": [
      "('abcd', 786, 2.23, 'arena', 70.2)\n",
      "abcd\n",
      "(786, 2.23)\n",
      "(2.23, 'arena', 70.2)\n",
      "(123, 'playa', 123, 'playa')\n",
      "('abcd', 786, 2.23, 'arena', 70.2, 123, 'playa')\n"
     ]
    }
   ],
   "source": [
    "mitupla = ( 'abcd', 786 , 2.23, 'arena', 70.2  )\n",
    "tuplabreve = (123, 'playa')\n",
    "\n",
    "print (mitupla)                # Presenta la tupla completa\n",
    "print (mitupla[0])             # Presenta el primer elemento de la tupla\n",
    "print (mitupla[1:3])           # Presenta los elementos a partir del 2o elemento hasta la 3o\n",
    "print (mitupla[2:])            # Presenta los elementos a partir del 3er elemento\n",
    "print (tuplabreve * 2)         # Presenta dos veces la tupla\n",
    "print (mitupla + tuplabreve)   # Preseta la tupla concatenada con la otra tupla"
   ]
  },
  {
   "cell_type": "markdown",
   "metadata": {
    "slideshow": {
     "slide_type": "slide"
    }
   },
   "source": [
    "El siguiente código es inválido con la tupla, porque intentamos actualizar una tupla, que la acción no está permitida. El caso es similar con las listas."
   ]
  },
  {
   "cell_type": "code",
   "execution_count": 19,
   "metadata": {
    "slideshow": {
     "slide_type": "subslide"
    }
   },
   "outputs": [
    {
     "ename": "TypeError",
     "evalue": "'tuple' object does not support item assignment",
     "output_type": "error",
     "traceback": [
      "\u001b[0;31m---------------------------------------------------------------------------\u001b[0m",
      "\u001b[0;31mTypeError\u001b[0m                                 Traceback (most recent call last)",
      "\u001b[0;32m<ipython-input-19-a99f473d7b8f>\u001b[0m in \u001b[0;36m<module>\u001b[0;34m()\u001b[0m\n\u001b[1;32m      1\u001b[0m \u001b[0mmitupla\u001b[0m \u001b[1;33m=\u001b[0m \u001b[1;33m(\u001b[0m \u001b[1;34m'abcd'\u001b[0m\u001b[1;33m,\u001b[0m \u001b[1;36m786\u001b[0m \u001b[1;33m,\u001b[0m \u001b[1;36m2.23\u001b[0m\u001b[1;33m,\u001b[0m \u001b[1;34m'edificio'\u001b[0m\u001b[1;33m,\u001b[0m \u001b[1;36m70.2\u001b[0m  \u001b[1;33m)\u001b[0m\u001b[1;33m\u001b[0m\u001b[0m\n\u001b[1;32m      2\u001b[0m \u001b[0mmilista\u001b[0m \u001b[1;33m=\u001b[0m \u001b[1;33m[\u001b[0m \u001b[1;34m'abcd'\u001b[0m\u001b[1;33m,\u001b[0m \u001b[1;36m786\u001b[0m \u001b[1;33m,\u001b[0m \u001b[1;36m2.23\u001b[0m\u001b[1;33m,\u001b[0m \u001b[1;34m'energia'\u001b[0m\u001b[1;33m,\u001b[0m \u001b[1;36m70.2\u001b[0m  \u001b[1;33m]\u001b[0m\u001b[1;33m\u001b[0m\u001b[0m\n\u001b[0;32m----> 3\u001b[0;31m \u001b[0mmitupla\u001b[0m\u001b[1;33m[\u001b[0m\u001b[1;36m2\u001b[0m\u001b[1;33m]\u001b[0m \u001b[1;33m=\u001b[0m \u001b[1;36m1000\u001b[0m    \u001b[1;31m# Sintaxis invalida para la tupla\u001b[0m\u001b[1;33m\u001b[0m\u001b[0m\n\u001b[0m\u001b[1;32m      4\u001b[0m \u001b[0mmilista\u001b[0m\u001b[1;33m[\u001b[0m\u001b[1;36m2\u001b[0m\u001b[1;33m]\u001b[0m \u001b[1;33m=\u001b[0m \u001b[1;36m1000\u001b[0m     \u001b[1;31m# Sintaxis invalida para la lista\u001b[0m\u001b[1;33m\u001b[0m\u001b[0m\n",
      "\u001b[0;31mTypeError\u001b[0m: 'tuple' object does not support item assignment"
     ]
    }
   ],
   "source": [
    "mitupla = ( 'abcd', 786 , 2.23, 'edificio', 70.2  )\n",
    "milista = [ 'abcd', 786 , 2.23, 'energia', 70.2  ]\n",
    "mitupla[2] = 1000    # Sintaxis invalida para la tupla\n",
    "milista[2] = 1000     # Sintaxis invalida para la lista"
   ]
  },
  {
   "cell_type": "markdown",
   "metadata": {
    "slideshow": {
     "slide_type": "subslide"
    }
   },
   "source": [
    "Pero en la lista podemos agregar nuevos elementos que se colocan al final de la misma:"
   ]
  },
  {
   "cell_type": "code",
   "execution_count": 21,
   "metadata": {
    "slideshow": {
     "slide_type": "subslide"
    }
   },
   "outputs": [
    {
     "name": "stdout",
     "output_type": "stream",
     "text": [
      "['abcd', 786, 2.23, 'energia', 70.2]\n",
      "['abcd', 786, 2.23, 'energia', 70.2, 'hola']\n"
     ]
    }
   ],
   "source": [
    "print(milista)\n",
    "milista.append('hola')\n",
    "print(milista)"
   ]
  },
  {
   "cell_type": "markdown",
   "metadata": {
    "slideshow": {
     "slide_type": "slide"
    }
   },
   "source": [
    "### Diccionarios"
   ]
  },
  {
   "cell_type": "markdown",
   "metadata": {
    "slideshow": {
     "slide_type": "subslide"
    }
   },
   "source": [
    "Los diccionarios de $\\texttt{python}$ son de tipo tabla-hash.\n",
    "\n",
    "Funcionan como arrays asociativos y consisten en pares *clave-valor*.\n",
    "\n",
    "Una clave de diccionario puede ser casi cualquier tipo de $\\texttt{python}$, pero suelen ser números o cadenas. Los valores, por otra parte, pueden ser cualquier objeto arbitrario de $\\texttt{python}$.\n",
    "\n",
    "Los diccionarios están encerrados por llaves $\\{ \\; \\}$ y los valores se pueden asignar y acceder mediante llaves cuadradas $[ \\; ]$."
   ]
  },
  {
   "cell_type": "code",
   "execution_count": 30,
   "metadata": {
    "slideshow": {
     "slide_type": "subslide"
    }
   },
   "outputs": [
    {
     "name": "stdout",
     "output_type": "stream",
     "text": [
      "{1: 'Eistein', 2: 'Bohr', 3: 'Pauli', 4: 'Schrodinger', 5: 'Hawking'}\n",
      "dict_keys([1, 2, 3, 4, 5])\n",
      "dict_values(['Eistein', 'Bohr', 'Pauli', 'Schrodinger', 'Hawking'])\n",
      "{1: 'Eistein', 2: 'Bohr', 3: 'Pauli', 4: 'Schrodinger', 5: 'Hawking', '6': 'Planck'}\n"
     ]
    }
   ],
   "source": [
    "fisicos = dict()\n",
    "\n",
    "fisicos ={\n",
    "    1 : \"Eistein\",\n",
    "    2 : \"Bohr\",\n",
    "    3 : \"Pauli\",\n",
    "    4 : \"Schrodinger\",\n",
    "    5 : \"Hawking\"\n",
    "}\n",
    "\n",
    "print(fisicos)\n",
    "print (fisicos.keys())\n",
    "print (fisicos.values())\n",
    "fisicos[\"6\"] = \"Planck\"    #agrega un nuevo elemento al diccionario, tanto su clave como valor\n",
    "print(fisicos)"
   ]
  },
  {
   "cell_type": "markdown",
   "metadata": {
    "slideshow": {
     "slide_type": "slide"
    }
   },
   "source": [
    "## Regla para los identificadores"
   ]
  },
  {
   "cell_type": "markdown",
   "metadata": {
    "slideshow": {
     "slide_type": "subslide"
    }
   },
   "source": [
    "Los identificadores son nombres que hacen referencia a los objetos que componen un programa: **constantes**, **variables**, **funciones**, etc.\n",
    "\n",
    "Reglas para construir identificadores:\n",
    "- El primer carácter debe ser una letra o el carácter de subrayado (guión bajo)\n",
    "- El primer carácter puede ir seguido de un número variable de dígitos numéricos, letras o carácteres de subrayado.\n",
    "- No pueden utilizarse espacios en blanco, ni símbolos de puntuación.\n",
    "- En $\\texttt{python}$ se distingue  de las mayúsculas y minúsculas.\n",
    "- No pueden utilizarse palabras reservadas del lenguaje."
   ]
  },
  {
   "cell_type": "markdown",
   "metadata": {
    "slideshow": {
     "slide_type": "subslide"
    }
   },
   "source": [
    "<table>\n",
    "<caption><span style=\"color:red\">Lista de palabras reservadas en $\\texttt{python}$</span></caption>\n",
    "<tr>\n",
    "  <td>$\\texttt{del}$</td>\n",
    "  <td>$\\texttt{for}$</td>\n",
    "  <td>$\\texttt{is}$</td>\n",
    "  <td>$\\texttt{raise}$</td>\n",
    "  <td>$\\texttt{assert}$</td>\n",
    "  <td>$\\texttt{elif}$</td>\n",
    "</tr>\n",
    "<tr>\n",
    "  <td>$\\texttt{from}$</td>\n",
    "  <td>$\\texttt{lamda}$</td>\n",
    "  <td>$\\texttt{return}$</td>\n",
    "  <td>$\\texttt{break}$</td>\n",
    "  <td>$\\texttt{else}$</td>\n",
    "  <td>$\\texttt{global}$</td>\n",
    "</tr>\n",
    "<tr>\n",
    "  <td>$\\texttt{not}$</td>\n",
    "  <td>$\\texttt{try}$</td>\n",
    "  <td>$\\texttt{class}$</td>\n",
    "  <td>$\\texttt{except}$</td>\n",
    "  <td>$\\texttt{if}$</td>\n",
    "  <td>$\\texttt{or}$</td>\n",
    "</tr>\n",
    "<tr>\n",
    "  <td>$\\texttt{while}$</td>\n",
    "  <td>$\\texttt{continue}$</td>\n",
    "  <td>$\\texttt{exec}$</td>\n",
    "  <td>$\\texttt{import}$</td>\n",
    "  <td>$\\texttt{pass}$</td>\n",
    "  <td>$\\texttt{yield}$</td>\n",
    "</tr>\n",
    "<tr>\n",
    "  <td>$\\texttt{def}$</td>\n",
    "  <td>$\\texttt{finally}$</td>\n",
    "  <td>$\\texttt{in}$</td>\n",
    "  <td>$\\texttt{print}$</td>\n",
    "  <td>$\\texttt{del}$</td>\n",
    "  <td>$\\texttt{system}$</td>\n",
    "</tr>\n",
    "</table>"
   ]
  },
  {
   "cell_type": "code",
   "execution_count": null,
   "metadata": {
    "collapsed": true
   },
   "outputs": [],
   "source": []
  }
 ],
 "metadata": {
  "anaconda-cloud": {},
  "celltoolbar": "Slideshow",
  "kernelspec": {
   "display_name": "Python [default]",
   "language": "python",
   "name": "python3"
  },
  "language_info": {
   "codemirror_mode": {
    "name": "ipython",
    "version": 3
   },
   "file_extension": ".py",
   "mimetype": "text/x-python",
   "name": "python",
   "nbconvert_exporter": "python",
   "pygments_lexer": "ipython3",
   "version": "3.5.2"
  }
 },
 "nbformat": 4,
 "nbformat_minor": 2
}
